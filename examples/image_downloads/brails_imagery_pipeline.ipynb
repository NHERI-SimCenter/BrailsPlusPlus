{
 "cells": [
  {
   "cell_type": "markdown",
   "id": "92919540-df9d-4a41-9fd7-c06f523d51cf",
   "metadata": {},
   "source": [
    "# Extract Building Footprints and Imagery by Region with BRAILS++\n",
    "This notebook demonstrates how to:\n",
    "1. Select a location and create a region boundary.\n",
    "2. Extract building footprints using a selected scraper.\n",
    "3. Subsample the inventory for faster processing.\n",
    "4. Retrieve aerial imagery from Google Satellite.\n",
    "5. Retrieve street-level imagery from Google Streetview.\n",
    "6. Display inventory information."
   ]
  },
  {
   "cell_type": "markdown",
   "id": "7dea4f57-7514-4339-9d24-86b629760a55",
   "metadata": {},
   "source": [
    "## Install BRAILS++\n",
    "\n",
    "Before running the following cells, install the BRAILS++ package.  "
   ]
  },
  {
   "cell_type": "code",
   "execution_count": null,
   "id": "0585f355-1f10-4744-8e69-e8265629b514",
   "metadata": {},
   "outputs": [],
   "source": [
    "!pip install brails"
   ]
  },
  {
   "cell_type": "code",
   "execution_count": null,
   "id": "fd9336b3-f45c-465d-935c-ae4ce69ab81c",
   "metadata": {},
   "outputs": [],
   "source": [
    "from brails import Importer \n",
    "from brails.utils import PlotTools"
   ]
  },
  {
   "cell_type": "markdown",
   "id": "027c7eaf-796a-44de-a060-1b8869004853",
   "metadata": {},
   "source": [
    "## Step 0: Modify These Variables Before Running the Notebook\n",
    "- `LOCATION` : Set the target location for image retrieval (e.g., `'Ft Myers Beach, Florida'`).  \n",
    "- `FOOTPRINT_SCRAPER` : Specify the scraper class to use (e.g., `'OvertureMapsFootprintScraper'`).  \n",
    "- `API_KEY` : Provide your Google API key for accessing Street View and other services."
   ]
  },
  {
   "cell_type": "code",
   "execution_count": null,
   "id": "cb90739c-ebf4-481b-bceb-89ee4fa6ed6e",
   "metadata": {},
   "outputs": [],
   "source": [
    "LOCATION = 'Ft Myers Beach, Florida'\n",
    "FOOTPRINT_SCRAPER = 'OvertureMapsFootprintScraper'\n",
    "API_KEY = 'YOUR-API-KEY-HERE'"
   ]
  },
  {
   "cell_type": "markdown",
   "id": "52e94528-883d-49f6-8be9-24a43ced61ad",
   "metadata": {},
   "source": [
    "## Step 1: Create an `Importer` Instance\n",
    "`Importer` is BRAILS++’s dynamic class loader. In this example, you will use an `Importer` instance to retrieve different components of the BRAILS++ pipeline such as:\n",
    "- `RegionBoundary` (to define an area of interest)\n",
    "- Scrapers like `OvertureMapsFootprintScraper` (to get building footprints)\n",
    "- Imagery providers like `GoogleSatellite` or `GoogleStreetview`"
   ]
  },
  {
   "cell_type": "code",
   "execution_count": null,
   "id": "eddca9f9-28ab-495d-864f-5cfe0e9d15c7",
   "metadata": {},
   "outputs": [],
   "source": [
    "importer = Importer()"
   ]
  },
  {
   "cell_type": "markdown",
   "id": "c2a1ca85-b852-40df-bbe4-934b543aa5e9",
   "metadata": {},
   "source": [
    "## Step 2: Define the Location and Create a RegionBoundary\n",
    "The **RegionBoundary** object tells **BRAILS++** the *geographical area* where we want to extract building footprints and/or related data.\n",
    "\n",
    "**In this example:**\n",
    "- We obtain the `RegionBoundary` class dynamically using the `Importer` instance (no hardcoded module paths).\n",
    "- We create a `RegionBoundary` object by passing a dictionary describing the type of location input and the actual data.\n",
    "\n",
    "**`type` can be one of:**\n",
    "- `locationName` – a place name, like `'Berkeley, CA'`\n",
    "- `locationPolygon` – a tuple containing coordinates for a polygon in (lon1, lat1, .... lon_n, lat_n) format\n",
    "\n",
    "**`data`** holds the actual value for that type.\n",
    "\n",
    "\n"
   ]
  },
  {
   "cell_type": "code",
   "execution_count": null,
   "id": "16278107-8b95-4521-960e-8d154816045c",
   "metadata": {},
   "outputs": [],
   "source": [
    "region_boundary_class = importer.get_class('RegionBoundary')\n",
    "region_boundary_object = region_boundary_class(\n",
    "    {'type': 'locationName', 'data': LOCATION})"
   ]
  },
  {
   "cell_type": "markdown",
   "id": "5835973d-821f-4940-a50d-4a71fc1a4e55",
   "metadata": {},
   "source": [
    "## Step 3: Create a Footprint Scraper and Retrieve Building Data\n",
    "\n",
    "In this step, we set up a **scraper** to retrieve building footprints within the previously defined region.\n",
    "\n",
    "- First, we dynamically obtain the scraper class from the `Importer` by name (stored in the `scraper` variable). This avoids hardcoding class imports and makes it easy to swap different scraper implementations.\n",
    "- We create an instance of the scraper, passing configuration parameters. Here, `{\"length\": \"ft\"}` specifies that all length-related measurements in the results should be reported in **feet**.\n",
    "- Using the `get_footprints()` method, we request all building footprints inside the `RegionBoundary` defined earlier. The result is stored in an **inventory** object, which contains:\n",
    "  - Geometry of each building footprint\n",
    "  - Metadata such as area, length, and possibly height (depending on the scraper)\n",
    "- Finally, we print a summary of how many assets (buildings) were found in the given location using the selected scraper."
   ]
  },
  {
   "cell_type": "code",
   "execution_count": null,
   "id": "b1519a08-57d5-413e-a313-bacb9b3dc816",
   "metadata": {},
   "outputs": [],
   "source": [
    "scraper_class = importer.get_class(FOOTPRINT_SCRAPER)\n",
    "scraper = scraper_class({'length': 'ft'})\n",
    "inventory = scraper.get_footprints(region_boundary_object)\n",
    "print(f'Number of assets found: {len(inventory.inventory)} for {LOCATION} '\n",
    "      f'using {FOOTPRINT_SCRAPER}')"
   ]
  },
  {
   "cell_type": "markdown",
   "id": "1822129f-fcec-4e5e-8acc-bf38a4941a4e",
   "metadata": {},
   "source": [
    "## Step 4: Subsample the Inventory for Quick Processing\n",
    "\n",
    "The **inventory** may contain hundreds or even thousands of buildings, depending on the size and density of the selected region.\n",
    "\n",
    "To keep this example lightweight and fast:\n",
    "- We randomly select a fixed number of buildings from the full inventory using `inventory.get_random_sample(nsamples, seed)`.\n",
    "- Here: `nsamples=20` means exactly **20 buildings** will be chosen. `seed=40` sets the random seed so that the selection is **repeatable** running the notebook again with the same seed will return the same sample."
   ]
  },
  {
   "cell_type": "code",
   "execution_count": null,
   "id": "b6504035-9573-45c1-82cd-27ebcc556b82",
   "metadata": {},
   "outputs": [],
   "source": [
    "small_inventory = inventory.get_random_sample(nsamples=20, seed=40)"
   ]
  },
  {
   "cell_type": "markdown",
   "id": "3f2d1fbf-d1b6-410a-852d-7a91ef8077c6",
   "metadata": {},
   "source": [
    "## Step 5: Retrieve Aerial Imagery (Google Satellite)\n",
    "In this cell, we dynamically load and use the `GoogleSatellite` class to fetch satellite images:\n",
    "\n",
    "1. **Load and instantiate the class**: Retrieve the `GoogleSatellite` class from the `importer` object, allowing dynamic access without a direct import.\n",
    "2. **Fetch images**: Use the class instance to download satellite images for the items in `small_inventory` and stores them locally in `'tmp/satellite/'`. The resulting images are saved in `images_satellite` for later use.\n",
    "3. **Show image information**: Displays metadata and basic information about the downloaded satellite images, helping verify the results."
   ]
  },
  {
   "cell_type": "code",
   "execution_count": null,
   "id": "59b12d4c-3105-4a27-8f8c-16eac2a99f5c",
   "metadata": {},
   "outputs": [],
   "source": [
    "google_satellite = importer.get_class('GoogleSatellite')()\n",
    "images_satellite = google_satellite.get_images(\n",
    "    small_inventory, 'tmp/satellite/')\n",
    "\n",
    "images_satellite.print_info()\n",
    "PlotTools.plot_images(images_satellite)"
   ]
  },
  {
   "cell_type": "markdown",
   "id": "2b44171c-0d44-44d2-be22-f31fc4dabe1e",
   "metadata": {},
   "source": [
    "## Step 6: Retrieve Street-Level Imagery (Google Street View)\n",
    "\n",
    "In this cell, we dynamically load and use the `GoogleStreetview` class to fetch street-level images:\n",
    "1. **Load and instantiate the class**: Retrieve the `GoogleStreetview` class from the `importer` object, allowing dynamic access without a direct import.\n",
    "2. **Fetch images**: Use the class instance to download street-level images for the items in `small_inventory` and store them locally in `'tmp/street/'`. The resulting images are saved in `images_street` for later use.\n",
    "3. **Show image information**: Displays metadata and basic information about the downloaded street-level images, helping verify the results."
   ]
  },
  {
   "cell_type": "code",
   "execution_count": null,
   "id": "454976b2-0c8e-4e35-9e91-d4238b7d37b6",
   "metadata": {},
   "outputs": [],
   "source": [
    "google_street = importer.get_class('GoogleStreetview')({'apiKey': API_KEY})\n",
    "images_street = google_street.get_images(small_inventory, 'tmp/street/')\n",
    "\n",
    "images_street.print_info()\n",
    "PlotTools.plot_images(images_street)"
   ]
  }
 ],
 "metadata": {
  "kernelspec": {
   "display_name": "Python 3 (ipykernel)",
   "language": "python",
   "name": "python3"
  },
  "language_info": {
   "codemirror_mode": {
    "name": "ipython",
    "version": 3
   },
   "file_extension": ".py",
   "mimetype": "text/x-python",
   "name": "python",
   "nbconvert_exporter": "python",
   "pygments_lexer": "ipython3",
   "version": "3.10.13"
  }
 },
 "nbformat": 4,
 "nbformat_minor": 5
}
