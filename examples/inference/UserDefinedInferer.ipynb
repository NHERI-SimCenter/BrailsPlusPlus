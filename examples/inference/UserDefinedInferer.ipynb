{
 "cells": [
  {
   "cell_type": "markdown",
   "id": "b59a54a5-610d-4736-aa7d-805de5e4e0bc",
   "metadata": {},
   "source": [
    "# User inferer\n",
    "\n",
    "This examples shows how user-inferer can be implemented to agument a new attribute to existing brails-created inventory. This feature is useful when user know the rulesets to infer a new attribute (e.g. contents value) from existing attributes (e.g. occupancy type and building replacement cost).\n",
    "\n",
    "## Formatting the user-defined inferer file\n",
    "\n",
    "Let's first set the path to user-inferer python file. We will use \"content_value_inferer.py\" to infer contents value using occupancy type and building replacement cost information provided by NSI."
   ]
  },
  {
   "cell_type": "code",
   "execution_count": 1,
   "id": "31a671dc-b7f7-4f44-8e60-7b12ae3fbef5",
   "metadata": {},
   "outputs": [],
   "source": [
    "import os\n",
    "cwd = os.getcwd()\n",
    "filepath =  os.path.join(cwd,\"content_value_inferer.py\")"
   ]
  },
  {
   "cell_type": "markdown",
   "id": "b5f52549-b994-46ae-b3a0-77961838acee",
   "metadata": {},
   "source": [
    "The user-inferer python file should contain a function named **user_inferer**. Let's first see how the function looks like. The input **inventory_dict** and outputs **new_features** are dictionaries and their examples will be given subsequently."
   ]
  },
  {
   "cell_type": "code",
   "execution_count": 2,
   "id": "51564e47-4eca-4666-8d0a-ce08b83bc327",
   "metadata": {},
   "outputs": [
    {
     "data": {
      "text/markdown": [
       "The contents of C:\\Users\\SimCenter\\Sangri\\BrailsPlusPlus2\\examples\\inference\\content_value_inferer.py"
      ],
      "text/plain": [
       "<IPython.core.display.Markdown object>"
      ]
     },
     "metadata": {},
     "output_type": "display_data"
    },
    {
     "data": {
      "text/markdown": [
       "---"
      ],
      "text/plain": [
       "<IPython.core.display.Markdown object>"
      ]
     },
     "metadata": {},
     "output_type": "display_data"
    },
    {
     "data": {
      "text/markdown": [
       "```python\n",
       "import numpy as np\n",
       "def user_inferer(inventory_dict):\n",
       "    #\n",
       "    # Defining my mapping following Table 6-10 in Hazus Inventory Technical Manual 6\n",
       "    # (Baseline Hazus Contents Value as Percent of Structure Value)\n",
       "    #\n",
       "    contents_value_over_str_value = {\n",
       "        \"RES1\": 0.50,\n",
       "        \"RES2\": 0.50,\n",
       "        \"RES3A\": 0.50,\n",
       "        \"RES3B\": 0.50,\n",
       "        \"RES3C\": 0.50,\n",
       "        \"RES3D\": 0.50,\n",
       "        \"RES3E\": 0.50,\n",
       "        \"RES3F\": 0.50,\n",
       "        \"RES3\": 0.50,\n",
       "        \"RES4\": 0.50,\n",
       "        \"RES5\": 0.50,\n",
       "        \"RES6\": 0.50,\n",
       "        \"COM1\": 1.00,\n",
       "        \"COM2\": 1.00,\n",
       "        \"COM3\": 1.00,\n",
       "        \"COM4\": 1.00,\n",
       "        \"COM5\": 1.00,\n",
       "        \"COM6\": 1.50,\n",
       "        \"COM7\": 1.50,\n",
       "        \"COM8\": 1.00,\n",
       "        \"COM9\": 1.00,\n",
       "        \"COM10\": 0.50,\n",
       "        \"IND1\": 1.50,\n",
       "        \"IND2\": 1.50,\n",
       "        \"IND3\": 1.50,\n",
       "        \"IND4\": 1.50,\n",
       "        \"IND5\": 1.50,\n",
       "        \"IND6\": 1.00,\n",
       "        \"AGR1\": 1.00,\n",
       "        \"REL1\": 1.00,\n",
       "        \"GOV1\": 1.00,\n",
       "        \"GOV2\": 1.50,\n",
       "        \"EDU1\": 1.00,\n",
       "        \"EDU2\": 1.50\n",
       "    }\n",
       "    new_features = {}\n",
       "    for idx,bldg in inventory_dict.items():\n",
       "        occ_type = bldg[\"properties\"][\"occupancy\"]\n",
       "        contents_value_ratio = contents_value_over_str_value.get(occ_type, np.nan)\n",
       "        contents_value = contents_value_ratio * bldg[\"properties\"][\"repaircost\"]\n",
       "        new_features[idx] = {\"contentsValue\": contents_value}\n",
       "\n",
       "    return new_features\n",
       "\n",
       "```"
      ],
      "text/plain": [
       "<IPython.core.display.Markdown object>"
      ]
     },
     "metadata": {},
     "output_type": "display_data"
    },
    {
     "data": {
      "text/markdown": [
       "---"
      ],
      "text/plain": [
       "<IPython.core.display.Markdown object>"
      ]
     },
     "metadata": {},
     "output_type": "display_data"
    }
   ],
   "source": [
    "# Read the file contents\n",
    "with open(filepath, 'r') as f:\n",
    "    file_contents = f.read()\n",
    "\n",
    "# Display the content with Markdown\n",
    "from IPython.display import display, Markdown\n",
    "display(Markdown(f'The contents of {filepath}'))\n",
    "display(Markdown(f'---'))\n",
    "display(Markdown(f'```python\\n{file_contents}\\n```'))\n",
    "display(Markdown(f'---'))\n"
   ]
  },
  {
   "cell_type": "markdown",
   "id": "fca5bad1-e87a-4983-8fdf-72501f466546",
   "metadata": {},
   "source": [
    "It enumerates the existing inventory in **inventory_dict** and creates **new_feature** dictionary that contains the new attributes\n",
    "\n",
    "An example of **inventory_dict** provided by Brails would look like below.\n",
    "\n",
    "---\n",
    "```json\n",
    "inventory_json = {\n",
    "    0: {\n",
    "        \"type\": \"Building\",\n",
    "        \"properties\": {\n",
    "            \"type\": \"Building\",\n",
    "            \"buildingheight\": \"NA\",\n",
    "            \"erabuilt\": 1983,\n",
    "            \"numstories\": 1,\n",
    "            \"roofshape\": \"flat\",\n",
    "            \"fpAreas\": 27433,\n",
    "            \"lon\": -81.92019722,\n",
    "            \"lat\": 26.43725715,\n",
    "            \"fparea\": 32663.7,\n",
    "            \"repaircost\": 3968655.62,\n",
    "            \"constype\": \"W1\",\n",
    "            \"occupancy\": \"COM1\",\n",
    "            \"fd_id\": 497575843\n",
    "        },\n",
    "        \"geometry\": {\n",
    "            \"type\": \"Polygon\",\n",
    "            \"coordinates\": [\n",
    "                [-81.9202572, 26.4375827],\n",
    "                [-81.920495, 26.4370076],\n",
    "                [-81.9201985, 26.4369093],\n",
    "                [-81.9201437, 26.4368912],\n",
    "                [-81.919906, 26.4374663],\n",
    "                [-81.9202572, 26.4375827]\n",
    "            ]\n",
    "        }\n",
    "    },\n",
    "    1: {\n",
    "        \"type\": \"Building\",\n",
    "        \"properties\": {\n",
    "            \"type\": \"Building\",\n",
    "            \"buildingheight\": \"NA\",\n",
    "            \"erabuilt\": 1983.0,\n",
    "            \"numstories\": 1.0,\n",
    "            \"roofshape\": \"flat\",\n",
    "            \"fpAreas\": 8238,\n",
    "            \"fparea\": 605.35504,\n",
    "            \"repaircost\": 212759.348,\n",
    "            \"constype\": \"W1\",\n",
    "            \"occupancy\": \"RES1\"\n",
    "        },\n",
    "        \"geometry\": {\n",
    "            \"type\": \"Polygon\",\n",
    "            \"coordinates\": [\n",
    "                [-81.9191106, 26.438107],\n",
    "                [-81.9190345, 26.4381961],\n",
    "                [-81.9189942, 26.4382432],\n",
    "                [-81.9189849, 26.4382368],\n",
    "                [-81.9189378, 26.4382919],\n",
    "                [-81.9188165, 26.4382088],\n",
    "                [-81.9188396, 26.4381817],\n",
    "                [-81.9187882, 26.4381466],\n",
    "                [-81.9188034, 26.4381288],\n",
    "                [-81.9187612, 26.4380998],\n",
    "                [-81.9187527, 26.4380479],\n",
    "                [-81.918853, 26.4379305],\n",
    "                [-81.9191106, 26.438107]\n",
    "            ]\n",
    "        }\n",
    "    },\n",
    "    .....\n",
    "}\n",
    "```\n",
    "---\n",
    "\n",
    "Note that it takes the building id as key and contains the existing attributes under the key \"properties\". \n",
    "\n",
    "The resulting **new_features** would look like.\n",
    "\n",
    "---\n",
    "```json\n",
    "new_features = {\n",
    "    0: {\n",
    "        \"contentsValue\": 3968655.62\n",
    "    },\n",
    "    1: {\n",
    "        \"contentsValue\": 106379.674\n",
    "    },\n",
    "    .....\n",
    "}\n",
    "```\n",
    "---\n",
    "    "
   ]
  },
  {
   "cell_type": "markdown",
   "id": "e72c1c78-2802-4930-9b21-b0ef74280be8",
   "metadata": {},
   "source": [
    "## Generation of base inventory"
   ]
  },
  {
   "cell_type": "markdown",
   "id": "c87fc695-aa68-448c-b178-1a2b09b65f19",
   "metadata": {},
   "source": [
    "Before running user-inferer, let's create a baseline inventory using NSI attributes, OSM footprint info, and imputation.\n",
    "\n",
    "### Scraping OSM"
   ]
  },
  {
   "cell_type": "code",
   "execution_count": 3,
   "id": "68c3f555-1fd8-4991-b887-8927386669eb",
   "metadata": {},
   "outputs": [
    {
     "name": "stderr",
     "output_type": "stream",
     "text": [
      "INFO:numexpr.utils:NumExpr defaulting to 8 threads.\n"
     ]
    }
   ],
   "source": [
    "import sys\n",
    "import copy\n",
    "\n",
    "sys.path.insert(0, \"../../\")\n",
    "from brails.utils import Importer\n",
    "from brails.types.image_set import ImageSet    \n",
    "from brails.types.asset_inventory import Asset, AssetInventory\n",
    "importer = Importer()"
   ]
  },
  {
   "cell_type": "code",
   "execution_count": 4,
   "id": "dce41c4d-e2e7-4ae6-a983-70269f9870b4",
   "metadata": {},
   "outputs": [],
   "source": [
    "region_data = {\"type\": \"locationName\", \"data\": \"Fort Myers Beach\"}\n",
    "region_boundary_class = importer.get_class(\"RegionBoundary\")\n",
    "region_boundary_object = region_boundary_class(region_data)"
   ]
  },
  {
   "cell_type": "code",
   "execution_count": 5,
   "id": "a68fe4d8-11c7-4e20-a6b7-3a4fbbe083ef",
   "metadata": {},
   "outputs": [
    {
     "name": "stdout",
     "output_type": "stream",
     "text": [
      "Trying OSM_FootprintsScraper ...\n",
      "\n",
      "Searching for Fort Myers Beach...\n",
      "Found Fort Myers Beach, Lee County, Florida, 33931, United States\n",
      "\n",
      "Found a total of 2766 building footprints in Fort Myers Beach\n"
     ]
    }
   ],
   "source": [
    "#\n",
    "# Get Footprints using OSM\n",
    "#\n",
    "\n",
    "print(\"Trying OSM_FootprintsScraper ...\")\n",
    "\n",
    "osm_class = importer.get_class(\"OSM_FootprintScraper\")\n",
    "osm_data = {\"length\": \"ft\"}\n",
    "osm = osm_class(osm_data)\n",
    "osm_inventory = osm.get_footprints(region_boundary_object)\n"
   ]
  },
  {
   "cell_type": "markdown",
   "id": "da7813c7-7703-4a05-9675-ec85c5c37f48",
   "metadata": {},
   "source": [
    "### Scraping NSI atributes and merging them with OSM"
   ]
  },
  {
   "cell_type": "code",
   "execution_count": 6,
   "id": "e6036189-1f98-4bd0-8e67-01784c4c2007",
   "metadata": {},
   "outputs": [],
   "source": [
    "nsi_class = importer.get_class(\"NSI_Parser\")\n",
    "nsi = nsi_class()"
   ]
  },
  {
   "cell_type": "code",
   "execution_count": 7,
   "id": "9a095386-7a0c-4b27-819c-1a1e60a73ecb",
   "metadata": {},
   "outputs": [
    {
     "name": "stdout",
     "output_type": "stream",
     "text": [
      "\n",
      "Getting National Structure Inventory (NSI) building data for the entered location...\n",
      "Found a total of 2503 building points in NSI that match the footprint data.\n"
     ]
    }
   ],
   "source": [
    "my_inventory = nsi.get_filtered_data_given_inventory(osm_inventory, \"ft\")"
   ]
  },
  {
   "cell_type": "code",
   "execution_count": 8,
   "id": "b063908c-8995-4a68-9e0f-d28b87b9f906",
   "metadata": {},
   "outputs": [
    {
     "data": {
      "text/plain": [
       "(True,\n",
       " {'type': 'Building',\n",
       "  'buildingheight': 'NA',\n",
       "  'erabuilt': 'NA',\n",
       "  'numstories': 'NA',\n",
       "  'roofshape': 'NA',\n",
       "  'fpAreas': 8238})"
      ]
     },
     "execution_count": 8,
     "metadata": {},
     "output_type": "execute_result"
    }
   ],
   "source": [
    "# There can be missing attributes\n",
    "my_inventory.get_asset_features(1)"
   ]
  },
  {
   "cell_type": "markdown",
   "id": "17b9bad9-bbeb-458a-b3b4-7c880e0dca9e",
   "metadata": {},
   "source": [
    "### Imputing missing attributes"
   ]
  },
  {
   "cell_type": "code",
   "execution_count": 9,
   "id": "6ba8de7d-0474-4f65-87fa-ea9946984de6",
   "metadata": {},
   "outputs": [
    {
     "name": "stderr",
     "output_type": "stream",
     "text": [
      "C:\\Users\\SimCenter\\Sangri\\BrailsPlusPlus2\\examples\\inference\\../..\\brails\\imputers\\knn_imputer\\knn_imputer.py:157: FutureWarning: Downcasting behavior in `replace` is deprecated and will be removed in a future version. To retain the old behavior, explicitly call `result.infer_objects(copy=False)`. To opt-in to the future behavior, set `pd.set_option('future.no_silent_downcasting', True)`\n",
      "  bldg_properties_df = bldg_properties_df.replace(\"NA\", np.nan, inplace=False)\n"
     ]
    },
    {
     "name": "stdout",
     "output_type": "stream",
     "text": [
      "Features with no reference data cannot be imputed. Removing them from the imputation target: buildingheight\n",
      "Missing percentages among 2766 assets\n",
      "erabuilt: 9.51%\n",
      "numstories: 9.51%\n",
      "roofshape: 99.82%\n",
      "fparea: 9.51%\n",
      "repaircost: 9.51%\n",
      "constype: 9.51%\n",
      "occupancy: 9.51%\n",
      "found_ht: 9.51%\n",
      "Primitive imputation done.\n",
      "Running the main imputation. This may take a while.\n",
      "Done imputation. It took 0.10 mins\n"
     ]
    }
   ],
   "source": [
    "knn_imputer_class = importer.get_class(\"KnnImputer\")\n",
    "imputer=knn_imputer_class(my_inventory,n_possible_worlds=10, exclude_features=[\"lon\",\"lat\",\"fd_id\"])\n",
    "fort_myers_imputed = imputer.impute()"
   ]
  },
  {
   "cell_type": "code",
   "execution_count": 10,
   "id": "da939816-2e27-49bc-9063-be8f3118e0d8",
   "metadata": {},
   "outputs": [
    {
     "data": {
      "text/plain": [
       "(True,\n",
       " {'type': 'Building',\n",
       "  'buildingheight': 'NA',\n",
       "  'erabuilt': 1983.0,\n",
       "  'numstories': 1.0,\n",
       "  'roofshape': 'flat',\n",
       "  'fpAreas': 8238,\n",
       "  'fparea': [3048.0,\n",
       "   522.0,\n",
       "   1248.0,\n",
       "   1248.0,\n",
       "   1248.0,\n",
       "   1248.0,\n",
       "   1248.0,\n",
       "   1248.0,\n",
       "   1248.0,\n",
       "   1248.0],\n",
       "  'repaircost': [224669.279,\n",
       "   115813.171,\n",
       "   124700.024,\n",
       "   124700.024,\n",
       "   124700.024,\n",
       "   124700.024,\n",
       "   124700.024,\n",
       "   124700.024,\n",
       "   124700.024,\n",
       "   124700.024],\n",
       "  'constype': 'W1',\n",
       "  'occupancy': ['REL1',\n",
       "   'RES1',\n",
       "   'RES1',\n",
       "   'RES1',\n",
       "   'RES1',\n",
       "   'RES1',\n",
       "   'RES1',\n",
       "   'RES1',\n",
       "   'RES1',\n",
       "   'RES1'],\n",
       "  'found_ht': [1.5, 0.5, 0.5, 0.5, 1.5, 1.5, 1.5, 0.5, 0.5, 8.0]})"
      ]
     },
     "execution_count": 10,
     "metadata": {},
     "output_type": "execute_result"
    }
   ],
   "source": [
    "fort_myers_imputed.get_asset_features(1)"
   ]
  },
  {
   "cell_type": "markdown",
   "id": "137d771f-c244-4d8e-afa3-bb536a10c2ca",
   "metadata": {},
   "source": [
    "Now the base inveotires of Fort Myers Beach is created. The filtered NSI inventory does not contain information on \"contentsValue\". We want to add this through the user-inferer"
   ]
  },
  {
   "cell_type": "markdown",
   "id": "2800d490-1e1f-4fac-805f-0454b8499910",
   "metadata": {},
   "source": [
    "# Example 1: Run user-inferer to update the content values"
   ]
  },
  {
   "cell_type": "code",
   "execution_count": 11,
   "id": "721e3ffd-7f23-4dd6-a014-ad55212b0626",
   "metadata": {
    "scrolled": true
   },
   "outputs": [
    {
     "name": "stdout",
     "output_type": "stream",
     "text": [
      "All assets are updated\n"
     ]
    }
   ],
   "source": [
    "user_inferer_class = importer.get_class(\"UserInferer\")\n",
    "inferer=user_inferer_class(fort_myers_imputed,filepath)\n",
    "fort_myers_inferred = inferer.infer()"
   ]
  },
  {
   "cell_type": "code",
   "execution_count": 12,
   "id": "801197ca-5a35-4cec-bc59-76b462b51e4e",
   "metadata": {},
   "outputs": [
    {
     "data": {
      "text/plain": [
       "{'type': 'Building',\n",
       " 'buildingheight': 'NA',\n",
       " 'erabuilt': [1973.0,\n",
       "  1973.0,\n",
       "  1973.0,\n",
       "  1973.0,\n",
       "  1973.0,\n",
       "  1973.0,\n",
       "  1974.0,\n",
       "  1973.0,\n",
       "  1973.0,\n",
       "  1973.0],\n",
       " 'numstories': [1.0, 1.0, 2.0, 2.0, 2.0, 2.0, 2.0, 2.0, 2.0, 2.0],\n",
       " 'roofshape': 'flat',\n",
       " 'fpAreas': 564,\n",
       " 'fparea': [2868.42,\n",
       "  6294.28172,\n",
       "  6294.28172,\n",
       "  6294.28172,\n",
       "  6294.28172,\n",
       "  6294.28172,\n",
       "  6294.28172,\n",
       "  6294.28172,\n",
       "  6294.28172,\n",
       "  8691.0],\n",
       " 'repaircost': [550882.859,\n",
       "  550882.859,\n",
       "  944314.165,\n",
       "  550882.859,\n",
       "  971575.799,\n",
       "  550882.859,\n",
       "  550882.859,\n",
       "  550882.859,\n",
       "  550882.859,\n",
       "  550882.859],\n",
       " 'constype': 'W1',\n",
       " 'occupancy': ['COM4',\n",
       "  'COM4',\n",
       "  'RES1',\n",
       "  'RES1',\n",
       "  'COM4',\n",
       "  'COM4',\n",
       "  'RES1',\n",
       "  'COM4',\n",
       "  'COM4',\n",
       "  'RES1'],\n",
       " 'found_ht': 0.5,\n",
       " 'contentsValue': [550882.859,\n",
       "  550882.859,\n",
       "  472157.0825,\n",
       "  275441.4295,\n",
       "  971575.799,\n",
       "  550882.859,\n",
       "  275441.4295,\n",
       "  550882.859,\n",
       "  550882.859,\n",
       "  275441.4295]}"
      ]
     },
     "execution_count": 12,
     "metadata": {},
     "output_type": "execute_result"
    }
   ],
   "source": [
    "fort_myers_inferred.get_asset_features(55)[1]"
   ]
  },
  {
   "cell_type": "markdown",
   "id": "f864b9b5-a81d-41b5-8e0a-aa8bc0fa8199",
   "metadata": {},
   "source": [
    "The contentsValues are now added. Note that, because there are multiple possible worlds of occupancy types (coming from probablistic imputation), contents value can be  evaluated differently for each world"
   ]
  },
  {
   "cell_type": "markdown",
   "id": "231ec3ff-52b6-4c43-945d-6be946da24c0",
   "metadata": {},
   "source": [
    "# Example 2: Run-user inferer to update the floor area"
   ]
  },
  {
   "cell_type": "markdown",
   "id": "29633b41-bff1-452e-aace-da8263d96dce",
   "metadata": {},
   "source": [
    "Let us import another user-inferer script to estimate the floor area of average and maximum plan area ('fpAreas' and 'fpAreas_max') using occupancy type information.\n",
    "\n",
    "Note that 'fpAreas' already exist in your inventory. You can either overwrite the existing one or not. By default, it overwrites the existing values. "
   ]
  },
  {
   "cell_type": "code",
   "execution_count": 13,
   "id": "03115bc5-d3a8-4453-a42d-ee46acfa5cd8",
   "metadata": {},
   "outputs": [],
   "source": [
    "import os\n",
    "cwd = os.getcwd()\n",
    "filepath_fp =  os.path.join(cwd,\"floor_area_inferer.py\")"
   ]
  },
  {
   "cell_type": "code",
   "execution_count": 14,
   "id": "e91f391d-d3b7-481d-9dc4-fa035716d3c7",
   "metadata": {},
   "outputs": [
    {
     "name": "stdout",
     "output_type": "stream",
     "text": [
      "All assets are updated\n"
     ]
    }
   ],
   "source": [
    "inferer=user_inferer_class(fort_myers_imputed,filepath_fp)\n",
    "fort_myers_inferred_fp = inferer.infer()"
   ]
  },
  {
   "cell_type": "code",
   "execution_count": 15,
   "id": "5de191bf-b2ff-45ea-a76e-b00ec0dccd25",
   "metadata": {},
   "outputs": [
    {
     "data": {
      "text/plain": [
       "{'type': 'Building',\n",
       " 'buildingheight': 'NA',\n",
       " 'erabuilt': 1983.0,\n",
       " 'numstories': 1.0,\n",
       " 'roofshape': 'flat',\n",
       " 'fpAreas': ['NA', 1500, 1500, 1500, 1500, 1500, 1500, 1500, 1500, 1500],\n",
       " 'fparea': [3048.0,\n",
       "  522.0,\n",
       "  1248.0,\n",
       "  1248.0,\n",
       "  1248.0,\n",
       "  1248.0,\n",
       "  1248.0,\n",
       "  1248.0,\n",
       "  1248.0,\n",
       "  1248.0],\n",
       " 'repaircost': [224669.279,\n",
       "  115813.171,\n",
       "  124700.024,\n",
       "  124700.024,\n",
       "  124700.024,\n",
       "  124700.024,\n",
       "  124700.024,\n",
       "  124700.024,\n",
       "  124700.024,\n",
       "  124700.024],\n",
       " 'constype': 'W1',\n",
       " 'occupancy': ['REL1',\n",
       "  'RES1',\n",
       "  'RES1',\n",
       "  'RES1',\n",
       "  'RES1',\n",
       "  'RES1',\n",
       "  'RES1',\n",
       "  'RES1',\n",
       "  'RES1',\n",
       "  'RES1'],\n",
       " 'found_ht': [1.5, 0.5, 0.5, 0.5, 1.5, 1.5, 1.5, 0.5, 0.5, 8.0],\n",
       " 'fpAreas_max': ['NA', 5000, 5000, 5000, 5000, 5000, 5000, 5000, 5000, 5000]}"
      ]
     },
     "execution_count": 15,
     "metadata": {},
     "output_type": "execute_result"
    }
   ],
   "source": [
    "fort_myers_inferred_fp.get_asset_features(1)[1]"
   ]
  },
  {
   "cell_type": "markdown",
   "id": "47b9f714-ad8a-47af-aac4-e6705773db90",
   "metadata": {},
   "source": [
    "### You can also avoid the overwritting of already existing values"
   ]
  },
  {
   "cell_type": "code",
   "execution_count": 16,
   "id": "39cf48be-3a90-44c7-8d41-69be9385a142",
   "metadata": {},
   "outputs": [
    {
     "name": "stdout",
     "output_type": "stream",
     "text": [
      "All assets are updated\n"
     ]
    }
   ],
   "source": [
    "inferer=user_inferer_class(fort_myers_imputed,filepath_fp, overwrite=False)\n",
    "fort_myers_inferred_fp2 = inferer.infer()"
   ]
  },
  {
   "cell_type": "code",
   "execution_count": 17,
   "id": "e1386361-640c-4954-aee3-247f35dfe134",
   "metadata": {},
   "outputs": [
    {
     "data": {
      "text/plain": [
       "{'type': 'Building',\n",
       " 'buildingheight': 'NA',\n",
       " 'erabuilt': 1983.0,\n",
       " 'numstories': 1.0,\n",
       " 'roofshape': 'flat',\n",
       " 'fpAreas': 8238,\n",
       " 'fparea': [3048.0,\n",
       "  522.0,\n",
       "  1248.0,\n",
       "  1248.0,\n",
       "  1248.0,\n",
       "  1248.0,\n",
       "  1248.0,\n",
       "  1248.0,\n",
       "  1248.0,\n",
       "  1248.0],\n",
       " 'repaircost': [224669.279,\n",
       "  115813.171,\n",
       "  124700.024,\n",
       "  124700.024,\n",
       "  124700.024,\n",
       "  124700.024,\n",
       "  124700.024,\n",
       "  124700.024,\n",
       "  124700.024,\n",
       "  124700.024],\n",
       " 'constype': 'W1',\n",
       " 'occupancy': ['REL1',\n",
       "  'RES1',\n",
       "  'RES1',\n",
       "  'RES1',\n",
       "  'RES1',\n",
       "  'RES1',\n",
       "  'RES1',\n",
       "  'RES1',\n",
       "  'RES1',\n",
       "  'RES1'],\n",
       " 'found_ht': [1.5, 0.5, 0.5, 0.5, 1.5, 1.5, 1.5, 0.5, 0.5, 8.0],\n",
       " 'fpAreas_max': ['NA', 5000, 5000, 5000, 5000, 5000, 5000, 5000, 5000, 5000]}"
      ]
     },
     "execution_count": 17,
     "metadata": {},
     "output_type": "execute_result"
    }
   ],
   "source": [
    "fort_myers_inferred_fp2.get_asset_features(1)[1]"
   ]
  },
  {
   "cell_type": "code",
   "execution_count": null,
   "id": "78a33c11-6047-4288-b07d-2ebe8c2bfdf0",
   "metadata": {},
   "outputs": [],
   "source": []
  },
  {
   "cell_type": "code",
   "execution_count": null,
   "id": "d511b20e-4a0f-4a5c-8799-82e162a871c4",
   "metadata": {},
   "outputs": [],
   "source": []
  },
  {
   "cell_type": "code",
   "execution_count": null,
   "id": "44c13c99-8d43-460d-957f-3ad151af65f2",
   "metadata": {},
   "outputs": [],
   "source": []
  },
  {
   "cell_type": "code",
   "execution_count": null,
   "id": "2b4518e5-b256-4e3b-b797-76ae62bd71c7",
   "metadata": {},
   "outputs": [],
   "source": []
  },
  {
   "cell_type": "code",
   "execution_count": null,
   "id": "a5a654fb-262d-4b5f-a76c-e74fa3c2a415",
   "metadata": {},
   "outputs": [],
   "source": []
  }
 ],
 "metadata": {
  "kernelspec": {
   "display_name": "Python 3 (ipykernel)",
   "language": "python",
   "name": "python3"
  },
  "language_info": {
   "codemirror_mode": {
    "name": "ipython",
    "version": 3
   },
   "file_extension": ".py",
   "mimetype": "text/x-python",
   "name": "python",
   "nbconvert_exporter": "python",
   "pygments_lexer": "ipython3",
   "version": "3.10.10"
  }
 },
 "nbformat": 4,
 "nbformat_minor": 5
}
