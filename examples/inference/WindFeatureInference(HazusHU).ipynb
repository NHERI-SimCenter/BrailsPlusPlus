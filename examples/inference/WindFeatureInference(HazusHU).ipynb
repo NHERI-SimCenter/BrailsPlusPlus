{
 "cells": [
  {
   "cell_type": "code",
   "execution_count": null,
   "id": "bbb4d53e-334c-4533-a108-508067038215",
   "metadata": {},
   "outputs": [],
   "source": [
    "# !pip install git+https://github.com/NHERI-SimCenter/BrailsPlusPlus\n",
    "# !pip install plotly"
   ]
  },
  {
   "cell_type": "markdown",
   "id": "cbb23c97-37fc-43eb-b151-2a681c47f9aa",
   "metadata": {},
   "source": [
    "# Example 1 - Atlantic county, using the previous R2D inputs"
   ]
  },
  {
   "cell_type": "code",
   "execution_count": null,
   "id": "338b4e7d-d077-4e70-b1f5-56533822952e",
   "metadata": {},
   "outputs": [],
   "source": [
    "# Written: sy Aug 2024\n",
    "# License: BSD-2\n",
    "\n",
    "\"\"\"\n",
    " Purpose: Testing Imputer\n",
    "\"\"\"\n",
    "\n",
    "import os\n",
    "import sys\n",
    "import copy\n",
    "import json\n",
    "\n",
    "import numpy as np\n",
    "\n",
    "sys.path.insert(0, \"../../\")\n",
    "from brails.utils import Importer\n",
    "from brails.types.image_set import ImageSet    \n",
    "from brails.types.asset_inventory import Asset, AssetInventory\n"
   ]
  },
  {
   "cell_type": "markdown",
   "id": "6c894358-f03c-427f-a7d8-6ff7be20a59c",
   "metadata": {},
   "source": [
    "## Loading existing inventory"
   ]
  },
  {
   "cell_type": "code",
   "execution_count": null,
   "id": "983a2e46-1c7d-4930-b3f4-ebc9cf8e6e1b",
   "metadata": {},
   "outputs": [],
   "source": [
    "file_path = \"./nsi_altantic_minimal.csv\""
   ]
  },
  {
   "cell_type": "code",
   "execution_count": null,
   "id": "439a77e4-ab42-4610-b7fc-c4142e30b5d7",
   "metadata": {},
   "outputs": [],
   "source": [
    "inventory = AssetInventory()\n",
    "inventory.read_from_csv(file_path,keep_existing=True,id_column='id') "
   ]
  },
  {
   "cell_type": "code",
   "execution_count": null,
   "id": "4f7a5e9e",
   "metadata": {},
   "outputs": [],
   "source": [
    "# Inspecting the features of asset #4\n",
    "inventory.get_asset_features(4)[1]  # empty or 'NA' are missing values"
   ]
  },
  {
   "cell_type": "code",
   "execution_count": null,
   "id": "6ac98712-4e2c-4d01-a9c2-1ca6744d8e6a",
   "metadata": {},
   "outputs": [],
   "source": [
    "#inventory.remove_features(['RoofShape'])"
   ]
  },
  {
   "cell_type": "markdown",
   "id": "c66c3128-a10a-4e7f-8931-97dfb608728d",
   "metadata": {},
   "source": [
    "## Importing inference engine and inferring hurricane wind features"
   ]
  },
  {
   "cell_type": "code",
   "execution_count": null,
   "id": "a45b303c-a95b-4eb4-a573-117cf72a7a78",
   "metadata": {},
   "outputs": [],
   "source": [
    "importer = Importer()\n",
    "hurricaneInferer = importer.get_class(\"HazusInfererWind\")\n",
    "inferer=hurricaneInferer(input_inventory=inventory,clean_features = True)"
   ]
  },
  {
   "cell_type": "code",
   "execution_count": null,
   "id": "cf9985de",
   "metadata": {},
   "outputs": [],
   "source": [
    "new_inventory = inferer.infer()"
   ]
  },
  {
   "cell_type": "code",
   "execution_count": null,
   "id": "52eb458e-87a8-4e7a-9056-cc08b4ddb4ca",
   "metadata": {},
   "outputs": [],
   "source": [
    "new_inventory.get_asset_features(156)[1]  # empty or 'NA' are missing values"
   ]
  },
  {
   "cell_type": "code",
   "execution_count": null,
   "id": "4e29c339-119c-445d-bca6-4a3d9ae13fd3",
   "metadata": {},
   "outputs": [],
   "source": [
    "_ = new_inventory.write_to_geojson(\n",
    "    output_file=\"nsi_altantic_minimal.json\")"
   ]
  },
  {
   "cell_type": "markdown",
   "id": "b630b357-7c25-4af4-aaff-09a5d72bb6af",
   "metadata": {},
   "source": [
    "# Example 2 - Fort Myers Beach, FL"
   ]
  },
  {
   "cell_type": "code",
   "execution_count": null,
   "id": "fc0d8272-3f15-41c7-a1c2-bbff7bc47488",
   "metadata": {},
   "outputs": [],
   "source": [
    "LOCATION_NAME = 'Fort Myers Beach, FL' #'Fort Myers Beach, FL'\n",
    "INVENTORY_OUTPUT = 'FortMyersInventory_HU.geojson' #'FortMyersInventory_HU.geojson'\n",
    "NO_POSSIBLE_WORLDS = 1"
   ]
  },
  {
   "cell_type": "code",
   "execution_count": null,
   "id": "35898107-656a-49ee-8f6f-93f7ac324846",
   "metadata": {},
   "outputs": [],
   "source": [
    "importer = Importer()"
   ]
  },
  {
   "cell_type": "markdown",
   "id": "5f48bbaf-c8d6-41ec-ba8f-6ac0292e2a5f",
   "metadata": {},
   "source": [
    "### Merging NSI and footprint"
   ]
  },
  {
   "cell_type": "code",
   "execution_count": null,
   "id": "e5e83fbe-d394-4b68-8cc3-57b417f4a2f5",
   "metadata": {},
   "outputs": [],
   "source": [
    "region_data = {\"type\": \"locationName\", \"data\": LOCATION_NAME}\n",
    "region_boundary_class = importer.get_class(\"RegionBoundary\")\n",
    "region_boundary_object = region_boundary_class(region_data)"
   ]
  },
  {
   "cell_type": "code",
   "execution_count": null,
   "id": "3b8e364d-3aef-45d1-b6ad-9f506496ad47",
   "metadata": {},
   "outputs": [],
   "source": [
    "nsi_class = importer.get_class('NSI_Parser')\n",
    "nsi = nsi_class()\n",
    "nsi_inventory = nsi.get_raw_data(region_boundary_object)"
   ]
  },
  {
   "cell_type": "code",
   "execution_count": null,
   "id": "0ae828dd-dfb4-4138-b9dc-865f9c3e14d3",
   "metadata": {},
   "outputs": [],
   "source": [
    "scraper_class = importer.get_class('USA_FootprintScraper')\n",
    "scraper = scraper_class({'length': 'ft'})\n",
    "scraper_inventory = scraper.get_footprints(region_boundary_object)"
   ]
  },
  {
   "cell_type": "code",
   "execution_count": null,
   "id": "a277b0cd-9ee7-44b7-aae8-98d44451b5bb",
   "metadata": {},
   "outputs": [],
   "source": [
    "nsi_inventory = nsi.get_filtered_data_given_inventory(\n",
    "    scraper_inventory, \"ft\", get_extended_features=True)"
   ]
  },
  {
   "cell_type": "markdown",
   "id": "e742a287-9bb1-46de-8525-0d64b3fbf380",
   "metadata": {},
   "source": [
    "### Running imputation"
   ]
  },
  {
   "cell_type": "code",
   "execution_count": null,
   "id": "94540d97-fee9-4a36-b704-258df06272c3",
   "metadata": {},
   "outputs": [],
   "source": [
    "knn_imputer_class = importer.get_class(\"KnnImputer\")\n",
    "\n",
    "imputer = knn_imputer_class(\n",
    "    nsi_inventory, n_possible_worlds=NO_POSSIBLE_WORLDS,\n",
    "    exclude_features=['lat', 'lon', 'fd_id'])\n",
    "imputed_inventory = imputer.impute()"
   ]
  },
  {
   "cell_type": "markdown",
   "id": "e76dfc81-af6b-486a-9ef0-0db5d766467c",
   "metadata": {},
   "source": [
    "### Temporarily Assigning features \n",
    "in the future, these features should be provided by the brails scraper"
   ]
  },
  {
   "cell_type": "code",
   "execution_count": null,
   "id": "085799e3-1178-427f-84e4-918b25cd1a85",
   "metadata": {},
   "outputs": [],
   "source": [
    "for key, val in imputed_inventory.inventory.items():\n",
    "    val.add_features({\"DesignWindSpeed\":30,\n",
    "                     \"RoofShape\":'Flat',\n",
    "                     \"AvgJanTemp\":'Above',\n",
    "                     \"LandCover\":'Trees'})"
   ]
  },
  {
   "cell_type": "code",
   "execution_count": null,
   "id": "7445c04c-4036-40df-939e-1a3de348dcfa",
   "metadata": {},
   "outputs": [],
   "source": [
    "imputed_inventory.change_feature_names({'erabuilt': 'YearBuilt',\n",
    "                                        'constype': 'BuildingType',\n",
    "                                        'fpAreas': 'PlanArea',\n",
    "                                        'numstories': 'NumberOfStories',\n",
    "                                        'occupancy': 'OccupancyClass'\n",
    "                                       })\n",
    "hurricaneInferer = importer.get_class(\"HazusInfererWind\")\n",
    "inferer = hurricaneInferer(input_inventory=imputed_inventory, clean_features=True,n_possible_worlds=NO_POSSIBLE_WORLDS)\n",
    "hazus_inferred_inventory = inferer.infer()"
   ]
  },
  {
   "cell_type": "markdown",
   "id": "be02b1f0-ae19-4894-bea5-ea12838b106f",
   "metadata": {},
   "source": [
    "### Validate the inventory and make corrections if need"
   ]
  },
  {
   "cell_type": "code",
   "execution_count": null,
   "id": "43dd5776-ea60-420e-aa34-57e90c8b52b0",
   "metadata": {},
   "outputs": [],
   "source": [
    "invalid_id, error_record = inferer.validate(hazus_inferred_inventory)"
   ]
  },
  {
   "cell_type": "code",
   "execution_count": null,
   "id": "f1f37729-cb6a-4dc9-8de9-b41e3990b5ea",
   "metadata": {},
   "outputs": [],
   "source": [
    "# look at the outcome\n",
    "print(f\"Building {invalid_id[0]}: {error_record[invalid_id[0]]}\")"
   ]
  },
  {
   "cell_type": "markdown",
   "id": "075e600a-1ae0-4dfa-9b34-beedc357da53",
   "metadata": {},
   "source": [
    "Some feature combinations are not valid (i.e. not supported in Hazus DL function). Let's correct them by projecting the features to the valid feature space.\n",
    "\n",
    "#### Correction"
   ]
  },
  {
   "cell_type": "code",
   "execution_count": null,
   "id": "56a24f4a-ccdb-4c62-b35a-a1d6c3c43958",
   "metadata": {},
   "outputs": [],
   "source": [
    "inventory_corrrected = inferer.correct(hazus_inferred_inventory, invalid_id=invalid_id, weights={'BuildingType':1.5,'StructureType':2})"
   ]
  },
  {
   "cell_type": "code",
   "execution_count": null,
   "id": "ecf8d7da-90ac-4f73-9030-d1af96c885e9",
   "metadata": {},
   "outputs": [],
   "source": [
    "# Look at the outcome\n",
    "# ORIGINAL VALUES\n",
    "print(f\"Original values for Bldg {invalid_id[0]}:\") \n",
    "hazus_inferred_inventory.get_asset_features(invalid_id[0])"
   ]
  },
  {
   "cell_type": "code",
   "execution_count": null,
   "id": "8ea8c573-91be-488d-bb1b-1c177a17d82a",
   "metadata": {},
   "outputs": [],
   "source": [
    "# CORRECTED VALUES\n",
    "print(f\"Corrected values for Bldg {invalid_id[0]}:\") \n",
    "inventory_corrrected.get_asset_features(invalid_id[0])"
   ]
  },
  {
   "cell_type": "markdown",
   "id": "4c4bffb8-09ff-4abd-9769-8da8ebc2e1fa",
   "metadata": {},
   "source": [
    "# Save the inventory to a geojson file"
   ]
  },
  {
   "cell_type": "code",
   "execution_count": null,
   "id": "67ef5cd8-5b80-4768-b9e0-1d68895af73b",
   "metadata": {},
   "outputs": [],
   "source": [
    "_ = inventory_corrrected.write_to_geojson(\n",
    "    output_file=INVENTORY_OUTPUT)"
   ]
  },
  {
   "cell_type": "code",
   "execution_count": null,
   "id": "bc37bd6a-d686-41fd-a954-355b518468f4",
   "metadata": {},
   "outputs": [],
   "source": []
  }
 ],
 "metadata": {
  "kernelspec": {
   "display_name": "Python 3 (ipykernel)",
   "language": "python",
   "name": "python3"
  },
  "language_info": {
   "codemirror_mode": {
    "name": "ipython",
    "version": 3
   },
   "file_extension": ".py",
   "mimetype": "text/x-python",
   "name": "python",
   "nbconvert_exporter": "python",
   "pygments_lexer": "ipython3",
   "version": "3.10.10"
  }
 },
 "nbformat": 4,
 "nbformat_minor": 5
}
