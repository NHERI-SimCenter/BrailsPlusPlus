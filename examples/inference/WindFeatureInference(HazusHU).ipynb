{
 "cells": [
  {
   "cell_type": "code",
   "execution_count": 1,
   "id": "bbb4d53e-334c-4533-a108-508067038215",
   "metadata": {},
   "outputs": [],
   "source": [
    "# !pip install git+https://github.com/NHERI-SimCenter/BrailsPlusPlus\n",
    "# !pip install plotly"
   ]
  },
  {
   "cell_type": "markdown",
   "id": "cbb23c97-37fc-43eb-b151-2a681c47f9aa",
   "metadata": {},
   "source": [
    "# Example 1 - Atlantic county, using the previous R2D inputs"
   ]
  },
  {
   "cell_type": "code",
   "execution_count": 2,
   "id": "338b4e7d-d077-4e70-b1f5-56533822952e",
   "metadata": {},
   "outputs": [
    {
     "name": "stderr",
     "output_type": "stream",
     "text": [
      "INFO:numexpr.utils:NumExpr defaulting to 8 threads.\n"
     ]
    }
   ],
   "source": [
    "# Written: sy Aug 2024\n",
    "# License: BSD-2\n",
    "\n",
    "\"\"\"\n",
    " Purpose: Testing Imputer\n",
    "\"\"\"\n",
    "\n",
    "import os\n",
    "import sys\n",
    "import copy\n",
    "import json\n",
    "\n",
    "import numpy as np\n",
    "\n",
    "sys.path.insert(0, \"../../\")\n",
    "from brails.utils import Importer\n",
    "from brails.types.image_set import ImageSet    \n",
    "from brails.types.asset_inventory import Asset, AssetInventory\n"
   ]
  },
  {
   "cell_type": "markdown",
   "id": "6c894358-f03c-427f-a7d8-6ff7be20a59c",
   "metadata": {},
   "source": [
    "## Loading existing inventory"
   ]
  },
  {
   "cell_type": "code",
   "execution_count": 3,
   "id": "983a2e46-1c7d-4930-b3f4-ebc9cf8e6e1b",
   "metadata": {},
   "outputs": [],
   "source": [
    "file_path = \"./nsi_altantic_minimal.csv\""
   ]
  },
  {
   "cell_type": "code",
   "execution_count": 4,
   "id": "439a77e4-ab42-4610-b7fc-c4142e30b5d7",
   "metadata": {},
   "outputs": [
    {
     "name": "stdout",
     "output_type": "stream",
     "text": [
      "No existing inventory found. Reading in the new inventory from the file.\n"
     ]
    },
    {
     "data": {
      "text/plain": [
       "True"
      ]
     },
     "execution_count": 4,
     "metadata": {},
     "output_type": "execute_result"
    }
   ],
   "source": [
    "inventory = AssetInventory()\n",
    "inventory.read_from_csv(file_path,keep_existing=True,id_column='id') "
   ]
  },
  {
   "cell_type": "code",
   "execution_count": 5,
   "id": "4f7a5e9e",
   "metadata": {},
   "outputs": [
    {
     "data": {
      "text/plain": [
       "{'id': 4,\n",
       " 'City': 'Somers Point',\n",
       " 'OccupancyClass': 'RES1',\n",
       " 'BuildingType': 'Wood',\n",
       " 'DesignLevel': 'NE',\n",
       " 'YearBuilt': 1994,\n",
       " 'NumberOfStories': 2,\n",
       " 'PlanArea': 2416,\n",
       " 'FoundationType': 3504,\n",
       " 'SplitLevel': 0,\n",
       " 'HasGarage': 0,\n",
       " 'FirstFloorHt': 2,\n",
       " 'FloodZone': 'X',\n",
       " 'WindZone': 'I',\n",
       " 'AvgJanTemp': 'Above',\n",
       " 'RoofShape': 'Hip',\n",
       " 'RoofSlope': 0,\n",
       " 'RoofSystem': 'Truss',\n",
       " 'WindowArea': 0,\n",
       " 'DesignWindSpeed': 121.5296499,\n",
       " 'NumberOfUnits': 1,\n",
       " 'Height': 35.04684071,\n",
       " 'LandCover': 'Trees',\n",
       " 'OBJECTID': 847181,\n",
       " 'geometry': 'POINT (-74.61723667499923 39.30829801705697)',\n",
       " 'type': 'building'}"
      ]
     },
     "execution_count": 5,
     "metadata": {},
     "output_type": "execute_result"
    }
   ],
   "source": [
    "# Inspecting the features of asset #4\n",
    "inventory.get_asset_features(4)[1]  # empty or 'NA' are missing values"
   ]
  },
  {
   "cell_type": "code",
   "execution_count": 6,
   "id": "6ac98712-4e2c-4d01-a9c2-1ca6744d8e6a",
   "metadata": {},
   "outputs": [],
   "source": [
    "#inventory.remove_features(['RoofShape'])"
   ]
  },
  {
   "cell_type": "markdown",
   "id": "c66c3128-a10a-4e7f-8931-97dfb608728d",
   "metadata": {},
   "source": [
    "## Importing inference engine and inferring hurricane wind features"
   ]
  },
  {
   "cell_type": "code",
   "execution_count": 7,
   "id": "a45b303c-a95b-4eb4-a573-117cf72a7a78",
   "metadata": {},
   "outputs": [],
   "source": [
    "importer = Importer()\n",
    "hurricaneInferer = importer.get_class(\"HazusInfererWind\")\n",
    "inferer=hurricaneInferer(input_inventory=inventory,clean_features = True)"
   ]
  },
  {
   "cell_type": "code",
   "execution_count": 8,
   "id": "cf9985de",
   "metadata": {},
   "outputs": [
    {
     "name": "stderr",
     "output_type": "stream",
     "text": [
      "WARNING:brails.inferers.hazus_inferer_wind.hazus_inferer_wind:The existing inventory does not contain multiple possible worlds. 1 worlds will be generated for new features\n"
     ]
    },
    {
     "name": "stdout",
     "output_type": "stream",
     "text": [
      "Done inference. It took 0.33 mins\n"
     ]
    }
   ],
   "source": [
    "new_inventory = inferer.infer()"
   ]
  },
  {
   "cell_type": "code",
   "execution_count": 9,
   "id": "52eb458e-87a8-4e7a-9056-cc08b4ddb4ca",
   "metadata": {},
   "outputs": [
    {
     "data": {
      "text/plain": [
       "{'BuildingType': 'Wood',\n",
       " 'StructureType': 'Single Family Housing',\n",
       " 'LandCover': 'Trees',\n",
       " 'NumberOfStories': 1,\n",
       " 'RoofShape': 'Gable',\n",
       " 'SecondaryWaterResistance': 1,\n",
       " 'Shutters': 0,\n",
       " 'RoofDeckAttachment': '8d',\n",
       " 'RoofToWallConnection': 'Strap',\n",
       " 'Garage': 'No'}"
      ]
     },
     "execution_count": 9,
     "metadata": {},
     "output_type": "execute_result"
    }
   ],
   "source": [
    "new_inventory.get_asset_features(156)[1]  # empty or 'NA' are missing values"
   ]
  },
  {
   "cell_type": "code",
   "execution_count": 10,
   "id": "4e29c339-119c-445d-bca6-4a3d9ae13fd3",
   "metadata": {},
   "outputs": [],
   "source": [
    "_ = new_inventory.write_to_geojson(\n",
    "    output_file=\"nsi_altantic_minimal.json\")"
   ]
  },
  {
   "cell_type": "markdown",
   "id": "b630b357-7c25-4af4-aaff-09a5d72bb6af",
   "metadata": {},
   "source": [
    "# Example 2 - Fort Myers Beach, FL"
   ]
  },
  {
   "cell_type": "code",
   "execution_count": 11,
   "id": "fc0d8272-3f15-41c7-a1c2-bbff7bc47488",
   "metadata": {},
   "outputs": [],
   "source": [
    "LOCATION_NAME = 'Fort Myers Beach, FL' #'Fort Myers Beach, FL'\n",
    "INVENTORY_OUTPUT = 'FortMyersInventory_HU.geojson' #'FortMyersInventory_HU.geojson'\n",
    "NO_POSSIBLE_WORLDS = 1"
   ]
  },
  {
   "cell_type": "code",
   "execution_count": 12,
   "id": "35898107-656a-49ee-8f6f-93f7ac324846",
   "metadata": {},
   "outputs": [],
   "source": [
    "importer = Importer()"
   ]
  },
  {
   "cell_type": "markdown",
   "id": "5f48bbaf-c8d6-41ec-ba8f-6ac0292e2a5f",
   "metadata": {},
   "source": [
    "### Merging NSI and footprint"
   ]
  },
  {
   "cell_type": "code",
   "execution_count": 13,
   "id": "e5e83fbe-d394-4b68-8cc3-57b417f4a2f5",
   "metadata": {},
   "outputs": [],
   "source": [
    "region_data = {\"type\": \"locationName\", \"data\": LOCATION_NAME}\n",
    "region_boundary_class = importer.get_class(\"RegionBoundary\")\n",
    "region_boundary_object = region_boundary_class(region_data)"
   ]
  },
  {
   "cell_type": "code",
   "execution_count": 14,
   "id": "3b8e364d-3aef-45d1-b6ad-9f506496ad47",
   "metadata": {},
   "outputs": [
    {
     "name": "stdout",
     "output_type": "stream",
     "text": [
      "\n",
      "Searching for Fort Myers Beach, FL...\n",
      "Found Fort Myers Beach, Lee County, Florida, 33931, United States\n"
     ]
    },
    {
     "name": "stderr",
     "output_type": "stream",
     "text": [
      "INFO:root:\n",
      "Getting National Structure Inventory (NSI) building data for the entered location...\n"
     ]
    },
    {
     "name": "stdout",
     "output_type": "stream",
     "text": [
      "\n",
      "Found a total of 3558 building points in NSI that are within the entered region of interest\n"
     ]
    }
   ],
   "source": [
    "nsi_class = importer.get_class('NSI_Parser')\n",
    "nsi = nsi_class()\n",
    "nsi_inventory = nsi.get_raw_data(region_boundary_object)"
   ]
  },
  {
   "cell_type": "code",
   "execution_count": 15,
   "id": "0ae828dd-dfb4-4138-b9dc-865f9c3e14d3",
   "metadata": {},
   "outputs": [
    {
     "name": "stdout",
     "output_type": "stream",
     "text": [
      "\n",
      "Searching for Fort Myers Beach, FL...\n",
      "Found Fort Myers Beach, Lee County, Florida, 33931, United States\n",
      "\n",
      "Meshing the defined area...\n"
     ]
    },
    {
     "name": "stderr",
     "output_type": "stream",
     "text": [
      "Obtaining the number of elements in each cell: 100%|███████████████████████████████████| 10/10 [00:00<00:00, 52.01it/s]\n"
     ]
    },
    {
     "name": "stdout",
     "output_type": "stream",
     "text": [
      "\n",
      "Meshing complete. Split Fort Myers Beach into 10 cells\n"
     ]
    },
    {
     "name": "stderr",
     "output_type": "stream",
     "text": [
      "Obtaining the building attributes for each cell: 100%|█████████████████████████████████| 10/10 [00:00<00:00, 32.09it/s]\n",
      "100%|████████████████████████████████████████████████████████████████████████████████| 10/10 [00:00<00:00, 9998.34it/s]\n"
     ]
    },
    {
     "name": "stdout",
     "output_type": "stream",
     "text": [
      "\n",
      "Found a total of 3102 building footprints in Fort Myers Beach\n"
     ]
    }
   ],
   "source": [
    "scraper_class = importer.get_class('USA_FootprintScraper')\n",
    "scraper = scraper_class({'length': 'ft'})\n",
    "scraper_inventory = scraper.get_footprints(region_boundary_object)"
   ]
  },
  {
   "cell_type": "code",
   "execution_count": 16,
   "id": "a277b0cd-9ee7-44b7-aae8-98d44451b5bb",
   "metadata": {},
   "outputs": [
    {
     "name": "stdout",
     "output_type": "stream",
     "text": [
      "\n",
      "Getting National Structure Inventory (NSI) building data for the entered location...\n",
      "Found a total of 2796 building points in NSI that match the footprint data.\n"
     ]
    }
   ],
   "source": [
    "nsi_inventory = nsi.get_filtered_data_given_inventory(\n",
    "    scraper_inventory, \"ft\", get_extended_features=True)"
   ]
  },
  {
   "cell_type": "markdown",
   "id": "e742a287-9bb1-46de-8525-0d64b3fbf380",
   "metadata": {},
   "source": [
    "### Running imputation"
   ]
  },
  {
   "cell_type": "code",
   "execution_count": 17,
   "id": "94540d97-fee9-4a36-b704-258df06272c3",
   "metadata": {},
   "outputs": [
    {
     "name": "stderr",
     "output_type": "stream",
     "text": [
      "WARNING:brails.imputers.knn_imputer.knn_imputer:The existing inventory does not contain multiple possible worlds. 1 worlds will be generated for new features\n"
     ]
    },
    {
     "name": "stdout",
     "output_type": "stream",
     "text": [
      "Existing worlds: 1\n",
      "New worlds per existing world: 1\n",
      "world # 0\n",
      "Features with no reference data cannot be imputed. Removing them from the imputation target: buildingheight\n",
      "Missing percentages among 3102 assets\n",
      "fparea: 9.86%\n",
      "numstories: 9.86%\n",
      "erabuilt: 9.86%\n",
      "repaircost: 9.86%\n",
      "constype: 9.86%\n",
      "occupancy: 9.86%\n",
      "found_ht: 9.86%\n",
      "splitlevel: 9.86%\n",
      "basement: 28.08%\n",
      "Primitive imputation done.\n",
      "Running the main imputation. This may take a while.\n",
      "Done imputation. It took 0.01 mins\n"
     ]
    }
   ],
   "source": [
    "knn_imputer_class = importer.get_class(\"KnnImputer\")\n",
    "\n",
    "imputer = knn_imputer_class(\n",
    "    nsi_inventory, n_possible_worlds=NO_POSSIBLE_WORLDS,\n",
    "    exclude_features=['lat', 'lon', 'fd_id'])\n",
    "imputed_inventory = imputer.impute()"
   ]
  },
  {
   "cell_type": "markdown",
   "id": "e76dfc81-af6b-486a-9ef0-0db5d766467c",
   "metadata": {},
   "source": [
    "### Temporarily Assigning features \n",
    "in the future, these features should be provided by the brails scraper"
   ]
  },
  {
   "cell_type": "code",
   "execution_count": 18,
   "id": "085799e3-1178-427f-84e4-918b25cd1a85",
   "metadata": {},
   "outputs": [],
   "source": [
    "for key, val in imputed_inventory.inventory.items():\n",
    "    val.add_features({\"DesignWindSpeed\":30,\n",
    "                     \"RoofShape\":'Flat',\n",
    "                     \"AvgJanTemp\":'Above',\n",
    "                     \"LandCover\":'Trees'})"
   ]
  },
  {
   "cell_type": "code",
   "execution_count": 19,
   "id": "7445c04c-4036-40df-939e-1a3de348dcfa",
   "metadata": {},
   "outputs": [
    {
     "name": "stderr",
     "output_type": "stream",
     "text": [
      "WARNING:brails.inferers.hazus_inferer_wind.hazus_inferer_wind:The existing inventory does not contain multiple possible worlds. 1 worlds will be generated for new features\n"
     ]
    },
    {
     "name": "stdout",
     "output_type": "stream",
     "text": [
      "Done inference. It took 0.01 mins\n"
     ]
    }
   ],
   "source": [
    "imputed_inventory.change_feature_names({'erabuilt': 'YearBuilt',\n",
    "                                        'constype': 'BuildingType',\n",
    "                                        'fpAreas': 'PlanArea',\n",
    "                                        'numstories': 'NumberOfStories',\n",
    "                                        'occupancy': 'OccupancyClass'\n",
    "                                       })\n",
    "hurricaneInferer = importer.get_class(\"HazusInfererWind\")\n",
    "inferer = hurricaneInferer(input_inventory=imputed_inventory, clean_features=True,n_possible_worlds=NO_POSSIBLE_WORLDS)\n",
    "hazus_inferred_inventory = inferer.infer()"
   ]
  },
  {
   "cell_type": "markdown",
   "id": "be02b1f0-ae19-4894-bea5-ea12838b106f",
   "metadata": {},
   "source": [
    "### Validate the inventory and make corrections if need"
   ]
  },
  {
   "cell_type": "code",
   "execution_count": 20,
   "id": "43dd5776-ea60-420e-aa34-57e90c8b52b0",
   "metadata": {},
   "outputs": [
    {
     "name": "stderr",
     "output_type": "stream",
     "text": [
      "WARNING:brails.inferers.hazus_inferer_wind.hazus_inferer_wind:The inventory has 95 assets (3.06%) that are identified as invalid. This means the information on the specific combinations of input features are not found in the Hazus DL library. You can use <correct> method to quickly project those features to a valid feature combination. See documentation.\n"
     ]
    },
    {
     "name": "stdout",
     "output_type": "stream",
     "text": [
      "Done validation. It took 83.8 sec.\n"
     ]
    }
   ],
   "source": [
    "invalid_id, error_record = inferer.validate(hazus_inferred_inventory)"
   ]
  },
  {
   "cell_type": "code",
   "execution_count": 23,
   "id": "f1f37729-cb6a-4dc9-8de9-b41e3990b5ea",
   "metadata": {},
   "outputs": [
    {
     "name": "stdout",
     "output_type": "stream",
     "text": [
      "Building 45: 'Flat' is not one of ['Hip', 'Gable']\n"
     ]
    }
   ],
   "source": [
    "# look at the outcome\n",
    "print(f\"Building {invalid_id[0]}: {error_record[invalid_id[0]]}\")"
   ]
  },
  {
   "cell_type": "markdown",
   "id": "075e600a-1ae0-4dfa-9b34-beedc357da53",
   "metadata": {},
   "source": [
    "Some feature combinations are not valid (i.e. not supported in Hazus DL function). Let's correct them by projecting the features to the valid feature space.\n",
    "\n",
    "#### Correction"
   ]
  },
  {
   "cell_type": "code",
   "execution_count": 24,
   "id": "56a24f4a-ccdb-4c62-b35a-a1d6c3c43958",
   "metadata": {},
   "outputs": [
    {
     "name": "stdout",
     "output_type": "stream",
     "text": [
      "95 Assets (3.06%) are corrected. Now good to go.\n",
      "Done correction. It took 2.64 sec.\n"
     ]
    }
   ],
   "source": [
    "inventory_corrrected = inferer.correct(hazus_inferred_inventory, invalid_id=invalid_id, weights={'BuildingType':1.5,'StructureType':2})"
   ]
  },
  {
   "cell_type": "code",
   "execution_count": 30,
   "id": "ecf8d7da-90ac-4f73-9030-d1af96c885e9",
   "metadata": {},
   "outputs": [
    {
     "name": "stdout",
     "output_type": "stream",
     "text": [
      "Original values for Bldg 45:\n"
     ]
    },
    {
     "data": {
      "text/plain": [
       "(True,\n",
       " {'BuildingType': 'Masonry',\n",
       "  'StructureType': 'Single Family Housing',\n",
       "  'LandCover': 'Trees',\n",
       "  'RoofShape': 'Flat',\n",
       "  'SecondaryWaterResistance': 1,\n",
       "  'RoofDeckAttachment': '8d',\n",
       "  'RoofSystem': 'Truss',\n",
       "  'RoofToWallConnection': 'Toe-nail',\n",
       "  'Shutters': 0,\n",
       "  'Garage': 'No',\n",
       "  'MasonryReinforcing': 1,\n",
       "  'NumberOfStories': 2})"
      ]
     },
     "execution_count": 30,
     "metadata": {},
     "output_type": "execute_result"
    }
   ],
   "source": [
    "# Look at the outcome\n",
    "# ORIGINAL VALUES\n",
    "print(f\"Original values for Bldg {invalid_id[0]}:\") \n",
    "hazus_inferred_inventory.get_asset_features(invalid_id[0])"
   ]
  },
  {
   "cell_type": "code",
   "execution_count": 31,
   "id": "8ea8c573-91be-488d-bb1b-1c177a17d82a",
   "metadata": {},
   "outputs": [
    {
     "name": "stdout",
     "output_type": "stream",
     "text": [
      "Corrected values for Bldg 45:\n"
     ]
    },
    {
     "data": {
      "text/plain": [
       "(True,\n",
       " {'BuildingType': 'Masonry',\n",
       "  'StructureType': 'Multi-Unit Housing',\n",
       "  'LandCover': 'Trees',\n",
       "  'SecondaryWaterResistance': 1,\n",
       "  'NumberOfStories': 2,\n",
       "  'RoofCover': 'Single-Ply Membrane',\n",
       "  'RoofShape': 'Flat',\n",
       "  'RoofQuality': 'Poor',\n",
       "  'RoofDeckAttachment': '8d',\n",
       "  'RoofToWallConnection': 'Toe-nail',\n",
       "  'Shutters': 0,\n",
       "  'MasonryReinforcing': 1})"
      ]
     },
     "execution_count": 31,
     "metadata": {},
     "output_type": "execute_result"
    }
   ],
   "source": [
    "# CORRECTED VALUES\n",
    "print(f\"Corrected values for Bldg {invalid_id[0]}:\") \n",
    "inventory_corrrected.get_asset_features(invalid_id[0])"
   ]
  },
  {
   "cell_type": "markdown",
   "id": "4c4bffb8-09ff-4abd-9769-8da8ebc2e1fa",
   "metadata": {},
   "source": [
    "# Save the inventory to a geojson file"
   ]
  },
  {
   "cell_type": "code",
   "execution_count": 27,
   "id": "67ef5cd8-5b80-4768-b9e0-1d68895af73b",
   "metadata": {},
   "outputs": [],
   "source": [
    "_ = inventory_corrrected.write_to_geojson(\n",
    "    output_file=INVENTORY_OUTPUT)"
   ]
  },
  {
   "cell_type": "code",
   "execution_count": null,
   "id": "bc37bd6a-d686-41fd-a954-355b518468f4",
   "metadata": {},
   "outputs": [],
   "source": []
  }
 ],
 "metadata": {
  "kernelspec": {
   "display_name": "Python 3 (ipykernel)",
   "language": "python",
   "name": "python3"
  },
  "language_info": {
   "codemirror_mode": {
    "name": "ipython",
    "version": 3
   },
   "file_extension": ".py",
   "mimetype": "text/x-python",
   "name": "python",
   "nbconvert_exporter": "python",
   "pygments_lexer": "ipython3",
   "version": "3.10.10"
  }
 },
 "nbformat": 4,
 "nbformat_minor": 5
}
