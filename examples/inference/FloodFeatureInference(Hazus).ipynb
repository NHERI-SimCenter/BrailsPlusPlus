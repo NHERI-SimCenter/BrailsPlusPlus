{
 "cells": [
  {
   "cell_type": "markdown",
   "id": "1d13cf28-0bb5-45c7-8612-9bf23e37f321",
   "metadata": {},
   "source": [
    "# Example 1 -Atlantic City example"
   ]
  },
  {
   "cell_type": "code",
   "execution_count": null,
   "id": "332f5471-8e75-4512-98b3-06402aa86c11",
   "metadata": {},
   "outputs": [],
   "source": [
    "# Written: sy Aug 2024\n",
    "# License: BSD-2\n",
    "\n",
    "\"\"\"\n",
    " Purpose: Testing Imputer\n",
    "\"\"\"\n",
    "\n",
    "import os\n",
    "import sys\n",
    "import copy\n",
    "import json\n",
    "\n",
    "import numpy as np\n",
    "\n",
    "sys.path.insert(0, \"../../\")\n",
    "from brails.utils import Importer\n",
    "from brails.types.image_set import ImageSet    \n",
    "from brails.types.asset_inventory import Asset, AssetInventory\n"
   ]
  },
  {
   "cell_type": "code",
   "execution_count": null,
   "id": "b76c958c-663c-4c7d-857a-57406bdd9d09",
   "metadata": {},
   "outputs": [],
   "source": [
    "LOCATION_NAME = 'Atlantic City, NJ' #'Fort Myers Beach, FL'\n",
    "INVENTORY_OUTPUT = 'AC.geojson' #'FortMyersInventory_HU.geojson'\n",
    "NO_POSSIBLE_WORLDS = 1"
   ]
  },
  {
   "cell_type": "markdown",
   "id": "83405c21-dc22-4d0e-a3d3-400037474ccc",
   "metadata": {},
   "source": [
    "## Merging NSI and footprint"
   ]
  },
  {
   "cell_type": "code",
   "execution_count": null,
   "id": "9481e762-baf9-473f-bb89-85f829ec862e",
   "metadata": {},
   "outputs": [],
   "source": [
    "importer = Importer()"
   ]
  },
  {
   "cell_type": "code",
   "execution_count": null,
   "id": "0633d4c0-d38f-426d-885f-ff54b1ecaf06",
   "metadata": {},
   "outputs": [],
   "source": [
    "region_data = {\"type\": \"locationName\", \"data\": LOCATION_NAME}\n",
    "region_boundary_class = importer.get_class(\"RegionBoundary\")\n",
    "region_boundary_object = region_boundary_class(region_data)"
   ]
  },
  {
   "cell_type": "code",
   "execution_count": null,
   "id": "7175893b-4cfb-45d5-b950-550cd5a6d4e7",
   "metadata": {},
   "outputs": [],
   "source": [
    "nsi_class = importer.get_class('NSI_Parser')\n",
    "nsi = nsi_class()\n",
    "nsi_inventory = nsi.get_raw_data(region_boundary_object)"
   ]
  },
  {
   "cell_type": "code",
   "execution_count": null,
   "id": "e34c988a-30b0-4571-8f0f-d918e9133912",
   "metadata": {},
   "outputs": [],
   "source": [
    "scraper_class = importer.get_class('USA_FootprintScraper')\n",
    "scraper = scraper_class({'length': 'ft'})\n",
    "scraper_inventory = scraper.get_footprints(region_boundary_object)"
   ]
  },
  {
   "cell_type": "code",
   "execution_count": null,
   "id": "82577fc9-3742-4904-9750-a70a7f8eab5b",
   "metadata": {},
   "outputs": [],
   "source": [
    "nsi_inventory = nsi.get_filtered_data_given_inventory(\n",
    "    scraper_inventory, \"ft\", get_extended_features=True)"
   ]
  },
  {
   "cell_type": "markdown",
   "id": "8354d29b-03cd-48c1-9db9-dc2efcaf31e3",
   "metadata": {},
   "source": [
    "##  Running imputation"
   ]
  },
  {
   "cell_type": "code",
   "execution_count": null,
   "id": "9b695882-f7cf-40a4-a7ca-3c1d3df8affe",
   "metadata": {},
   "outputs": [],
   "source": [
    "knn_imputer_class = importer.get_class(\"KnnImputer\")\n",
    "\n",
    "imputer = knn_imputer_class(\n",
    "    nsi_inventory, n_possible_worlds=NO_POSSIBLE_WORLDS,\n",
    "    exclude_features=['lat', 'lon', 'fd_id'])\n",
    "imputed_inventory = imputer.impute()"
   ]
  },
  {
   "cell_type": "markdown",
   "id": "75a05366-3ea8-4abb-86b0-0e83097952fe",
   "metadata": {},
   "source": [
    "## Temporarily Assigning features \n",
    "\n",
    "In the future, these features should be provided by the brails scraper"
   ]
  },
  {
   "cell_type": "code",
   "execution_count": null,
   "id": "a29765b6-e071-46a6-aef9-a473d86e9167",
   "metadata": {},
   "outputs": [],
   "source": [
    "for key, val in imputed_inventory.inventory.items():\n",
    "    val.add_features({\"FloodZone\":'V'})"
   ]
  },
  {
   "cell_type": "markdown",
   "id": "878346c6-cbd9-4eba-82fd-c99df8ac2181",
   "metadata": {},
   "source": [
    "## Run inference"
   ]
  },
  {
   "cell_type": "markdown",
   "id": "a9692ed7-9cd0-4323-b8f4-1f2e15be265d",
   "metadata": {},
   "source": [
    "#### Rename features\n",
    "so that the inferer module can understand"
   ]
  },
  {
   "cell_type": "code",
   "execution_count": null,
   "id": "507b299a-fa19-4533-ba32-af10336bc37e",
   "metadata": {},
   "outputs": [],
   "source": [
    "imputed_inventory.change_feature_names({'erabuilt': 'YearBuilt',\n",
    "                                        'numstories': 'NumberOfStories',\n",
    "                                        'basement': 'Basement',\n",
    "                                        'occupancy': 'OccupancyClass',\n",
    "                                        'splitlevel': 'SplitLevel',\n",
    "                                        'found_ht': 'FirstFloorElevation' \n",
    "                                       })"
   ]
  },
  {
   "cell_type": "markdown",
   "id": "3912d2da-7ac0-415f-a589-7a3b6ea0e697",
   "metadata": {},
   "source": [
    "#### Run inference"
   ]
  },
  {
   "cell_type": "code",
   "execution_count": null,
   "id": "457a801e-b29e-4b94-99c7-f3c52e2b1158",
   "metadata": {},
   "outputs": [],
   "source": [
    "hurricaneInferer = importer.get_class(\"HazusInfererFlood\")\n",
    "inferer = hurricaneInferer(input_inventory=imputed_inventory ,clean_features=True,n_possible_worlds=NO_POSSIBLE_WORLDS)\n",
    "hazus_inferred_inventory = inferer.infer()"
   ]
  },
  {
   "cell_type": "markdown",
   "id": "4a240965-0f0e-4e79-96df-14bb72b24bb0",
   "metadata": {},
   "source": [
    "#### Check the outcomes"
   ]
  },
  {
   "cell_type": "code",
   "execution_count": null,
   "id": "2158046a-9993-4c21-bd1a-2fea04f454c4",
   "metadata": {},
   "outputs": [],
   "source": [
    "hazus_inferred_inventory.inventory[0].features"
   ]
  },
  {
   "cell_type": "code",
   "execution_count": null,
   "id": "10241f18-8f5a-48ef-beea-128ed5b49e43",
   "metadata": {},
   "outputs": [],
   "source": [
    "hazus_inferred_inventory.inventory[312].features"
   ]
  },
  {
   "cell_type": "code",
   "execution_count": null,
   "id": "fd80d484-5228-4c1f-b410-c4a3f42a9838",
   "metadata": {},
   "outputs": [],
   "source": []
  }
 ],
 "metadata": {
  "kernelspec": {
   "display_name": "Python 3 (ipykernel)",
   "language": "python",
   "name": "python3"
  },
  "language_info": {
   "codemirror_mode": {
    "name": "ipython",
    "version": 3
   },
   "file_extension": ".py",
   "mimetype": "text/x-python",
   "name": "python",
   "nbconvert_exporter": "python",
   "pygments_lexer": "ipython3",
   "version": "3.10.10"
  }
 },
 "nbformat": 4,
 "nbformat_minor": 5
}
