{
 "cells": [
  {
   "cell_type": "markdown",
   "id": "1d13cf28-0bb5-45c7-8612-9bf23e37f321",
   "metadata": {},
   "source": [
    "# Example 1 -Atlantic City example"
   ]
  },
  {
   "cell_type": "code",
   "execution_count": 1,
   "id": "332f5471-8e75-4512-98b3-06402aa86c11",
   "metadata": {},
   "outputs": [
    {
     "name": "stderr",
     "output_type": "stream",
     "text": [
      "INFO:numexpr.utils:NumExpr defaulting to 8 threads.\n"
     ]
    }
   ],
   "source": [
    "# Written: sy Aug 2024\n",
    "# License: BSD-2\n",
    "\n",
    "\"\"\"\n",
    " Purpose: Testing Imputer\n",
    "\"\"\"\n",
    "\n",
    "import os\n",
    "import sys\n",
    "import copy\n",
    "import json\n",
    "\n",
    "import numpy as np\n",
    "\n",
    "sys.path.insert(0, \"../../\")\n",
    "from brails.utils import Importer\n",
    "from brails.types.image_set import ImageSet    \n",
    "from brails.types.asset_inventory import Asset, AssetInventory\n"
   ]
  },
  {
   "cell_type": "code",
   "execution_count": 2,
   "id": "b76c958c-663c-4c7d-857a-57406bdd9d09",
   "metadata": {},
   "outputs": [],
   "source": [
    "LOCATION_NAME = 'Atlantic City, NJ' #'Fort Myers Beach, FL'\n",
    "INVENTORY_OUTPUT = 'AC.geojson' #'FortMyersInventory_HU.geojson'\n",
    "NO_POSSIBLE_WORLDS = 1"
   ]
  },
  {
   "cell_type": "markdown",
   "id": "83405c21-dc22-4d0e-a3d3-400037474ccc",
   "metadata": {},
   "source": [
    "## Merging NSI and footprint"
   ]
  },
  {
   "cell_type": "code",
   "execution_count": 3,
   "id": "9481e762-baf9-473f-bb89-85f829ec862e",
   "metadata": {},
   "outputs": [],
   "source": [
    "importer = Importer()"
   ]
  },
  {
   "cell_type": "code",
   "execution_count": 4,
   "id": "0633d4c0-d38f-426d-885f-ff54b1ecaf06",
   "metadata": {},
   "outputs": [],
   "source": [
    "region_data = {\"type\": \"locationName\", \"data\": LOCATION_NAME}\n",
    "region_boundary_class = importer.get_class(\"RegionBoundary\")\n",
    "region_boundary_object = region_boundary_class(region_data)"
   ]
  },
  {
   "cell_type": "code",
   "execution_count": 5,
   "id": "7175893b-4cfb-45d5-b950-550cd5a6d4e7",
   "metadata": {},
   "outputs": [
    {
     "name": "stdout",
     "output_type": "stream",
     "text": [
      "\n",
      "Searching for Atlantic City, NJ...\n",
      "Found Atlantic City, Atlantic County, New Jersey, United States\n"
     ]
    },
    {
     "name": "stderr",
     "output_type": "stream",
     "text": [
      "INFO:root:\n",
      "Getting National Structure Inventory (NSI) building data for the entered location...\n"
     ]
    },
    {
     "name": "stdout",
     "output_type": "stream",
     "text": [
      "\n",
      "Found a total of 6844 building points in NSI that are within the entered region of interest\n"
     ]
    }
   ],
   "source": [
    "nsi_class = importer.get_class('NSI_Parser')\n",
    "nsi = nsi_class()\n",
    "nsi_inventory = nsi.get_raw_data(region_boundary_object)"
   ]
  },
  {
   "cell_type": "code",
   "execution_count": 6,
   "id": "e34c988a-30b0-4571-8f0f-d918e9133912",
   "metadata": {},
   "outputs": [
    {
     "name": "stdout",
     "output_type": "stream",
     "text": [
      "\n",
      "Searching for Atlantic City, NJ...\n",
      "Found Atlantic City, Atlantic County, New Jersey, United States\n",
      "\n",
      "Meshing the defined area...\n"
     ]
    },
    {
     "name": "stderr",
     "output_type": "stream",
     "text": [
      "Obtaining the number of elements in each cell: 100%|█████████████████████████████████████| 5/5 [00:00<00:00, 19.53it/s]\n"
     ]
    },
    {
     "name": "stdout",
     "output_type": "stream",
     "text": [
      "\n",
      "Meshing complete. Split Atlantic City into {len(final_cells)} cells\n"
     ]
    },
    {
     "name": "stderr",
     "output_type": "stream",
     "text": [
      "Obtaining the building attributes for each cell: 100%|███████████████████████████████████| 4/4 [00:00<00:00,  4.18it/s]\n",
      "100%|████████████████████████████████████████████████████████████████████████████████████████████| 4/4 [00:00<?, ?it/s]\n"
     ]
    },
    {
     "name": "stdout",
     "output_type": "stream",
     "text": [
      "\n",
      "Found a total of 4604 building footprints in Atlantic City\n"
     ]
    }
   ],
   "source": [
    "scraper_class = importer.get_class('USA_FootprintScraper')\n",
    "scraper = scraper_class({'length': 'ft'})\n",
    "scraper_inventory = scraper.get_footprints(region_boundary_object)"
   ]
  },
  {
   "cell_type": "code",
   "execution_count": 7,
   "id": "82577fc9-3742-4904-9750-a70a7f8eab5b",
   "metadata": {},
   "outputs": [
    {
     "name": "stdout",
     "output_type": "stream",
     "text": [
      "\n",
      "Getting National Structure Inventory (NSI) building data for the entered location...\n",
      "Found a total of 3689 building points in NSI that match the footprint data.\n"
     ]
    }
   ],
   "source": [
    "nsi_inventory = nsi.get_filtered_data_given_inventory(\n",
    "    scraper_inventory, \"ft\", get_extended_features=True)"
   ]
  },
  {
   "cell_type": "markdown",
   "id": "8354d29b-03cd-48c1-9db9-dc2efcaf31e3",
   "metadata": {},
   "source": [
    "##  Running imputation"
   ]
  },
  {
   "cell_type": "code",
   "execution_count": 8,
   "id": "9b695882-f7cf-40a4-a7ca-3c1d3df8affe",
   "metadata": {},
   "outputs": [
    {
     "name": "stderr",
     "output_type": "stream",
     "text": [
      "C:\\Users\\SimCenter\\Sangri\\BrailsPlusPlus2\\examples\\inference\\../..\\brails\\imputers\\knn_imputer\\knn_imputer.py:157: FutureWarning: Downcasting behavior in `replace` is deprecated and will be removed in a future version. To retain the old behavior, explicitly call `result.infer_objects(copy=False)`. To opt-in to the future behavior, set `pd.set_option('future.no_silent_downcasting', True)`\n",
      "  bldg_properties_df = bldg_properties_df.replace(\"NA\", np.nan, inplace=False)\n"
     ]
    },
    {
     "name": "stdout",
     "output_type": "stream",
     "text": [
      "Features with no reference data cannot be imputed. Removing them from the imputation target: buildingheight\n",
      "Missing percentages among 4604 assets\n",
      "fparea: 19.87%\n",
      "numstories: 19.87%\n",
      "erabuilt: 19.87%\n",
      "repaircost: 19.87%\n",
      "constype: 19.87%\n",
      "occupancy: 19.87%\n",
      "found_ht: 19.87%\n",
      "splitlevel: 19.87%\n",
      "basement: 38.18%\n",
      "Primitive imputation done.\n",
      "Running the main imputation. This may take a while.\n",
      "Done imputation. It took 0.02 mins\n"
     ]
    }
   ],
   "source": [
    "knn_imputer_class = importer.get_class(\"KnnImputer\")\n",
    "\n",
    "imputer = knn_imputer_class(\n",
    "    nsi_inventory, n_possible_worlds=NO_POSSIBLE_WORLDS,\n",
    "    exclude_features=['lat', 'lon', 'fd_id'])\n",
    "imputed_inventory = imputer.impute()"
   ]
  },
  {
   "cell_type": "markdown",
   "id": "75a05366-3ea8-4abb-86b0-0e83097952fe",
   "metadata": {},
   "source": [
    "## Temporarily Assigning features \n",
    "\n",
    "In the future, these features should be provided by the brails scraper"
   ]
  },
  {
   "cell_type": "code",
   "execution_count": 9,
   "id": "a29765b6-e071-46a6-aef9-a473d86e9167",
   "metadata": {},
   "outputs": [],
   "source": [
    "for key, val in imputed_inventory.inventory.items():\n",
    "    val.add_features({\"FloodZone\":'V'})"
   ]
  },
  {
   "cell_type": "markdown",
   "id": "878346c6-cbd9-4eba-82fd-c99df8ac2181",
   "metadata": {},
   "source": [
    "## Run inference"
   ]
  },
  {
   "cell_type": "markdown",
   "id": "a9692ed7-9cd0-4323-b8f4-1f2e15be265d",
   "metadata": {},
   "source": [
    "#### Rename features\n",
    "so that the inferer module can understand"
   ]
  },
  {
   "cell_type": "code",
   "execution_count": 10,
   "id": "507b299a-fa19-4533-ba32-af10336bc37e",
   "metadata": {},
   "outputs": [],
   "source": [
    "imputed_inventory.change_feature_names({'erabuilt': 'YearBuilt',\n",
    "                                        'numstories': 'NumberOfStories',\n",
    "                                        'basement': 'Basement',\n",
    "                                        'occupancy': 'OccupancyClass',\n",
    "                                        'splitlevel': 'SplitLevel',\n",
    "                                        'found_ht': 'FirstFloorElevation' \n",
    "                                       })"
   ]
  },
  {
   "cell_type": "markdown",
   "id": "3912d2da-7ac0-415f-a589-7a3b6ea0e697",
   "metadata": {},
   "source": [
    "#### Run inference"
   ]
  },
  {
   "cell_type": "code",
   "execution_count": 11,
   "id": "457a801e-b29e-4b94-99c7-f3c52e2b1158",
   "metadata": {},
   "outputs": [
    {
     "name": "stderr",
     "output_type": "stream",
     "text": [
      "WARNING:brails.inferers.hazus_inferer_flood.hazus_inferer_flood:The existing inventory does not contain multiple possible worlds. 1 worlds will be generated for new features\n"
     ]
    },
    {
     "name": "stdout",
     "output_type": "stream",
     "text": [
      "Done inference. It took 0.03 mins\n"
     ]
    }
   ],
   "source": [
    "hurricaneInferer = importer.get_class(\"HazusInfererFlood\")\n",
    "inferer = hurricaneInferer(input_inventory=imputed_inventory ,clean_features=True,n_possible_worlds=NO_POSSIBLE_WORLDS)\n",
    "hazus_inferred_inventory = inferer.infer()"
   ]
  },
  {
   "cell_type": "markdown",
   "id": "4a240965-0f0e-4e79-96df-14bb72b24bb0",
   "metadata": {},
   "source": [
    "#### Check the outcomes"
   ]
  },
  {
   "cell_type": "code",
   "execution_count": 12,
   "id": "2158046a-9993-4c21-bd1a-2fea04f454c4",
   "metadata": {},
   "outputs": [
    {
     "data": {
      "text/plain": [
       "{'EffectiveFirstFloorElevation': 7.0,\n",
       " 'OccupancyClass': 'RES1',\n",
       " 'FloodType': 'cvz',\n",
       " 'SplitLevel': 'No',\n",
       " 'NumberOfStories': 2,\n",
       " 'BasementType': 'bw'}"
      ]
     },
     "execution_count": 12,
     "metadata": {},
     "output_type": "execute_result"
    }
   ],
   "source": [
    "hazus_inferred_inventory.inventory[0].features"
   ]
  },
  {
   "cell_type": "code",
   "execution_count": 13,
   "id": "10241f18-8f5a-48ef-beea-128ed5b49e43",
   "metadata": {},
   "outputs": [
    {
     "data": {
      "text/plain": [
       "{'EffectiveFirstFloorElevation': 7.0,\n",
       " 'OccupancyClass': 'COM1',\n",
       " 'FloodType': 'cvz',\n",
       " 'SplitLevel': 'No',\n",
       " 'NumberOfStories': 1,\n",
       " 'BasementType': 'bw'}"
      ]
     },
     "execution_count": 13,
     "metadata": {},
     "output_type": "execute_result"
    }
   ],
   "source": [
    "hazus_inferred_inventory.inventory[312].features"
   ]
  },
  {
   "cell_type": "code",
   "execution_count": null,
   "id": "fd80d484-5228-4c1f-b410-c4a3f42a9838",
   "metadata": {},
   "outputs": [],
   "source": []
  }
 ],
 "metadata": {
  "kernelspec": {
   "display_name": "Python 3 (ipykernel)",
   "language": "python",
   "name": "python3"
  },
  "language_info": {
   "codemirror_mode": {
    "name": "ipython",
    "version": 3
   },
   "file_extension": ".py",
   "mimetype": "text/x-python",
   "name": "python",
   "nbconvert_exporter": "python",
   "pygments_lexer": "ipython3",
   "version": "3.10.10"
  }
 },
 "nbformat": 4,
 "nbformat_minor": 5
}
