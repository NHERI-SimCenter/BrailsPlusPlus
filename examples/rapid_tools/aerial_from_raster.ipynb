{
 "cells": [
  {
   "cell_type": "markdown",
   "id": "c2ee1b28-ed85-41a7-a4a8-1387a488df07",
   "metadata": {},
   "source": [
    "## Setup & Initialization"
   ]
  },
  {
   "cell_type": "code",
   "execution_count": null,
   "id": "8b713522-f775-47fb-ab4e-9939c261486d",
   "metadata": {},
   "outputs": [],
   "source": [
    "# Import necessary utilities from BRAILS:\n",
    "from brails.utils import RAPIDUtils, Importer"
   ]
  },
  {
   "cell_type": "markdown",
   "id": "93f9bb28-4e6d-46a7-8e09-3bc94218a6db",
   "metadata": {},
   "source": [
    "## Step 1: Load Raster Orthomosaic File\n",
    "This step initializes the `RAPIDUtils` class using the orthomosaic GeoTIFF file. This file should represent a stitched aerial image (e.g., from drones or satellite imagery). Please make sure the file path is correct and the file is a valid `.tif` or `.tiff` raster dataset."
   ]
  },
  {
   "cell_type": "code",
   "execution_count": null,
   "id": "447f17f5-851c-440a-8d01-4d665c252732",
   "metadata": {},
   "outputs": [],
   "source": [
    "# Load the orthomosaic raster file:\n",
    "raster_path = 'DIRECTORY-PATH-OF-RASTER-FILE-HERE'\n",
    "rapid_utils = RAPIDUtils(raster_path)"
   ]
  },
  {
   "cell_type": "markdown",
   "id": "9eefa5aa-8424-46f7-97d9-6438d13aee39",
   "metadata": {},
   "source": [
    "## Step 2: Create a Region Boundary from Raster Extent\n",
    "The `Importer` utility dynamically loads supported data classes. In this step, we use the raster’s spatial extent to define a region boundary polygon. This boundary serves as the spatial filter for retrieving building footprints, which will then guide the automated extraction of aerial imagery from the orthomosaic dataset specified in `raster_path`."
   ]
  },
  {
   "cell_type": "code",
   "execution_count": null,
   "id": "60553f06-949d-4deb-b65a-5aa03bb4d093",
   "metadata": {},
   "outputs": [],
   "source": [
    "# Initialize the Importer:\n",
    "importer = Importer()\n",
    "\n",
    "# Define the region using the raster’s bounding box:\n",
    "region_data = {\n",
    "    \"type\": \"locationPolygon\",\n",
    "    \"data\": rapid_utils.dataset_extent  # Automatically extracted extent in GeoJSON format\n",
    "}\n",
    "\n",
    "# Dynamically load and initialize RegionBoundary:\n",
    "region_boundary_class = importer.get_class(\"RegionBoundary\")\n",
    "region_boundary_object = region_boundary_class(region_data)\n"
   ]
  },
  {
   "cell_type": "markdown",
   "id": "e856e6da-8f85-4749-a7ed-bd4f265a2d46",
   "metadata": {},
   "source": [
    "## Step 3: Scrape Building Footprints from OpenStreetMap\n",
    "Using the `OSM_FootprintScraper`, we retrieve building footprints from OpenStreetMap (OSM) within the defined region. These footprints are used to automate the extraction of corresponding image tiles from the raster dataset. This step requires an active internet connection. If no buildings are found in the specified area, the scraper will return an empty inventory."
   ]
  },
  {
   "cell_type": "code",
   "execution_count": null,
   "id": "d5267973-aa90-4ec4-8135-a58cdf4c6767",
   "metadata": {},
   "outputs": [],
   "source": [
    "# Get the footprint scraper class from the importer:\n",
    "scraper_class = importer.get_class(\"OSM_FootprintScraper\")\n",
    "\n",
    "# Initialize the scraper (specifying that output units should be in feet):\n",
    "scraper = scraper_class({'length': 'ft'})\n",
    "\n",
    "# Scrape footprints in the specified region:\n",
    "scraper_inventory = scraper.get_footprints(region_boundary_object)\n"
   ]
  },
  {
   "cell_type": "markdown",
   "id": "ca391764-255b-41e1-a7f1-63cc3ceb0151",
   "metadata": {},
   "source": [
    "## Step 4: Extract Aerial Imagery with Overlaid Outlines\n",
    "Now that we have both the building footprints and the raster dataset, we can extract image patches centered on each building. Optionally, the outlines of the buildings can be overlaid on these image tiles by setting the `overlay_asset_outline` input argument to True. To obtain non-overlaid images, simply set this argument to `False`.\n",
    "\n",
    "After running this step, all cropped orthomosaic image tiles—one per building footprint—will be saved to the specified `output_dir`. The variable `image_set` holds an ImageSet object that contains metadata and references for the extracted images. Please note that the keys in `image_set` correspond directly to those in `scraper_inventory`, allowing you to trace each image back to its associated building footprint."
   ]
  },
  {
   "cell_type": "code",
   "execution_count": null,
   "id": "4ccea642-7669-4fcf-ba57-268d74b9a09f",
   "metadata": {},
   "outputs": [],
   "source": [
    "# Set the output directory for imagery:\n",
    "output_dir = 'images_raster_test/overlaid_imagery'\n",
    "\n",
    "# Extract imagery and overlay building outlines:\n",
    "image_set = rapid_utils.extract_aerial_imagery(\n",
    "    scraper_inventory,\n",
    "    output_dir,\n",
    "    overlay_asset_outline=True\n",
    ")"
   ]
  },
  {
   "cell_type": "markdown",
   "id": "4891268e-32e5-4728-8175-21bfe8321409",
   "metadata": {},
   "source": [
    "## Optional: View an Extracted Image"
   ]
  },
  {
   "cell_type": "code",
   "execution_count": null,
   "id": "b12f26f2-aa21-4b55-b134-f13f31f9b488",
   "metadata": {},
   "outputs": [],
   "source": [
    "# Display a random-selected extracted image:\n",
    "import random\n",
    "from pathlib import Path\n",
    "from IPython.display import Image as IPyImage, display\n",
    "\n",
    "# Display a random extracted image, if available:\n",
    "image_folder = Path(output_dir)\n",
    "\n",
    "if image_set.images:\n",
    "    random_image = random.choice(image_set.images)\n",
    "    image_path = image_folder / random_image.filename\n",
    "    display(IPyImage(filename=str(image_path)))"
   ]
  }
 ],
 "metadata": {
  "kernelspec": {
   "display_name": "Python 3 (ipykernel)",
   "language": "python",
   "name": "python3"
  },
  "language_info": {
   "codemirror_mode": {
    "name": "ipython",
    "version": 3
   },
   "file_extension": ".py",
   "mimetype": "text/x-python",
   "name": "python",
   "nbconvert_exporter": "python",
   "pygments_lexer": "ipython3",
   "version": "3.10.13"
  }
 },
 "nbformat": 4,
 "nbformat_minor": 5
}
