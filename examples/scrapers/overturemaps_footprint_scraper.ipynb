{
 "cells": [
  {
   "cell_type": "markdown",
   "id": "c4383b96-ba44-4e78-bbf2-351f08e38876",
   "metadata": {},
   "source": [
    "## Setup & Initialization"
   ]
  },
  {
   "cell_type": "code",
   "execution_count": null,
   "id": "d017ac39-753d-4dec-b4ff-01ad5ff906f8",
   "metadata": {},
   "outputs": [],
   "source": [
    "from brails import Importer"
   ]
  },
  {
   "cell_type": "markdown",
   "id": "178beaa0-5d7e-4d31-9b7f-2a67d6f11e68",
   "metadata": {},
   "source": [
    "## Step 1: Create a Region Boundary for Berkeley, CA\n",
    "\n",
    "The `Importer` utility dynamically loads supported data classes. In this step, we define a region boundary using a location name (Berkeley, CA). This boundary polygon will serve as the spatial filter for retrieving building footprints."
   ]
  },
  {
   "cell_type": "code",
   "execution_count": null,
   "id": "1c5f735c-de18-4cc5-8f58-e54525ec5e8c",
   "metadata": {},
   "outputs": [],
   "source": [
    "importer = Importer()\n",
    "\n",
    "region_data = {\"type\": \"locationName\", \"data\": \"Berkeley, CA\"}\n",
    "region_boundary_class = importer.get_class(\"RegionBoundary\")\n",
    "region_boundary_object = region_boundary_class(region_data)"
   ]
  },
  {
   "cell_type": "markdown",
   "id": "fc63a62f-d757-43fb-80e3-b5d6ba5c2606",
   "metadata": {},
   "source": [
    "## Step 2: Import OvertureMapsFootprintScraper and List Available Releases\n",
    "\n",
    "Next, we load the `OvertureMapsFootprintScraper` class using the `Importer` utility. This class allows retrieval of building footprints from Overture Maps. We can also list available Overture Maps releases to choose a specific dataset version."
   ]
  },
  {
   "cell_type": "code",
   "execution_count": null,
   "id": "d7c68e4c-5af3-4665-a70d-ad07d9d812f7",
   "metadata": {},
   "outputs": [],
   "source": [
    "scraper_class = importer.get_class(\"OvertureMapsFootprintScraper\")\n",
    "_ = scraper_class.fetch_release_names(print_releases=True) # Optional"
   ]
  },
  {
   "cell_type": "markdown",
   "id": "60091370-6a13-456e-89e0-da859974123a",
   "metadata": {},
   "source": [
    "## Step 3: Retrieve Building Footprints from Overture Maps\n",
    "\n",
    "We now create an instance of `OvertureMapsFootprintScraper` using a specific Overture Maps release.  Using the previously defined region boundary, we retrieve all building footprints within that area.\n",
    "\n",
    "**Note:** If no release is specified, the scraper will use the latest Overture Maps release by default."
   ]
  },
  {
   "cell_type": "code",
   "execution_count": null,
   "id": "2e8166ce-7456-4256-95b5-6d1a93944cbb",
   "metadata": {},
   "outputs": [],
   "source": [
    "scraper_object = scraper_class(input_dict={\"overtureRelease\": \"2024-07-22.0\"})\n",
    "inventory = scraper_object.get_footprints(region_boundary_object)"
   ]
  },
  {
   "cell_type": "markdown",
   "id": "85408f43-0ff0-40ea-9b85-56d69c504bd2",
   "metadata": {},
   "source": [
    "## Step 4: Save the Retrieved Building Footprints to a GeoJSON File\n",
    "\n",
    "After retrieving the building footprints, we can export the inventory to a GeoJSON file for further analysis or visualization."
   ]
  },
  {
   "cell_type": "code",
   "execution_count": null,
   "id": "0ea599fd-a03f-4c83-bfb6-a52abb082f2a",
   "metadata": {},
   "outputs": [],
   "source": [
    "_ = inventory.write_to_geojson(\"berkeley_buildings.geojson\")"
   ]
  }
 ],
 "metadata": {
  "kernelspec": {
   "display_name": "Python 3 (ipykernel)",
   "language": "python",
   "name": "python3"
  },
  "language_info": {
   "codemirror_mode": {
    "name": "ipython",
    "version": 3
   },
   "file_extension": ".py",
   "mimetype": "text/x-python",
   "name": "python",
   "nbconvert_exporter": "python",
   "pygments_lexer": "ipython3",
   "version": "3.10.13"
  }
 },
 "nbformat": 4,
 "nbformat_minor": 5
}
