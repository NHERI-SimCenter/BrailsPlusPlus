{
 "cells": [
  {
   "cell_type": "markdown",
   "id": "c4383b96-ba44-4e78-bbf2-351f08e38876",
   "metadata": {},
   "source": [
    "## Setup & Initialization"
   ]
  },
  {
   "cell_type": "code",
   "execution_count": 1,
   "id": "d017ac39-753d-4dec-b4ff-01ad5ff906f8",
   "metadata": {},
   "outputs": [],
   "source": [
    "from brails import Importer"
   ]
  },
  {
   "cell_type": "markdown",
   "id": "178beaa0-5d7e-4d31-9b7f-2a67d6f11e68",
   "metadata": {},
   "source": [
    "## Step 1: Create a Region Boundary for Berkeley, CA\n",
    "\n",
    "The `Importer` utility dynamically loads supported data classes. In this step, we define a region boundary using a location name (Berkeley, CA). This boundary polygon will serve as the spatial filter for retrieving building footprints."
   ]
  },
  {
   "cell_type": "code",
   "execution_count": 2,
   "id": "1c5f735c-de18-4cc5-8f58-e54525ec5e8c",
   "metadata": {},
   "outputs": [],
   "source": [
    "importer = Importer()\n",
    "\n",
    "region_data = {\"type\": \"locationName\", \"data\": \"Berkeley, CA\"}\n",
    "region_boundary_class = importer.get_class(\"RegionBoundary\")\n",
    "region_boundary_object = region_boundary_class(region_data)"
   ]
  },
  {
   "cell_type": "markdown",
   "id": "fc63a62f-d757-43fb-80e3-b5d6ba5c2606",
   "metadata": {},
   "source": [
    "## Step 2: Import OvertureMapsFootprintScraper and List Available Releases\n",
    "\n",
    "Next, we load the `OvertureMapsFootprintScraper` class using the `Importer` utility. This class allows retrieval of building footprints from Overture Maps. We can also list available Overture Maps releases to choose a specific dataset version."
   ]
  },
  {
   "cell_type": "code",
   "execution_count": 3,
   "id": "d7c68e4c-5af3-4665-a70d-ad07d9d812f7",
   "metadata": {},
   "outputs": [
    {
     "name": "stdout",
     "output_type": "stream",
     "text": [
      "Available releases:\n",
      "  - 2025-06-25.0\n",
      "  - 2025-05-21.0\n",
      "  - 2025-04-23.0\n",
      "  - 2025-03-19.1\n",
      "  - 2025-03-19.0\n",
      "  - 2025-02-19.0\n",
      "  - 2025-01-22.0\n",
      "  - 2024-12-18.0\n",
      "  - 2024-11-13.0\n",
      "  - 2024-10-23.0\n",
      "  - 2024-09-18.0\n",
      "  - 2024-08-20.0\n",
      "  - 2024-07-22.0\n",
      "  - 2024-06-13-beta.1\n",
      "  - 2024-06-13-beta.0\n",
      "  - 2024-05-16-beta.0\n",
      "  - 2024-04-16-beta.0\n",
      "  - 2024-03-12-alpha.0\n",
      "  - 2024-02-15-alpha.0\n",
      "  - 2024-01-17-alpha.0\n",
      "  - 2023-12-14-alpha.0\n",
      "  - 2023-11-14-alpha.0\n",
      "  - 2023-10-19-alpha.0\n",
      "  - 2023-07-26-alpha.0\n"
     ]
    }
   ],
   "source": [
    "scraper_class = importer.get_class(\"OvertureMapsFootprintScraper\")\n",
    "_ = scraper_class.fetch_release_names(print_releases=True) # Optional"
   ]
  },
  {
   "cell_type": "markdown",
   "id": "60091370-6a13-456e-89e0-da859974123a",
   "metadata": {},
   "source": [
    "## Step 3: Retrieve Building Footprints from Overture Maps\n",
    "\n",
    "We now create an instance of `OvertureMapsFootprintScraper` using a specific Overture Maps release.  Using the previously defined region boundary, we retrieve all building footprints within that area.\n",
    "\n",
    "**Note:** If no release is specified, the scraper will use the latest Overture Maps release by default."
   ]
  },
  {
   "cell_type": "code",
   "execution_count": 4,
   "id": "2e8166ce-7456-4256-95b5-6d1a93944cbb",
   "metadata": {},
   "outputs": [
    {
     "name": "stdout",
     "output_type": "stream",
     "text": [
      "No length unit specified. Using default: 'ft'.\n",
      "No weight unit specified. Using default: 'lb'.\n",
      "\n",
      "Searching for Berkeley, CA...\n",
      "Found Berkeley, Alameda County, California, United States\n"
     ]
    },
    {
     "name": "stderr",
     "output_type": "stream",
     "text": [
      "Reading dataset batches: 339it [00:34,  9.88it/s]\n",
      "Reading dataset batches: 12it [00:01,  6.93it/s]\n"
     ]
    },
    {
     "name": "stdout",
     "output_type": "stream",
     "text": [
      "\n",
      "Finding the assets within the specified area...\n",
      "\n",
      "Found a total of 36181 assets within the specified area.\n"
     ]
    }
   ],
   "source": [
    "scraper_object = scraper_class(input_dict={\"overtureRelease\": \"2024-07-22.0\"})\n",
    "inventory = scraper_object.get_footprints(region_boundary_object)"
   ]
  },
  {
   "cell_type": "markdown",
   "id": "85408f43-0ff0-40ea-9b85-56d69c504bd2",
   "metadata": {},
   "source": [
    "## Step 4: Save the Retrieved Building Footprints to a GeoJSON File\n",
    "\n",
    "After retrieving the building footprints, we can export the inventory to a GeoJSON file for further analysis or visualization."
   ]
  },
  {
   "cell_type": "code",
   "execution_count": 6,
   "id": "0ea599fd-a03f-4c83-bfb6-a52abb082f2a",
   "metadata": {},
   "outputs": [
    {
     "name": "stdout",
     "output_type": "stream",
     "text": [
      "Wrote 36181 assets to /home/bacetiner/Documents/BrailsPlusPlus/examples/scrapers/berkeley_buildings.geojson\n"
     ]
    }
   ],
   "source": [
    "_ = inventory.write_to_geojson(\"berkeley_buildings.geojson\")"
   ]
  }
 ],
 "metadata": {
  "kernelspec": {
   "display_name": "Python 3 (ipykernel)",
   "language": "python",
   "name": "python3"
  },
  "language_info": {
   "codemirror_mode": {
    "name": "ipython",
    "version": 3
   },
   "file_extension": ".py",
   "mimetype": "text/x-python",
   "name": "python",
   "nbconvert_exporter": "python",
   "pygments_lexer": "ipython3",
   "version": "3.10.13"
  }
 },
 "nbformat": 4,
 "nbformat_minor": 5
}
