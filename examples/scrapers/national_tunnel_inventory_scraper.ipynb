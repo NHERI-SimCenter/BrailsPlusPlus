{
 "cells": [
  {
   "cell_type": "markdown",
   "id": "02ed785e-0c5f-414e-a297-6474b254ec80",
   "metadata": {},
   "source": [
    "## Step 0: Install BRAILS++\n",
    "To install BRAILS++ directly from PyPI, run the following cell. The leading `!` indicates that the command should be executed in the system shell (terminal) rather than as Python code."
   ]
  },
  {
   "cell_type": "code",
   "execution_count": 1,
   "id": "e942d981-0501-40cd-ae29-56b49864ac3c",
   "metadata": {},
   "outputs": [
    {
     "name": "stdout",
     "output_type": "stream",
     "text": [
      "Requirement already satisfied: brails in /home/bacetiner/anaconda3/envs/brails-test/lib/python3.9/site-packages (4.1.4)\n",
      "Requirement already satisfied: addict in /home/bacetiner/anaconda3/envs/brails-test/lib/python3.9/site-packages (from brails) (2.4.0)\n",
      "Requirement already satisfied: Cython in /home/bacetiner/anaconda3/envs/brails-test/lib/python3.9/site-packages (from brails) (3.1.4)\n",
      "Requirement already satisfied: ftfy in /home/bacetiner/anaconda3/envs/brails-test/lib/python3.9/site-packages (from brails) (6.3.1)\n",
      "Requirement already satisfied: matplotlib in /home/bacetiner/anaconda3/envs/brails-test/lib/python3.9/site-packages (from brails) (3.9.4)\n",
      "Requirement already satisfied: opencv-python in /home/bacetiner/anaconda3/envs/brails-test/lib/python3.9/site-packages (from brails) (4.11.0.86)\n",
      "Requirement already satisfied: pandas in /home/bacetiner/anaconda3/envs/brails-test/lib/python3.9/site-packages (from brails) (2.3.3)\n",
      "Requirement already satisfied: pillow in /home/bacetiner/anaconda3/envs/brails-test/lib/python3.9/site-packages (from brails) (11.3.0)\n",
      "Requirement already satisfied: plotly in /home/bacetiner/anaconda3/envs/brails-test/lib/python3.9/site-packages (from brails) (6.3.0)\n",
      "Requirement already satisfied: pycocotools in /home/bacetiner/anaconda3/envs/brails-test/lib/python3.9/site-packages (from brails) (2.0.10)\n",
      "Requirement already satisfied: pyarrow in /home/bacetiner/anaconda3/envs/brails-test/lib/python3.9/site-packages (from brails) (21.0.0)\n",
      "Requirement already satisfied: rasterio in /home/bacetiner/anaconda3/envs/brails-test/lib/python3.9/site-packages (from brails) (1.4.3)\n",
      "Requirement already satisfied: reverse-geocode in /home/bacetiner/anaconda3/envs/brails-test/lib/python3.9/site-packages (from brails) (1.6.6)\n",
      "Requirement already satisfied: requests in /home/bacetiner/anaconda3/envs/brails-test/lib/python3.9/site-packages (from brails) (2.32.5)\n",
      "Requirement already satisfied: scikit-learn in /home/bacetiner/anaconda3/envs/brails-test/lib/python3.9/site-packages (from brails) (1.6.1)\n",
      "Requirement already satisfied: seaborn in /home/bacetiner/anaconda3/envs/brails-test/lib/python3.9/site-packages (from brails) (0.13.2)\n",
      "Requirement already satisfied: shapely in /home/bacetiner/anaconda3/envs/brails-test/lib/python3.9/site-packages (from brails) (2.0.7)\n",
      "Requirement already satisfied: supervision in /home/bacetiner/anaconda3/envs/brails-test/lib/python3.9/site-packages (from brails) (0.26.1)\n",
      "Requirement already satisfied: numpy<2.0 in /home/bacetiner/anaconda3/envs/brails-test/lib/python3.9/site-packages (from brails) (1.26.4)\n",
      "Requirement already satisfied: timm in /home/bacetiner/anaconda3/envs/brails-test/lib/python3.9/site-packages (from brails) (1.0.20)\n",
      "Requirement already satisfied: tensorboard in /home/bacetiner/anaconda3/envs/brails-test/lib/python3.9/site-packages (from brails) (2.20.0)\n",
      "Requirement already satisfied: tensorboardX in /home/bacetiner/anaconda3/envs/brails-test/lib/python3.9/site-packages (from brails) (2.6.4)\n",
      "Requirement already satisfied: torch<=2.5.0 in /home/bacetiner/anaconda3/envs/brails-test/lib/python3.9/site-packages (from brails) (2.5.0)\n",
      "Requirement already satisfied: torchvision<=0.20.0 in /home/bacetiner/anaconda3/envs/brails-test/lib/python3.9/site-packages (from brails) (0.20.0)\n",
      "Requirement already satisfied: transformers in /home/bacetiner/anaconda3/envs/brails-test/lib/python3.9/site-packages (from brails) (4.56.2)\n",
      "Requirement already satisfied: wget in /home/bacetiner/anaconda3/envs/brails-test/lib/python3.9/site-packages (from brails) (3.2)\n",
      "Requirement already satisfied: yacs in /home/bacetiner/anaconda3/envs/brails-test/lib/python3.9/site-packages (from brails) (0.1.8)\n",
      "Requirement already satisfied: webcolors in /home/bacetiner/anaconda3/envs/brails-test/lib/python3.9/site-packages (from brails) (24.11.1)\n",
      "Requirement already satisfied: yapf in /home/bacetiner/anaconda3/envs/brails-test/lib/python3.9/site-packages (from brails) (0.43.0)\n",
      "Requirement already satisfied: filelock in /home/bacetiner/anaconda3/envs/brails-test/lib/python3.9/site-packages (from torch<=2.5.0->brails) (3.19.1)\n",
      "Requirement already satisfied: typing-extensions>=4.8.0 in /home/bacetiner/anaconda3/envs/brails-test/lib/python3.9/site-packages (from torch<=2.5.0->brails) (4.15.0)\n",
      "Requirement already satisfied: networkx in /home/bacetiner/anaconda3/envs/brails-test/lib/python3.9/site-packages (from torch<=2.5.0->brails) (3.2.1)\n",
      "Requirement already satisfied: jinja2 in /home/bacetiner/anaconda3/envs/brails-test/lib/python3.9/site-packages (from torch<=2.5.0->brails) (3.1.6)\n",
      "Requirement already satisfied: fsspec in /home/bacetiner/anaconda3/envs/brails-test/lib/python3.9/site-packages (from torch<=2.5.0->brails) (2025.9.0)\n",
      "Requirement already satisfied: nvidia-cuda-nvrtc-cu12==12.4.127 in /home/bacetiner/anaconda3/envs/brails-test/lib/python3.9/site-packages (from torch<=2.5.0->brails) (12.4.127)\n",
      "Requirement already satisfied: nvidia-cuda-runtime-cu12==12.4.127 in /home/bacetiner/anaconda3/envs/brails-test/lib/python3.9/site-packages (from torch<=2.5.0->brails) (12.4.127)\n",
      "Requirement already satisfied: nvidia-cuda-cupti-cu12==12.4.127 in /home/bacetiner/anaconda3/envs/brails-test/lib/python3.9/site-packages (from torch<=2.5.0->brails) (12.4.127)\n",
      "Requirement already satisfied: nvidia-cudnn-cu12==9.1.0.70 in /home/bacetiner/anaconda3/envs/brails-test/lib/python3.9/site-packages (from torch<=2.5.0->brails) (9.1.0.70)\n",
      "Requirement already satisfied: nvidia-cublas-cu12==12.4.5.8 in /home/bacetiner/anaconda3/envs/brails-test/lib/python3.9/site-packages (from torch<=2.5.0->brails) (12.4.5.8)\n",
      "Requirement already satisfied: nvidia-cufft-cu12==11.2.1.3 in /home/bacetiner/anaconda3/envs/brails-test/lib/python3.9/site-packages (from torch<=2.5.0->brails) (11.2.1.3)\n",
      "Requirement already satisfied: nvidia-curand-cu12==10.3.5.147 in /home/bacetiner/anaconda3/envs/brails-test/lib/python3.9/site-packages (from torch<=2.5.0->brails) (10.3.5.147)\n",
      "Requirement already satisfied: nvidia-cusolver-cu12==11.6.1.9 in /home/bacetiner/anaconda3/envs/brails-test/lib/python3.9/site-packages (from torch<=2.5.0->brails) (11.6.1.9)\n",
      "Requirement already satisfied: nvidia-cusparse-cu12==12.3.1.170 in /home/bacetiner/anaconda3/envs/brails-test/lib/python3.9/site-packages (from torch<=2.5.0->brails) (12.3.1.170)\n",
      "Requirement already satisfied: nvidia-nccl-cu12==2.21.5 in /home/bacetiner/anaconda3/envs/brails-test/lib/python3.9/site-packages (from torch<=2.5.0->brails) (2.21.5)\n",
      "Requirement already satisfied: nvidia-nvtx-cu12==12.4.127 in /home/bacetiner/anaconda3/envs/brails-test/lib/python3.9/site-packages (from torch<=2.5.0->brails) (12.4.127)\n",
      "Requirement already satisfied: nvidia-nvjitlink-cu12==12.4.127 in /home/bacetiner/anaconda3/envs/brails-test/lib/python3.9/site-packages (from torch<=2.5.0->brails) (12.4.127)\n",
      "Requirement already satisfied: triton==3.1.0 in /home/bacetiner/anaconda3/envs/brails-test/lib/python3.9/site-packages (from torch<=2.5.0->brails) (3.1.0)\n",
      "Requirement already satisfied: sympy==1.13.1 in /home/bacetiner/anaconda3/envs/brails-test/lib/python3.9/site-packages (from torch<=2.5.0->brails) (1.13.1)\n",
      "Requirement already satisfied: mpmath<1.4,>=1.1.0 in /home/bacetiner/anaconda3/envs/brails-test/lib/python3.9/site-packages (from sympy==1.13.1->torch<=2.5.0->brails) (1.3.0)\n",
      "Requirement already satisfied: wcwidth in /home/bacetiner/anaconda3/envs/brails-test/lib/python3.9/site-packages (from ftfy->brails) (0.2.13)\n",
      "Requirement already satisfied: MarkupSafe>=2.0 in /home/bacetiner/anaconda3/envs/brails-test/lib/python3.9/site-packages (from jinja2->torch<=2.5.0->brails) (3.0.2)\n",
      "Requirement already satisfied: contourpy>=1.0.1 in /home/bacetiner/anaconda3/envs/brails-test/lib/python3.9/site-packages (from matplotlib->brails) (1.3.0)\n",
      "Requirement already satisfied: cycler>=0.10 in /home/bacetiner/anaconda3/envs/brails-test/lib/python3.9/site-packages (from matplotlib->brails) (0.12.1)\n",
      "Requirement already satisfied: fonttools>=4.22.0 in /home/bacetiner/anaconda3/envs/brails-test/lib/python3.9/site-packages (from matplotlib->brails) (4.60.1)\n",
      "Requirement already satisfied: kiwisolver>=1.3.1 in /home/bacetiner/anaconda3/envs/brails-test/lib/python3.9/site-packages (from matplotlib->brails) (1.4.7)\n",
      "Requirement already satisfied: packaging>=20.0 in /home/bacetiner/anaconda3/envs/brails-test/lib/python3.9/site-packages (from matplotlib->brails) (25.0)\n",
      "Requirement already satisfied: pyparsing>=2.3.1 in /home/bacetiner/anaconda3/envs/brails-test/lib/python3.9/site-packages (from matplotlib->brails) (3.2.5)\n",
      "Requirement already satisfied: python-dateutil>=2.7 in /home/bacetiner/anaconda3/envs/brails-test/lib/python3.9/site-packages (from matplotlib->brails) (2.9.0.post0)\n",
      "Requirement already satisfied: importlib-resources>=3.2.0 in /home/bacetiner/anaconda3/envs/brails-test/lib/python3.9/site-packages (from matplotlib->brails) (6.5.2)\n",
      "Requirement already satisfied: zipp>=3.1.0 in /home/bacetiner/anaconda3/envs/brails-test/lib/python3.9/site-packages (from importlib-resources>=3.2.0->matplotlib->brails) (3.21.0)\n",
      "Requirement already satisfied: six>=1.5 in /home/bacetiner/anaconda3/envs/brails-test/lib/python3.9/site-packages (from python-dateutil>=2.7->matplotlib->brails) (1.17.0)\n",
      "Requirement already satisfied: pytz>=2020.1 in /home/bacetiner/anaconda3/envs/brails-test/lib/python3.9/site-packages (from pandas->brails) (2025.2)\n",
      "Requirement already satisfied: tzdata>=2022.7 in /home/bacetiner/anaconda3/envs/brails-test/lib/python3.9/site-packages (from pandas->brails) (2025.2)\n",
      "Requirement already satisfied: narwhals>=1.15.1 in /home/bacetiner/anaconda3/envs/brails-test/lib/python3.9/site-packages (from plotly->brails) (2.6.0)\n",
      "Requirement already satisfied: affine in /home/bacetiner/anaconda3/envs/brails-test/lib/python3.9/site-packages (from rasterio->brails) (2.4.0)\n",
      "Requirement already satisfied: attrs in /home/bacetiner/anaconda3/envs/brails-test/lib/python3.9/site-packages (from rasterio->brails) (24.3.0)\n",
      "Requirement already satisfied: certifi in /home/bacetiner/anaconda3/envs/brails-test/lib/python3.9/site-packages (from rasterio->brails) (2025.8.3)\n",
      "Requirement already satisfied: click>=4.0 in /home/bacetiner/anaconda3/envs/brails-test/lib/python3.9/site-packages (from rasterio->brails) (8.1.8)\n",
      "Requirement already satisfied: cligj>=0.5 in /home/bacetiner/anaconda3/envs/brails-test/lib/python3.9/site-packages (from rasterio->brails) (0.7.2)\n",
      "Requirement already satisfied: importlib-metadata in /home/bacetiner/anaconda3/envs/brails-test/lib/python3.9/site-packages (from rasterio->brails) (8.5.0)\n",
      "Requirement already satisfied: click-plugins in /home/bacetiner/anaconda3/envs/brails-test/lib/python3.9/site-packages (from rasterio->brails) (1.1.1.2)\n",
      "Requirement already satisfied: charset_normalizer<4,>=2 in /home/bacetiner/anaconda3/envs/brails-test/lib/python3.9/site-packages (from requests->brails) (3.3.2)\n",
      "Requirement already satisfied: idna<4,>=2.5 in /home/bacetiner/anaconda3/envs/brails-test/lib/python3.9/site-packages (from requests->brails) (3.7)\n",
      "Requirement already satisfied: urllib3<3,>=1.21.1 in /home/bacetiner/anaconda3/envs/brails-test/lib/python3.9/site-packages (from requests->brails) (2.5.0)\n",
      "Requirement already satisfied: scipy in /home/bacetiner/anaconda3/envs/brails-test/lib/python3.9/site-packages (from reverse-geocode->brails) (1.13.1)\n",
      "Requirement already satisfied: joblib>=1.2.0 in /home/bacetiner/anaconda3/envs/brails-test/lib/python3.9/site-packages (from scikit-learn->brails) (1.5.2)\n",
      "Requirement already satisfied: threadpoolctl>=3.1.0 in /home/bacetiner/anaconda3/envs/brails-test/lib/python3.9/site-packages (from scikit-learn->brails) (3.6.0)\n",
      "Requirement already satisfied: pyyaml>=5.3 in /home/bacetiner/anaconda3/envs/brails-test/lib/python3.9/site-packages (from supervision->brails) (6.0.2)\n",
      "Requirement already satisfied: defusedxml>=0.7.1 in /home/bacetiner/anaconda3/envs/brails-test/lib/python3.9/site-packages (from supervision->brails) (0.7.1)\n",
      "Requirement already satisfied: tqdm>=4.62.3 in /home/bacetiner/anaconda3/envs/brails-test/lib/python3.9/site-packages (from supervision->brails) (4.67.1)\n",
      "Requirement already satisfied: absl-py>=0.4 in /home/bacetiner/anaconda3/envs/brails-test/lib/python3.9/site-packages (from tensorboard->brails) (2.3.1)\n",
      "Requirement already satisfied: grpcio>=1.48.2 in /home/bacetiner/anaconda3/envs/brails-test/lib/python3.9/site-packages (from tensorboard->brails) (1.75.1)\n",
      "Requirement already satisfied: markdown>=2.6.8 in /home/bacetiner/anaconda3/envs/brails-test/lib/python3.9/site-packages (from tensorboard->brails) (3.9)\n",
      "Requirement already satisfied: protobuf!=4.24.0,>=3.19.6 in /home/bacetiner/anaconda3/envs/brails-test/lib/python3.9/site-packages (from tensorboard->brails) (6.32.1)\n",
      "Requirement already satisfied: setuptools>=41.0.0 in /home/bacetiner/anaconda3/envs/brails-test/lib/python3.9/site-packages (from tensorboard->brails) (78.1.1)\n",
      "Requirement already satisfied: tensorboard-data-server<0.8.0,>=0.7.0 in /home/bacetiner/anaconda3/envs/brails-test/lib/python3.9/site-packages (from tensorboard->brails) (0.7.2)\n",
      "Requirement already satisfied: werkzeug>=1.0.1 in /home/bacetiner/anaconda3/envs/brails-test/lib/python3.9/site-packages (from tensorboard->brails) (3.1.3)\n",
      "Requirement already satisfied: huggingface_hub in /home/bacetiner/anaconda3/envs/brails-test/lib/python3.9/site-packages (from timm->brails) (0.35.3)\n",
      "Requirement already satisfied: safetensors in /home/bacetiner/anaconda3/envs/brails-test/lib/python3.9/site-packages (from timm->brails) (0.6.2)\n",
      "Requirement already satisfied: hf-xet<2.0.0,>=1.1.3 in /home/bacetiner/anaconda3/envs/brails-test/lib/python3.9/site-packages (from huggingface_hub->timm->brails) (1.1.10)\n",
      "Requirement already satisfied: regex!=2019.12.17 in /home/bacetiner/anaconda3/envs/brails-test/lib/python3.9/site-packages (from transformers->brails) (2025.9.18)\n",
      "Requirement already satisfied: tokenizers<=0.23.0,>=0.22.0 in /home/bacetiner/anaconda3/envs/brails-test/lib/python3.9/site-packages (from transformers->brails) (0.22.1)\n",
      "Requirement already satisfied: platformdirs>=3.5.1 in /home/bacetiner/anaconda3/envs/brails-test/lib/python3.9/site-packages (from yapf->brails) (4.3.7)\n",
      "Requirement already satisfied: tomli>=2.0.1 in /home/bacetiner/anaconda3/envs/brails-test/lib/python3.9/site-packages (from yapf->brails) (2.2.1)\n"
     ]
    }
   ],
   "source": [
    "!pip install brails"
   ]
  },
  {
   "cell_type": "markdown",
   "id": "c0e3750e-9d73-4472-a466-553437c18db8",
   "metadata": {},
   "source": [
    "## Step 1: Import the Importer utility\n",
    "This utility is used to dynamically load different classes available in BRAILS++."
   ]
  },
  {
   "cell_type": "code",
   "execution_count": 2,
   "id": "b86aeae7-f761-441c-b57f-003cb200dd91",
   "metadata": {},
   "outputs": [],
   "source": [
    "from brails.utils import Importer"
   ]
  },
  {
   "cell_type": "markdown",
   "id": "86d19a87-dd69-43f9-a16b-91f4c9045499",
   "metadata": {},
   "source": [
    "## Step 2: Define Target Location and Output File Paths\n",
    "In this step, we define the geographic area of interest and specify where the output file will be saved.\n",
    "\n",
    "- `LOCATION_TYPE`: Specifies the type of location input. Accepted values are `'locationName'` or `'locationPolygon'`. Since we are providing a location name, we set this to `'locationName'`.  \n",
    "- `LOCATION_NAME`: This is the name of the location for which tunnel data will be retrieved. In this example, it is Los Angeles County, CA.\n",
    "- `INVENTORY_OUTPUT`: The file path where the processed tunnel inventory will be saved. The output is stored in GeoJSON format, a widely adopted standard for geospatial vector data.  "
   ]
  },
  {
   "cell_type": "code",
   "execution_count": 3,
   "id": "cab2d2c9-564d-472e-b9bc-f47dce0dcc89",
   "metadata": {},
   "outputs": [],
   "source": [
    "LOCATION_TYPE = 'locationName'\n",
    "LOCATION_BBOX = 'Los Angeles County, CA'\n",
    "INVENTORY_OUTPUT = 'LA_tunnels.geojson'"
   ]
  },
  {
   "cell_type": "markdown",
   "id": "6ddc84bc-3aa1-446f-b6f5-5dbf9f1fbd3a",
   "metadata": {},
   "source": [
    "## Step 3: Create an Instance of the Importer to Dynamically Load BRAILS++ Modules"
   ]
  },
  {
   "cell_type": "code",
   "execution_count": 4,
   "id": "59aa8489-cfa4-4721-846b-853dea089aff",
   "metadata": {},
   "outputs": [],
   "source": [
    "importer = Importer()"
   ]
  },
  {
   "cell_type": "markdown",
   "id": "b8545a55-90a9-4694-b584-de1fc1ef3d0b",
   "metadata": {},
   "source": [
    "## Step 4: Create a Region Boundary Object from the Location Bounding Box\n",
    "\n",
    "In this step, we establish the geographic boundary for the analysis using the previously defined bounding box coordinates.  \n",
    "\n",
    "- A dictionary named `region_data` is constructed, containing the location input type (from `LOCATION_TYPE`) and its coordinates (from `LOCATION_BBOX`).  \n",
    "- The `RegionBoundary` class is dynamically loaded via the `importer` utility.  \n",
    "- A region boundary object is then instantiated with the location data. This object will later be used to get tunnel data within the specified geographic extent.  "
   ]
  },
  {
   "cell_type": "code",
   "execution_count": 5,
   "id": "c0f9c320-7da3-4b70-9224-cf53ada72801",
   "metadata": {},
   "outputs": [],
   "source": [
    "region_data = {'type': LOCATION_TYPE, 'data': LOCATION_BBOX}\n",
    "\n",
    "region_boundary_class = importer.get_class('RegionBoundary')\n",
    "region_boundary_object = region_boundary_class(region_data)"
   ]
  },
  {
   "cell_type": "markdown",
   "id": "a147d7ad-e1ce-49bd-baf6-abf8ac5d8dee",
   "metadata": {},
   "source": [
    "## Step 5: Retrieve Tunnel Data from the National Tunnel Inventory (NTI)\n",
    "In this step, we load and use the `NTIScraper` class to get the data for the tunnels in the defined region.\n",
    "\n",
    "- The `NTIScraper` class is dynamically imported using the `importer` utility.\n",
    "- An instance of the class is created to interface with the NTI database.\n",
    "- The `get_assets()` method is called with the `region_boundary_object` as input, which returns the tunnel inventory data for the specified location."
   ]
  },
  {
   "cell_type": "code",
   "execution_count": 7,
   "id": "d133ec2f-7822-467c-9850-3b820277cae4",
   "metadata": {},
   "outputs": [
    {
     "name": "stdout",
     "output_type": "stream",
     "text": [
      "No length unit specified. Using default: 'ft'.\n",
      "No weight unit specified. Using default: 'lb'.\n",
      "\n",
      "Searching for Los Angeles County, CA...\n",
      "Found Los Angeles County, California, United States\n",
      "\n",
      "Meshing the defined area...\n",
      "\n",
      "Meshing complete. Covered Los Angeles County with a single rectangular cell.\n"
     ]
    },
    {
     "name": "stderr",
     "output_type": "stream",
     "text": [
      "Obtaining the attributes of tunnels in each cell: 100%|███████████████████████████████████████████████████████████████████| 1/1 [00:00<00:00,  3.63it/s]\n"
     ]
    },
    {
     "name": "stdout",
     "output_type": "stream",
     "text": [
      "\n",
      "Searching for Los Angeles County, CA...\n",
      "Found Los Angeles County, California, United States\n",
      "\n",
      "Found a total of 42 tunnels.\n"
     ]
    }
   ],
   "source": [
    "nti_scraper = importer.get_class('NTIScraper')()\n",
    "nti_inventory = nti_scraper.get_assets(region_boundary_object)"
   ]
  },
  {
   "cell_type": "markdown",
   "id": "8e075ad2-4825-4154-8cb6-ed9bacaeb3de",
   "metadata": {},
   "source": [
    "## Step 6: Save the Retrieved Tunnel Data to a GeoJSON File\n",
    "After retrieving the tunnel data from NTI, we can export the inventory to a GeoJSON file for further analysis or visualization."
   ]
  },
  {
   "cell_type": "code",
   "execution_count": 8,
   "id": "4fa0c187-3a2f-4a23-b378-882ea541172f",
   "metadata": {},
   "outputs": [
    {
     "name": "stdout",
     "output_type": "stream",
     "text": [
      "Wrote 42 assets to /home/bacetiner/Documents/BrailsPlusPlus/examples/scrapers/LA_tunnels.geojson\n"
     ]
    }
   ],
   "source": [
    "_ = nti_inventory.write_to_geojson(INVENTORY_OUTPUT)"
   ]
  }
 ],
 "metadata": {
  "kernelspec": {
   "display_name": "Python 3 (ipykernel)",
   "language": "python",
   "name": "python3"
  },
  "language_info": {
   "codemirror_mode": {
    "name": "ipython",
    "version": 3
   },
   "file_extension": ".py",
   "mimetype": "text/x-python",
   "name": "python",
   "nbconvert_exporter": "python",
   "pygments_lexer": "ipython3",
   "version": "3.9.23"
  }
 },
 "nbformat": 4,
 "nbformat_minor": 5
}
