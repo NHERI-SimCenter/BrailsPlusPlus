{
 "cells": [
  {
   "cell_type": "markdown",
   "id": "0fe170df-5fc6-4a32-8257-ac046aebcf81",
   "metadata": {},
   "source": [
    "## Step 1: Import the Importer utility\n",
    "This utility is used to dynamically load different classes available in BRAILS"
   ]
  },
  {
   "cell_type": "code",
   "execution_count": null,
   "id": "f0a79a92-331c-431d-8fff-c16ec0c7ef58",
   "metadata": {},
   "outputs": [],
   "source": [
    "from brails.utils import Importer"
   ]
  },
  {
   "cell_type": "markdown",
   "id": "2a6baf15-048d-42b5-b50b-eb56a7e416c6",
   "metadata": {},
   "source": [
    "## Step 2: Define Target Location and Output File Paths\n",
    "In this step, we define the geographic area of interest and specify where the output files will be saved.\n",
    "\n",
    "- `LOCATION_NAME`: This is the name of the location for which we want to retrieve and analyze building and elevation data. In this case, it's Fort Myers Beach, FL.\n",
    "- `INVENTORY_OUTPUT`: This is the path to the file where the processed building inventory augmented with elevation information will be stored. The output format is GeoJSON, which is widely used for storing geospatial vector data.\n",
    "- `ELEVATION_SURFACE_OUTPUT`: This defines the file path for storing the elevation surface data of the entire region. This file will include a gridded or interpolated representation of elevation across the study area, which may be useful for visualizations or further spatial analysis."
   ]
  },
  {
   "cell_type": "code",
   "execution_count": null,
   "id": "1eeffc3d-f08d-4472-a18e-75a3fab5fc19",
   "metadata": {},
   "outputs": [],
   "source": [
    "LOCATION_NAME = 'Fort Myers Beach, FL'\n",
    "INVENTORY_OUTPUT = 'FortMyersInventory_Elevation.geojson'\n",
    "ELEVATION_SURFACE_OUTPUT = 'FortMyersElevationSurface.geojson'"
   ]
  },
  {
   "cell_type": "markdown",
   "id": "11e7c8ae-3747-41c7-bea0-ebd550c61a0a",
   "metadata": {},
   "source": [
    "## Step 3: Create an instance of the Importer to dynamically load classes from BRAILS++"
   ]
  },
  {
   "cell_type": "code",
   "execution_count": null,
   "id": "6eeb6d13-49a6-44ae-ba68-02a200624b5a",
   "metadata": {},
   "outputs": [],
   "source": [
    "importer = Importer()"
   ]
  },
  {
   "cell_type": "markdown",
   "id": "264a363c-1147-4994-ab92-d8418651cacf",
   "metadata": {},
   "source": [
    "## Step 4: Create a Region Boundary Object from the Location Name\n",
    "In this step, we define the geographic boundary for the analysis based on the provided location name.\n",
    "\n",
    "- A dictionary called `region_data` is created to specify the input type (`\"locationName\"`) and the actual location (`LOCATION_NAME`), which was defined earlier.\n",
    "- We dynamically load the appropriate class (`RegionBoundary`) using the `importer` utility.\n",
    "- We then instantiate a region boundary object using the location data. This object will later be used to extract building and elevation data within the defined geographic extent."
   ]
  },
  {
   "cell_type": "code",
   "execution_count": null,
   "id": "7aec6457-f079-4574-a7ab-c4ad9dbc8ff3",
   "metadata": {},
   "outputs": [],
   "source": [
    "region_data = {\"type\": \"locationName\", \"data\": LOCATION_NAME}\n",
    "region_boundary_class = importer.get_class(\"RegionBoundary\")\n",
    "region_boundary_object = region_boundary_class(region_data)"
   ]
  },
  {
   "cell_type": "markdown",
   "id": "5b874229-b4e7-44ea-b9db-48400e9a4501",
   "metadata": {},
   "source": [
    "## Step 5: Retrieve Building Inventory from the National Structure Inventory (NSI)\n",
    "In this step, we load and use the `NSI_Parser` class to extract building inventory data for the defined region.\n",
    "\n",
    "- The `NSI_Parser` class is dynamically imported using the `importer` utility.\n",
    "- An instance of the class is created to interface with the National Structure Inventory (NSI) database.\n",
    "- The `get_raw_data()` method is called with the `region_boundary_object` as input, which returns the raw building inventory data for the specified location."
   ]
  },
  {
   "cell_type": "code",
   "execution_count": null,
   "id": "ee6e99ae-20ef-4ba1-a885-045bcafe6fc8",
   "metadata": {},
   "outputs": [],
   "source": [
    "nsi_scraper = importer.get_class('NSI_Parser')()\n",
    "nsi_inventory = nsi_scraper.get_raw_data(region_boundary_object)"
   ]
  },
  {
   "cell_type": "markdown",
   "id": "ef5a448f-bfb6-4d99-b76e-f94e1234f112",
   "metadata": {},
   "source": [
    "## Step 6: Retrieve Building Footprints from OpenStreetMap Using the `USA_FootprintScraper`\n",
    "In this step, we use the `USA_FootprintScraper` class to extract building footprints from OpenStreetMap (OSM) for the specified region.\n",
    "\n",
    "- The scraper is initialized with units set to feet (`'ft'`), which will be used for any length-related measurements.\n",
    "- The `get_footprints()` method is called with the `region_boundary_object`, enabling the extraction of building footprint geometries (e.g., polygons) that fall within the region."
   ]
  },
  {
   "cell_type": "code",
   "execution_count": null,
   "id": "10fbc7fb-5447-48c6-8e6a-e9ab091bec9c",
   "metadata": {},
   "outputs": [],
   "source": [
    "fema_usa_scraper = importer.get_class('USA_FootprintScraper')({'length': 'ft'})\n",
    "fema_usa_inventory = fema_usa_scraper.get_footprints(region_boundary_object)"
   ]
  },
  {
   "cell_type": "markdown",
   "id": "cf4e5bb5-b1ab-4d03-8621-df0d6b3d863b",
   "metadata": {},
   "source": [
    "## Step 7: Filter NSI Inventory by Overlapping Footprints and Enrich with Additional Features\n",
    "In this step, we refine the National Structure Inventory (NSI) data by:\n",
    "\n",
    "- Filtering the NSI records to include only buildings that spatially overlap with the footprints extracted from OpenStreetMap. This ensures we focus on relevant structures within the region.\n",
    "- Enriching the filtered NSI data with additional attributes such as occupancy type, building area, and other extended features to provide more detailed information for subsequent analysis.\n",
    "\n",
    "The `get_filtered_data_given_inventory()` method is used for this purpose, where:\n",
    "\n",
    "- The building footprints (`fema_usa_inventory`) serve as the spatial filter.\n",
    "- The units are specified as feet (`'ft'`).\n",
    "- `get_extended_features=True` triggers retrieval of additional descriptive features.\n",
    "- `add_features=[]` means no extra custom features are requested at this stage."
   ]
  },
  {
   "cell_type": "code",
   "execution_count": null,
   "id": "3e83d0f7-5c76-408d-a4c9-47b724ba54a2",
   "metadata": {},
   "outputs": [],
   "source": [
    "nsi_inventory = nsi_scraper.get_filtered_data_given_inventory(\n",
    "    fema_usa_inventory,\n",
    "    'ft',  # Units\n",
    "    get_extended_features=True,  # Whether to retrieve additional features\n",
    "    add_features=[]  # No additional custom features specified\n",
    ")"
   ]
  },
  {
   "cell_type": "markdown",
   "id": "2889a223-8252-4de6-bee9-66d2bb64e0a6",
   "metadata": {},
   "source": [
    "## Step 8: Load the USGSElevationScraper Class to Enrich Assets with Elevation Information\n",
    "In this step, we prepare to enhance our asset data by integrating elevation details from the USGS Elevation Point Query Service. This enrichment enables more accurate spatial analyses and modeling by adding vertical context to each asset.\n",
    "\n",
    "- We instantiate the `USGSElevationScraper` class using the dynamic `importer` utility.\n",
    "- This scraper will later be used to query elevation data for each asset’s geographic coordinates.\n",
    "- Elevation data can be customized by specifying different statistical modes (e.g., mean, median) when performing queries.\n",
    "- Using this enriched elevation information helps in applications such as flood risk assessment, terrain analysis, and infrastructure planning.\n",
    "\n",
    "The following code initializes the scraper instance:"
   ]
  },
  {
   "cell_type": "code",
   "execution_count": null,
   "id": "155052b7-8ad7-4be6-92d5-20fe16141fdf",
   "metadata": {},
   "outputs": [],
   "source": [
    "usgs_elevation_scraper = importer.get_class('USGSElevationScraper')()"
   ]
  },
  {
   "cell_type": "markdown",
   "id": "c481ef2b-b100-4d79-acaa-384d7486efe2",
   "metadata": {},
   "source": [
    "## Step 9: Define the Statistical Modes for Summarizing Elevation Data\n",
    "In this step, we specify the different statistical modes that will be used to summarize the elevation data retrieved for each asset. Each mode offers a unique perspective on the terrain’s elevation characteristics, helping to capture variability and central tendencies:\n",
    "\n",
    "- `centroid`: Elevation at the geometric center of the asset footprint.\n",
    "- `all`: Elevation values for all sampled points within the footprint.\n",
    "- `average`: Mean elevation across all sampled points.\n",
    "- `min`: Lowest elevation value found within the footprint.\n",
    "- `max`: Highest elevation value found within the footprint.\n",
    "- `median`: Median elevation, representing the middle value of the data set.\n",
    "- `stddev`: Standard deviation, indicating how much elevation varies within the footprint."
   ]
  },
  {
   "cell_type": "code",
   "execution_count": null,
   "id": "499aa24c-8a78-4c01-98d4-a69ca5f63d70",
   "metadata": {},
   "outputs": [],
   "source": [
    "modes = ['centroid', 'all', 'average', 'min', 'max', 'median', 'stddev']"
   ]
  },
  {
   "cell_type": "markdown",
   "id": "47d6a9fe-c76e-4dc6-a81c-0b04d1ef916b",
   "metadata": {},
   "source": [
    "## Step 10: Retrieve Elevation Data for Each Building Asset Using the Selected Statistical Modes\n",
    "In this step, we enrich the building asset inventory by querying elevation data for each asset based on the previously defined statistical modes.\n",
    "\n",
    "The `get_asset_elevation_data()` method of the `USGSElevationScraper` class is called with:\n",
    "\n",
    "- `asset_inventory`: The filtered NSI building data to be enriched.\n",
    "- `modes`: The list of statistical modes specifying how elevation data should be summarized.\n",
    "\n",
    "This process adds new elevation-related fields to each building record, providing detailed vertical context for each asset."
   ]
  },
  {
   "cell_type": "code",
   "execution_count": null,
   "id": "c8ff376a-f66e-423e-a02d-04580e6d78bd",
   "metadata": {},
   "outputs": [],
   "source": [
    "asset_inventory = usgs_elevation_scraper.get_asset_elevation_data(\n",
    "    asset_inventory=nsi_inventory,\n",
    "    modes=modes\n",
    ")"
   ]
  },
  {
   "cell_type": "markdown",
   "id": "52929f4f-65ed-4ed3-b8d6-f9accb506dc8",
   "metadata": {},
   "source": [
    "## Step 11: Export the Updated Asset Inventory with Elevation Data to a GeoJSON File\n",
    "In this step, we save the enriched building asset inventory, now containing elevation attributes, to a GeoJSON file.\n",
    "\n",
    "- The `write_to_geojson()` method is called on the `asset_inventory` object to write the data to the path specified by `INVENTORY_OUTPUT`.\n",
    "- This output file contains both the original asset details and the newly added elevation information."
   ]
  },
  {
   "cell_type": "code",
   "execution_count": null,
   "id": "eaeade5e-cd21-4353-a551-3617e17daa5b",
   "metadata": {},
   "outputs": [],
   "source": [
    "_ = asset_inventory.write_to_geojson(INVENTORY_OUTPUT)"
   ]
  },
  {
   "cell_type": "markdown",
   "id": "d4b95100-b175-4c2a-be90-7958575e43b5",
   "metadata": {},
   "source": [
    "## Step 12: Fetch Elevation Data for the Entire Region by Sampling 2000 Random Points\n",
    "In this step, we obtain elevation data for the broader geographic region by sampling a large number of random points within the region boundary.\n",
    "\n",
    "The `get_region_elevation_data()` method of the `USGSElevationScraper` is called with:\n",
    "\n",
    "- `region`: The polygon or boundary object defining the target area.\n",
    "- `num_points`: The number of random points to sample for elevation data."
   ]
  },
  {
   "cell_type": "code",
   "execution_count": null,
   "id": "bbf69c4a",
   "metadata": {},
   "outputs": [],
   "source": [
    "region_elevation_data = usgs_elevation_scraper.get_region_elevation_data(\n",
    "    region=region_boundary_object,\n",
    "    num_points=2000\n",
    ")"
   ]
  },
  {
   "cell_type": "markdown",
   "id": "6b008c63-ae54-4158-b0f2-3aa4ff37156e",
   "metadata": {},
   "source": [
    "## Step 13: Export the Region-Wide Elevation Surface Data to a GeoJSON File\n",
    "In this step, we save the sampled elevation surface data for the entire region into a GeoJSON file. Here, The `write_to_geojson()` method is used to write the `region_elevation_data` object to the specified output path (i.e., `ELEVATION_SURFACE_OUTPUT`)."
   ]
  },
  {
   "cell_type": "code",
   "execution_count": null,
   "id": "fefb42ae-d7d6-4a76-9898-ddefa349c9ef",
   "metadata": {},
   "outputs": [],
   "source": [
    "_ = region_elevation_data.write_to_geojson(ELEVATION_SURFACE_OUTPUT)"
   ]
  }
 ],
 "metadata": {
  "kernelspec": {
   "display_name": "Python 3 (ipykernel)",
   "language": "python",
   "name": "python3"
  },
  "language_info": {
   "codemirror_mode": {
    "name": "ipython",
    "version": 3
   },
   "file_extension": ".py",
   "mimetype": "text/x-python",
   "name": "python",
   "nbconvert_exporter": "python",
   "pygments_lexer": "ipython3",
   "version": "3.10.13"
  }
 },
 "nbformat": 4,
 "nbformat_minor": 5
}
