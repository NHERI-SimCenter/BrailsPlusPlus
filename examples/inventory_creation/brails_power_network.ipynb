{
 "cells": [
  {
   "cell_type": "markdown",
   "metadata": {},
   "source": [
    "<span style=\"display: inline-block; margin-right: 10px; vertical-align: middle; border: 1px solid #F8F8F8; border-radius: 8px; padding: 5px; background-color: #F8F8F8;\">\n",
    "    <a href=\"https://www.designsafe-ci.org/workspace/jupyter-lab-hpc-cuda-ds?appVersion=1.1.1\" target=\"_parent\" style=\"text-decoration: none;\">\n",
    "        <span style=\"font-family: Helvetica, sans-serif; font-size: 13px; color: #565656; margin-right: 5px; vertical-align: middle; font-weight: 600;\">Open in</span>\n",
    "        <img src=\"https://www.designsafe-ci.org/media/filer_public/2d/d3/2dd37fbf-289e-49cf-9c1a-879c864c4e17/nsf_nheri-ds.png\" alt=\"Open in DesignSafe\" style=\"width: 100px; height: auto; vertical-align: middle;\">\n",
    "    </a>\n",
    "</span>\n",
    "\n",
    "<span style=\"display: inline-block; margin-right: 10px; vertical-align: middle;\">\n",
    "    <a href=\"https://colab.research.google.com/github/NHERI-SimCenter/BrailsPlusPlus/blob/master/examples/scrapers/brails_power_network.ipynb\" target=\"_parent\">\n",
    "        <img src=\"https://colab.research.google.com/assets/colab-badge.svg\" alt=\"Open In Colab\" style=\"width: 130px; height: auto; vertical-align: middle;\"/>\n",
    "    </a>\n",
    "</span>\n",
    "\n",
    "<span style=\"display: inline-block; vertical-align: middle; margin-top: 6px;\">\n",
    "    <a target=\"_blank\" href=\"https://lightning.ai/new?repo_url=https%3A//github.com/NHERI-SimCenter/BrailsPlusPlus/blob/master/examples/image_processor/brails_power_network.ipynb\">\n",
    "        <img src=\"https://pl-bolts-doc-images.s3.us-east-2.amazonaws.com/app-2/studio-badge.svg\" alt=\"Open in Studio\" style=\"width: 120px; height: auto; vertical-align: middle;\"/>\n",
    "    </a>\n",
    "</span>"
   ]
  },
  {
   "cell_type": "markdown",
   "metadata": {},
   "source": [
    "## Install BRAILS++\n",
    "Before running the following cells, install the latest version of BRAILS++."
   ]
  },
  {
   "cell_type": "code",
   "execution_count": 1,
   "metadata": {
    "colab": {
     "base_uri": "https://localhost:8080/",
     "height": 1000
    },
    "id": "buW-93gRnyoK",
    "outputId": "110f1f27-0a74-4e30-c22c-20ef073cef5f"
   },
   "outputs": [
    {
     "name": "stdout",
     "output_type": "stream",
     "text": [
      "Collecting git+https://github.com/NHERI-SimCenter/BrailsPlusPlus\n",
      "  Cloning https://github.com/NHERI-SimCenter/BrailsPlusPlus to /tmp/pip-req-build-g1h7pa4e\n",
      "  Running command git clone --filter=blob:none --quiet https://github.com/NHERI-SimCenter/BrailsPlusPlus /tmp/pip-req-build-g1h7pa4e\n",
      "  Resolved https://github.com/NHERI-SimCenter/BrailsPlusPlus to commit 98d9b14be0e2aa7df165d3432a78c6c8f71e32a7\n",
      "  Preparing metadata (setup.py) ... \u001b[?25l\u001b[?25hdone\n",
      "Collecting addict (from brails==4.0)\n",
      "  Downloading addict-2.4.0-py3-none-any.whl.metadata (1.0 kB)\n",
      "Requirement already satisfied: Cython in /usr/local/lib/python3.10/dist-packages (from brails==4.0) (3.0.11)\n",
      "Collecting ftfy (from brails==4.0)\n",
      "  Downloading ftfy-6.3.1-py3-none-any.whl.metadata (7.3 kB)\n",
      "Requirement already satisfied: matplotlib in /usr/local/lib/python3.10/dist-packages (from brails==4.0) (3.8.0)\n",
      "Requirement already satisfied: pillow in /usr/local/lib/python3.10/dist-packages (from brails==4.0) (11.0.0)\n",
      "Requirement already satisfied: plotly in /usr/local/lib/python3.10/dist-packages (from brails==4.0) (5.24.1)\n",
      "Requirement already satisfied: pycocotools in /usr/local/lib/python3.10/dist-packages (from brails==4.0) (2.0.8)\n",
      "Requirement already satisfied: requests in /usr/local/lib/python3.10/dist-packages (from brails==4.0) (2.32.3)\n",
      "Requirement already satisfied: seaborn in /usr/local/lib/python3.10/dist-packages (from brails==4.0) (0.13.2)\n",
      "Requirement already satisfied: shapely in /usr/local/lib/python3.10/dist-packages (from brails==4.0) (2.0.6)\n",
      "Collecting supervision (from brails==4.0)\n",
      "  Downloading supervision-0.25.0-py3-none-any.whl.metadata (14 kB)\n",
      "Requirement already satisfied: timm in /usr/local/lib/python3.10/dist-packages (from brails==4.0) (1.0.11)\n",
      "Requirement already satisfied: tensorboard in /usr/local/lib/python3.10/dist-packages (from brails==4.0) (2.17.1)\n",
      "Collecting tensorboardX (from brails==4.0)\n",
      "  Downloading tensorboardX-2.6.2.2-py2.py3-none-any.whl.metadata (5.8 kB)\n",
      "Requirement already satisfied: torch in /usr/local/lib/python3.10/dist-packages (from brails==4.0) (2.5.1+cu121)\n",
      "Requirement already satisfied: torchvision in /usr/local/lib/python3.10/dist-packages (from brails==4.0) (0.20.1+cu121)\n",
      "Requirement already satisfied: transformers in /usr/local/lib/python3.10/dist-packages (from brails==4.0) (4.46.2)\n",
      "Collecting typing (from brails==4.0)\n",
      "  Downloading typing-3.7.4.3.tar.gz (78 kB)\n",
      "\u001b[2K     \u001b[90m━━━━━━━━━━━━━━━━━━━━━━━━━━━━━━━━━━━━━━━━\u001b[0m \u001b[32m78.6/78.6 kB\u001b[0m \u001b[31m2.2 MB/s\u001b[0m eta \u001b[36m0:00:00\u001b[0m\n",
      "\u001b[?25h  Preparing metadata (setup.py) ... \u001b[?25l\u001b[?25hdone\n",
      "Collecting wget (from brails==4.0)\n",
      "  Downloading wget-3.2.zip (10 kB)\n",
      "  Preparing metadata (setup.py) ... \u001b[?25l\u001b[?25hdone\n",
      "Collecting yapf (from brails==4.0)\n",
      "  Downloading yapf-0.43.0-py3-none-any.whl.metadata (46 kB)\n",
      "\u001b[2K     \u001b[90m━━━━━━━━━━━━━━━━━━━━━━━━━━━━━━━━━━━━━━━━\u001b[0m \u001b[32m46.8/46.8 kB\u001b[0m \u001b[31m2.6 MB/s\u001b[0m eta \u001b[36m0:00:00\u001b[0m\n",
      "\u001b[?25hCollecting yacs (from brails==4.0)\n",
      "  Downloading yacs-0.1.8-py3-none-any.whl.metadata (639 bytes)\n",
      "Requirement already satisfied: webcolors in /usr/local/lib/python3.10/dist-packages (from brails==4.0) (24.11.1)\n",
      "Requirement already satisfied: opencv-python in /usr/local/lib/python3.10/dist-packages (from brails==4.0) (4.10.0.84)\n",
      "Requirement already satisfied: pandas in /usr/local/lib/python3.10/dist-packages (from brails==4.0) (2.2.2)\n",
      "Requirement already satisfied: wcwidth in /usr/local/lib/python3.10/dist-packages (from ftfy->brails==4.0) (0.2.13)\n",
      "Requirement already satisfied: contourpy>=1.0.1 in /usr/local/lib/python3.10/dist-packages (from matplotlib->brails==4.0) (1.3.1)\n",
      "Requirement already satisfied: cycler>=0.10 in /usr/local/lib/python3.10/dist-packages (from matplotlib->brails==4.0) (0.12.1)\n",
      "Requirement already satisfied: fonttools>=4.22.0 in /usr/local/lib/python3.10/dist-packages (from matplotlib->brails==4.0) (4.55.0)\n",
      "Requirement already satisfied: kiwisolver>=1.0.1 in /usr/local/lib/python3.10/dist-packages (from matplotlib->brails==4.0) (1.4.7)\n",
      "Requirement already satisfied: numpy<2,>=1.21 in /usr/local/lib/python3.10/dist-packages (from matplotlib->brails==4.0) (1.26.4)\n",
      "Requirement already satisfied: packaging>=20.0 in /usr/local/lib/python3.10/dist-packages (from matplotlib->brails==4.0) (24.2)\n",
      "Requirement already satisfied: pyparsing>=2.3.1 in /usr/local/lib/python3.10/dist-packages (from matplotlib->brails==4.0) (3.2.0)\n",
      "Requirement already satisfied: python-dateutil>=2.7 in /usr/local/lib/python3.10/dist-packages (from matplotlib->brails==4.0) (2.8.2)\n",
      "Requirement already satisfied: pytz>=2020.1 in /usr/local/lib/python3.10/dist-packages (from pandas->brails==4.0) (2024.2)\n",
      "Requirement already satisfied: tzdata>=2022.7 in /usr/local/lib/python3.10/dist-packages (from pandas->brails==4.0) (2024.2)\n",
      "Requirement already satisfied: tenacity>=6.2.0 in /usr/local/lib/python3.10/dist-packages (from plotly->brails==4.0) (9.0.0)\n",
      "Requirement already satisfied: charset-normalizer<4,>=2 in /usr/local/lib/python3.10/dist-packages (from requests->brails==4.0) (3.4.0)\n",
      "Requirement already satisfied: idna<4,>=2.5 in /usr/local/lib/python3.10/dist-packages (from requests->brails==4.0) (3.10)\n",
      "Requirement already satisfied: urllib3<3,>=1.21.1 in /usr/local/lib/python3.10/dist-packages (from requests->brails==4.0) (2.2.3)\n",
      "Requirement already satisfied: certifi>=2017.4.17 in /usr/local/lib/python3.10/dist-packages (from requests->brails==4.0) (2024.8.30)\n",
      "Requirement already satisfied: defusedxml<0.8.0,>=0.7.1 in /usr/local/lib/python3.10/dist-packages (from supervision->brails==4.0) (0.7.1)\n",
      "Requirement already satisfied: pyyaml>=5.3 in /usr/local/lib/python3.10/dist-packages (from supervision->brails==4.0) (6.0.2)\n",
      "Requirement already satisfied: scipy<2.0.0,>=1.10.0 in /usr/local/lib/python3.10/dist-packages (from supervision->brails==4.0) (1.13.1)\n",
      "Requirement already satisfied: absl-py>=0.4 in /usr/local/lib/python3.10/dist-packages (from tensorboard->brails==4.0) (1.4.0)\n",
      "Requirement already satisfied: grpcio>=1.48.2 in /usr/local/lib/python3.10/dist-packages (from tensorboard->brails==4.0) (1.68.0)\n",
      "Requirement already satisfied: markdown>=2.6.8 in /usr/local/lib/python3.10/dist-packages (from tensorboard->brails==4.0) (3.7)\n",
      "Requirement already satisfied: protobuf!=4.24.0,>=3.19.6 in /usr/local/lib/python3.10/dist-packages (from tensorboard->brails==4.0) (4.25.5)\n",
      "Requirement already satisfied: setuptools>=41.0.0 in /usr/local/lib/python3.10/dist-packages (from tensorboard->brails==4.0) (75.1.0)\n",
      "Requirement already satisfied: six>1.9 in /usr/local/lib/python3.10/dist-packages (from tensorboard->brails==4.0) (1.16.0)\n",
      "Requirement already satisfied: tensorboard-data-server<0.8.0,>=0.7.0 in /usr/local/lib/python3.10/dist-packages (from tensorboard->brails==4.0) (0.7.2)\n",
      "Requirement already satisfied: werkzeug>=1.0.1 in /usr/local/lib/python3.10/dist-packages (from tensorboard->brails==4.0) (3.1.3)\n",
      "Requirement already satisfied: huggingface_hub in /usr/local/lib/python3.10/dist-packages (from timm->brails==4.0) (0.26.2)\n",
      "Requirement already satisfied: safetensors in /usr/local/lib/python3.10/dist-packages (from timm->brails==4.0) (0.4.5)\n",
      "Requirement already satisfied: filelock in /usr/local/lib/python3.10/dist-packages (from torch->brails==4.0) (3.16.1)\n",
      "Requirement already satisfied: typing-extensions>=4.8.0 in /usr/local/lib/python3.10/dist-packages (from torch->brails==4.0) (4.12.2)\n",
      "Requirement already satisfied: networkx in /usr/local/lib/python3.10/dist-packages (from torch->brails==4.0) (3.4.2)\n",
      "Requirement already satisfied: jinja2 in /usr/local/lib/python3.10/dist-packages (from torch->brails==4.0) (3.1.4)\n",
      "Requirement already satisfied: fsspec in /usr/local/lib/python3.10/dist-packages (from torch->brails==4.0) (2024.10.0)\n",
      "Requirement already satisfied: sympy==1.13.1 in /usr/local/lib/python3.10/dist-packages (from torch->brails==4.0) (1.13.1)\n",
      "Requirement already satisfied: mpmath<1.4,>=1.1.0 in /usr/local/lib/python3.10/dist-packages (from sympy==1.13.1->torch->brails==4.0) (1.3.0)\n",
      "Requirement already satisfied: regex!=2019.12.17 in /usr/local/lib/python3.10/dist-packages (from transformers->brails==4.0) (2024.9.11)\n",
      "Requirement already satisfied: tokenizers<0.21,>=0.20 in /usr/local/lib/python3.10/dist-packages (from transformers->brails==4.0) (0.20.3)\n",
      "Requirement already satisfied: tqdm>=4.27 in /usr/local/lib/python3.10/dist-packages (from transformers->brails==4.0) (4.66.6)\n",
      "Requirement already satisfied: platformdirs>=3.5.1 in /usr/local/lib/python3.10/dist-packages (from yapf->brails==4.0) (4.3.6)\n",
      "Requirement already satisfied: tomli>=2.0.1 in /usr/local/lib/python3.10/dist-packages (from yapf->brails==4.0) (2.1.0)\n",
      "Requirement already satisfied: MarkupSafe>=2.1.1 in /usr/local/lib/python3.10/dist-packages (from werkzeug>=1.0.1->tensorboard->brails==4.0) (3.0.2)\n",
      "Downloading addict-2.4.0-py3-none-any.whl (3.8 kB)\n",
      "Downloading ftfy-6.3.1-py3-none-any.whl (44 kB)\n",
      "\u001b[2K   \u001b[90m━━━━━━━━━━━━━━━━━━━━━━━━━━━━━━━━━━━━━━━━\u001b[0m \u001b[32m44.8/44.8 kB\u001b[0m \u001b[31m2.7 MB/s\u001b[0m eta \u001b[36m0:00:00\u001b[0m\n",
      "\u001b[?25hDownloading supervision-0.25.0-py3-none-any.whl (181 kB)\n",
      "\u001b[2K   \u001b[90m━━━━━━━━━━━━━━━━━━━━━━━━━━━━━━━━━━━━━━━━\u001b[0m \u001b[32m181.5/181.5 kB\u001b[0m \u001b[31m8.0 MB/s\u001b[0m eta \u001b[36m0:00:00\u001b[0m\n",
      "\u001b[?25hDownloading tensorboardX-2.6.2.2-py2.py3-none-any.whl (101 kB)\n",
      "\u001b[2K   \u001b[90m━━━━━━━━━━━━━━━━━━━━━━━━━━━━━━━━━━━━━━━━\u001b[0m \u001b[32m101.7/101.7 kB\u001b[0m \u001b[31m6.5 MB/s\u001b[0m eta \u001b[36m0:00:00\u001b[0m\n",
      "\u001b[?25hDownloading yacs-0.1.8-py3-none-any.whl (14 kB)\n",
      "Downloading yapf-0.43.0-py3-none-any.whl (256 kB)\n",
      "\u001b[2K   \u001b[90m━━━━━━━━━━━━━━━━━━━━━━━━━━━━━━━━━━━━━━━━\u001b[0m \u001b[32m256.2/256.2 kB\u001b[0m \u001b[31m16.2 MB/s\u001b[0m eta \u001b[36m0:00:00\u001b[0m\n",
      "\u001b[?25hBuilding wheels for collected packages: brails, typing, wget\n",
      "  Building wheel for brails (setup.py) ... \u001b[?25l\u001b[?25hdone\n",
      "  Created wheel for brails: filename=brails-4.0-py3-none-any.whl size=2042639 sha256=922db92eaac4dc5f9f19ca39160ce8509b4421be372518c9950808536017f5d5\n",
      "  Stored in directory: /tmp/pip-ephem-wheel-cache-s8uas5bp/wheels/38/35/83/151751e8f46e383ec097d28c0d5316db2fdf5a16df18118462\n",
      "  Building wheel for typing (setup.py) ... \u001b[?25l\u001b[?25hdone\n",
      "  Created wheel for typing: filename=typing-3.7.4.3-py3-none-any.whl size=26303 sha256=5f770da9c735f70ab1d1cc7397009f2e8e53d8770d4efde032d4e7f36254f241\n",
      "  Stored in directory: /root/.cache/pip/wheels/7c/d0/9e/1f26ebb66d9e1732e4098bc5a6c2d91f6c9a529838f0284890\n",
      "  Building wheel for wget (setup.py) ... \u001b[?25l\u001b[?25hdone\n",
      "  Created wheel for wget: filename=wget-3.2-py3-none-any.whl size=9656 sha256=4fb21b32f29cf36060bebd30bfa3a65ba4e564ab66e5ef94d9923bf1948d8fe0\n",
      "  Stored in directory: /root/.cache/pip/wheels/8b/f1/7f/5c94f0a7a505ca1c81cd1d9208ae2064675d97582078e6c769\n",
      "Successfully built brails typing wget\n",
      "Installing collected packages: wget, addict, yapf, yacs, typing, tensorboardX, ftfy, supervision, brails\n",
      "Successfully installed addict-2.4.0 brails-4.0 ftfy-6.3.1 supervision-0.25.0 tensorboardX-2.6.2.2 typing-3.7.4.3 wget-3.2 yacs-0.1.8 yapf-0.43.0\n"
     ]
    },
    {
     "data": {
      "application/vnd.colab-display-data+json": {
       "id": "fc79e9faa0754d1eb73126de19a7fa6e",
       "pip_warning": {
        "packages": [
         "typing"
        ]
       }
      }
     },
     "metadata": {},
     "output_type": "display_data"
    }
   ],
   "source": [
    "!pip install brails"
   ]
  },
  {
   "cell_type": "markdown",
   "metadata": {},
   "source": [
    "## **Import ImageSet and Importer Methods of BRAILS++**\n",
    "BRAILS++ offers various modules for getting building and infrastructure attributes, such as the `OSM_PowerNetworkScraper` demonstrated in this example. The `Importer` class provides the main methods to load these modules. "
   ]
  },
  {
   "cell_type": "code",
   "execution_count": 1,
   "metadata": {
    "id": "kjVsMwPFoCIX"
   },
   "outputs": [],
   "source": [
    "import argparse\n",
    "from brails.utils.importer import Importer"
   ]
  },
  {
   "cell_type": "markdown",
   "metadata": {},
   "source": [
    "## **Retrieve the Boundary Details for the Region Where a Power Network Will Be Generated**\n",
    "Instantiate the `RegionBoundary` class with the necessary details to define the region of interest. In this example, the power network for Los Angeles, CA will be retrieved. Therefore, the required information includes the `type` of information provided and the `data` itself, which are the `locationName` and `Los Angeles, CA`."
   ]
  },
  {
   "cell_type": "code",
   "execution_count": 2,
   "metadata": {
    "id": "N7QrehuYn42R"
   },
   "outputs": [],
   "source": [
    "# Create an Importer to get the classes:\n",
    "importer = Importer()\n",
    "\n",
    "# Specify the BoundaryRegion:\n",
    "region_boundary_class = importer.get_class(\"RegionBoundary\")\n",
    "region_boundary_object = region_boundary_class(\n",
    "  {\"type\": \"locationName\", \"data\": 'Los Angeles, CA'})"
   ]
  },
  {
   "cell_type": "markdown",
   "metadata": {},
   "source": [
    "## **Get the Elements of the Network**\n",
    "The `OSM_PowerNetworkScraper` extracts power network data from OpenStreetMap. To initialize the constructor, the only input required is the `length` unit, which in this case is feet (`ft`). To run the `get_elements` method of `OSM_PowerNetworkScraper` only a `RegionBoundary` input is required. The output of the `get_elements` method is an `AssetInventory`, stored here in `power_network_inventory`."
   ]
  },
  {
   "cell_type": "code",
   "execution_count": 3,
   "metadata": {
    "colab": {
     "base_uri": "https://localhost:8080/",
     "height": 176
    },
    "id": "OMG68tZ8oM8w",
    "outputId": "08398a7c-153d-423a-a14c-4554aa6986d7"
   },
   "outputs": [
    {
     "name": "stdout",
     "output_type": "stream",
     "text": [
      "\n",
      "Searching for Los Angeles, CA...\n",
      "Found Los Angeles, Los Angeles County, California, United States\n",
      "\n",
      "Found a total of 6031 power network elements in Los Angeles.\n"
     ]
    }
   ],
   "source": [
    "osm_class = importer.get_class(\"OSM_PowerNetworkScraper\")\n",
    "osm_scraper = osm_class({\"length\": \"ft\"})\n",
    "power_network_inventory = osm_scraper.get_elements(region_boundary_object)"
   ]
  },
  {
   "cell_type": "markdown",
   "metadata": {},
   "source": [
    "## **Write the Retrieved Data to a GeoJSON File**\n",
    "The generated `power_network_inventory` can be saved to a GeoJSON file using the `write_to_geojson` method of the `AssetInventory` object. In this case, the data is written to a file named `LA_PowerNetwork.geojson`."
   ]
  },
  {
   "cell_type": "code",
   "execution_count": 4,
   "metadata": {
    "id": "rRLKm_zMoXyc"
   },
   "outputs": [],
   "source": [
    "_ = power_network_inventory.write_to_geojson('LA_PowerNetwork.geojson')"
   ]
  }
 ],
 "metadata": {
  "colab": {
   "provenance": []
  },
  "kernelspec": {
   "display_name": "Python 3 (ipykernel)",
   "language": "python",
   "name": "python3"
  },
  "language_info": {
   "codemirror_mode": {
    "name": "ipython",
    "version": 3
   },
   "file_extension": ".py",
   "mimetype": "text/x-python",
   "name": "python",
   "nbconvert_exporter": "python",
   "pygments_lexer": "ipython3",
   "version": "3.10.13"
  }
 },
 "nbformat": 4,
 "nbformat_minor": 4
}
