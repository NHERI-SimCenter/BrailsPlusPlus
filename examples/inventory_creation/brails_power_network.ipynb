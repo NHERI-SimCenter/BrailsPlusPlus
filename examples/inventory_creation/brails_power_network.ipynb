{
 "cells": [
  {
   "cell_type": "markdown",
   "metadata": {},
   "source": [
    "<span style=\"display: inline-block; margin-right: 10px; vertical-align: middle; border: 1px solid #F8F8F8; border-radius: 8px; padding: 5px; background-color: #F8F8F8;\">\n",
    "    <a href=\"https://www.designsafe-ci.org/workspace/jupyter-lab-hpc-cuda-ds?appVersion=1.1.1\" target=\"_parent\" style=\"text-decoration: none;\">\n",
    "        <span style=\"font-family: Helvetica, sans-serif; font-size: 13px; color: #565656; margin-right: 5px; vertical-align: middle; font-weight: 600;\">Open in</span>\n",
    "        <img src=\"https://www.designsafe-ci.org/media/filer_public/2d/d3/2dd37fbf-289e-49cf-9c1a-879c864c4e17/nsf_nheri-ds.png\" alt=\"Open in DesignSafe\" style=\"width: 100px; height: auto; vertical-align: middle;\">\n",
    "    </a>\n",
    "</span>\n",
    "\n",
    "<span style=\"display: inline-block; margin-right: 10px; vertical-align: middle;\">\n",
    "    <a href=\"https://colab.research.google.com/github/NHERI-SimCenter/BrailsPlusPlus/blob/master/examples/scrapers/brails_power_network.ipynb\" target=\"_parent\">\n",
    "        <img src=\"https://colab.research.google.com/assets/colab-badge.svg\" alt=\"Open In Colab\" style=\"width: 130px; height: auto; vertical-align: middle;\"/>\n",
    "    </a>\n",
    "</span>\n",
    "\n",
    "<span style=\"display: inline-block; vertical-align: middle; margin-top: 6px;\">\n",
    "    <a target=\"_blank\" href=\"https://lightning.ai/new?repo_url=https%3A//github.com/NHERI-SimCenter/BrailsPlusPlus/blob/master/examples/image_processor/brails_power_network.ipynb\">\n",
    "        <img src=\"https://pl-bolts-doc-images.s3.us-east-2.amazonaws.com/app-2/studio-badge.svg\" alt=\"Open in Studio\" style=\"width: 120px; height: auto; vertical-align: middle;\"/>\n",
    "    </a>\n",
    "</span>"
   ]
  },
  {
   "cell_type": "markdown",
   "metadata": {},
   "source": [
    "## Install BRAILS++\n",
    "Before running the following cells, install the latest version of BRAILS++."
   ]
  },
  {
   "cell_type": "code",
   "execution_count": null,
   "metadata": {
    "colab": {
     "base_uri": "https://localhost:8080/",
     "height": 1000
    },
    "id": "buW-93gRnyoK",
    "outputId": "110f1f27-0a74-4e30-c22c-20ef073cef5f"
   },
   "outputs": [],
   "source": [
    "!pip install brails"
   ]
  },
  {
   "cell_type": "markdown",
   "metadata": {},
   "source": [
    "## **Import ImageSet and Importer Methods of BRAILS++**\n",
    "BRAILS++ offers various modules for getting building and infrastructure attributes, such as the `OSM_PowerNetworkScraper` demonstrated in this example. The `Importer` class provides the main methods to load these modules. "
   ]
  },
  {
   "cell_type": "code",
   "execution_count": null,
   "metadata": {
    "id": "kjVsMwPFoCIX"
   },
   "outputs": [],
   "source": [
    "import argparse\n",
    "from brails.utils.importer import Importer"
   ]
  },
  {
   "cell_type": "markdown",
   "metadata": {},
   "source": [
    "## **Retrieve the Boundary Details for the Region Where a Power Network Will Be Generated**\n",
    "Instantiate the `RegionBoundary` class with the necessary details to define the region of interest. In this example, the power network for Los Angeles, CA will be retrieved. Therefore, the required information includes the `type` of information provided and the `data` itself, which are the `locationName` and `Los Angeles, CA`."
   ]
  },
  {
   "cell_type": "code",
   "execution_count": null,
   "metadata": {
    "id": "N7QrehuYn42R"
   },
   "outputs": [],
   "source": [
    "# Create an Importer to get the classes:\n",
    "importer = Importer()\n",
    "\n",
    "# Specify the BoundaryRegion:\n",
    "region_boundary_class = importer.get_class(\"RegionBoundary\")\n",
    "region_boundary_object = region_boundary_class(\n",
    "  {\"type\": \"locationName\", \"data\": 'Los Angeles, CA'})"
   ]
  },
  {
   "cell_type": "markdown",
   "metadata": {},
   "source": [
    "## **Get the Elements of the Network**\n",
    "The `OSM_PowerNetworkScraper` extracts power network data from OpenStreetMap. To initialize the constructor, the only input required is the `length` unit, which in this case is feet (`ft`). To run the `get_elements` method of `OSM_PowerNetworkScraper` only a `RegionBoundary` input is required. The output of the `get_elements` method is an `AssetInventory`, stored here in `power_network_inventory`."
   ]
  },
  {
   "cell_type": "code",
   "execution_count": null,
   "metadata": {
    "colab": {
     "base_uri": "https://localhost:8080/",
     "height": 176
    },
    "id": "OMG68tZ8oM8w",
    "outputId": "08398a7c-153d-423a-a14c-4554aa6986d7"
   },
   "outputs": [],
   "source": [
    "osm_class = importer.get_class(\"OSM_PowerNetworkScraper\")\n",
    "osm_scraper = osm_class({\"length\": \"ft\"})\n",
    "power_network_inventory = osm_scraper.get_elements(region_boundary_object)"
   ]
  },
  {
   "cell_type": "markdown",
   "metadata": {},
   "source": [
    "## **Write the Retrieved Data to a GeoJSON File**\n",
    "The generated `power_network_inventory` can be saved to a GeoJSON file using the `write_to_geojson` method of the `AssetInventory` object. In this case, the data is written to a file named `LA_PowerNetwork.geojson`."
   ]
  },
  {
   "cell_type": "code",
   "execution_count": null,
   "metadata": {
    "id": "rRLKm_zMoXyc"
   },
   "outputs": [],
   "source": [
    "_ = power_network_inventory.write_to_geojson('LA_PowerNetwork.geojson')"
   ]
  }
 ],
 "metadata": {
  "colab": {
   "provenance": []
  },
  "kernelspec": {
   "display_name": "Python 3 (ipykernel)",
   "language": "python",
   "name": "python3"
  },
  "language_info": {
   "codemirror_mode": {
    "name": "ipython",
    "version": 3
   },
   "file_extension": ".py",
   "mimetype": "text/x-python",
   "name": "python",
   "nbconvert_exporter": "python",
   "pygments_lexer": "ipython3",
   "version": "3.10.13"
  }
 },
 "nbformat": 4,
 "nbformat_minor": 4
}
