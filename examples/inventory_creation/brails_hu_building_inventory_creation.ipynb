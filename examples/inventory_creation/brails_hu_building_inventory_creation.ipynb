{
 "cells": [
  {
   "cell_type": "markdown",
   "id": "ef47710d-f0b1-4855-abd7-21802ad5f8d6",
   "metadata": {},
   "source": [
    "## Install BRAILS++\n",
    "Before running the following cells, install the latest version of BRAILS++."
   ]
  },
  {
   "cell_type": "code",
   "execution_count": null,
   "id": "5bc4f191-b5a0-4438-8bf9-7ccf68cd6ba0",
   "metadata": {},
   "outputs": [],
   "source": [
    "!pip install brails"
   ]
  },
  {
   "cell_type": "markdown",
   "id": "6b547e63-2249-4acd-925d-33724e840987",
   "metadata": {},
   "source": [
    "# Import BRAILS Importer"
   ]
  },
  {
   "cell_type": "code",
   "execution_count": 1,
   "id": "13c67c37-4094-4402-9fcd-0bdabe0b249e",
   "metadata": {},
   "outputs": [],
   "source": [
    "from brails.utils import Importer"
   ]
  },
  {
   "cell_type": "markdown",
   "id": "64082d44-b0a3-45a6-a3a3-63fcea03f16f",
   "metadata": {},
   "source": [
    "# Define Location Specific Parameters"
   ]
  },
  {
   "cell_type": "code",
   "execution_count": 2,
   "id": "18195011-9265-4540-a822-d21dd02f5988",
   "metadata": {},
   "outputs": [],
   "source": [
    "LOCATION_NAME = 'Fort Myers Beach, FL'\n",
    "INVENTORY_OUTPUT = 'FortMyersInventory_HU.geojson'\n",
    "NO_POSSIBLE_WORLDS = 0"
   ]
  },
  {
   "cell_type": "markdown",
   "id": "b827809a-32d2-4fcf-9fef-dd5c55291f4e",
   "metadata": {},
   "source": [
    "# Create and Importer object to Pull In Required BRAILS Modules"
   ]
  },
  {
   "cell_type": "code",
   "execution_count": 3,
   "id": "883970d2-26e5-4872-bde2-2bbc9f09b61a",
   "metadata": {},
   "outputs": [],
   "source": [
    "importer = Importer()"
   ]
  },
  {
   "cell_type": "markdown",
   "id": "6de5ef2e-28f2-4995-a603-10beae7d1e26",
   "metadata": {},
   "source": [
    "# Define the Region Object for the Region of Interest"
   ]
  },
  {
   "cell_type": "code",
   "execution_count": 4,
   "id": "a89f3301-7c91-484a-ada7-921cbf899496",
   "metadata": {},
   "outputs": [],
   "source": [
    "region_data = {\"type\": \"locationName\", \"data\": LOCATION_NAME}\n",
    "region_boundary_class = importer.get_class(\"RegionBoundary\")\n",
    "region_boundary_object = region_boundary_class(region_data)"
   ]
  },
  {
   "cell_type": "markdown",
   "id": "d69f2f3a-e8d5-4282-ace7-d298fba12d44",
   "metadata": {},
   "source": [
    "# Get Raw NSI Data for the Defined Region"
   ]
  },
  {
   "cell_type": "code",
   "execution_count": 5,
   "id": "5d06792f-6b37-41b1-a99f-7c903623ec10",
   "metadata": {},
   "outputs": [
    {
     "name": "stdout",
     "output_type": "stream",
     "text": [
      "\n",
      "Searching for Fort Myers Beach, FL...\n",
      "Found Fort Myers Beach, Lee County, Florida, 33931, United States\n"
     ]
    },
    {
     "name": "stderr",
     "output_type": "stream",
     "text": [
      "INFO:root:\n",
      "Getting National Structure Inventory (NSI) building data for the entered location...\n"
     ]
    },
    {
     "name": "stdout",
     "output_type": "stream",
     "text": [
      "\n",
      "Found a total of 3558 building points in NSI that are within the entered region of interest\n"
     ]
    }
   ],
   "source": [
    "nsi_class = importer.get_class('NSI_Parser')()\n",
    "nsi_inventory = nsi_class.get_raw_data(region_boundary_object)"
   ]
  },
  {
   "cell_type": "markdown",
   "id": "c46785d6-fd76-4322-853c-36ed3c85c9a9",
   "metadata": {},
   "source": [
    "# Get FEMA USA Footprints Data for the Defined Region"
   ]
  },
  {
   "cell_type": "code",
   "execution_count": 7,
   "id": "3fbc180d-9ca9-46a1-8599-ff4747cb4a9a",
   "metadata": {},
   "outputs": [
    {
     "name": "stdout",
     "output_type": "stream",
     "text": [
      "\n",
      "Searching for Fort Myers Beach, FL...\n",
      "Found Fort Myers Beach, Lee County, Florida, 33931, United States\n",
      "\n",
      "Meshing the defined area...\n"
     ]
    },
    {
     "name": "stderr",
     "output_type": "stream",
     "text": [
      "Obtaining the number of elements in each cell: 100%|█| 10/10 [00:01<00:00,  8.24\n"
     ]
    },
    {
     "name": "stdout",
     "output_type": "stream",
     "text": [
      "\n",
      "Meshing complete. Split Fort Myers Beach into 10 cells\n"
     ]
    },
    {
     "name": "stderr",
     "output_type": "stream",
     "text": [
      "Obtaining the building attributes for each cell: 100%|█| 10/10 [00:01<00:00,  8.\n",
      "100%|████████████████████████████████████████| 10/10 [00:00<00:00, 30393.51it/s]\n"
     ]
    },
    {
     "name": "stdout",
     "output_type": "stream",
     "text": [
      "\n",
      "Found a total of 3102 building footprints in Fort Myers Beach\n"
     ]
    }
   ],
   "source": [
    "footprint_scraper = importer.get_class('USA_FootprintScraper')({'length': 'ft'})\n",
    "footprint_inventory = footprint_scraper.get_footprints(region_boundary_object)"
   ]
  },
  {
   "cell_type": "markdown",
   "id": "84256fd8-313f-463a-8371-f1a06ebb8635",
   "metadata": {},
   "source": [
    "# Create a Baseline Inventory by Merging NSI Raw Data and USA Structures Footprints"
   ]
  },
  {
   "cell_type": "code",
   "execution_count": 8,
   "id": "e5c1cab0-2029-4bd7-ba05-80711381a8ec",
   "metadata": {},
   "outputs": [
    {
     "name": "stdout",
     "output_type": "stream",
     "text": [
      "\n",
      "Getting National Structure Inventory (NSI) building data for the entered location...\n",
      "Found a total of 2796 building points in NSI that match the footprint data.\n"
     ]
    }
   ],
   "source": [
    "nsi_inventory = nsi.get_filtered_data_given_inventory(\n",
    "    footprint_inventory, \"ft\", get_extended_features=True, add_features=[])"
   ]
  },
  {
   "cell_type": "markdown",
   "id": "78efa81a-432f-421c-9521-c8e6f2a184c4",
   "metadata": {},
   "source": [
    "# Fill Gaps in the Baseline Inventory by Imputing Missing Values"
   ]
  },
  {
   "cell_type": "code",
   "execution_count": 9,
   "id": "148c25b0-1693-4462-94ee-94e34bfa4c7b",
   "metadata": {},
   "outputs": [
    {
     "name": "stderr",
     "output_type": "stream",
     "text": [
      "WARNING:brails.imputers.knn_imputer.knn_imputer:The existing inventory does not contain multiple possible worlds. 0 worlds will be generated for new features\n"
     ]
    },
    {
     "name": "stdout",
     "output_type": "stream",
     "text": [
      "Existing worlds: 1\n",
      "New worlds per existing world: 0\n",
      "world # 0\n",
      "Features with no reference data cannot be imputed. Removing them from the imputation target: buildingheight\n",
      "Missing percentages among 3102 assets\n",
      "fparea: 9.86%\n",
      "numstories: 9.86%\n",
      "erabuilt: 9.86%\n",
      "repaircost: 9.86%\n",
      "constype: 9.86%\n",
      "occupancy: 9.86%\n",
      "found_ht: 9.86%\n",
      "ground_elv: 9.86%\n",
      "FloodZone: 9.86%\n",
      "splitlevel: 9.86%\n",
      "basement: 28.11%\n",
      "Primitive imputation done.\n",
      "Running the main imputation. This may take a while.\n",
      "Done imputation. It took 0.01 mins\n"
     ]
    }
   ],
   "source": [
    "knn_imputer_class = importer.get_class(\"KnnImputer\")\n",
    "\n",
    "imputer = knn_imputer_class(\n",
    "    nsi_inventory, n_possible_worlds=NO_POSSIBLE_WORLDS,\n",
    "    exclude_features=['lat', 'lon', 'fd_id'])\n",
    "imputed_inventory = imputer.impute()"
   ]
  },
  {
   "cell_type": "markdown",
   "id": "612f0a2b-962c-443b-acc0-773f95965569",
   "metadata": {},
   "source": [
    "# Dowload Aerial Imagery for the Identified Assets"
   ]
  },
  {
   "cell_type": "code",
   "execution_count": null,
   "id": "53a0dfc2-0114-4a48-9c08-0f60aa7159e0",
   "metadata": {},
   "outputs": [
    {
     "name": "stdout",
     "output_type": "stream",
     "text": [
      "Images will be saved to: /home/bacetiner/Documents/BrailsPlusPlus/examples/inventory_creation/tmp/satellite\n"
     ]
    },
    {
     "name": "stderr",
     "output_type": "stream",
     "text": [
      "Obtaining satellite imagery:   0%|             | 7/3102 [00:00<01:42, 30.24it/s]"
     ]
    },
    {
     "name": "stdout",
     "output_type": "stream",
     "text": [
      "Saved image to tmp/satellite/imsat_26.40610762-81.88609521.jpg\n",
      "Saved image to tmp/satellite/imsat_26.40527095-81.88895908.jpg\n",
      "Saved image to tmp/satellite/imsat_26.40499353-81.8936453.jpg\n",
      "Saved image to tmp/satellite/imsat_26.40619151-81.8871131.jpg\n",
      "Saved image to tmp/satellite/imsat_26.40588159-81.88805157.jpg\n",
      "Saved image to tmp/satellite/imsat_26.40624176-81.89602984.jpg\n",
      "Saved image to tmp/satellite/imsat_26.40417141-81.89001474.jpg\n",
      "Saved image to tmp/satellite/imsat_26.40575555-81.89314358.jpg\n",
      "Saved image to tmp/satellite/imsat_26.40632404-81.88521955.jpg\n",
      "Saved image to tmp/satellite/imsat_26.40503011-81.88341606.jpg\n",
      "Saved image to tmp/satellite/imsat_26.4069747-81.89170575.jpg\n",
      "Saved image to tmp/satellite/imsat_26.40601081-81.89246931.jpg\n",
      "Saved image to tmp/satellite/imsat_26.40415864-81.88858949.jpg\n",
      "Saved image to tmp/satellite/imsat_26.40544011-81.88528761.jpg\n",
      "Saved image to tmp/satellite/imsat_26.40480433-81.88679908.jpg\n",
      "Saved image to tmp/satellite/imsat_26.406855-81.8919772.jpg\n",
      "Saved image to tmp/satellite/imsat_26.40450799-81.89257131.jpg\n",
      "Saved image to tmp/satellite/imsat_26.40527749-81.88849566.jpg\n"
     ]
    },
    {
     "name": "stderr",
     "output_type": "stream",
     "text": [
      "Obtaining satellite imagery:   1%|            | 26/3102 [00:00<00:53, 57.72it/s]"
     ]
    },
    {
     "name": "stdout",
     "output_type": "stream",
     "text": [
      "Saved image to tmp/satellite/imsat_26.40507281-81.89231712.jpg\n",
      "Saved image to tmp/satellite/imsat_26.40671348-81.89244082.jpg\n",
      "Saved image to tmp/satellite/imsat_26.40654066-81.8840436.jpg\n",
      "Saved image to tmp/satellite/imsat_26.40520751-81.89116456.jpg\n",
      "Saved image to tmp/satellite/imsat_26.40474153-81.8877192.jpg\n",
      "Saved image to tmp/satellite/imsat_26.40559935-81.88560429.jpg\n",
      "Saved image to tmp/satellite/imsat_26.404761-81.89093594.jpg\n",
      "Saved image to tmp/satellite/imsat_26.40470189-81.89038664.jpg\n",
      "Saved image to tmp/satellite/imsat_26.40531515-81.88695107.jpg\n",
      "Saved image to tmp/satellite/imsat_26.40444172-81.89210926.jpg\n",
      "Saved image to tmp/satellite/imsat_26.40660402-81.8846271.jpg\n",
      "Saved image to tmp/satellite/imsat_26.40476905-81.88702854.jpg\n",
      "Saved image to tmp/satellite/imsat_26.40503309-81.8896602.jpg\n",
      "Saved image to tmp/satellite/imsat_26.40549485-81.88858255.jpg\n",
      "Saved image to tmp/satellite/imsat_26.40599199-81.89439253.jpg\n"
     ]
    },
    {
     "name": "stderr",
     "output_type": "stream",
     "text": [
      "Obtaining satellite imagery:   1%|▏           | 43/3102 [00:00<00:52, 58.02it/s]"
     ]
    },
    {
     "name": "stdout",
     "output_type": "stream",
     "text": [
      "Saved image to tmp/satellite/imsat_26.4066427-81.88551243.jpg\n",
      "Saved image to tmp/satellite/imsat_26.40616068-81.89395849.jpg\n",
      "Saved image to tmp/satellite/imsat_26.40529757-81.89160337.jpg\n",
      "Saved image to tmp/satellite/imsat_26.40642514-81.8943573.jpg\n",
      "Saved image to tmp/satellite/imsat_26.40724037-81.89543171.jpg\n",
      "Saved image to tmp/satellite/imsat_26.40584959-81.89336007.jpg\n",
      "Saved image to tmp/satellite/imsat_26.40613355-81.88687633.jpg\n",
      "Saved image to tmp/satellite/imsat_26.40645758-81.88823075.jpg\n",
      "Saved image to tmp/satellite/imsat_26.40528717-81.88644114.jpg\n",
      "Saved image to tmp/satellite/imsat_26.40415441-81.88955208.jpg\n",
      "Saved image to tmp/satellite/imsat_26.40479166-81.88920275.jpg\n"
     ]
    },
    {
     "name": "stderr",
     "output_type": "stream",
     "text": [
      "Obtaining satellite imagery:   2%|▏           | 60/3102 [00:01<00:45, 66.74it/s]"
     ]
    },
    {
     "name": "stdout",
     "output_type": "stream",
     "text": [
      "Saved image to tmp/satellite/imsat_26.40484191-81.89141108.jpg\n",
      "Saved image to tmp/satellite/imsat_26.40589564-81.88629999.jpg\n",
      "Saved image to tmp/satellite/imsat_26.40607103-81.88563533.jpg\n",
      "Saved image to tmp/satellite/imsat_26.40522008-81.89138521.jpg\n",
      "Saved image to tmp/satellite/imsat_26.40567231-81.89130695.jpg\n",
      "Saved image to tmp/satellite/imsat_26.40677089-81.89219948.jpg\n",
      "Saved image to tmp/satellite/imsat_26.40502552-81.88919807.jpg\n",
      "Saved image to tmp/satellite/imsat_26.40551507-81.88798018.jpg\n",
      "Saved image to tmp/satellite/imsat_26.40413179-81.88809745.jpg\n",
      "Saved image to tmp/satellite/imsat_26.40725814-81.8951936.jpg\n",
      "Saved image to tmp/satellite/imsat_26.40646088-81.89644852.jpg\n",
      "Saved image to tmp/satellite/imsat_26.40539215-81.88619389.jpg\n",
      "Saved image to tmp/satellite/imsat_26.40658947-81.89023937.jpg\n",
      "Saved image to tmp/satellite/imsat_26.40411494-81.88758265.jpg\n",
      "Saved image to tmp/satellite/imsat_26.40630406-81.89319633.jpg\n",
      "Saved image to tmp/satellite/imsat_26.40643893-81.88879468.jpg\n",
      "Saved image to tmp/satellite/imsat_26.40462925-81.89278014.jpg\n",
      "Saved image to tmp/satellite/imsat_26.4041865-81.8902544.jpg\n",
      "Saved image to tmp/satellite/imsat_26.40721736-81.8850164.jpg\n",
      "Saved image to tmp/satellite/imsat_26.40472703-81.88798527.jpg\n"
     ]
    },
    {
     "name": "stderr",
     "output_type": "stream",
     "text": [
      "Obtaining satellite imagery:   2%|▎           | 76/3102 [00:01<00:45, 66.64it/s]"
     ]
    },
    {
     "name": "stdout",
     "output_type": "stream",
     "text": [
      "Saved image to tmp/satellite/imsat_26.40715067-81.89447581.jpg\n",
      "Saved image to tmp/satellite/imsat_26.40569929-81.89032061.jpg\n",
      "Saved image to tmp/satellite/imsat_26.40718716-81.89076587.jpg\n",
      "Saved image to tmp/satellite/imsat_26.40696319-81.89435671.jpg\n",
      "Saved image to tmp/satellite/imsat_26.40419579-81.88546417.jpg\n",
      "Saved image to tmp/satellite/imsat_26.40701256-81.89682583.jpg\n",
      "Saved image to tmp/satellite/imsat_26.40512787-81.89254303.jpg\n",
      "Saved image to tmp/satellite/imsat_26.40702861-81.8902429.jpg\n",
      "Saved image to tmp/satellite/imsat_26.4062517-81.88771488.jpg\n",
      "Saved image to tmp/satellite/imsat_26.40473319-81.88870402.jpg\n",
      "Saved image to tmp/satellite/imsat_26.40479474-81.89374659.jpg\n",
      "Saved image to tmp/satellite/imsat_26.4064137-81.89340776.jpg\n",
      "Saved image to tmp/satellite/imsat_26.40552885-81.88650079.jpg\n",
      "Saved image to tmp/satellite/imsat_26.40494072-81.89089549.jpg\n"
     ]
    },
    {
     "name": "stderr",
     "output_type": "stream",
     "text": [
      "Obtaining satellite imagery:   3%|▎           | 91/3102 [00:01<00:45, 65.51it/s]"
     ]
    },
    {
     "name": "stdout",
     "output_type": "stream",
     "text": [
      "Saved image to tmp/satellite/imsat_26.40508088-81.89381659.jpg\n",
      "Saved image to tmp/satellite/imsat_26.40641295-81.8891087.jpg\n",
      "Saved image to tmp/satellite/imsat_26.40439892-81.89176936.jpg\n",
      "Saved image to tmp/satellite/imsat_26.40528015-81.88731908.jpg\n",
      "Saved image to tmp/satellite/imsat_26.40649254-81.8951376.jpg\n",
      "Saved image to tmp/satellite/imsat_26.40624184-81.89125754.jpg\n",
      "Saved image to tmp/satellite/imsat_26.40541163-81.89207206.jpg\n",
      "Saved image to tmp/satellite/imsat_26.40595509-81.88989818.jpg\n",
      "Saved image to tmp/satellite/imsat_26.40713146-81.88418598.jpg\n",
      "Saved image to tmp/satellite/imsat_26.40672161-81.89533221.jpg\n",
      "Saved image to tmp/satellite/imsat_26.40517864-81.89087394.jpg\n",
      "Saved image to tmp/satellite/imsat_26.40720681-81.89042622.jpg\n",
      "Saved image to tmp/satellite/imsat_26.40506211-81.8920829.jpg\n"
     ]
    },
    {
     "name": "stderr",
     "output_type": "stream",
     "text": [
      "Obtaining satellite imagery:   3%|▍           | 99/3102 [00:01<00:47, 63.22it/s]"
     ]
    },
    {
     "name": "stdout",
     "output_type": "stream",
     "text": [
      "Saved image to tmp/satellite/imsat_26.40611622-81.89460399.jpg\n",
      "Saved image to tmp/satellite/imsat_26.40711641-81.89099902.jpg\n",
      "Saved image to tmp/satellite/imsat_26.40569013-81.88542168.jpg\n",
      "Saved image to tmp/satellite/imsat_26.40619562-81.88650812.jpg\n",
      "Saved image to tmp/satellite/imsat_26.40567579-81.89291608.jpg\n",
      "Saved image to tmp/satellite/imsat_26.40526402-81.89294176.jpg\n",
      "Saved image to tmp/satellite/imsat_26.40633815-81.89198722.jpg\n",
      "Saved image to tmp/satellite/imsat_26.40640255-81.88967271.jpg\n",
      "Saved image to tmp/satellite/imsat_26.40595328-81.89358742.jpg\n",
      "Saved image to tmp/satellite/imsat_26.40576644-81.8917593.jpg\n",
      "Saved image to tmp/satellite/imsat_26.40522091-81.88568099.jpg\n",
      "Saved image to tmp/satellite/imsat_26.4059224-81.892203.jpg\n",
      "Saved image to tmp/satellite/imsat_26.40404944-81.88708829.jpg\n",
      "Saved image to tmp/satellite/imsat_26.40585055-81.89200255.jpg\n",
      "Saved image to tmp/satellite/imsat_26.40561695-81.89077551.jpg\n"
     ]
    },
    {
     "name": "stderr",
     "output_type": "stream",
     "text": [
      "Obtaining satellite imagery:   4%|▍          | 115/3102 [00:01<00:45, 65.91it/s]"
     ]
    },
    {
     "name": "stdout",
     "output_type": "stream",
     "text": [
      "Saved image to tmp/satellite/imsat_26.40551633-81.88688587.jpg\n",
      "Saved image to tmp/satellite/imsat_26.40493207-81.88636969.jpg\n",
      "Saved image to tmp/satellite/imsat_26.4049262-81.89036898.jpg\n",
      "Saved image to tmp/satellite/imsat_26.40588854-81.88396752.jpg\n",
      "Saved image to tmp/satellite/imsat_26.40701571-81.89126552.jpg\n",
      "Saved image to tmp/satellite/imsat_26.40546522-81.88598648.jpg\n",
      "Saved image to tmp/satellite/imsat_26.40593282-81.89018122.jpg\n",
      "Saved image to tmp/satellite/imsat_26.40678692-81.89031771.jpg\n",
      "Saved image to tmp/satellite/imsat_26.40464314-81.89301542.jpg\n",
      "Saved image to tmp/satellite/imsat_26.40414821-81.8893081.jpg\n",
      "Saved image to tmp/satellite/imsat_26.40518326-81.88628323.jpg\n",
      "Saved image to tmp/satellite/imsat_26.40422282-81.89071155.jpg\n",
      "Saved image to tmp/satellite/imsat_26.4065186-81.88852385.jpg\n",
      "Saved image to tmp/satellite/imsat_26.40591793-81.88966684.jpg\n",
      "Saved image to tmp/satellite/imsat_26.40636748-81.88796591.jpg\n",
      "Saved image to tmp/satellite/imsat_26.40697559-81.89402437.jpg\n"
     ]
    },
    {
     "name": "stderr",
     "output_type": "stream",
     "text": [
      "Obtaining satellite imagery:   4%|▍          | 133/3102 [00:02<00:42, 70.50it/s]"
     ]
    },
    {
     "name": "stdout",
     "output_type": "stream",
     "text": [
      "Saved image to tmp/satellite/imsat_26.40603448-81.88627942.jpg\n",
      "Saved image to tmp/satellite/imsat_26.40413763-81.88907331.jpg\n",
      "Saved image to tmp/satellite/imsat_26.40545512-81.88921476.jpg\n",
      "Saved image to tmp/satellite/imsat_26.40523791-81.8891868.jpg\n",
      "Saved image to tmp/satellite/imsat_26.40571256-81.88801417.jpg\n",
      "Saved image to tmp/satellite/imsat_26.40584541-81.8910777.jpg\n",
      "Saved image to tmp/satellite/imsat_26.40641762-81.89010208.jpg\n",
      "Saved image to tmp/satellite/imsat_26.40512638-81.88590281.jpg\n",
      "Saved image to tmp/satellite/imsat_26.40420644-81.89047531.jpg\n",
      "Saved image to tmp/satellite/imsat_26.40587808-81.89415486.jpg\n",
      "Saved image to tmp/satellite/imsat_26.40567107-81.89375863.jpg\n",
      "Saved image to tmp/satellite/imsat_26.40667802-81.89266922.jpg\n",
      "Saved image to tmp/satellite/imsat_26.40573905-81.88689456.jpg\n",
      "Saved image to tmp/satellite/imsat_26.40625142-81.89477428.jpg\n",
      "Saved image to tmp/satellite/imsat_26.40473829-81.88844004.jpg\n",
      "Saved image to tmp/satellite/imsat_26.40496352-81.88869742.jpg\n"
     ]
    },
    {
     "name": "stderr",
     "output_type": "stream",
     "text": [
      "Obtaining satellite imagery:   5%|▌          | 151/3102 [00:02<00:40, 73.65it/s]"
     ]
    },
    {
     "name": "stdout",
     "output_type": "stream",
     "text": [
      "Saved image to tmp/satellite/imsat_26.40413963-81.88978219.jpg\n",
      "Saved image to tmp/satellite/imsat_26.40610384-81.89272495.jpg\n",
      "Saved image to tmp/satellite/imsat_26.40625619-81.88570873.jpg\n",
      "Saved image to tmp/satellite/imsat_26.40640311-81.88940054.jpg\n",
      "Saved image to tmp/satellite/imsat_26.40643424-81.89065783.jpg\n",
      "Saved image to tmp/satellite/imsat_26.40513465-81.89039278.jpg\n",
      "Saved image to tmp/satellite/imsat_26.40549863-81.89224101.jpg\n",
      "Saved image to tmp/satellite/imsat_26.40433737-81.88481694.jpg\n",
      "Saved image to tmp/satellite/imsat_26.40651881-81.89454611.jpg\n",
      "Saved image to tmp/satellite/imsat_26.40429703-81.89117623.jpg\n",
      "Saved image to tmp/satellite/imsat_26.40477402-81.88747834.jpg\n",
      "Saved image to tmp/satellite/imsat_26.40552676-81.890063.jpg\n",
      "Saved image to tmp/satellite/imsat_26.40523327-81.89271388.jpg\n",
      "Saved image to tmp/satellite/imsat_26.40517403-81.89517721.jpg\n",
      "Saved image to tmp/satellite/imsat_26.4055601-81.88623947.jpg\n"
     ]
    },
    {
     "name": "stderr",
     "output_type": "stream",
     "text": [
      "Obtaining satellite imagery:   5%|▌          | 169/3102 [00:02<00:37, 77.68it/s]"
     ]
    },
    {
     "name": "stdout",
     "output_type": "stream",
     "text": [
      "Saved image to tmp/satellite/imsat_26.40650786-81.89148428.jpg\n",
      "Saved image to tmp/satellite/imsat_26.40547966-81.88895256.jpg\n",
      "Saved image to tmp/satellite/imsat_26.40667555-81.89075663.jpg\n",
      "Saved image to tmp/satellite/imsat_26.40558728-81.88966127.jpg\n",
      "Saved image to tmp/satellite/imsat_26.40640993-81.89177729.jpg\n",
      "Saved image to tmp/satellite/imsat_26.40553513-81.89029503.jpg\n",
      "Saved image to tmp/satellite/imsat_26.40499811-81.88614176.jpg\n",
      "Saved image to tmp/satellite/imsat_26.40544569-81.89335449.jpg\n",
      "Saved image to tmp/satellite/imsat_26.40654393-81.88581465.jpg\n",
      "Saved image to tmp/satellite/imsat_26.40547005-81.89535989.jpg\n",
      "Saved image to tmp/satellite/imsat_26.40595962-81.88852804.jpg\n",
      "Saved image to tmp/satellite/imsat_26.40702118-81.8914904.jpg\n",
      "Saved image to tmp/satellite/imsat_26.40542612-81.89257106.jpg\n",
      "Saved image to tmp/satellite/imsat_26.40413176-81.88882422.jpg\n",
      "Saved image to tmp/satellite/imsat_26.404764-81.88820291.jpg\n",
      "Saved image to tmp/satellite/imsat_26.4059969-81.88580331.jpg\n",
      "Saved image to tmp/satellite/imsat_26.4057543-81.88455798.jpg\n"
     ]
    },
    {
     "name": "stderr",
     "output_type": "stream",
     "text": [
      "Obtaining satellite imagery:   6%|▋          | 177/3102 [00:02<00:39, 73.44it/s]"
     ]
    },
    {
     "name": "stdout",
     "output_type": "stream",
     "text": [
      "Saved image to tmp/satellite/imsat_26.40685069-81.88413075.jpg\n",
      "Saved image to tmp/satellite/imsat_26.40550532-81.88561619.jpg\n",
      "Saved image to tmp/satellite/imsat_26.40695334-81.89367658.jpg\n",
      "Saved image to tmp/satellite/imsat_26.40702238-81.89325662.jpg\n",
      "Saved image to tmp/satellite/imsat_26.40505779-81.89007826.jpg\n",
      "Saved image to tmp/satellite/imsat_26.40451047-81.88479674.jpg\n",
      "Saved image to tmp/satellite/imsat_26.40596886-81.88875632.jpg\n",
      "Saved image to tmp/satellite/imsat_26.40682674-81.89351576.jpg\n",
      "Saved image to tmp/satellite/imsat_26.40627603-81.89227528.jpg\n",
      "Saved image to tmp/satellite/imsat_26.4047652-81.88988678.jpg\n",
      "Saved image to tmp/satellite/imsat_26.40689542-81.8955798.jpg\n",
      "Saved image to tmp/satellite/imsat_26.40637336-81.88989048.jpg\n",
      "Saved image to tmp/satellite/imsat_26.40538393-81.89312624.jpg\n",
      "Saved image to tmp/satellite/imsat_26.40657886-81.89120943.jpg\n",
      "Saved image to tmp/satellite/imsat_26.40475174-81.88968258.jpg\n",
      "Saved image to tmp/satellite/imsat_26.40607474-81.89375567.jpg\n"
     ]
    },
    {
     "name": "stderr",
     "output_type": "stream",
     "text": [
      "Obtaining satellite imagery:   6%|▋          | 195/3102 [00:02<00:40, 72.45it/s]"
     ]
    },
    {
     "name": "stdout",
     "output_type": "stream",
     "text": [
      "Saved image to tmp/satellite/imsat_26.40617486-81.88508786.jpg\n",
      "Saved image to tmp/satellite/imsat_26.40551487-81.88739282.jpg\n",
      "Saved image to tmp/satellite/imsat_26.40431453-81.89141774.jpg\n",
      "Saved image to tmp/satellite/imsat_26.40552606-81.88986226.jpg\n",
      "Saved image to tmp/satellite/imsat_26.40683599-81.88464479.jpg\n",
      "Saved image to tmp/satellite/imsat_26.40473832-81.88725805.jpg\n",
      "Saved image to tmp/satellite/imsat_26.40482824-81.88656458.jpg\n",
      "Saved image to tmp/satellite/imsat_26.40662295-81.89472761.jpg\n",
      "Saved image to tmp/satellite/imsat_26.40653748-81.89359676.jpg\n",
      "Saved image to tmp/satellite/imsat_26.40605464-81.89170629.jpg\n",
      "Saved image to tmp/satellite/imsat_26.40462335-81.89352835.jpg\n"
     ]
    },
    {
     "name": "stderr",
     "output_type": "stream",
     "text": [
      "Obtaining satellite imagery:   7%|▊          | 213/3102 [00:03<00:38, 74.49it/s]"
     ]
    },
    {
     "name": "stdout",
     "output_type": "stream",
     "text": [
      "Saved image to tmp/satellite/imsat_26.40584438-81.89069863.jpg\n",
      "Saved image to tmp/satellite/imsat_26.40561729-81.89268909.jpg\n",
      "Saved image to tmp/satellite/imsat_26.40562702-81.89491887.jpg\n",
      "Saved image to tmp/satellite/imsat_26.40536281-81.89502224.jpg\n",
      "Saved image to tmp/satellite/imsat_26.40636636-81.89495128.jpg\n",
      "Saved image to tmp/satellite/imsat_26.40597336-81.89587339.jpg\n",
      "Saved image to tmp/satellite/imsat_26.40595444-81.88925396.jpg\n",
      "Saved image to tmp/satellite/imsat_26.40525913-81.89472666.jpg\n",
      "Saved image to tmp/satellite/imsat_26.40662557-81.89095117.jpg\n",
      "Saved image to tmp/satellite/imsat_26.40577514-81.89399207.jpg\n",
      "Saved image to tmp/satellite/imsat_26.40553418-81.89355638.jpg\n",
      "Saved image to tmp/satellite/imsat_26.4047067-81.89326208.jpg\n",
      "Saved image to tmp/satellite/imsat_26.40476711-81.89348497.jpg\n",
      "Saved image to tmp/satellite/imsat_26.40593089-81.88900795.jpg\n",
      "Saved image to tmp/satellite/imsat_26.40563051-81.88921631.jpg\n",
      "Saved image to tmp/satellite/imsat_26.40483774-81.89123751.jpg\n",
      "Saved image to tmp/satellite/imsat_26.40413429-81.88663694.jpg\n",
      "Saved image to tmp/satellite/imsat_26.40689052-81.89497851.jpg\n"
     ]
    },
    {
     "name": "stderr",
     "output_type": "stream",
     "text": [
      "Obtaining satellite imagery:   7%|▊          | 222/3102 [00:03<00:36, 78.10it/s]"
     ]
    },
    {
     "name": "stdout",
     "output_type": "stream",
     "text": [
      "Saved image to tmp/satellite/imsat_26.4050651-81.88983977.jpg\n",
      "Saved image to tmp/satellite/imsat_26.40666721-81.89293296.jpg\n",
      "Saved image to tmp/satellite/imsat_26.40614294-81.89069871.jpg\n",
      "Saved image to tmp/satellite/imsat_26.40469913-81.88895651.jpg\n",
      "Saved image to tmp/satellite/imsat_26.40560173-81.89105891.jpg\n",
      "Saved image to tmp/satellite/imsat_26.40454846-81.89232184.jpg\n",
      "Saved image to tmp/satellite/imsat_26.40630623-81.89262.jpg\n",
      "Saved image to tmp/satellite/imsat_26.40572312-81.8956627.jpg\n",
      "Saved image to tmp/satellite/imsat_26.40630499-81.89415784.jpg\n",
      "Saved image to tmp/satellite/imsat_26.4053009-81.88809154.jpg\n",
      "Saved image to tmp/satellite/imsat_26.40929991-81.88618155.jpg\n",
      "Saved image to tmp/satellite/imsat_26.40673158-81.89324125.jpg\n",
      "Saved image to tmp/satellite/imsat_26.41101171-81.90046024.jpg\n"
     ]
    },
    {
     "name": "stderr",
     "output_type": "stream",
     "text": [
      "Obtaining satellite imagery:   7%|▊          | 231/3102 [00:03<00:49, 57.98it/s]"
     ]
    },
    {
     "name": "stdout",
     "output_type": "stream",
     "text": [
      "Saved image to tmp/satellite/imsat_26.41392651-81.89460776.jpg\n",
      "Saved image to tmp/satellite/imsat_26.40920736-81.89705542.jpg\n",
      "Saved image to tmp/satellite/imsat_26.41076036-81.89220335.jpg\n",
      "Saved image to tmp/satellite/imsat_26.40438794-81.88419385.jpg\n",
      "Saved image to tmp/satellite/imsat_26.40492142-81.89421371.jpg\n",
      "Saved image to tmp/satellite/imsat_26.40606039-81.89098965.jpg\n",
      "Saved image to tmp/satellite/imsat_26.41347231-81.89689348.jpg\n",
      "Saved image to tmp/satellite/imsat_26.40922911-81.89908347.jpg\n",
      "Saved image to tmp/satellite/imsat_26.41014416-81.89947502.jpg\n",
      "Saved image to tmp/satellite/imsat_26.41034176-81.90078322.jpg\n",
      "Saved image to tmp/satellite/imsat_26.40820311-81.89428632.jpg\n"
     ]
    },
    {
     "name": "stderr",
     "output_type": "stream",
     "text": [
      "Obtaining satellite imagery:   8%|▉          | 247/3102 [00:03<00:52, 54.71it/s]"
     ]
    },
    {
     "name": "stdout",
     "output_type": "stream",
     "text": [
      "Saved image to tmp/satellite/imsat_26.41225473-81.89879357.jpg\n",
      "Saved image to tmp/satellite/imsat_26.40555556-81.892495.jpg\n",
      "Saved image to tmp/satellite/imsat_26.40953977-81.89952039.jpg\n",
      "Saved image to tmp/satellite/imsat_26.41254602-81.90140105.jpg\n",
      "Saved image to tmp/satellite/imsat_26.4084865-81.89564169.jpg\n",
      "Saved image to tmp/satellite/imsat_26.40747602-81.88424656.jpg\n",
      "Saved image to tmp/satellite/imsat_26.407297-81.89133968.jpg\n",
      "Saved image to tmp/satellite/imsat_26.40810848-81.89450811.jpg\n",
      "Saved image to tmp/satellite/imsat_26.41096615-81.9009186.jpg\n",
      "Saved image to tmp/satellite/imsat_26.40772792-81.88486169.jpg\n",
      "Saved image to tmp/satellite/imsat_26.41354741-81.90098106.jpg\n"
     ]
    },
    {
     "name": "stderr",
     "output_type": "stream",
     "text": [
      "Obtaining satellite imagery:   8%|▉          | 259/3102 [00:04<00:53, 53.00it/s]"
     ]
    },
    {
     "name": "stdout",
     "output_type": "stream",
     "text": [
      "Saved image to tmp/satellite/imsat_26.41194319-81.89684521.jpg\n",
      "Saved image to tmp/satellite/imsat_26.41373994-81.90181711.jpg\n",
      "Saved image to tmp/satellite/imsat_26.40831049-81.89572868.jpg\n",
      "Saved image to tmp/satellite/imsat_26.40796526-81.88753266.jpg\n",
      "Saved image to tmp/satellite/imsat_26.40533802-81.89184409.jpg\n",
      "Saved image to tmp/satellite/imsat_26.40781133-81.89446926.jpg\n",
      "Saved image to tmp/satellite/imsat_26.41048876-81.8981404.jpg\n",
      "Saved image to tmp/satellite/imsat_26.41122224-81.89880031.jpg\n",
      "Saved image to tmp/satellite/imsat_26.4077872-81.89421393.jpg\n",
      "Saved image to tmp/satellite/imsat_26.41395477-81.89401222.jpg\n",
      "Saved image to tmp/satellite/imsat_26.40813568-81.89533771.jpg\n",
      "Saved image to tmp/satellite/imsat_26.41093398-81.89863917.jpg\n"
     ]
    },
    {
     "name": "stderr",
     "output_type": "stream",
     "text": [
      "Obtaining satellite imagery:   9%|▉          | 267/3102 [00:04<00:49, 57.76it/s]"
     ]
    },
    {
     "name": "stdout",
     "output_type": "stream",
     "text": [
      "Saved image to tmp/satellite/imsat_26.40785734-81.8949712.jpg\n",
      "Saved image to tmp/satellite/imsat_26.41205095-81.89242803.jpg\n",
      "Saved image to tmp/satellite/imsat_26.41250275-81.89834766.jpg\n",
      "Saved image to tmp/satellite/imsat_26.40821764-81.88670618.jpg\n",
      "Saved image to tmp/satellite/imsat_26.41273663-81.89302275.jpg\n",
      "Saved image to tmp/satellite/imsat_26.40874462-81.88510005.jpg\n"
     ]
    },
    {
     "name": "stderr",
     "output_type": "stream",
     "text": [
      "Obtaining satellite imagery:   9%|▉          | 273/3102 [00:04<02:05, 22.48it/s]"
     ]
    },
    {
     "name": "stdout",
     "output_type": "stream",
     "text": [
      "Saved image to tmp/satellite/imsat_26.40776592-81.88418176.jpg\n",
      "Saved image to tmp/satellite/imsat_26.41263111-81.89922872.jpg\n",
      "Saved image to tmp/satellite/imsat_26.40816806-81.89486306.jpg\n",
      "Saved image to tmp/satellite/imsat_26.40818622-81.88816759.jpg\n",
      "Saved image to tmp/satellite/imsat_26.40744652-81.89471286.jpg\n"
     ]
    },
    {
     "name": "stderr",
     "output_type": "stream",
     "text": [
      "Obtaining satellite imagery:   9%|▉          | 278/3102 [00:05<01:58, 23.92it/s]"
     ]
    },
    {
     "name": "stdout",
     "output_type": "stream",
     "text": [
      "Saved image to tmp/satellite/imsat_26.41031737-81.89931707.jpg\n",
      "Saved image to tmp/satellite/imsat_26.41023775-81.89955063.jpg\n",
      "Saved image to tmp/satellite/imsat_26.41223564-81.89916342.jpg\n",
      "Saved image to tmp/satellite/imsat_26.41387164-81.89731213.jpg\n",
      "Saved image to tmp/satellite/imsat_26.41128898-81.89828928.jpg\n",
      "Saved image to tmp/satellite/imsat_26.41311424-81.90166188.jpg\n"
     ]
    },
    {
     "name": "stderr",
     "output_type": "stream",
     "text": [
      "Obtaining satellite imagery:   9%|█          | 283/3102 [00:05<02:06, 22.26it/s]"
     ]
    },
    {
     "name": "stdout",
     "output_type": "stream",
     "text": [
      "Saved image to tmp/satellite/imsat_26.41217346-81.89550957.jpg\n",
      "Saved image to tmp/satellite/imsat_26.40871781-81.8982648.jpg\n",
      "Saved image to tmp/satellite/imsat_26.41384159-81.89351649.jpg\n",
      "Saved image to tmp/satellite/imsat_26.41255697-81.89437429.jpg\n",
      "Saved image to tmp/satellite/imsat_26.41317351-81.89588891.jpg\n",
      "Saved image to tmp/satellite/imsat_26.40803894-81.88421348.jpg\n",
      "Saved image to tmp/satellite/imsat_26.41228188-81.89507835.jpg\n"
     ]
    },
    {
     "name": "stderr",
     "output_type": "stream",
     "text": [
      "Obtaining satellite imagery:   9%|█          | 291/3102 [00:05<01:54, 24.50it/s]"
     ]
    },
    {
     "name": "stdout",
     "output_type": "stream",
     "text": [
      "Saved image to tmp/satellite/imsat_26.4084905-81.88502996.jpg\n",
      "Saved image to tmp/satellite/imsat_26.40997528-81.89739731.jpg\n",
      "Saved image to tmp/satellite/imsat_26.41296754-81.8966969.jpg\n",
      "Saved image to tmp/satellite/imsat_26.41131504-81.90059164.jpg\n",
      "Saved image to tmp/satellite/imsat_26.41351991-81.89478736.jpg\n",
      "Saved image to tmp/satellite/imsat_26.40935435-81.88530231.jpg\n",
      "Saved image to tmp/satellite/imsat_26.41128609-81.89780805.jpg\n",
      "Saved image to tmp/satellite/imsat_26.41285196-81.89395322.jpg\n"
     ]
    },
    {
     "name": "stderr",
     "output_type": "stream",
     "text": [
      "Obtaining satellite imagery:  10%|█          | 301/3102 [00:05<01:28, 31.69it/s]"
     ]
    },
    {
     "name": "stdout",
     "output_type": "stream",
     "text": [
      "Saved image to tmp/satellite/imsat_26.41257333-81.89345451.jpg\n",
      "Saved image to tmp/satellite/imsat_26.41119478-81.90058423.jpg\n",
      "Saved image to tmp/satellite/imsat_26.41048149-81.89061617.jpg\n",
      "Saved image to tmp/satellite/imsat_26.40958185-81.89758722.jpg\n",
      "Saved image to tmp/satellite/imsat_26.41196842-81.89631338.jpg\n",
      "Saved image to tmp/satellite/imsat_26.40794057-81.88471613.jpg\n",
      "Saved image to tmp/satellite/imsat_26.4096543-81.89984395.jpg\n",
      "Saved image to tmp/satellite/imsat_26.41341063-81.89866241.jpg\n",
      "Saved image to tmp/satellite/imsat_26.40801282-81.88737074.jpg\n",
      "Saved image to tmp/satellite/imsat_26.40814827-81.89465886.jpg\n",
      "Saved image to tmp/satellite/imsat_26.40802573-81.88775448.jpg\n",
      "Saved image to tmp/satellite/imsat_26.41245762-81.89650145.jpg\n",
      "Saved image to tmp/satellite/imsat_26.41085318-81.89243247.jpg\n"
     ]
    },
    {
     "name": "stderr",
     "output_type": "stream",
     "text": [
      "Obtaining satellite imagery:  10%|█          | 312/3102 [00:06<01:40, 27.89it/s]"
     ]
    },
    {
     "name": "stdout",
     "output_type": "stream",
     "text": [
      "Saved image to tmp/satellite/imsat_26.40726676-81.89159711.jpg\n",
      "Saved image to tmp/satellite/imsat_26.4120771-81.89419606.jpg\n",
      "Saved image to tmp/satellite/imsat_26.40811801-81.88441295.jpg\n",
      "Saved image to tmp/satellite/imsat_26.40965474-81.88948719.jpg\n",
      "Saved image to tmp/satellite/imsat_26.41187437-81.89903434.jpg\n",
      "Saved image to tmp/satellite/imsat_26.41387657-81.89958311.jpg\n",
      "Saved image to tmp/satellite/imsat_26.41148801-81.90108023.jpg\n",
      "Saved image to tmp/satellite/imsat_26.41335533-81.8930694.jpg\n",
      "Saved image to tmp/satellite/imsat_26.40787848-81.89476579.jpg\n",
      "Saved image to tmp/satellite/imsat_26.4129356-81.89722402.jpg\n"
     ]
    },
    {
     "name": "stderr",
     "output_type": "stream",
     "text": [
      "Obtaining satellite imagery:  11%|█▏         | 326/3102 [00:06<01:07, 41.20it/s]"
     ]
    },
    {
     "name": "stdout",
     "output_type": "stream",
     "text": [
      "Saved image to tmp/satellite/imsat_26.41324974-81.8970694.jpg\n",
      "Saved image to tmp/satellite/imsat_26.40864517-81.88514337.jpg\n",
      "Saved image to tmp/satellite/imsat_26.40914252-81.88667577.jpg\n",
      "Saved image to tmp/satellite/imsat_26.40784008-81.89619817.jpg\n",
      "Saved image to tmp/satellite/imsat_26.40745232-81.88496461.jpg\n",
      "Saved image to tmp/satellite/imsat_26.4111849-81.89154439.jpg\n",
      "Saved image to tmp/satellite/imsat_26.4075704-81.89741791.jpg\n",
      "Saved image to tmp/satellite/imsat_26.4124348-81.89922862.jpg\n",
      "Saved image to tmp/satellite/imsat_26.40816638-81.89783262.jpg\n",
      "Saved image to tmp/satellite/imsat_26.40772148-81.8963717.jpg\n",
      "Saved image to tmp/satellite/imsat_26.40960306-81.8969915.jpg\n",
      "Saved image to tmp/satellite/imsat_26.40841464-81.89597087.jpg\n"
     ]
    },
    {
     "name": "stderr",
     "output_type": "stream",
     "text": [
      "Obtaining satellite imagery:  11%|█▏         | 337/3102 [00:06<01:03, 43.81it/s]"
     ]
    },
    {
     "name": "stdout",
     "output_type": "stream",
     "text": [
      "Saved image to tmp/satellite/imsat_26.41557288-81.89852921.jpg\n",
      "Saved image to tmp/satellite/imsat_26.40909984-81.88506051.jpg\n",
      "Saved image to tmp/satellite/imsat_26.4138835-81.89596699.jpg\n",
      "Saved image to tmp/satellite/imsat_26.41222575-81.89373268.jpg\n",
      "Saved image to tmp/satellite/imsat_26.41528305-81.90205601.jpg\n",
      "Saved image to tmp/satellite/imsat_26.41065965-81.89859784.jpg\n",
      "Saved image to tmp/satellite/imsat_26.41358732-81.89422437.jpg\n",
      "Saved image to tmp/satellite/imsat_26.40808758-81.89404225.jpg\n",
      "Saved image to tmp/satellite/imsat_26.42054179-81.89748417.jpg\n",
      "Saved image to tmp/satellite/imsat_26.41950692-81.89647212.jpg\n",
      "Saved image to tmp/satellite/imsat_26.4155253-81.90140066.jpg\n"
     ]
    },
    {
     "name": "stderr",
     "output_type": "stream",
     "text": [
      "Obtaining satellite imagery:  11%|█▏         | 352/3102 [00:07<00:48, 56.76it/s]"
     ]
    },
    {
     "name": "stdout",
     "output_type": "stream",
     "text": [
      "Saved image to tmp/satellite/imsat_26.41323029-81.89542723.jpg\n",
      "Saved image to tmp/satellite/imsat_26.41213652-81.89798287.jpg\n",
      "Saved image to tmp/satellite/imsat_26.41990288-81.90090878.jpg\n",
      "Saved image to tmp/satellite/imsat_26.42026931-81.90109523.jpg\n",
      "Saved image to tmp/satellite/imsat_26.41208782-81.90125872.jpg\n",
      "Saved image to tmp/satellite/imsat_26.4140085-81.89906974.jpg\n",
      "Saved image to tmp/satellite/imsat_26.42014525-81.8960895.jpg\n",
      "Saved image to tmp/satellite/imsat_26.41928983-81.89757772.jpg\n",
      "Saved image to tmp/satellite/imsat_26.41859977-81.90266875.jpg\n",
      "Saved image to tmp/satellite/imsat_26.41785707-81.90233798.jpg\n",
      "Saved image to tmp/satellite/imsat_26.41894909-81.89607262.jpg\n",
      "Saved image to tmp/satellite/imsat_26.41474083-81.89556872.jpg\n",
      "Saved image to tmp/satellite/imsat_26.41757972-81.89889775.jpg\n",
      "Saved image to tmp/satellite/imsat_26.4181194-81.90260753.jpg\n",
      "Saved image to tmp/satellite/imsat_26.42085764-81.90183189.jpg\n"
     ]
    },
    {
     "name": "stderr",
     "output_type": "stream",
     "text": [
      "Obtaining satellite imagery:  12%|█▎         | 364/3102 [00:07<00:49, 55.71it/s]"
     ]
    },
    {
     "name": "stdout",
     "output_type": "stream",
     "text": [
      "Saved image to tmp/satellite/imsat_26.42042937-81.89701227.jpg\n",
      "Saved image to tmp/satellite/imsat_26.4208987-81.90011148.jpg\n",
      "Saved image to tmp/satellite/imsat_26.41496497-81.89516876.jpg\n",
      "Saved image to tmp/satellite/imsat_26.419328-81.90059389.jpg\n",
      "Saved image to tmp/satellite/imsat_26.41558066-81.89776926.jpg\n",
      "Saved image to tmp/satellite/imsat_26.41560178-81.89581869.jpg\n",
      "Saved image to tmp/satellite/imsat_26.41563362-81.90160754.jpg\n",
      "Saved image to tmp/satellite/imsat_26.409374-81.88831821.jpg\n",
      "Saved image to tmp/satellite/imsat_26.41974833-81.90134847.jpg\n",
      "Saved image to tmp/satellite/imsat_26.41557654-81.89736074.jpg\n",
      "Saved image to tmp/satellite/imsat_26.42004394-81.90024862.jpg\n",
      "Saved image to tmp/satellite/imsat_26.4099285-81.89945092.jpg\n"
     ]
    },
    {
     "name": "stderr",
     "output_type": "stream",
     "text": [
      "Obtaining satellite imagery:  12%|█▎         | 374/3102 [00:07<00:42, 64.59it/s]"
     ]
    },
    {
     "name": "stdout",
     "output_type": "stream",
     "text": [
      "Saved image to tmp/satellite/imsat_26.41683352-81.9002985.jpgSaved image to tmp/satellite/imsat_26.4201191-81.89848998.jpg\n",
      "\n",
      "Saved image to tmp/satellite/imsat_26.41897327-81.89574873.jpg\n",
      "Saved image to tmp/satellite/imsat_26.41742029-81.89971098.jpg\n",
      "Saved image to tmp/satellite/imsat_26.41944679-81.89550872.jpg\n",
      "Saved image to tmp/satellite/imsat_26.41760018-81.8980369.jpg\n",
      "Saved image to tmp/satellite/imsat_26.42090575-81.89769557.jpg\n",
      "Saved image to tmp/satellite/imsat_26.4172461-81.90216622.jpg\n",
      "Saved image to tmp/satellite/imsat_26.41986556-81.89965955.jpg\n",
      "Saved image to tmp/satellite/imsat_26.4193075-81.8984982.jpg\n",
      "Saved image to tmp/satellite/imsat_26.41551957-81.89617496.jpg\n",
      "Saved image to tmp/satellite/imsat_26.41890541-81.89799873.jpg\n",
      "Saved image to tmp/satellite/imsat_26.41039527-81.89719644.jpg\n",
      "Saved image to tmp/satellite/imsat_26.41629761-81.90032695.jpg\n"
     ]
    },
    {
     "name": "stderr",
     "output_type": "stream",
     "text": [
      "Obtaining satellite imagery:  13%|█▍         | 389/3102 [00:07<00:44, 60.67it/s]"
     ]
    },
    {
     "name": "stdout",
     "output_type": "stream",
     "text": [
      "Saved image to tmp/satellite/imsat_26.4104476-81.89998915.jpg\n",
      "Saved image to tmp/satellite/imsat_26.41764671-81.90275277.jpg\n",
      "Saved image to tmp/satellite/imsat_26.41509075-81.89470703.jpg\n",
      "Saved image to tmp/satellite/imsat_26.42064304-81.89933987.jpg\n",
      "Saved image to tmp/satellite/imsat_26.4148416-81.8979074.jpg\n",
      "Saved image to tmp/satellite/imsat_26.41897689-81.90185974.jpg\n",
      "Saved image to tmp/satellite/imsat_26.41797828-81.90212965.jpg\n",
      "Saved image to tmp/satellite/imsat_26.41823609-81.90240278.jpg\n",
      "Saved image to tmp/satellite/imsat_26.41903977-81.90096325.jpg\n",
      "Saved image to tmp/satellite/imsat_26.41784651-81.90131902.jpg\n",
      "Saved image to tmp/satellite/imsat_26.41985413-81.89888802.jpg\n",
      "Saved image to tmp/satellite/imsat_26.41579809-81.90159179.jpg\n",
      "Saved image to tmp/satellite/imsat_26.41970119-81.90082113.jpg\n",
      "Saved image to tmp/satellite/imsat_26.41820364-81.90091218.jpg\n"
     ]
    },
    {
     "name": "stderr",
     "output_type": "stream",
     "text": [
      "Obtaining satellite imagery:  13%|█▍         | 404/3102 [00:07<00:46, 57.88it/s]"
     ]
    },
    {
     "name": "stdout",
     "output_type": "stream",
     "text": [
      "Saved image to tmp/satellite/imsat_26.41887982-81.90011677.jpg\n",
      "Saved image to tmp/satellite/imsat_26.42072385-81.89760208.jpg\n",
      "Saved image to tmp/satellite/imsat_26.41932909-81.89640839.jpg\n",
      "Saved image to tmp/satellite/imsat_26.41912962-81.89494075.jpg\n",
      "Saved image to tmp/satellite/imsat_26.41952427-81.90119753.jpg\n",
      "Saved image to tmp/satellite/imsat_26.41936366-81.90349364.jpg\n",
      "Saved image to tmp/satellite/imsat_26.41933235-81.89712751.jpg\n",
      "Saved image to tmp/satellite/imsat_26.41986182-81.89844145.jpg\n",
      "Saved image to tmp/satellite/imsat_26.4147169-81.8947254.jpg\n",
      "Saved image to tmp/satellite/imsat_26.41506397-81.89578341.jpg\n",
      "Saved image to tmp/satellite/imsat_26.41751667-81.90245834.jpg\n",
      "Saved image to tmp/satellite/imsat_26.42083963-81.90084077.jpg\n",
      "Saved image to tmp/satellite/imsat_26.41496813-81.89541224.jpg\n",
      "Saved image to tmp/satellite/imsat_26.42036669-81.89614557.jpg\n"
     ]
    },
    {
     "name": "stderr",
     "output_type": "stream",
     "text": [
      "Obtaining satellite imagery:  13%|█▍         | 414/3102 [00:07<00:39, 67.57it/s]"
     ]
    },
    {
     "name": "stdout",
     "output_type": "stream",
     "text": [
      "Saved image to tmp/satellite/imsat_26.41887785-81.89689199.jpgSaved image to tmp/satellite/imsat_26.41929852-81.9020195.jpg\n",
      "\n",
      "Saved image to tmp/satellite/imsat_26.41556626-81.8981797.jpg\n",
      "Saved image to tmp/satellite/imsat_26.42016421-81.89905528.jpg\n",
      "Saved image to tmp/satellite/imsat_26.41844411-81.90278006.jpg\n",
      "Saved image to tmp/satellite/imsat_26.42034408-81.89739076.jpg\n",
      "Saved image to tmp/satellite/imsat_26.41944198-81.89585509.jpg\n",
      "Saved image to tmp/satellite/imsat_26.41985685-81.89766568.jpg\n",
      "Saved image to tmp/satellite/imsat_26.41935034-81.8978051.jpg\n",
      "Saved image to tmp/satellite/imsat_26.41888242-81.90043458.jpg\n",
      "Saved image to tmp/satellite/imsat_26.41829347-81.90264305.jpg\n",
      "Saved image to tmp/satellite/imsat_26.41999737-81.90147721.jpg\n"
     ]
    },
    {
     "name": "stderr",
     "output_type": "stream",
     "text": [
      "Obtaining satellite imagery:  14%|█▌         | 430/3102 [00:08<00:46, 57.99it/s]"
     ]
    },
    {
     "name": "stdout",
     "output_type": "stream",
     "text": [
      "Saved image to tmp/satellite/imsat_26.42004588-81.90342189.jpg\n",
      "Saved image to tmp/satellite/imsat_26.42054562-81.90201431.jpg\n",
      "Saved image to tmp/satellite/imsat_26.42081375-81.90461591.jpg\n",
      "Saved image to tmp/satellite/imsat_26.4193259-81.9001183.jpg\n",
      "Saved image to tmp/satellite/imsat_26.41956909-81.90391783.jpg\n",
      "Saved image to tmp/satellite/imsat_26.4150033-81.89991395.jpg\n",
      "Saved image to tmp/satellite/imsat_26.41742491-81.90095945.jpg\n",
      "Saved image to tmp/satellite/imsat_26.41491615-81.89844492.jpg\n",
      "Saved image to tmp/satellite/imsat_26.42088473-81.90061166.jpg\n",
      "Saved image to tmp/satellite/imsat_26.41458271-81.9019228.jpg\n",
      "Saved image to tmp/satellite/imsat_26.41645384-81.90087462.jpg\n"
     ]
    },
    {
     "name": "stderr",
     "output_type": "stream",
     "text": [
      "Obtaining satellite imagery:  14%|█▌         | 437/3102 [00:08<00:48, 55.30it/s]"
     ]
    },
    {
     "name": "stdout",
     "output_type": "stream",
     "text": [
      "Saved image to tmp/satellite/imsat_26.4208506-81.90255264.jpg\n",
      "Saved image to tmp/satellite/imsat_26.42014234-81.89728998.jpg\n",
      "Saved image to tmp/satellite/imsat_26.4207973-81.89821842.jpg\n",
      "Saved image to tmp/satellite/imsat_26.42073392-81.901707.jpg\n",
      "Saved image to tmp/satellite/imsat_26.42058805-81.90112492.jpg\n",
      "Saved image to tmp/satellite/imsat_26.42021791-81.89690476.jpg\n"
     ]
    },
    {
     "name": "stderr",
     "output_type": "stream",
     "text": [
      "Obtaining satellite imagery:  14%|█▌         | 443/3102 [00:08<01:26, 30.91it/s]"
     ]
    },
    {
     "name": "stdout",
     "output_type": "stream",
     "text": [
      "Saved image to tmp/satellite/imsat_26.41556649-81.89928153.jpg\n",
      "Saved image to tmp/satellite/imsat_26.41932728-81.89895662.jpg\n",
      "Saved image to tmp/satellite/imsat_26.42004111-81.8966957.jpg\n",
      "Saved image to tmp/satellite/imsat_26.42085484-81.89697513.jpg\n",
      "Saved image to tmp/satellite/imsat_26.41557545-81.89693435.jpg\n"
     ]
    },
    {
     "name": "stderr",
     "output_type": "stream",
     "text": [
      "Obtaining satellite imagery:  14%|█▌         | 448/3102 [00:09<01:27, 30.48it/s]"
     ]
    },
    {
     "name": "stdout",
     "output_type": "stream",
     "text": [
      "Saved image to tmp/satellite/imsat_26.41554603-81.89981186.jpg\n",
      "Saved image to tmp/satellite/imsat_26.41560493-81.8988321.jpg\n",
      "Saved image to tmp/satellite/imsat_26.41837646-81.90315324.jpg\n",
      "Saved image to tmp/satellite/imsat_26.42025308-81.89791639.jpg\n",
      "Saved image to tmp/satellite/imsat_26.42044046-81.89865628.jpg\n",
      "Saved image to tmp/satellite/imsat_26.42084588-81.89941709.jpg\n",
      "Saved image to tmp/satellite/imsat_26.41949769-81.90027248.jpg\n",
      "Saved image to tmp/satellite/imsat_26.42012943-81.89966944.jpg\n",
      "Saved image to tmp/satellite/imsat_26.42006877-81.90099932.jpg\n",
      "Saved image to tmp/satellite/imsat_26.41491094-81.89672356.jpg\n",
      "Saved image to tmp/satellite/imsat_26.41477921-81.89727118.jpg\n",
      "Saved image to tmp/satellite/imsat_26.41497528-81.8935178.jpg\n"
     ]
    },
    {
     "name": "stderr",
     "output_type": "stream",
     "text": [
      "Obtaining satellite imagery:  15%|█▋         | 462/3102 [00:09<01:05, 40.16it/s]"
     ]
    },
    {
     "name": "stdout",
     "output_type": "stream",
     "text": [
      "Saved image to tmp/satellite/imsat_26.42004809-81.89781472.jpg\n",
      "Saved image to tmp/satellite/imsat_26.42032132-81.89984228.jpg\n",
      "Saved image to tmp/satellite/imsat_26.41887778-81.89768478.jpg\n",
      "Saved image to tmp/satellite/imsat_26.41929063-81.89827333.jpg\n",
      "Saved image to tmp/satellite/imsat_26.41928236-81.89986728.jpg\n",
      "Saved image to tmp/satellite/imsat_26.41686402-81.90238391.jpg\n",
      "Saved image to tmp/satellite/imsat_26.41561318-81.89457828.jpg\n",
      "Saved image to tmp/satellite/imsat_26.41908083-81.90326801.jpg\n",
      "Saved image to tmp/satellite/imsat_26.41908563-81.89520851.jpg\n",
      "Saved image to tmp/satellite/imsat_26.41429092-81.90115816.jpg\n",
      "Saved image to tmp/satellite/imsat_26.42026894-81.90157426.jpg\n",
      "Saved image to tmp/satellite/imsat_26.41886786-81.89858959.jpg\n",
      "Saved image to tmp/satellite/imsat_26.42028767-81.89673993.jpg\n"
     ]
    },
    {
     "name": "stderr",
     "output_type": "stream",
     "text": [
      "Obtaining satellite imagery:  15%|█▋         | 470/3102 [00:09<01:10, 37.43it/s]"
     ]
    },
    {
     "name": "stdout",
     "output_type": "stream",
     "text": [
      "Saved image to tmp/satellite/imsat_26.41949049-81.8969614.jpg\n",
      "Saved image to tmp/satellite/imsat_26.41479266-81.89446718.jpg\n",
      "Saved image to tmp/satellite/imsat_26.41888044-81.89891172.jpg\n",
      "Saved image to tmp/satellite/imsat_26.42062966-81.89810335.jpg\n",
      "Saved image to tmp/satellite/imsat_26.41932758-81.89964031.jpg\n"
     ]
    },
    {
     "name": "stderr",
     "output_type": "stream",
     "text": [
      "Obtaining satellite imagery:  16%|█▋         | 482/3102 [00:09<01:16, 34.18it/s]"
     ]
    },
    {
     "name": "stdout",
     "output_type": "stream",
     "text": [
      "Saved image to tmp/satellite/imsat_26.42051609-81.89995788.jpg\n",
      "Saved image to tmp/satellite/imsat_26.41479227-81.8961769.jpg\n",
      "Saved image to tmp/satellite/imsat_26.41929591-81.89688743.jpg\n",
      "Saved image to tmp/satellite/imsat_26.41464941-81.90105553.jpg\n",
      "Saved image to tmp/satellite/imsat_26.41888776-81.89738802.jpg\n",
      "Saved image to tmp/satellite/imsat_26.41889299-81.89951293.jpg\n",
      "Saved image to tmp/satellite/imsat_26.41934348-81.89665024.jpg\n",
      "Saved image to tmp/satellite/imsat_26.41820862-81.90161117.jpg\n",
      "Saved image to tmp/satellite/imsat_26.41662654-81.90237407.jpg\n",
      "Saved image to tmp/satellite/imsat_26.4198587-81.89719275.jpg\n",
      "Saved image to tmp/satellite/imsat_26.42070963-81.89879829.jpg\n",
      "Saved image to tmp/satellite/imsat_26.41889124-81.89919214.jpg\n",
      "Saved image to tmp/satellite/imsat_26.42089306-81.89891524.jpg\n",
      "Saved image to tmp/satellite/imsat_26.42057957-81.89632966.jpg\n",
      "Saved image to tmp/satellite/imsat_26.41931623-81.89873086.jpg\n",
      "Saved image to tmp/satellite/imsat_26.41569529-81.90143959.jpg\n"
     ]
    },
    {
     "name": "stderr",
     "output_type": "stream",
     "text": [
      "Obtaining satellite imagery:  16%|█▊         | 494/3102 [00:10<01:23, 31.09it/s]"
     ]
    },
    {
     "name": "stdout",
     "output_type": "stream",
     "text": [
      "Saved image to tmp/satellite/imsat_26.42057557-81.89686958.jpg\n",
      "Saved image to tmp/satellite/imsat_26.42055199-81.89706449.jpg\n",
      "Saved image to tmp/satellite/imsat_26.4187855-81.90328144.jpg\n",
      "Saved image to tmp/satellite/imsat_26.41561178-81.89539928.jpg\n",
      "Saved image to tmp/satellite/imsat_26.41948177-81.90170681.jpg\n"
     ]
    },
    {
     "name": "stderr",
     "output_type": "stream",
     "text": [
      "Obtaining satellite imagery:  16%|█▊         | 500/3102 [00:10<01:26, 30.04it/s]"
     ]
    },
    {
     "name": "stdout",
     "output_type": "stream",
     "text": [
      "Saved image to tmp/satellite/imsat_26.41931946-81.89734099.jpg\n",
      "Saved image to tmp/satellite/imsat_26.41890226-81.89638914.jpg\n",
      "Saved image to tmp/satellite/imsat_26.41473223-81.89497993.jpg\n",
      "Saved image to tmp/satellite/imsat_26.418887-81.90072583.jpg\n",
      "Saved image to tmp/satellite/imsat_26.41970284-81.9042183.jpg\n",
      "Saved image to tmp/satellite/imsat_26.41951003-81.90206052.jpg\n",
      "Saved image to tmp/satellite/imsat_26.41926038-81.90108804.jpg\n",
      "Saved image to tmp/satellite/imsat_26.41614046-81.89973935.jpg\n",
      "Saved image to tmp/satellite/imsat_26.42039019-81.90214291.jpg\n",
      "Saved image to tmp/satellite/imsat_26.42062615-81.90050299.jpg\n"
     ]
    },
    {
     "name": "stderr",
     "output_type": "stream",
     "text": [
      "Obtaining satellite imagery:  17%|█▊         | 513/3102 [00:10<01:03, 40.78it/s]"
     ]
    },
    {
     "name": "stdout",
     "output_type": "stream",
     "text": [
      "Saved image to tmp/satellite/imsat_26.4155766-81.89653291.jpg\n",
      "Saved image to tmp/satellite/imsat_26.41986196-81.90204313.jpg\n",
      "Saved image to tmp/satellite/imsat_26.41729445-81.89739486.jpg\n",
      "Saved image to tmp/satellite/imsat_26.42044495-81.89798338.jpg\n",
      "Saved image to tmp/satellite/imsat_26.41933605-81.89930646.jpg\n",
      "Saved image to tmp/satellite/imsat_26.41560425-81.8949861.jpg\n",
      "Saved image to tmp/satellite/imsat_26.41922597-81.90293591.jpg\n",
      "Saved image to tmp/satellite/imsat_26.41772882-81.90062328.jpg\n",
      "Saved image to tmp/satellite/imsat_26.41949162-81.89514554.jpg\n",
      "Saved image to tmp/satellite/imsat_26.42028109-81.90033424.jpg\n",
      "Saved image to tmp/satellite/imsat_26.42077344-81.89715712.jpg\n",
      "Saved image to tmp/satellite/imsat_26.41937412-81.89614245.jpg\n",
      "Saved image to tmp/satellite/imsat_26.4174267-81.90026894.jpg\n"
     ]
    },
    {
     "name": "stderr",
     "output_type": "stream",
     "text": [
      "Obtaining satellite imagery:  17%|█▊         | 521/3102 [00:10<00:58, 44.45it/s]"
     ]
    },
    {
     "name": "stdout",
     "output_type": "stream",
     "text": [
      "Saved image to tmp/satellite/imsat_26.41759934-81.89723599.jpg\n",
      "Saved image to tmp/satellite/imsat_26.41889528-81.89981143.jpg\n",
      "Saved image to tmp/satellite/imsat_26.42084604-81.89642836.jpg\n",
      "Saved image to tmp/satellite/imsat_26.41951572-81.90069322.jpg\n",
      "Saved image to tmp/satellite/imsat_26.41567694-81.90036342.jpg\n",
      "Saved image to tmp/satellite/imsat_26.41503906-81.9018868.jpg\n",
      "Saved image to tmp/satellite/imsat_26.41904279-81.89545198.jpg\n",
      "Saved image to tmp/satellite/imsat_26.4176386-81.89655865.jpg\n",
      "Saved image to tmp/satellite/imsat_26.41690829-81.90054912.jpg\n",
      "Saved image to tmp/satellite/imsat_26.41933851-81.90032124.jpg\n",
      "Saved image to tmp/satellite/imsat_26.41543781-81.90159172.jpg\n",
      "Saved image to tmp/satellite/imsat_26.42068572-81.90004131.jpg\n"
     ]
    },
    {
     "name": "stderr",
     "output_type": "stream",
     "text": [
      "Obtaining satellite imagery:  17%|█▉         | 536/3102 [00:11<00:51, 49.48it/s]"
     ]
    },
    {
     "name": "stdout",
     "output_type": "stream",
     "text": [
      "Saved image to tmp/satellite/imsat_26.42402331-81.90172378.jpg\n",
      "Saved image to tmp/satellite/imsat_26.42221546-81.90063274.jpg\n",
      "Saved image to tmp/satellite/imsat_26.4221931-81.90254749.jpg\n",
      "Saved image to tmp/satellite/imsat_26.42126584-81.90196309.jpg\n",
      "Saved image to tmp/satellite/imsat_26.41751532-81.90131272.jpg\n",
      "Saved image to tmp/satellite/imsat_26.42415587-81.90691997.jpg\n",
      "Saved image to tmp/satellite/imsat_26.42394398-81.90022417.jpg\n",
      "Saved image to tmp/satellite/imsat_26.42284143-81.89749137.jpg\n",
      "Saved image to tmp/satellite/imsat_26.42269035-81.90264602.jpg\n",
      "Saved image to tmp/satellite/imsat_26.4204377-81.90420259.jpg\n"
     ]
    },
    {
     "name": "stderr",
     "output_type": "stream",
     "text": [
      "Obtaining satellite imagery:  17%|█▉         | 542/3102 [00:11<01:00, 42.02it/s]"
     ]
    },
    {
     "name": "stdout",
     "output_type": "stream",
     "text": [
      "Saved image to tmp/satellite/imsat_26.41889873-81.89832038.jpg\n",
      "Saved image to tmp/satellite/imsat_26.42603671-81.90353282.jpg\n",
      "Saved image to tmp/satellite/imsat_26.41644443-81.90203389.jpg\n",
      "Saved image to tmp/satellite/imsat_26.4224653-81.8996788.jpg\n",
      "Saved image to tmp/satellite/imsat_26.42137131-81.8985025.jpg\n",
      "Saved image to tmp/satellite/imsat_26.42284341-81.90054287.jpg\n",
      "Saved image to tmp/satellite/imsat_26.42415828-81.90467615.jpg\n",
      "Saved image to tmp/satellite/imsat_26.42189047-81.90301052.jpg\n",
      "Saved image to tmp/satellite/imsat_26.42352718-81.90408164.jpg\n",
      "Saved image to tmp/satellite/imsat_26.42615885-81.9033848.jpg\n",
      "Saved image to tmp/satellite/imsat_26.4210907-81.8965654.jpg\n",
      "Saved image to tmp/satellite/imsat_26.42439997-81.90520005.jpg\n",
      "Saved image to tmp/satellite/imsat_26.42353887-81.90319605.jpg\n"
     ]
    },
    {
     "name": "stderr",
     "output_type": "stream",
     "text": [
      "Obtaining satellite imagery:  18%|█▉         | 557/3102 [00:11<00:41, 60.84it/s]"
     ]
    },
    {
     "name": "stdout",
     "output_type": "stream",
     "text": [
      "Saved image to tmp/satellite/imsat_26.41929573-81.89804886.jpg\n",
      "Saved image to tmp/satellite/imsat_26.42515398-81.90200385.jpg\n",
      "Saved image to tmp/satellite/imsat_26.42419129-81.89981163.jpg\n",
      "Saved image to tmp/satellite/imsat_26.42605072-81.90418674.jpg\n",
      "Saved image to tmp/satellite/imsat_26.4257823-81.90910188.jpg\n",
      "Saved image to tmp/satellite/imsat_26.42683953-81.90784096.jpg\n",
      "Saved image to tmp/satellite/imsat_26.42259645-81.90007632.jpg\n",
      "Saved image to tmp/satellite/imsat_26.42446318-81.9063469.jpg\n",
      "Saved image to tmp/satellite/imsat_26.42491861-81.9058508.jpg\n",
      "Saved image to tmp/satellite/imsat_26.42524407-81.9075308.jpg\n"
     ]
    },
    {
     "name": "stderr",
     "output_type": "stream",
     "text": [
      "Obtaining satellite imagery:  19%|██         | 578/3102 [00:11<00:40, 62.58it/s]"
     ]
    },
    {
     "name": "stdout",
     "output_type": "stream",
     "text": [
      "Saved image to tmp/satellite/imsat_26.42481154-81.90388443.jpg\n",
      "Saved image to tmp/satellite/imsat_26.42492576-81.90296405.jpg\n",
      "Saved image to tmp/satellite/imsat_26.42148061-81.90161095.jpg\n",
      "Saved image to tmp/satellite/imsat_26.42206294-81.9016461.jpg\n",
      "Saved image to tmp/satellite/imsat_26.42348542-81.89977721.jpg\n",
      "Saved image to tmp/satellite/imsat_26.4216648-81.90041782.jpg\n",
      "Saved image to tmp/satellite/imsat_26.42234227-81.89720194.jpg\n",
      "Saved image to tmp/satellite/imsat_26.42118401-81.8983634.jpg\n",
      "Saved image to tmp/satellite/imsat_26.42393533-81.90727711.jpg\n",
      "Saved image to tmp/satellite/imsat_26.42131247-81.89725543.jpg\n",
      "Saved image to tmp/satellite/imsat_26.4244355-81.90252023.jpg\n",
      "Saved image to tmp/satellite/imsat_26.42296458-81.90427511.jpg\n",
      "Saved image to tmp/satellite/imsat_26.42343777-81.90166168.jpg\n",
      "Saved image to tmp/satellite/imsat_26.42672011-81.90489617.jpg\n",
      "Saved image to tmp/satellite/imsat_26.42513343-81.90716675.jpg\n",
      "Saved image to tmp/satellite/imsat_26.42524514-81.90781053.jpg\n",
      "Saved image to tmp/satellite/imsat_26.42704435-81.9067193.jpg\n"
     ]
    },
    {
     "name": "stderr",
     "output_type": "stream",
     "text": [
      "Obtaining satellite imagery:  19%|██         | 585/3102 [00:12<00:40, 62.69it/s]"
     ]
    },
    {
     "name": "stdout",
     "output_type": "stream",
     "text": [
      "Saved image to tmp/satellite/imsat_26.4246259-81.90653121.jpg\n",
      "Saved image to tmp/satellite/imsat_26.42334242-81.89910313.jpg\n",
      "Saved image to tmp/satellite/imsat_26.42765212-81.90788669.jpg\n",
      "Saved image to tmp/satellite/imsat_26.42277119-81.90071862.jpg\n",
      "Saved image to tmp/satellite/imsat_26.42322912-81.90359489.jpg\n",
      "Saved image to tmp/satellite/imsat_26.42434542-81.90202521.jpg\n",
      "Saved image to tmp/satellite/imsat_26.42249295-81.89996289.jpg\n",
      "Saved image to tmp/satellite/imsat_26.42330997-81.90271289.jpg\n",
      "Saved image to tmp/satellite/imsat_26.42717186-81.90350043.jpg\n",
      "Saved image to tmp/satellite/imsat_26.42520433-81.90844411.jpg\n",
      "Saved image to tmp/satellite/imsat_26.4241697-81.90232359.jpg\n"
     ]
    },
    {
     "name": "stderr",
     "output_type": "stream",
     "text": [
      "Obtaining satellite imagery:  19%|██▏        | 604/3102 [00:12<00:35, 70.83it/s]"
     ]
    },
    {
     "name": "stdout",
     "output_type": "stream",
     "text": [
      "Saved image to tmp/satellite/imsat_26.42638593-81.90371393.jpg\n",
      "Saved image to tmp/satellite/imsat_26.42256214-81.9021398.jpg\n",
      "Saved image to tmp/satellite/imsat_26.42381189-81.90108582.jpg\n",
      "Saved image to tmp/satellite/imsat_26.42200106-81.90451034.jpg\n",
      "Saved image to tmp/satellite/imsat_26.42521605-81.90254852.jpg\n",
      "Saved image to tmp/satellite/imsat_26.42249793-81.89929642.jpg\n",
      "Saved image to tmp/satellite/imsat_26.42664885-81.90419988.jpg\n",
      "Saved image to tmp/satellite/imsat_26.42214444-81.90223447.jpg\n",
      "Saved image to tmp/satellite/imsat_26.42443802-81.90432569.jpg\n",
      "Saved image to tmp/satellite/imsat_26.42290376-81.90330986.jpg\n",
      "Saved image to tmp/satellite/imsat_26.42767001-81.90873159.jpg\n",
      "Saved image to tmp/satellite/imsat_26.4224132-81.90209854.jpg\n",
      "Saved image to tmp/satellite/imsat_26.42498296-81.90823741.jpg\n",
      "Saved image to tmp/satellite/imsat_26.42396-81.90346404.jpg\n",
      "Saved image to tmp/satellite/imsat_26.42159962-81.90231119.jpg\n",
      "Saved image to tmp/satellite/imsat_26.42130946-81.90009337.jpg\n",
      "Saved image to tmp/satellite/imsat_26.42179407-81.90052435.jpg\n",
      "Saved image to tmp/satellite/imsat_26.42282938-81.90245379.jpg\n"
     ]
    },
    {
     "name": "stderr",
     "output_type": "stream",
     "text": [
      "Obtaining satellite imagery:  20%|██▏        | 619/3102 [00:12<00:40, 61.52it/s]"
     ]
    },
    {
     "name": "stdout",
     "output_type": "stream",
     "text": [
      "Saved image to tmp/satellite/imsat_26.42511894-81.90401094.jpg\n",
      "Saved image to tmp/satellite/imsat_26.42421231-81.90141839.jpg\n",
      "Saved image to tmp/satellite/imsat_26.42262857-81.90191088.jpg\n",
      "Saved image to tmp/satellite/imsat_26.42622731-81.9096278.jpg\n",
      "Saved image to tmp/satellite/imsat_26.42149548-81.90339722.jpg\n",
      "Saved image to tmp/satellite/imsat_26.42437785-81.90667396.jpg\n",
      "Saved image to tmp/satellite/imsat_26.42686012-81.91005465.jpg\n",
      "Saved image to tmp/satellite/imsat_26.42384181-81.90273186.jpg\n",
      "Saved image to tmp/satellite/imsat_26.42574102-81.90544281.jpg\n",
      "Saved image to tmp/satellite/imsat_26.4242638-81.90216286.jpg\n",
      "Saved image to tmp/satellite/imsat_26.42094656-81.90142776.jpg\n",
      "Saved image to tmp/satellite/imsat_26.42581091-81.90622247.jpg\n",
      "Saved image to tmp/satellite/imsat_26.42467852-81.90253877.jpg\n"
     ]
    },
    {
     "name": "stderr",
     "output_type": "stream",
     "text": [
      "Obtaining satellite imagery:  21%|██▎        | 638/3102 [00:12<00:35, 70.11it/s]"
     ]
    },
    {
     "name": "stdout",
     "output_type": "stream",
     "text": [
      "Saved image to tmp/satellite/imsat_26.42312076-81.90374063.jpg\n",
      "Saved image to tmp/satellite/imsat_26.42511924-81.9033594.jpg\n",
      "Saved image to tmp/satellite/imsat_26.4209878-81.89828983.jpg\n",
      "Saved image to tmp/satellite/imsat_26.42312511-81.89937514.jpg\n",
      "Saved image to tmp/satellite/imsat_26.42602838-81.90271803.jpg\n",
      "Saved image to tmp/satellite/imsat_26.42436397-81.90297782.jpg\n",
      "Saved image to tmp/satellite/imsat_26.4231094-81.90129639.jpg\n",
      "Saved image to tmp/satellite/imsat_26.4232455-81.89924992.jpg\n",
      "Saved image to tmp/satellite/imsat_26.42594908-81.9051301.jpg\n",
      "Saved image to tmp/satellite/imsat_26.42270853-81.90488618.jpg\n",
      "Saved image to tmp/satellite/imsat_26.42306954-81.90391006.jpg\n",
      "Saved image to tmp/satellite/imsat_26.42335551-81.90346931.jpg\n",
      "Saved image to tmp/satellite/imsat_26.42492207-81.90754261.jpg\n",
      "Saved image to tmp/satellite/imsat_26.42557281-81.90416718.jpg\n",
      "Saved image to tmp/satellite/imsat_26.42138252-81.90469901.jpg\n",
      "Saved image to tmp/satellite/imsat_26.4277142-81.9094153.jpg\n",
      "Saved image to tmp/satellite/imsat_26.42637519-81.90312354.jpg\n"
     ]
    },
    {
     "name": "stderr",
     "output_type": "stream",
     "text": [
      "Obtaining satellite imagery:  21%|██▎        | 646/3102 [00:12<00:37, 64.73it/s]"
     ]
    },
    {
     "name": "stdout",
     "output_type": "stream",
     "text": [
      "Saved image to tmp/satellite/imsat_26.42174419-81.89867495.jpg\n",
      "Saved image to tmp/satellite/imsat_26.42184778-81.90111955.jpg\n",
      "Saved image to tmp/satellite/imsat_26.42758194-81.90470346.jpg\n",
      "Saved image to tmp/satellite/imsat_26.42366305-81.90210787.jpg\n",
      "Saved image to tmp/satellite/imsat_26.42719174-81.90910959.jpg\n",
      "Saved image to tmp/satellite/imsat_26.42295563-81.9015037.jpg\n",
      "Saved image to tmp/satellite/imsat_26.42323522-81.90194659.jpg\n",
      "Saved image to tmp/satellite/imsat_26.42379814-81.90450098.jpg\n",
      "Saved image to tmp/satellite/imsat_26.42228103-81.89968132.jpg\n",
      "Saved image to tmp/satellite/imsat_26.42134572-81.89669856.jpg\n",
      "Saved image to tmp/satellite/imsat_26.42197248-81.90096349.jpg\n"
     ]
    },
    {
     "name": "stderr",
     "output_type": "stream",
     "text": [
      "Obtaining satellite imagery:  21%|██▎        | 661/3102 [00:13<00:39, 61.07it/s]"
     ]
    },
    {
     "name": "stdout",
     "output_type": "stream",
     "text": [
      "Saved image to tmp/satellite/imsat_26.42355184-81.89885338.jpg\n",
      "Saved image to tmp/satellite/imsat_26.4225106-81.90517312.jpg\n",
      "Saved image to tmp/satellite/imsat_26.42405772-81.90611843.jpg\n",
      "Saved image to tmp/satellite/imsat_26.42522927-81.9038517.jpg\n",
      "Saved image to tmp/satellite/imsat_26.42626405-81.90387507.jpg\n",
      "Saved image to tmp/satellite/imsat_26.42342537-81.90088397.jpg\n",
      "Saved image to tmp/satellite/imsat_26.42364482-81.90395825.jpg\n",
      "Saved image to tmp/satellite/imsat_26.42333353-81.90180963.jpg\n",
      "Saved image to tmp/satellite/imsat_26.42271158-81.89995234.jpg\n",
      "Saved image to tmp/satellite/imsat_26.42609742-81.90940998.jpg\n",
      "Saved image to tmp/satellite/imsat_26.42488923-81.90431449.jpg\n",
      "Saved image to tmp/satellite/imsat_26.4259887-81.90915272.jpg\n",
      "Saved image to tmp/satellite/imsat_26.42161609-81.90434069.jpg\n",
      "Saved image to tmp/satellite/imsat_26.42112586-81.90284359.jpg\n"
     ]
    },
    {
     "name": "stderr",
     "output_type": "stream",
     "text": [
      "Obtaining satellite imagery:  22%|██▍        | 678/3102 [00:13<00:34, 71.27it/s]"
     ]
    },
    {
     "name": "stdout",
     "output_type": "stream",
     "text": [
      "Saved image to tmp/satellite/imsat_26.42569134-81.90887776.jpg\n",
      "Saved image to tmp/satellite/imsat_26.42365281-81.89955046.jpg\n",
      "Saved image to tmp/satellite/imsat_26.42426252-81.90454228.jpg\n",
      "Saved image to tmp/satellite/imsat_26.42657466-81.90508431.jpg\n",
      "Saved image to tmp/satellite/imsat_26.42360337-81.90229022.jpg\n",
      "Saved image to tmp/satellite/imsat_26.4269264-81.91026889.jpg\n",
      "Saved image to tmp/satellite/imsat_26.42533559-81.90444574.jpg\n",
      "Saved image to tmp/satellite/imsat_26.42235178-81.89772607.jpg\n",
      "Saved image to tmp/satellite/imsat_26.42759983-81.90925415.jpg\n",
      "Saved image to tmp/satellite/imsat_26.42443338-81.90016726.jpg\n",
      "Saved image to tmp/satellite/imsat_26.42434388-81.90125881.jpg\n",
      "Saved image to tmp/satellite/imsat_26.42536332-81.9022553.jpg\n",
      "Saved image to tmp/satellite/imsat_26.42692634-81.9086965.jpg\n",
      "Saved image to tmp/satellite/imsat_26.42107581-81.90154678.jpg\n",
      "Saved image to tmp/satellite/imsat_26.42722058-81.90424846.jpg\n",
      "Saved image to tmp/satellite/imsat_26.42191985-81.89876608.jpg\n",
      "Saved image to tmp/satellite/imsat_26.42633526-81.90820586.jpg\n",
      "Saved image to tmp/satellite/imsat_26.4235454-81.9015215.jpg\n"
     ]
    },
    {
     "name": "stderr",
     "output_type": "stream",
     "text": [
      "Obtaining satellite imagery:  22%|██▍        | 686/3102 [00:13<00:37, 64.58it/s]"
     ]
    },
    {
     "name": "stdout",
     "output_type": "stream",
     "text": [
      "Saved image to tmp/satellite/imsat_26.42732583-81.90979177.jpg\n",
      "Saved image to tmp/satellite/imsat_26.42427881-81.90436564.jpg\n",
      "Saved image to tmp/satellite/imsat_26.42668315-81.90911674.jpg\n",
      "Saved image to tmp/satellite/imsat_26.42320916-81.90284671.jpg\n",
      "Saved image to tmp/satellite/imsat_26.42386-81.90369142.jpg\n",
      "Saved image to tmp/satellite/imsat_26.42642408-81.90588483.jpg\n",
      "Saved image to tmp/satellite/imsat_26.42420624-81.9065377.jpg\n",
      "Saved image to tmp/satellite/imsat_26.42480023-81.90808419.jpg\n",
      "Saved image to tmp/satellite/imsat_26.4217428-81.90205873.jpg\n",
      "Saved image to tmp/satellite/imsat_26.4234014-81.90668685.jpg\n",
      "Saved image to tmp/satellite/imsat_26.42748731-81.90917067.jpg\n",
      "Saved image to tmp/satellite/imsat_26.42699488-81.9092567.jpg\n",
      "Saved image to tmp/satellite/imsat_26.42220356-81.90336242.jpg\n",
      "Saved image to tmp/satellite/imsat_26.42701106-81.90535375.jpg\n",
      "Saved image to tmp/satellite/imsat_26.42164874-81.89928693.jpg\n",
      "Saved image to tmp/satellite/imsat_26.42365649-81.90133004.jpg\n"
     ]
    },
    {
     "name": "stderr",
     "output_type": "stream",
     "text": [
      "Obtaining satellite imagery:  23%|██▌        | 706/3102 [00:13<00:32, 73.16it/s]"
     ]
    },
    {
     "name": "stdout",
     "output_type": "stream",
     "text": [
      "Saved image to tmp/satellite/imsat_26.42736657-81.90330892.jpg\n",
      "Saved image to tmp/satellite/imsat_26.42346134-81.89785843.jpg\n",
      "Saved image to tmp/satellite/imsat_26.42400948-81.90638582.jpg\n",
      "Saved image to tmp/satellite/imsat_26.42103127-81.90222663.jpg\n",
      "Saved image to tmp/satellite/imsat_26.42544538-81.90429822.jpg\n",
      "Saved image to tmp/satellite/imsat_26.42488099-81.90229672.jpg\n",
      "Saved image to tmp/satellite/imsat_26.42706051-81.90945924.jpg\n",
      "Saved image to tmp/satellite/imsat_26.42461755-81.90172358.jpg\n",
      "Saved image to tmp/satellite/imsat_26.42230431-81.90237652.jpg\n",
      "Saved image to tmp/satellite/imsat_26.42298257-81.90217596.jpg\n",
      "Saved image to tmp/satellite/imsat_26.42590684-81.90367964.jpg\n",
      "Saved image to tmp/satellite/imsat_26.42484459-81.90654039.jpg\n",
      "Saved image to tmp/satellite/imsat_26.42159706-81.90143933.jpg\n",
      "Saved image to tmp/satellite/imsat_26.42450598-81.90705682.jpg\n"
     ]
    },
    {
     "name": "stderr",
     "output_type": "stream",
     "text": [
      "Obtaining satellite imagery:  23%|██▌        | 722/3102 [00:14<00:34, 69.46it/s]"
     ]
    },
    {
     "name": "stdout",
     "output_type": "stream",
     "text": [
      "Saved image to tmp/satellite/imsat_26.42364678-81.90599896.jpg\n",
      "Saved image to tmp/satellite/imsat_26.42189321-81.89895013.jpg\n",
      "Saved image to tmp/satellite/imsat_26.42548477-81.90288953.jpg\n",
      "Saved image to tmp/satellite/imsat_26.42307734-81.90299985.jpg\n",
      "Saved image to tmp/satellite/imsat_26.42557706-81.903379.jpg\n",
      "Saved image to tmp/satellite/imsat_26.42157184-81.89973836.jpg\n",
      "Saved image to tmp/satellite/imsat_26.42705336-81.90445719.jpg\n",
      "Saved image to tmp/satellite/imsat_26.42505622-81.90682336.jpg\n",
      "Saved image to tmp/satellite/imsat_26.42741126-81.9108738.jpg\n",
      "Saved image to tmp/satellite/imsat_26.42726585-81.90962941.jpg\n",
      "Saved image to tmp/satellite/imsat_26.42446033-81.900993.jpg\n",
      "Saved image to tmp/satellite/imsat_26.42522155-81.90734182.jpg\n",
      "Saved image to tmp/satellite/imsat_26.42127137-81.90268848.jpg\n",
      "Saved image to tmp/satellite/imsat_26.42115441-81.90114245.jpg\n",
      "Saved image to tmp/satellite/imsat_26.42640022-81.9087878.jpg\n"
     ]
    },
    {
     "name": "stderr",
     "output_type": "stream",
     "text": [
      "Obtaining satellite imagery:  24%|██▌        | 737/3102 [00:14<00:36, 64.06it/s]"
     ]
    },
    {
     "name": "stdout",
     "output_type": "stream",
     "text": [
      "Saved image to tmp/satellite/imsat_26.42532411-81.90827876.jpg\n",
      "Saved image to tmp/satellite/imsat_26.4241458-81.90748851.jpg\n",
      "Saved image to tmp/satellite/imsat_26.42374248-81.90383888.jpg\n",
      "Saved image to tmp/satellite/imsat_26.42114966-81.90024384.jpg\n",
      "Saved image to tmp/satellite/imsat_26.4276892-81.90528731.jpg\n",
      "Saved image to tmp/satellite/imsat_26.42178299-81.89748186.jpg\n",
      "Saved image to tmp/satellite/imsat_26.42563163-81.90483337.jpg\n",
      "Saved image to tmp/satellite/imsat_26.42387378-81.90435023.jpg\n",
      "Saved image to tmp/satellite/imsat_26.42135469-81.90174522.jpg\n",
      "Saved image to tmp/satellite/imsat_26.42222525-81.898341.jpg\n",
      "Saved image to tmp/satellite/imsat_26.42522968-81.90321965.jpg\n",
      "Saved image to tmp/satellite/imsat_26.42261955-81.89732424.jpg\n",
      "Saved image to tmp/satellite/imsat_26.42207209-81.90079819.jpg\n"
     ]
    },
    {
     "name": "stderr",
     "output_type": "stream",
     "text": [
      "Obtaining satellite imagery:  24%|██▋        | 746/3102 [00:14<00:35, 66.51it/s]"
     ]
    },
    {
     "name": "stdout",
     "output_type": "stream",
     "text": [
      "Saved image to tmp/satellite/imsat_26.42717338-81.91068162.jpg\n",
      "Saved image to tmp/satellite/imsat_26.42409119-81.90400899.jpg\n",
      "Saved image to tmp/satellite/imsat_26.42156906-81.89738251.jpg\n",
      "Saved image to tmp/satellite/imsat_26.42093915-81.90238212.jpg\n",
      "Saved image to tmp/satellite/imsat_26.4247695-81.90740121.jpg\n",
      "Saved image to tmp/satellite/imsat_26.42485604-81.9050981.jpg\n",
      "Saved image to tmp/satellite/imsat_26.42324616-81.90107763.jpg\n",
      "Saved image to tmp/satellite/imsat_26.42484532-81.90369745.jpg\n",
      "Saved image to tmp/satellite/imsat_26.42666022-81.90647839.jpg\n",
      "Saved image to tmp/satellite/imsat_26.42488013-81.9067567.jpg\n",
      "Saved image to tmp/satellite/imsat_26.42571321-81.90587647.jpg\n",
      "Saved image to tmp/satellite/imsat_26.42724802-81.90588579.jpg\n"
     ]
    },
    {
     "name": "stderr",
     "output_type": "stream",
     "text": [
      "Obtaining satellite imagery:  25%|██▋        | 763/3102 [00:14<00:35, 66.59it/s]"
     ]
    },
    {
     "name": "stdout",
     "output_type": "stream",
     "text": [
      "Saved image to tmp/satellite/imsat_26.42198138-81.89756313.jpg\n",
      "Saved image to tmp/satellite/imsat_26.42536309-81.90863535.jpg\n",
      "Saved image to tmp/satellite/imsat_26.42340984-81.90584979.jpg\n",
      "Saved image to tmp/satellite/imsat_26.42372761-81.90042734.jpg\n",
      "Saved image to tmp/satellite/imsat_26.42241082-81.89944619.jpg\n",
      "Saved image to tmp/satellite/imsat_26.42520281-81.90460016.jpg\n",
      "Saved image to tmp/satellite/imsat_26.42467205-81.90116818.jpg\n",
      "Saved image to tmp/satellite/imsat_26.4269841-81.90373291.jpg\n",
      "Saved image to tmp/satellite/imsat_26.42293561-81.89873252.jpg\n",
      "Saved image to tmp/satellite/imsat_26.4209527-81.89727222.jpg\n",
      "Saved image to tmp/satellite/imsat_26.42613554-81.9048592.jpg\n",
      "Saved image to tmp/satellite/imsat_26.42465908-81.90790305.jpg\n",
      "Saved image to tmp/satellite/imsat_26.42296812-81.9031296.jpg\n",
      "Saved image to tmp/satellite/imsat_26.42581079-81.90656378.jpg\n"
     ]
    },
    {
     "name": "stderr",
     "output_type": "stream",
     "text": [
      "Obtaining satellite imagery:  25%|██▋        | 770/3102 [00:14<00:37, 62.77it/s]"
     ]
    },
    {
     "name": "stdout",
     "output_type": "stream",
     "text": [
      "Saved image to tmp/satellite/imsat_26.42148532-81.8999426.jpg\n",
      "Saved image to tmp/satellite/imsat_26.42619776-81.90582519.jpg\n",
      "Saved image to tmp/satellite/imsat_26.42511761-81.90446957.jpg\n",
      "Saved image to tmp/satellite/imsat_26.42578337-81.90305049.jpg\n",
      "Saved image to tmp/satellite/imsat_26.42376756-81.89920064.jpg\n",
      "Saved image to tmp/satellite/imsat_26.42380167-81.9019913.jpg\n",
      "Saved image to tmp/satellite/imsat_26.42661884-81.90963087.jpg\n",
      "Saved image to tmp/satellite/imsat_26.42142511-81.9024976.jpg\n",
      "Saved image to tmp/satellite/imsat_26.42165544-81.8980583.jpg\n",
      "Saved image to tmp/satellite/imsat_26.42505617-81.90277189.jpg\n",
      "Saved image to tmp/satellite/imsat_26.4243282-81.90756919.jpg\n",
      "Saved image to tmp/satellite/imsat_26.42753558-81.90330964.jpg\n"
     ]
    },
    {
     "name": "stderr",
     "output_type": "stream",
     "text": [
      "Obtaining satellite imagery:  25%|██▊        | 786/3102 [00:15<00:34, 66.58it/s]"
     ]
    },
    {
     "name": "stdout",
     "output_type": "stream",
     "text": [
      "Saved image to tmp/satellite/imsat_26.42109188-81.90501553.jpg\n",
      "Saved image to tmp/satellite/imsat_26.42263176-81.90086663.jpg\n",
      "Saved image to tmp/satellite/imsat_26.42504627-81.90482588.jpg\n",
      "Saved image to tmp/satellite/imsat_26.42236377-81.90045735.jpg\n",
      "Saved image to tmp/satellite/imsat_26.422681-81.89908378.jpg\n",
      "Saved image to tmp/satellite/imsat_26.42160056-81.89681675.jpg\n",
      "Saved image to tmp/satellite/imsat_26.42299022-81.90038923.jpg\n",
      "Saved image to tmp/satellite/imsat_26.42315485-81.90655578.jpg\n",
      "Saved image to tmp/satellite/imsat_26.42565875-81.90400616.jpg\n",
      "Saved image to tmp/satellite/imsat_26.42736064-81.90402689.jpg\n",
      "Saved image to tmp/satellite/imsat_26.42760433-81.90840992.jpg\n",
      "Saved image to tmp/satellite/imsat_26.42447383-81.90188673.jpg\n"
     ]
    },
    {
     "name": "stderr",
     "output_type": "stream",
     "text": [
      "Obtaining satellite imagery:  26%|██▊        | 801/3102 [00:15<00:37, 61.92it/s]"
     ]
    },
    {
     "name": "stdout",
     "output_type": "stream",
     "text": [
      "Saved image to tmp/satellite/imsat_26.42104653-81.89706913.jpg\n",
      "Saved image to tmp/satellite/imsat_26.42465909-81.90077035.jpg\n",
      "Saved image to tmp/satellite/imsat_26.42411389-81.90156625.jpg\n",
      "Saved image to tmp/satellite/imsat_26.42198974-81.89924146.jpg\n",
      "Saved image to tmp/satellite/imsat_26.42301001-81.90598366.jpg\n",
      "Saved image to tmp/satellite/imsat_26.4231366-81.89736823.jpg\n",
      "Saved image to tmp/satellite/imsat_26.42581708-81.90449659.jpg\n",
      "Saved image to tmp/satellite/imsat_26.42224993-81.89886385.jpg\n",
      "Saved image to tmp/satellite/imsat_26.42318426-81.90020718.jpg\n",
      "Saved image to tmp/satellite/imsat_26.42313563-81.89849277.jpg\n",
      "Saved image to tmp/satellite/imsat_26.42254022-81.89954198.jpg\n",
      "Saved image to tmp/satellite/imsat_26.42125033-81.90284795.jpg\n",
      "Saved image to tmp/satellite/imsat_26.42488952-81.90349746.jpg\n",
      "Saved image to tmp/satellite/imsat_26.42404474-81.9058894.jpg\n",
      "Saved image to tmp/satellite/imsat_26.42453398-81.90264928.jpg\n"
     ]
    },
    {
     "name": "stderr",
     "output_type": "stream",
     "text": [
      "Obtaining satellite imagery:  26%|██▉        | 817/3102 [00:15<00:35, 64.74it/s]"
     ]
    },
    {
     "name": "stdout",
     "output_type": "stream",
     "text": [
      "Saved image to tmp/satellite/imsat_26.42665687-81.90325469.jpg\n",
      "Saved image to tmp/satellite/imsat_26.42391364-81.90184572.jpg\n",
      "Saved image to tmp/satellite/imsat_26.4220061-81.90362781.jpg\n",
      "Saved image to tmp/satellite/imsat_26.42406726-81.90081124.jpg\n",
      "Saved image to tmp/satellite/imsat_26.42404251-81.90250017.jpg\n",
      "Saved image to tmp/satellite/imsat_26.4245749-81.90411485.jpg\n",
      "Saved image to tmp/satellite/imsat_26.42323365-81.89830144.jpg\n",
      "Saved image to tmp/satellite/imsat_26.42755502-81.91005945.jpg\n",
      "Saved image to tmp/satellite/imsat_26.42141773-81.90320476.jpg\n",
      "Saved image to tmp/satellite/imsat_26.42535113-81.90304839.jpg\n",
      "Saved image to tmp/satellite/imsat_26.42399217-81.90488943.jpg\n",
      "Saved image to tmp/satellite/imsat_26.4243337-81.8999869.jpg\n",
      "Saved image to tmp/satellite/imsat_26.4238883-81.90622323.jpg\n",
      "Saved image to tmp/satellite/imsat_26.42198978-81.90277408.jpg\n"
     ]
    },
    {
     "name": "stderr",
     "output_type": "stream",
     "text": [
      "Obtaining satellite imagery:  27%|██▉        | 828/3102 [00:15<00:30, 73.37it/s]"
     ]
    },
    {
     "name": "stdout",
     "output_type": "stream",
     "text": [
      "Saved image to tmp/satellite/imsat_26.42186138-81.90019764.jpg\n",
      "Saved image to tmp/satellite/imsat_26.42276977-81.90341827.jpg\n",
      "Saved image to tmp/satellite/imsat_26.42543042-81.90353231.jpg\n",
      "Saved image to tmp/satellite/imsat_26.42280152-81.89981298.jpg\n",
      "Saved image to tmp/satellite/imsat_26.424704-81.9071814.jpg\n",
      "Saved image to tmp/satellite/imsat_26.42127283-81.8978843.jpg\n",
      "Saved image to tmp/satellite/imsat_26.42732446-81.90891148.jpg\n",
      "Saved image to tmp/satellite/imsat_26.42691166-81.90469015.jpg\n",
      "Saved image to tmp/satellite/imsat_26.42645453-81.90534245.jpg\n",
      "Saved image to tmp/satellite/imsat_26.42336188-81.89817683.jpg\n",
      "Saved image to tmp/satellite/imsat_26.42124112-81.90427545.jpg\n",
      "Saved image to tmp/satellite/imsat_26.42424911-81.90048751.jpg\n",
      "Saved image to tmp/satellite/imsat_26.42237934-81.90311889.jpg\n",
      "Saved image to tmp/satellite/imsat_26.42110064-81.89778008.jpg\n"
     ]
    },
    {
     "name": "stderr",
     "output_type": "stream",
     "text": [
      "Obtaining satellite imagery:  27%|███        | 847/3102 [00:16<00:33, 67.03it/s]"
     ]
    },
    {
     "name": "stdout",
     "output_type": "stream",
     "text": [
      "Saved image to tmp/satellite/imsat_26.42144466-81.89797404.jpg\n",
      "Saved image to tmp/satellite/imsat_26.4235915-81.90480379.jpg\n",
      "Saved image to tmp/satellite/imsat_26.42648838-81.90358291.jpg\n",
      "Saved image to tmp/satellite/imsat_26.42419594-81.90067555.jpg\n",
      "Saved image to tmp/satellite/imsat_26.42210628-81.897056.jpg\n",
      "Saved image to tmp/satellite/imsat_26.42502576-81.90416558.jpg\n",
      "Saved image to tmp/satellite/imsat_26.42125397-81.89959169.jpg\n",
      "Saved image to tmp/satellite/imsat_26.42456498-81.90545039.jpg\n",
      "Saved image to tmp/satellite/imsat_26.4257706-81.90253734.jpg\n",
      "Saved image to tmp/satellite/imsat_26.4213842-81.90410054.jpg\n",
      "Saved image to tmp/satellite/imsat_26.42520577-81.90594921.jpg\n",
      "Saved image to tmp/satellite/imsat_26.4235803-81.9054375.jpg\n",
      "Saved image to tmp/satellite/imsat_26.42535561-81.90512774.jpg\n",
      "Saved image to tmp/satellite/imsat_26.42249778-81.90027703.jpg\n",
      "Saved image to tmp/satellite/imsat_26.42249189-81.90293369.jpg\n",
      "Saved image to tmp/satellite/imsat_26.42185357-81.89693413.jpg\n"
     ]
    },
    {
     "name": "stderr",
     "output_type": "stream",
     "text": [
      "Obtaining satellite imagery:  28%|███        | 856/3102 [00:16<00:31, 72.02it/s]"
     ]
    },
    {
     "name": "stdout",
     "output_type": "stream",
     "text": [
      "Saved image to tmp/satellite/imsat_26.42549151-81.9087759.jpg\n",
      "Saved image to tmp/satellite/imsat_26.42216254-81.89766212.jpg\n",
      "Saved image to tmp/satellite/imsat_26.42134687-81.90084964.jpg\n",
      "Saved image to tmp/satellite/imsat_26.42479346-81.90149154.jpg\n",
      "Saved image to tmp/satellite/imsat_26.42710869-81.90959128.jpg\n",
      "Saved image to tmp/satellite/imsat_26.42113389-81.90436014.jpg\n",
      "Saved image to tmp/satellite/imsat_26.42631137-81.90466075.jpg\n",
      "Saved image to tmp/satellite/imsat_26.42690767-81.90807833.jpg\n",
      "Saved image to tmp/satellite/imsat_26.42266234-81.90356325.jpg\n",
      "Saved image to tmp/satellite/imsat_26.42176025-81.90318642.jpg\n",
      "Saved image to tmp/satellite/imsat_26.42190108-81.90188635.jpg\n",
      "Saved image to tmp/satellite/imsat_26.42339262-81.9005306.jpg\n",
      "Saved image to tmp/satellite/imsat_26.42419395-81.90677152.jpg\n",
      "Saved image to tmp/satellite/imsat_26.42106186-81.90130009.jpg\n",
      "Saved image to tmp/satellite/imsat_26.4262203-81.90936152.jpg\n"
     ]
    },
    {
     "name": "stderr",
     "output_type": "stream",
     "text": [
      "Obtaining satellite imagery:  28%|███        | 872/3102 [00:16<00:36, 61.93it/s]"
     ]
    },
    {
     "name": "stdout",
     "output_type": "stream",
     "text": [
      "Saved image to tmp/satellite/imsat_26.422365-81.90126708.jpg\n",
      "Saved image to tmp/satellite/imsat_26.42473269-81.906409.jpg\n",
      "Saved image to tmp/satellite/imsat_26.42119408-81.89739142.jpg\n",
      "Saved image to tmp/satellite/imsat_26.42171303-81.90247106.jpg\n",
      "Saved image to tmp/satellite/imsat_26.42340287-81.90256034.jpg\n",
      "Saved image to tmp/satellite/imsat_26.42455085-81.90622333.jpg\n",
      "Saved image to tmp/satellite/imsat_26.42357482-81.90064952.jpg\n",
      "Saved image to tmp/satellite/imsat_26.42124561-81.89907878.jpg\n",
      "Saved image to tmp/satellite/imsat_26.42532694-81.90370462.jpg\n",
      "Saved image to tmp/satellite/imsat_26.42156838-81.89857077.jpg\n",
      "Saved image to tmp/satellite/imsat_26.42647715-81.90444968.jpg\n",
      "Saved image to tmp/satellite/imsat_26.42616213-81.90402489.jpg\n",
      "Saved image to tmp/satellite/imsat_26.42528816-81.90625591.jpg\n"
     ]
    },
    {
     "name": "stderr",
     "output_type": "stream",
     "text": [
      "Obtaining satellite imagery:  29%|███▏       | 891/3102 [00:16<00:33, 66.61it/s]"
     ]
    },
    {
     "name": "stdout",
     "output_type": "stream",
     "text": [
      "Saved image to tmp/satellite/imsat_26.42665102-81.90698077.jpg\n",
      "Saved image to tmp/satellite/imsat_26.42184151-81.90525799.jpg\n",
      "Saved image to tmp/satellite/imsat_26.42546878-81.90496605.jpg\n",
      "Saved image to tmp/satellite/imsat_26.42199423-81.90001738.jpg\n",
      "Saved image to tmp/satellite/imsat_26.42146593-81.90069953.jpg\n",
      "Saved image to tmp/satellite/imsat_26.42352041-81.90243972.jpg\n",
      "Saved image to tmp/satellite/imsat_26.42211197-81.89987302.jpg\n",
      "Saved image to tmp/satellite/imsat_26.42104102-81.89952049.jpg\n",
      "Saved image to tmp/satellite/imsat_26.42212523-81.8990672.jpg\n",
      "Saved image to tmp/satellite/imsat_26.42409166-81.90424853.jpg\n",
      "Saved image to tmp/satellite/imsat_26.42447661-81.90283823.jpg\n",
      "Saved image to tmp/satellite/imsat_26.42287209-81.90134261.jpg\n",
      "Saved image to tmp/satellite/imsat_26.42343605-81.90332724.jpg\n",
      "Saved image to tmp/satellite/imsat_26.42186221-81.89941648.jpg\n",
      "Saved image to tmp/satellite/imsat_26.42448432-81.90778675.jpg\n"
     ]
    },
    {
     "name": "stderr",
     "output_type": "stream",
     "text": [
      "Obtaining satellite imagery:  29%|███▏       | 902/3102 [00:16<00:29, 74.01it/s]"
     ]
    },
    {
     "name": "stdout",
     "output_type": "stream",
     "text": [
      "Saved image to tmp/satellite/imsat_26.42683353-81.90397409.jpg\n",
      "Saved image to tmp/satellite/imsat_26.42590609-81.90431952.jpg\n",
      "Saved image to tmp/satellite/imsat_26.42479486-81.90240331.jpg\n",
      "Saved image to tmp/satellite/imsat_26.42341373-81.90424697.jpg\n",
      "Saved image to tmp/satellite/imsat_26.42280042-81.90167998.jpg\n",
      "Saved image to tmp/satellite/imsat_26.42579174-81.90386752.jpg\n",
      "Saved image to tmp/satellite/imsat_26.42695557-81.9058916.jpg\n",
      "Saved image to tmp/satellite/imsat_26.42124811-81.90098535.jpg\n",
      "Saved image to tmp/satellite/imsat_26.43199106-81.91596999.jpg\n",
      "Saved image to tmp/satellite/imsat_26.42219436-81.90143987.jpg\n",
      "Saved image to tmp/satellite/imsat_26.42557231-81.90862252.jpg\n",
      "Saved image to tmp/satellite/imsat_26.43285568-81.9119684.jpg\n",
      "Saved image to tmp/satellite/imsat_26.42660243-81.90995181.jpg\n",
      "Saved image to tmp/satellite/imsat_26.4312639-81.91054554.jpg\n",
      "Saved image to tmp/satellite/imsat_26.43261796-81.91485126.jpg\n",
      "Saved image to tmp/satellite/imsat_26.431195-81.91453137.jpg\n"
     ]
    },
    {
     "name": "stderr",
     "output_type": "stream",
     "text": [
      "Obtaining satellite imagery:  30%|███▎       | 920/3102 [00:17<00:29, 73.24it/s]"
     ]
    },
    {
     "name": "stdout",
     "output_type": "stream",
     "text": [
      "Saved image to tmp/satellite/imsat_26.42978272-81.91316221.jpg\n",
      "Saved image to tmp/satellite/imsat_26.42249717-81.90101874.jpg\n",
      "Saved image to tmp/satellite/imsat_26.43258866-81.91365409.jpg\n",
      "Saved image to tmp/satellite/imsat_26.43403435-81.91188648.jpg\n",
      "Saved image to tmp/satellite/imsat_26.43268724-81.91352604.jpg\n",
      "Saved image to tmp/satellite/imsat_26.42172817-81.90128085.jpg\n",
      "Saved image to tmp/satellite/imsat_26.43134092-81.91399994.jpg\n",
      "Saved image to tmp/satellite/imsat_26.42858345-81.91028737.jpg\n",
      "Saved image to tmp/satellite/imsat_26.43038691-81.91098666.jpg\n",
      "Saved image to tmp/satellite/imsat_26.42792342-81.90888835.jpg\n",
      "Saved image to tmp/satellite/imsat_26.42193916-81.89822685.jpg\n",
      "Saved image to tmp/satellite/imsat_26.43302055-81.91547157.jpg\n",
      "Saved image to tmp/satellite/imsat_26.42265189-81.90550149.jpg\n",
      "Saved image to tmp/satellite/imsat_26.43132053-81.91499187.jpg\n",
      "Saved image to tmp/satellite/imsat_26.43443096-81.91428801.jpg\n",
      "Saved image to tmp/satellite/imsat_26.4231341-81.90211203.jpg\n"
     ]
    },
    {
     "name": "stderr",
     "output_type": "stream",
     "text": [
      "Obtaining satellite imagery:  30%|███▎       | 928/3102 [00:17<00:31, 68.52it/s]"
     ]
    },
    {
     "name": "stdout",
     "output_type": "stream",
     "text": [
      "Saved image to tmp/satellite/imsat_26.42915456-81.90323849.jpg\n",
      "Saved image to tmp/satellite/imsat_26.43341464-81.91424872.jpg\n",
      "Saved image to tmp/satellite/imsat_26.42873342-81.91053153.jpg\n",
      "Saved image to tmp/satellite/imsat_26.43152419-81.90948043.jpg\n",
      "Saved image to tmp/satellite/imsat_26.43275797-81.91296756.jpg\n",
      "Saved image to tmp/satellite/imsat_26.43263945-81.91417862.jpg\n",
      "Saved image to tmp/satellite/imsat_26.43303366-81.90999774.jpg\n",
      "Saved image to tmp/satellite/imsat_26.43438247-81.91543065.jpg\n",
      "Saved image to tmp/satellite/imsat_26.43121987-81.90867605.jpg\n",
      "Saved image to tmp/satellite/imsat_26.42776472-81.90888596.jpg\n"
     ]
    },
    {
     "name": "stderr",
     "output_type": "stream",
     "text": [
      "Obtaining satellite imagery:  30%|███▎       | 943/3102 [00:17<00:36, 59.77it/s]"
     ]
    },
    {
     "name": "stdout",
     "output_type": "stream",
     "text": [
      "Saved image to tmp/satellite/imsat_26.43064098-81.9091601.jpg\n",
      "Saved image to tmp/satellite/imsat_26.43094598-81.91074829.jpg\n",
      "Saved image to tmp/satellite/imsat_26.43247741-81.91654335.jpg\n",
      "Saved image to tmp/satellite/imsat_26.42974365-81.91083543.jpg\n",
      "Saved image to tmp/satellite/imsat_26.42867475-81.91110953.jpg\n",
      "Saved image to tmp/satellite/imsat_26.43257884-81.91004497.jpg\n",
      "Saved image to tmp/satellite/imsat_26.43045186-81.91392341.jpg\n",
      "Saved image to tmp/satellite/imsat_26.43023267-81.90759495.jpg\n",
      "Saved image to tmp/satellite/imsat_26.43273068-81.91061467.jpg\n",
      "Saved image to tmp/satellite/imsat_26.43041184-81.90817789.jpg\n",
      "Saved image to tmp/satellite/imsat_26.42952507-81.91213292.jpg\n",
      "Saved image to tmp/satellite/imsat_26.43170251-81.91056308.jpg\n",
      "Saved image to tmp/satellite/imsat_26.43251607-81.9083681.jpg\n",
      "Saved image to tmp/satellite/imsat_26.4321889-81.91346722.jpg\n",
      "Saved image to tmp/satellite/imsat_26.42988404-81.90351724.jpg\n"
     ]
    },
    {
     "name": "stderr",
     "output_type": "stream",
     "text": [
      "Obtaining satellite imagery:  31%|███▍       | 959/3102 [00:17<00:32, 65.72it/s]"
     ]
    },
    {
     "name": "stdout",
     "output_type": "stream",
     "text": [
      "Saved image to tmp/satellite/imsat_26.42787597-81.91137739.jpg\n",
      "Saved image to tmp/satellite/imsat_26.4342006-81.91614671.jpg\n",
      "Saved image to tmp/satellite/imsat_26.42831418-81.911865.jpg\n",
      "Saved image to tmp/satellite/imsat_26.43396326-81.9152857.jpg\n",
      "Saved image to tmp/satellite/imsat_26.43335673-81.91608001.jpg\n",
      "Saved image to tmp/satellite/imsat_26.43166264-81.91534327.jpg\n",
      "Saved image to tmp/satellite/imsat_26.42806575-81.90887516.jpg\n",
      "Saved image to tmp/satellite/imsat_26.4334116-81.91491998.jpg\n",
      "Saved image to tmp/satellite/imsat_26.4289072-81.91217255.jpg\n",
      "Saved image to tmp/satellite/imsat_26.43006802-81.90961556.jpg\n",
      "Saved image to tmp/satellite/imsat_26.42909165-81.91156026.jpg\n",
      "Saved image to tmp/satellite/imsat_26.42943347-81.90330503.jpg\n",
      "Saved image to tmp/satellite/imsat_26.43338681-81.91286437.jpg\n",
      "Saved image to tmp/satellite/imsat_26.43299582-81.91669855.jpg\n",
      "Saved image to tmp/satellite/imsat_26.43301841-81.91334903.jpg\n"
     ]
    },
    {
     "name": "stderr",
     "output_type": "stream",
     "text": [
      "Obtaining satellite imagery:  31%|███▍       | 974/3102 [00:17<00:33, 64.15it/s]"
     ]
    },
    {
     "name": "stdout",
     "output_type": "stream",
     "text": [
      "Saved image to tmp/satellite/imsat_26.42823629-81.90881887.jpg\n",
      "Saved image to tmp/satellite/imsat_26.42790539-81.90841873.jpg\n",
      "Saved image to tmp/satellite/imsat_26.42509927-81.90700047.jpg\n",
      "Saved image to tmp/satellite/imsat_26.42665298-81.90880103.jpg\n",
      "Saved image to tmp/satellite/imsat_26.42885677-81.90928911.jpg\n",
      "Saved image to tmp/satellite/imsat_26.43342478-81.91075431.jpg\n",
      "Saved image to tmp/satellite/imsat_26.43051029-81.91227318.jpg\n",
      "Saved image to tmp/satellite/imsat_26.42939243-81.9094481.jpg\n",
      "Saved image to tmp/satellite/imsat_26.43194652-81.90946219.jpg\n",
      "Saved image to tmp/satellite/imsat_26.43215356-81.91126498.jpg\n",
      "Saved image to tmp/satellite/imsat_26.43172296-81.91447738.jpg\n",
      "Saved image to tmp/satellite/imsat_26.42850553-81.90302068.jpg\n",
      "Saved image to tmp/satellite/imsat_26.42970152-81.91285718.jpg\n",
      "Saved image to tmp/satellite/imsat_26.43283214-81.91699565.jpg\n",
      "Saved image to tmp/satellite/imsat_26.4312591-81.91146758.jpg\n",
      "Saved image to tmp/satellite/imsat_26.43232424-81.91234628.jpg\n",
      "Saved image to tmp/satellite/imsat_26.42923237-81.90888871.jpg\n"
     ]
    },
    {
     "name": "stderr",
     "output_type": "stream",
     "text": [
      "Obtaining satellite imagery:  32%|███▌       | 991/3102 [00:18<00:28, 73.58it/s]"
     ]
    },
    {
     "name": "stdout",
     "output_type": "stream",
     "text": [
      "Saved image to tmp/satellite/imsat_26.43166619-81.91170453.jpg\n",
      "Saved image to tmp/satellite/imsat_26.42841443-81.9088595.jpg\n",
      "Saved image to tmp/satellite/imsat_26.42833191-81.91077424.jpg\n",
      "Saved image to tmp/satellite/imsat_26.43289441-81.91392761.jpg\n",
      "Saved image to tmp/satellite/imsat_26.4312924-81.91004443.jpg\n",
      "Saved image to tmp/satellite/imsat_26.43239513-81.91321092.jpg\n",
      "Saved image to tmp/satellite/imsat_26.43152565-81.91549915.jpg\n",
      "Saved image to tmp/satellite/imsat_26.43176156-81.91575633.jpg\n",
      "Saved image to tmp/satellite/imsat_26.42905267-81.90939699.jpg\n",
      "Saved image to tmp/satellite/imsat_26.43342758-81.91468142.jpg\n",
      "Saved image to tmp/satellite/imsat_26.42801194-81.91037393.jpg\n",
      "Saved image to tmp/satellite/imsat_26.42874545-81.9084427.jpg\n",
      "Saved image to tmp/satellite/imsat_26.43076988-81.91256455.jpg\n",
      "Saved image to tmp/satellite/imsat_26.42720759-81.91033417.jpg\n",
      "Saved image to tmp/satellite/imsat_26.43148803-81.90996973.jpg\n",
      "Saved image to tmp/satellite/imsat_26.43441465-81.91512634.jpg\n",
      "Saved image to tmp/satellite/imsat_26.42782952-81.90965499.jpg\n",
      "Saved image to tmp/satellite/imsat_26.42794979-81.9097283.jpg\n",
      "Saved image to tmp/satellite/imsat_26.43213267-81.91427629.jpg\n"
     ]
    },
    {
     "name": "stderr",
     "output_type": "stream",
     "text": [
      "Obtaining satellite imagery:  33%|███▎      | 1012/3102 [00:18<00:24, 85.29it/s]"
     ]
    },
    {
     "name": "stdout",
     "output_type": "stream",
     "text": [
      "Saved image to tmp/satellite/imsat_26.43405445-81.9159455.jpg\n",
      "Saved image to tmp/satellite/imsat_26.43072635-81.90891167.jpg\n",
      "Saved image to tmp/satellite/imsat_26.43391681-81.9155151.jpg\n",
      "Saved image to tmp/satellite/imsat_26.43117606-81.91319204.jpg\n",
      "Saved image to tmp/satellite/imsat_26.42985198-81.91046613.jpg\n",
      "Saved image to tmp/satellite/imsat_26.43183605-81.91457033.jpg\n",
      "Saved image to tmp/satellite/imsat_26.43440314-81.91465293.jpg\n",
      "Saved image to tmp/satellite/imsat_26.43187835-81.90702028.jpg\n",
      "Saved image to tmp/satellite/imsat_26.43190996-81.90883492.jpg\n",
      "Saved image to tmp/satellite/imsat_26.42961593-81.90945651.jpg\n",
      "Saved image to tmp/satellite/imsat_26.43281242-81.91570553.jpg\n",
      "Saved image to tmp/satellite/imsat_26.43251141-81.90854408.jpg\n",
      "Saved image to tmp/satellite/imsat_26.42826803-81.90791451.jpg\n",
      "Saved image to tmp/satellite/imsat_26.43244868-81.90780969.jpg\n",
      "Saved image to tmp/satellite/imsat_26.43150586-81.90645222.jpg\n",
      "Saved image to tmp/satellite/imsat_26.4305694-81.90940741.jpg\n",
      "Saved image to tmp/satellite/imsat_26.42928114-81.91272582.jpg\n",
      "Saved image to tmp/satellite/imsat_26.42771312-81.91075312.jpg\n",
      "Saved image to tmp/satellite/imsat_26.42967875-81.91319338.jpg\n",
      "Saved image to tmp/satellite/imsat_26.42907509-81.9067977.jpg\n"
     ]
    },
    {
     "name": "stderr",
     "output_type": "stream",
     "text": [
      "Obtaining satellite imagery:  33%|███▎      | 1030/3102 [00:18<00:27, 74.29it/s]"
     ]
    },
    {
     "name": "stdout",
     "output_type": "stream",
     "text": [
      "Saved image to tmp/satellite/imsat_26.43397333-81.91286654.jpg\n",
      "Saved image to tmp/satellite/imsat_26.43083-81.9097721.jpg\n",
      "Saved image to tmp/satellite/imsat_26.43110331-81.91170603.jpg\n",
      "Saved image to tmp/satellite/imsat_26.43075782-81.91240978.jpg\n",
      "Saved image to tmp/satellite/imsat_26.42858536-81.9070119.jpg\n",
      "Saved image to tmp/satellite/imsat_26.43453341-81.91221289.jpg\n",
      "Saved image to tmp/satellite/imsat_26.42993594-81.91306316.jpg\n",
      "Saved image to tmp/satellite/imsat_26.42916789-81.91261164.jpg\n",
      "Saved image to tmp/satellite/imsat_26.4333016-81.91791407.jpg\n",
      "Saved image to tmp/satellite/imsat_26.43397591-81.91695427.jpg\n",
      "Saved image to tmp/satellite/imsat_26.43227003-81.91580363.jpg\n",
      "Saved image to tmp/satellite/imsat_26.43340131-81.91216083.jpg\n",
      "Saved image to tmp/satellite/imsat_26.43255227-81.91618369.jpg\n",
      "Saved image to tmp/satellite/imsat_26.43055109-81.91176261.jpg\n",
      "Saved image to tmp/satellite/imsat_26.43214594-81.91145566.jpg\n"
     ]
    },
    {
     "name": "stderr",
     "output_type": "stream",
     "text": [
      "Obtaining satellite imagery:  34%|███▎      | 1046/3102 [00:18<00:28, 71.28it/s]"
     ]
    },
    {
     "name": "stdout",
     "output_type": "stream",
     "text": [
      "Saved image to tmp/satellite/imsat_26.43235138-81.91393878.jpg\n",
      "Saved image to tmp/satellite/imsat_26.43010217-81.91043567.jpg\n",
      "Saved image to tmp/satellite/imsat_26.42821668-81.9106767.jpg\n",
      "Saved image to tmp/satellite/imsat_26.4319853-81.90682945.jpg\n",
      "Saved image to tmp/satellite/imsat_26.43023213-81.91422162.jpg\n",
      "Saved image to tmp/satellite/imsat_26.43342975-81.91148686.jpg\n",
      "Saved image to tmp/satellite/imsat_26.43236803-81.91001994.jpg\n",
      "Saved image to tmp/satellite/imsat_26.43340294-81.91549342.jpg\n",
      "Saved image to tmp/satellite/imsat_26.42847229-81.90791692.jpg\n",
      "Saved image to tmp/satellite/imsat_26.4283221-81.90841787.jpg\n",
      "Saved image to tmp/satellite/imsat_26.4287424-81.91232537.jpg\n",
      "Saved image to tmp/satellite/imsat_26.43339012-81.91514075.jpg\n",
      "Saved image to tmp/satellite/imsat_26.43029256-81.9095134.jpg\n",
      "Saved image to tmp/satellite/imsat_26.4340147-81.91124208.jpg\n",
      "Saved image to tmp/satellite/imsat_26.42840779-81.9109402.jpg\n",
      "Saved image to tmp/satellite/imsat_26.4336175-81.91471496.jpg\n",
      "Saved image to tmp/satellite/imsat_26.42957139-81.90844833.jpg\n",
      "Saved image to tmp/satellite/imsat_26.43239738-81.91525858.jpg\n"
     ]
    },
    {
     "name": "stderr",
     "output_type": "stream",
     "text": [
      "Obtaining satellite imagery:  34%|███▍      | 1064/3102 [00:19<00:28, 71.06it/s]"
     ]
    },
    {
     "name": "stdout",
     "output_type": "stream",
     "text": [
      "Saved image to tmp/satellite/imsat_26.42959314-81.91312207.jpg\n",
      "Saved image to tmp/satellite/imsat_26.42949049-81.91132677.jpg\n",
      "Saved image to tmp/satellite/imsat_26.43398348-81.91573208.jpg\n",
      "Saved image to tmp/satellite/imsat_26.43078682-81.90781467.jpg\n",
      "Saved image to tmp/satellite/imsat_26.43135075-81.90882574.jpg\n",
      "Saved image to tmp/satellite/imsat_26.43172667-81.91034742.jpg\n",
      "Saved image to tmp/satellite/imsat_26.43192171-81.91242718.jpg\n",
      "Saved image to tmp/satellite/imsat_26.43130045-81.90937677.jpg\n",
      "Saved image to tmp/satellite/imsat_26.43125798-81.91122466.jpg\n",
      "Saved image to tmp/satellite/imsat_26.43300904-81.91148267.jpg\n",
      "Saved image to tmp/satellite/imsat_26.43111976-81.91060595.jpg\n",
      "Saved image to tmp/satellite/imsat_26.43208513-81.9129556.jpg\n",
      "Saved image to tmp/satellite/imsat_26.42974514-81.90995237.jpg\n",
      "Saved image to tmp/satellite/imsat_26.43155673-81.91417664.jpg\n"
     ]
    },
    {
     "name": "stderr",
     "output_type": "stream",
     "text": [
      "Obtaining satellite imagery:  35%|███▍      | 1074/3102 [00:19<00:26, 77.38it/s]"
     ]
    },
    {
     "name": "stdout",
     "output_type": "stream",
     "text": [
      "Saved image to tmp/satellite/imsat_26.43095377-81.9145167.jpg\n",
      "Saved image to tmp/satellite/imsat_26.43092467-81.91347244.jpg\n",
      "Saved image to tmp/satellite/imsat_26.43170607-81.91555268.jpg\n",
      "Saved image to tmp/satellite/imsat_26.43049676-81.91300636.jpg\n",
      "Saved image to tmp/satellite/imsat_26.43415905-81.91137685.jpg\n",
      "Saved image to tmp/satellite/imsat_26.43098471-81.90769221.jpg\n",
      "Saved image to tmp/satellite/imsat_26.42791646-81.90352169.jpg\n",
      "Saved image to tmp/satellite/imsat_26.42807259-81.90984776.jpg\n",
      "Saved image to tmp/satellite/imsat_26.4323905-81.90950864.jpg\n",
      "Saved image to tmp/satellite/imsat_26.43120491-81.90750622.jpg\n",
      "Saved image to tmp/satellite/imsat_26.4279701-81.91104505.jpg\n",
      "Saved image to tmp/satellite/imsat_26.43038689-81.90374838.jpg\n",
      "Saved image to tmp/satellite/imsat_26.43286946-81.91513729.jpg\n",
      "Saved image to tmp/satellite/imsat_26.43343464-81.91308459.jpg\n",
      "Saved image to tmp/satellite/imsat_26.43280119-81.91436012.jpg\n"
     ]
    },
    {
     "name": "stderr",
     "output_type": "stream",
     "text": [
      "Obtaining satellite imagery:  35%|███▌      | 1090/3102 [00:19<00:27, 72.96it/s]"
     ]
    },
    {
     "name": "stdout",
     "output_type": "stream",
     "text": [
      "Saved image to tmp/satellite/imsat_26.42826568-81.91000092.jpg\n",
      "Saved image to tmp/satellite/imsat_26.43193133-81.9084297.jpg\n",
      "Saved image to tmp/satellite/imsat_26.43006944-81.91067338.jpg\n",
      "Saved image to tmp/satellite/imsat_26.43332336-81.9101699.jpg\n",
      "Saved image to tmp/satellite/imsat_26.43137933-81.90732547.jpg\n",
      "Saved image to tmp/satellite/imsat_26.43071696-81.91324459.jpg\n",
      "Saved image to tmp/satellite/imsat_26.43361058-81.91494049.jpg\n",
      "Saved image to tmp/satellite/imsat_26.4339694-81.91348038.jpg\n",
      "Saved image to tmp/satellite/imsat_26.4294079-81.90841267.jpg\n",
      "Saved image to tmp/satellite/imsat_26.430908-81.90954625.jpg\n",
      "Saved image to tmp/satellite/imsat_26.4314462-81.91278708.jpg\n",
      "Saved image to tmp/satellite/imsat_26.42928553-81.91169689.jpg\n",
      "Saved image to tmp/satellite/imsat_26.43026186-81.91270603.jpg\n",
      "Saved image to tmp/satellite/imsat_26.43397347-81.9149835.jpg\n",
      "Saved image to tmp/satellite/imsat_26.43201348-81.91021553.jpg\n",
      "Saved image to tmp/satellite/imsat_26.42958075-81.91264743.jpg\n"
     ]
    },
    {
     "name": "stderr",
     "output_type": "stream",
     "text": [
      "Obtaining satellite imagery:  36%|███▌      | 1106/3102 [00:19<00:31, 62.72it/s]"
     ]
    },
    {
     "name": "stdout",
     "output_type": "stream",
     "text": [
      "Saved image to tmp/satellite/imsat_26.42955808-81.90891349.jpg\n",
      "Saved image to tmp/satellite/imsat_26.43175525-81.90895074.jpg\n",
      "Saved image to tmp/satellite/imsat_26.43058034-81.90386526.jpg\n",
      "Saved image to tmp/satellite/imsat_26.43149436-81.9125641.jpg\n",
      "Saved image to tmp/satellite/imsat_26.43030015-81.91140775.jpg\n",
      "Saved image to tmp/satellite/imsat_26.43204413-81.9086525.jpg\n",
      "Saved image to tmp/satellite/imsat_26.43124578-81.91190749.jpg\n",
      "Saved image to tmp/satellite/imsat_26.43295643-81.9145833.jpg\n",
      "Saved image to tmp/satellite/imsat_26.43038821-81.90744566.jpg\n",
      "Saved image to tmp/satellite/imsat_26.43052249-81.91238525.jpg\n",
      "Saved image to tmp/satellite/imsat_26.43249345-81.90872272.jpg\n",
      "Saved image to tmp/satellite/imsat_26.43076546-81.90720045.jpg\n",
      "Saved image to tmp/satellite/imsat_26.43111118-81.91363005.jpg\n",
      "Saved image to tmp/satellite/imsat_26.43172294-81.91001748.jpg\n",
      "Saved image to tmp/satellite/imsat_26.4321367-81.91077268.jpg\n"
     ]
    },
    {
     "name": "stderr",
     "output_type": "stream",
     "text": [
      "Obtaining satellite imagery:  36%|███▌      | 1123/3102 [00:20<00:30, 64.94it/s]"
     ]
    },
    {
     "name": "stdout",
     "output_type": "stream",
     "text": [
      "Saved image to tmp/satellite/imsat_26.43257123-81.9119495.jpg\n",
      "Saved image to tmp/satellite/imsat_26.42938916-81.90890193.jpg\n",
      "Saved image to tmp/satellite/imsat_26.43301245-81.91102315.jpg\n",
      "Saved image to tmp/satellite/imsat_26.43345574-81.91354247.jpg\n",
      "Saved image to tmp/satellite/imsat_26.43250704-81.90817627.jpg\n",
      "Saved image to tmp/satellite/imsat_26.42898809-81.91260159.jpg\n",
      "Saved image to tmp/satellite/imsat_26.43219881-81.91569682.jpg\n",
      "Saved image to tmp/satellite/imsat_26.4329535-81.91582744.jpg\n",
      "Saved image to tmp/satellite/imsat_26.42977987-81.90887641.jpg\n",
      "Saved image to tmp/satellite/imsat_26.43268235-81.91555039.jpg\n",
      "Saved image to tmp/satellite/imsat_26.42919743-81.91237439.jpg\n",
      "Saved image to tmp/satellite/imsat_26.42954736-81.90991478.jpg\n",
      "Saved image to tmp/satellite/imsat_26.42937134-81.9104886.jpg\n",
      "Saved image to tmp/satellite/imsat_26.43294807-81.91715028.jpg\n",
      "Saved image to tmp/satellite/imsat_26.42907091-81.91081748.jpg\n",
      "Saved image to tmp/satellite/imsat_26.43223352-81.91443089.jpg\n",
      "Saved image to tmp/satellite/imsat_26.43215392-81.91101348.jpg\n",
      "Saved image to tmp/satellite/imsat_26.43255394-81.91147348.jpg\n"
     ]
    },
    {
     "name": "stderr",
     "output_type": "stream",
     "text": [
      "Obtaining satellite imagery:  37%|███▋      | 1138/3102 [00:20<00:30, 65.10it/s]"
     ]
    },
    {
     "name": "stdout",
     "output_type": "stream",
     "text": [
      "Saved image to tmp/satellite/imsat_26.43003176-81.9099845.jpg\n",
      "Saved image to tmp/satellite/imsat_26.43200601-81.91420593.jpg\n",
      "Saved image to tmp/satellite/imsat_26.42995393-81.91330475.jpg\n",
      "Saved image to tmp/satellite/imsat_26.43364286-81.91264578.jpg\n",
      "Saved image to tmp/satellite/imsat_26.43298836-81.91125486.jpg\n",
      "Saved image to tmp/satellite/imsat_26.42812218-81.90841536.jpg\n",
      "Saved image to tmp/satellite/imsat_26.43123121-81.91381441.jpg\n",
      "Saved image to tmp/satellite/imsat_26.42893161-81.90792748.jpg\n",
      "Saved image to tmp/satellite/imsat_26.43256141-81.91102329.jpg\n",
      "Saved image to tmp/satellite/imsat_26.4321922-81.91007717.jpg\n",
      "Saved image to tmp/satellite/imsat_26.43257423-81.91536298.jpg\n",
      "Saved image to tmp/satellite/imsat_26.43071958-81.91472918.jpg\n",
      "Saved image to tmp/satellite/imsat_26.4334186-81.91101707.jpg\n",
      "Saved image to tmp/satellite/imsat_26.43264642-81.91282648.jpg\n",
      "Saved image to tmp/satellite/imsat_26.43343795-81.91377398.jpg\n",
      "Saved image to tmp/satellite/imsat_26.4317008-81.91379968.jpg\n"
     ]
    },
    {
     "name": "stderr",
     "output_type": "stream",
     "text": [
      "Obtaining satellite imagery:  37%|███▋      | 1155/3102 [00:20<00:29, 66.23it/s]"
     ]
    },
    {
     "name": "stdout",
     "output_type": "stream",
     "text": [
      "Saved image to tmp/satellite/imsat_26.43005714-81.90939955.jpg\n",
      "Saved image to tmp/satellite/imsat_26.4300704-81.91255643.jpg\n",
      "Saved image to tmp/satellite/imsat_26.43243384-81.91376684.jpg\n",
      "Saved image to tmp/satellite/imsat_26.43256514-81.9107911.jpg\n",
      "Saved image to tmp/satellite/imsat_26.42852643-81.90694465.jpg\n",
      "Saved image to tmp/satellite/imsat_26.43281629-81.91370997.jpg\n",
      "Saved image to tmp/satellite/imsat_26.43253334-81.90891787.jpg\n",
      "Saved image to tmp/satellite/imsat_26.4344769-81.91566984.jpg\n",
      "Saved image to tmp/satellite/imsat_26.43277341-81.91234978.jpg\n",
      "Saved image to tmp/satellite/imsat_26.43214697-81.9095044.jpg\n",
      "Saved image to tmp/satellite/imsat_26.43440509-81.9135608.jpg\n",
      "Saved image to tmp/satellite/imsat_26.43017454-81.90837622.jpg\n",
      "Saved image to tmp/satellite/imsat_26.43215636-81.91055782.jpg\n",
      "Saved image to tmp/satellite/imsat_26.43140374-81.91534418.jpg\n",
      "Saved image to tmp/satellite/imsat_26.43285109-81.9100318.jpg\n",
      "Saved image to tmp/satellite/imsat_26.43340874-81.91171595.jpg\n"
     ]
    },
    {
     "name": "stderr",
     "output_type": "stream",
     "text": [
      "Obtaining satellite imagery:  38%|███▊      | 1171/3102 [00:20<00:29, 64.90it/s]"
     ]
    },
    {
     "name": "stdout",
     "output_type": "stream",
     "text": [
      "Saved image to tmp/satellite/imsat_26.42803134-81.91114573.jpg\n",
      "Saved image to tmp/satellite/imsat_26.43256675-81.91054164.jpg\n",
      "Saved image to tmp/satellite/imsat_26.43445068-81.91275165.jpg\n",
      "Saved image to tmp/satellite/imsat_26.43397639-81.91369531.jpg\n",
      "Saved image to tmp/satellite/imsat_26.43397962-81.91316661.jpg\n",
      "Saved image to tmp/satellite/imsat_26.43238965-81.91463591.jpg\n",
      "Saved image to tmp/satellite/imsat_26.42957206-81.91066816.jpg\n",
      "Saved image to tmp/satellite/imsat_26.43062365-81.91414624.jpg\n",
      "Saved image to tmp/satellite/imsat_26.43388193-81.91584963.jpg\n",
      "Saved image to tmp/satellite/imsat_26.43097451-81.90361364.jpg\n",
      "Saved image to tmp/satellite/imsat_26.43258931-81.9103248.jpg\n",
      "Saved image to tmp/satellite/imsat_26.43254333-81.91255951.jpg\n",
      "Saved image to tmp/satellite/imsat_26.43214816-81.91030825.jpg\n",
      "Saved image to tmp/satellite/imsat_26.43299551-81.91049301.jpg\n"
     ]
    },
    {
     "name": "stderr",
     "output_type": "stream",
     "text": [
      "Obtaining satellite imagery:  38%|███▊      | 1186/3102 [00:21<00:28, 67.97it/s]"
     ]
    },
    {
     "name": "stdout",
     "output_type": "stream",
     "text": [
      "Saved image to tmp/satellite/imsat_26.4337622-81.91811707.jpg\n",
      "Saved image to tmp/satellite/imsat_26.43368643-81.91662409.jpg\n",
      "Saved image to tmp/satellite/imsat_26.43123532-81.90426859.jpg\n",
      "Saved image to tmp/satellite/imsat_26.42803561-81.9114869.jpg\n",
      "Saved image to tmp/satellite/imsat_26.43214865-81.91192951.jpg\n",
      "Saved image to tmp/satellite/imsat_26.43177156-81.91314073.jpg\n",
      "Saved image to tmp/satellite/imsat_26.43339619-81.91447131.jpg\n",
      "Saved image to tmp/satellite/imsat_26.43267167-81.9167691.jpg\n",
      "Saved image to tmp/satellite/imsat_26.43338934-81.91262709.jpg\n",
      "Saved image to tmp/satellite/imsat_26.43279539-81.91639843.jpg\n",
      "Saved image to tmp/satellite/imsat_26.43340128-81.91239864.jpg\n",
      "Saved image to tmp/satellite/imsat_26.4335839-81.91642445.jpg\n",
      "Saved image to tmp/satellite/imsat_26.42846093-81.9120197.jpg\n",
      "Saved image to tmp/satellite/imsat_26.43094552-81.91425233.jpg\n"
     ]
    },
    {
     "name": "stderr",
     "output_type": "stream",
     "text": [
      "Obtaining satellite imagery:  39%|███▊      | 1200/3102 [00:21<00:32, 59.29it/s]"
     ]
    },
    {
     "name": "stdout",
     "output_type": "stream",
     "text": [
      "Saved image to tmp/satellite/imsat_26.42887018-81.91060506.jpg\n",
      "Saved image to tmp/satellite/imsat_26.42869575-81.90792847.jpg\n",
      "Saved image to tmp/satellite/imsat_26.43036797-81.91285083.jpg\n",
      "Saved image to tmp/satellite/imsat_26.42897638-81.91141866.jpg\n",
      "Saved image to tmp/satellite/imsat_26.43169261-81.91124138.jpg\n",
      "Saved image to tmp/satellite/imsat_26.43341901-81.91124473.jpg\n",
      "Saved image to tmp/satellite/imsat_26.42773329-81.91122298.jpg\n",
      "Saved image to tmp/satellite/imsat_26.4300865-81.90364806.jpg\n",
      "Saved image to tmp/satellite/imsat_26.42858617-81.90885096.jpg\n",
      "Saved image to tmp/satellite/imsat_26.43383301-81.91679049.jpg\n",
      "Saved image to tmp/satellite/imsat_26.42876846-81.90970689.jpg\n",
      "Saved image to tmp/satellite/imsat_26.43284881-81.91169506.jpg\n"
     ]
    },
    {
     "name": "stderr",
     "output_type": "stream",
     "text": [
      "Obtaining satellite imagery:  39%|███▉      | 1215/3102 [00:21<00:31, 60.57it/s]"
     ]
    },
    {
     "name": "stdout",
     "output_type": "stream",
     "text": [
      "Saved image to tmp/satellite/imsat_26.43414191-81.91711379.jpg\n",
      "Saved image to tmp/satellite/imsat_26.43193965-81.91531679.jpg\n",
      "Saved image to tmp/satellite/imsat_26.4318419-81.91282006.jpg\n",
      "Saved image to tmp/satellite/imsat_26.42916096-81.90843199.jpg\n",
      "Saved image to tmp/satellite/imsat_26.43191519-81.91229125.jpg\n",
      "Saved image to tmp/satellite/imsat_26.42987074-81.90941272.jpg\n",
      "Saved image to tmp/satellite/imsat_26.4304945-81.9095767.jpg\n",
      "Saved image to tmp/satellite/imsat_26.43396105-81.91426342.jpg\n",
      "Saved image to tmp/satellite/imsat_26.43393294-81.91451672.jpg\n",
      "Saved image to tmp/satellite/imsat_26.43190726-81.91258331.jpg\n",
      "Saved image to tmp/satellite/imsat_26.43128646-81.91233315.jpg\n",
      "Saved image to tmp/satellite/imsat_26.43155971-81.91235392.jpg\n",
      "Saved image to tmp/satellite/imsat_26.43205092-81.91481988.jpg\n",
      "Saved image to tmp/satellite/imsat_26.43072359-81.91025442.jpg\n",
      "Saved image to tmp/satellite/imsat_26.43171745-81.91080169.jpg\n"
     ]
    },
    {
     "name": "stderr",
     "output_type": "stream",
     "text": [
      "Obtaining satellite imagery:  40%|███▉      | 1233/3102 [00:21<00:27, 67.86it/s]"
     ]
    },
    {
     "name": "stdout",
     "output_type": "stream",
     "text": [
      "Saved image to tmp/satellite/imsat_26.42881397-81.91129204.jpg\n",
      "Saved image to tmp/satellite/imsat_26.42925906-81.91103254.jpg\n",
      "Saved image to tmp/satellite/imsat_26.43094647-81.91049974.jpg\n",
      "Saved image to tmp/satellite/imsat_26.43273652-81.91081657.jpg\n",
      "Saved image to tmp/satellite/imsat_26.42993352-81.91100206.jpg\n",
      "Saved image to tmp/satellite/imsat_26.43093284-81.90840927.jpg\n",
      "Saved image to tmp/satellite/imsat_26.42868162-81.90341513.jpg\n",
      "Saved image to tmp/satellite/imsat_26.43009949-81.91241104.jpg\n",
      "Saved image to tmp/satellite/imsat_26.43341663-81.91764848.jpg\n",
      "Saved image to tmp/satellite/imsat_26.43107642-81.90933066.jpg\n",
      "Saved image to tmp/satellite/imsat_26.42861851-81.91217586.jpg\n",
      "Saved image to tmp/satellite/imsat_26.43439902-81.91760633.jpg\n",
      "Saved image to tmp/satellite/imsat_26.43074315-81.91002427.jpg\n",
      "Saved image to tmp/satellite/imsat_26.43339397-81.91629975.jpg\n",
      "Saved image to tmp/satellite/imsat_26.42891401-81.90888043.jpg\n",
      "Saved image to tmp/satellite/imsat_26.42923488-81.90949014.jpg\n",
      "Saved image to tmp/satellite/imsat_26.4325585-81.91171058.jpg\n"
     ]
    },
    {
     "name": "stderr",
     "output_type": "stream",
     "text": [
      "Obtaining satellite imagery:  40%|████      | 1241/3102 [00:21<00:32, 56.70it/s]"
     ]
    },
    {
     "name": "stdout",
     "output_type": "stream",
     "text": [
      "Saved image to tmp/satellite/imsat_26.43278826-81.91256224.jpg\n",
      "Saved image to tmp/satellite/imsat_26.43169062-81.91511413.jpg\n",
      "Saved image to tmp/satellite/imsat_26.4321268-81.91170265.jpg\n",
      "Saved image to tmp/satellite/imsat_26.43114161-81.90684517.jpg\n",
      "Saved image to tmp/satellite/imsat_26.43059633-81.90734977.jpg\n",
      "Saved image to tmp/satellite/imsat_26.4319183-81.90655813.jpg\n",
      "Saved image to tmp/satellite/imsat_26.43142713-81.91231082.jpg\n"
     ]
    },
    {
     "name": "stderr",
     "output_type": "stream",
     "text": [
      "Obtaining satellite imagery:  40%|████      | 1256/3102 [00:22<00:29, 61.54it/s]"
     ]
    },
    {
     "name": "stdout",
     "output_type": "stream",
     "text": [
      "Saved image to tmp/satellite/imsat_26.43132586-81.9066395.jpg\n",
      "Saved image to tmp/satellite/imsat_26.43220664-81.91623761.jpg\n",
      "Saved image to tmp/satellite/imsat_26.43302675-81.91256884.jpg\n",
      "Saved image to tmp/satellite/imsat_26.43110047-81.9085184.jpg\n",
      "Saved image to tmp/satellite/imsat_26.42823214-81.9061159.jpg\n",
      "Saved image to tmp/satellite/imsat_26.43157761-81.91192051.jpg\n",
      "Saved image to tmp/satellite/imsat_26.43132916-81.91333151.jpg\n",
      "Saved image to tmp/satellite/imsat_26.43475986-81.9195043.jpg\n",
      "Saved image to tmp/satellite/imsat_26.43172641-81.90945824.jpg\n",
      "Saved image to tmp/satellite/imsat_26.42842299-81.90350606.jpg\n",
      "Saved image to tmp/satellite/imsat_26.43172401-81.90643987.jpg\n",
      "Saved image to tmp/satellite/imsat_26.43080231-81.90396074.jpg\n",
      "Saved image to tmp/satellite/imsat_26.43063585-81.9104824.jpg\n",
      "Saved image to tmp/satellite/imsat_26.43255038-81.91125991.jpg\n",
      "Saved image to tmp/satellite/imsat_26.43228779-81.91330314.jpg\n"
     ]
    },
    {
     "name": "stderr",
     "output_type": "stream",
     "text": [
      "Obtaining satellite imagery:  41%|████      | 1265/3102 [00:22<00:27, 67.33it/s]"
     ]
    },
    {
     "name": "stdout",
     "output_type": "stream",
     "text": [
      "Saved image to tmp/satellite/imsat_26.4343446-81.91149471.jpg\n",
      "Saved image to tmp/satellite/imsat_26.43212649-81.91612396.jpg\n",
      "Saved image to tmp/satellite/imsat_26.42829132-81.9092955.jpg\n",
      "Saved image to tmp/satellite/imsat_26.43080446-81.90870494.jpg\n",
      "Saved image to tmp/satellite/imsat_26.43201961-81.91002437.jpg\n",
      "Saved image to tmp/satellite/imsat_26.43396658-81.91100115.jpg\n",
      "Saved image to tmp/satellite/imsat_26.42970123-81.91181628.jpg\n",
      "Saved image to tmp/satellite/imsat_26.43128137-81.91099967.jpg\n",
      "Saved image to tmp/satellite/imsat_26.43182737-81.91436725.jpg\n",
      "Saved image to tmp/satellite/imsat_26.4339982-81.91220518.jpg\n",
      "Saved image to tmp/satellite/imsat_26.43344977-81.91332746.jpg\n",
      "Saved image to tmp/satellite/imsat_26.42779966-81.91023386.jpg\n",
      "Saved image to tmp/satellite/imsat_26.43191332-81.9158285.jpg\n",
      "Saved image to tmp/satellite/imsat_26.43153351-81.90891892.jpg\n",
      "Saved image to tmp/satellite/imsat_26.43400768-81.91246316.jpg\n",
      "Saved image to tmp/satellite/imsat_26.43169977-81.91147309.jpg\n"
     ]
    },
    {
     "name": "stderr",
     "output_type": "stream",
     "text": [
      "Obtaining satellite imagery:  41%|████▏     | 1281/3102 [00:22<00:27, 67.40it/s]"
     ]
    },
    {
     "name": "stdout",
     "output_type": "stream",
     "text": [
      "Saved image to tmp/satellite/imsat_26.42915889-81.90989297.jpg\n",
      "Saved image to tmp/satellite/imsat_26.4339469-81.91387757.jpg\n",
      "Saved image to tmp/satellite/imsat_26.43117564-81.90959422.jpg\n",
      "Saved image to tmp/satellite/imsat_26.42965114-81.90336927.jpg\n",
      "Saved image to tmp/satellite/imsat_26.43428543-81.91872299.jpg\n",
      "Saved image to tmp/satellite/imsat_26.43123949-81.91030263.jpg\n",
      "Saved image to tmp/satellite/imsat_26.428189-81.91169543.jpg\n",
      "Saved image to tmp/satellite/imsat_26.43205277-81.9135724.jpg\n",
      "Saved image to tmp/satellite/imsat_26.43059126-81.90801416.jpg\n",
      "Saved image to tmp/satellite/imsat_26.42982669-81.90844801.jpg\n",
      "Saved image to tmp/satellite/imsat_26.4315077-81.90384405.jpg\n",
      "Saved image to tmp/satellite/imsat_26.43339777-81.9140075.jpg\n",
      "Saved image to tmp/satellite/imsat_26.43336794-81.91584681.jpg\n",
      "Saved image to tmp/satellite/imsat_26.43007415-81.90885933.jpg\n",
      "Saved image to tmp/satellite/imsat_26.42939609-81.90990074.jpg\n",
      "Saved image to tmp/satellite/imsat_26.42915705-81.91093717.jpg\n",
      "Saved image to tmp/satellite/imsat_26.42974363-81.90780196.jpg\n",
      "Saved image to tmp/satellite/imsat_26.4301858-81.91336732.jpg\n",
      "Saved image to tmp/satellite/imsat_26.42833682-81.90309795.jpg\n",
      "Saved image to tmp/satellite/imsat_26.43038064-81.90972336.jpg\n"
     ]
    },
    {
     "name": "stderr",
     "output_type": "stream",
     "text": [
      "Obtaining satellite imagery:  42%|████▏     | 1303/3102 [00:22<00:22, 79.87it/s]"
     ]
    },
    {
     "name": "stdout",
     "output_type": "stream",
     "text": [
      "Saved image to tmp/satellite/imsat_26.43076335-81.91226706.jpg\n",
      "Saved image to tmp/satellite/imsat_26.42979388-81.9133089.jpg\n",
      "Saved image to tmp/satellite/imsat_26.43106206-81.9130652.jpg\n",
      "Saved image to tmp/satellite/imsat_26.43104112-81.90406877.jpg\n",
      "Saved image to tmp/satellite/imsat_26.43167196-81.9096564.jpg\n",
      "Saved image to tmp/satellite/imsat_26.43394398-81.91403146.jpg\n",
      "Saved image to tmp/satellite/imsat_26.42875066-81.90885017.jpg\n",
      "Saved image to tmp/satellite/imsat_26.42820479-81.9035302.jpg\n",
      "Saved image to tmp/satellite/imsat_26.43125802-81.91169575.jpg\n",
      "Saved image to tmp/satellite/imsat_26.43097291-81.9129544.jpg\n",
      "Saved image to tmp/satellite/imsat_26.42943719-81.91250383.jpg\n",
      "Saved image to tmp/satellite/imsat_26.43230724-81.91636275.jpg\n",
      "Saved image to tmp/satellite/imsat_26.43180053-81.9139652.jpg\n",
      "Saved image to tmp/satellite/imsat_26.43067647-81.91070469.jpg\n",
      "Saved image to tmp/satellite/imsat_26.4309465-81.91029424.jpg\n",
      "Saved image to tmp/satellite/imsat_26.43450671-81.91645639.jpg\n"
     ]
    },
    {
     "name": "stderr",
     "output_type": "stream",
     "text": [
      "Obtaining satellite imagery:  43%|████▎     | 1320/3102 [00:23<00:23, 76.56it/s]"
     ]
    },
    {
     "name": "stdout",
     "output_type": "stream",
     "text": [
      "Saved image to tmp/satellite/imsat_26.42934607-81.91115033.jpg\n",
      "Saved image to tmp/satellite/imsat_26.43299822-81.91412237.jpg\n",
      "Saved image to tmp/satellite/imsat_26.42772671-81.90340421.jpg\n",
      "Saved image to tmp/satellite/imsat_26.43223215-81.91306864.jpg\n",
      "Saved image to tmp/satellite/imsat_26.43233231-81.91255623.jpg\n",
      "Saved image to tmp/satellite/imsat_26.43395847-81.91477202.jpg\n",
      "Saved image to tmp/satellite/imsat_26.43341591-81.91193094.jpg\n",
      "Saved image to tmp/satellite/imsat_26.43302656-81.91079358.jpg\n",
      "Saved image to tmp/satellite/imsat_26.42988796-81.90998257.jpg\n",
      "Saved image to tmp/satellite/imsat_26.43120332-81.91255848.jpg\n",
      "Saved image to tmp/satellite/imsat_26.43048241-81.91256279.jpg\n",
      "Saved image to tmp/satellite/imsat_26.42935779-81.90729107.jpg\n",
      "Saved image to tmp/satellite/imsat_26.43303608-81.91191677.jpg\n",
      "Saved image to tmp/satellite/imsat_26.43147997-81.9136457.jpg\n",
      "Saved image to tmp/satellite/imsat_26.42889508-81.90332342.jpg\n",
      "Saved image to tmp/satellite/imsat_26.43126415-81.91076324.jpg\n"
     ]
    },
    {
     "name": "stderr",
     "output_type": "stream",
     "text": [
      "Obtaining satellite imagery:  43%|████▎     | 1336/3102 [00:23<00:25, 70.01it/s]"
     ]
    },
    {
     "name": "stdout",
     "output_type": "stream",
     "text": [
      "Saved image to tmp/satellite/imsat_26.43023559-81.90984796.jpg\n",
      "Saved image to tmp/satellite/imsat_26.43238642-81.91604318.jpg\n",
      "Saved image to tmp/satellite/imsat_26.43631174-81.91899943.jpg\n",
      "Saved image to tmp/satellite/imsat_26.44022342-81.92630782.jpg\n",
      "Saved image to tmp/satellite/imsat_26.42906638-81.90886353.jpg\n",
      "Saved image to tmp/satellite/imsat_26.43731039-81.91640841.jpg\n",
      "Saved image to tmp/satellite/imsat_26.42805146-81.90787134.jpg\n",
      "Saved image to tmp/satellite/imsat_26.43930598-81.9230413.jpg\n",
      "Saved image to tmp/satellite/imsat_26.44068555-81.92839289.jpg\n",
      "Saved image to tmp/satellite/imsat_26.43103479-81.91476601.jpg\n",
      "Saved image to tmp/satellite/imsat_26.43308406-81.91351323.jpg\n",
      "Saved image to tmp/satellite/imsat_26.43850549-81.92227993.jpg\n"
     ]
    },
    {
     "name": "stderr",
     "output_type": "stream",
     "text": [
      "Obtaining satellite imagery:  43%|████▎     | 1344/3102 [00:23<00:27, 64.20it/s]"
     ]
    },
    {
     "name": "stdout",
     "output_type": "stream",
     "text": [
      "Saved image to tmp/satellite/imsat_26.43530357-81.91360552.jpg\n",
      "Saved image to tmp/satellite/imsat_26.43813891-81.92200041.jpg\n",
      "Saved image to tmp/satellite/imsat_26.43500775-81.91591782.jpg\n",
      "Saved image to tmp/satellite/imsat_26.43992666-81.92402751.jpg\n",
      "Saved image to tmp/satellite/imsat_26.44081013-81.92561954.jpg\n",
      "Saved image to tmp/satellite/imsat_26.43088622-81.91285279.jpg\n",
      "Saved image to tmp/satellite/imsat_26.44004553-81.92216372.jpg\n",
      "Saved image to tmp/satellite/imsat_26.44058948-81.92324722.jpg\n",
      "Saved image to tmp/satellite/imsat_26.43763064-81.92312494.jpg\n",
      "Saved image to tmp/satellite/imsat_26.43648495-81.92175089.jpg\n",
      "Saved image to tmp/satellite/imsat_26.43873795-81.92257233.jpg\n",
      "Saved image to tmp/satellite/imsat_26.43457671-81.91155992.jpg\n",
      "Saved image to tmp/satellite/imsat_26.43659346-81.91825801.jpg\n",
      "Saved image to tmp/satellite/imsat_26.43629393-81.91719103.jpg\n"
     ]
    },
    {
     "name": "stderr",
     "output_type": "stream",
     "text": [
      "Obtaining satellite imagery:  44%|████▍     | 1359/3102 [00:23<00:28, 61.43it/s]"
     ]
    },
    {
     "name": "stdout",
     "output_type": "stream",
     "text": [
      "Saved image to tmp/satellite/imsat_26.43862155-81.92036875.jpg\n",
      "Saved image to tmp/satellite/imsat_26.44008924-81.92489458.jpg\n",
      "Saved image to tmp/satellite/imsat_26.43840811-81.92163749.jpg\n",
      "Saved image to tmp/satellite/imsat_26.44050617-81.92337888.jpg\n",
      "Saved image to tmp/satellite/imsat_26.44057533-81.92269087.jpg\n",
      "Saved image to tmp/satellite/imsat_26.43973423-81.92150128.jpg\n",
      "Saved image to tmp/satellite/imsat_26.43569094-81.92073108.jpg\n",
      "Saved image to tmp/satellite/imsat_26.43617143-81.91628689.jpg\n",
      "Saved image to tmp/satellite/imsat_26.43924494-81.92423224.jpg\n",
      "Saved image to tmp/satellite/imsat_26.44113686-81.92637051.jpg\n",
      "Saved image to tmp/satellite/imsat_26.4353556-81.91554931.jpg\n",
      "Saved image to tmp/satellite/imsat_26.4403322-81.92247798.jpg\n"
     ]
    },
    {
     "name": "stderr",
     "output_type": "stream",
     "text": [
      "Obtaining satellite imagery:  44%|████▍     | 1375/3102 [00:23<00:25, 67.67it/s]"
     ]
    },
    {
     "name": "stdout",
     "output_type": "stream",
     "text": [
      "Saved image to tmp/satellite/imsat_26.43170492-81.91100232.jpg\n",
      "Saved image to tmp/satellite/imsat_26.43511079-81.91652948.jpg\n",
      "Saved image to tmp/satellite/imsat_26.4405469-81.92373008.jpg\n",
      "Saved image to tmp/satellite/imsat_26.43936316-81.92365943.jpg\n",
      "Saved image to tmp/satellite/imsat_26.43910003-81.92274842.jpg\n",
      "Saved image to tmp/satellite/imsat_26.44078501-81.92676574.jpg\n",
      "Saved image to tmp/satellite/imsat_26.43477551-81.91323049.jpg\n",
      "Saved image to tmp/satellite/imsat_26.42786287-81.9079061.jpg\n",
      "Saved image to tmp/satellite/imsat_26.44021054-81.92479735.jpg\n",
      "Saved image to tmp/satellite/imsat_26.44058587-81.92218967.jpg\n",
      "Saved image to tmp/satellite/imsat_26.44100758-81.92399707.jpg\n",
      "Saved image to tmp/satellite/imsat_26.43765963-81.9221795.jpg\n",
      "Saved image to tmp/satellite/imsat_26.44118318-81.92801041.jpg\n",
      "Saved image to tmp/satellite/imsat_26.43721024-81.92019781.jpg\n",
      "Saved image to tmp/satellite/imsat_26.44051257-81.92235296.jpg\n",
      "Saved image to tmp/satellite/imsat_26.43724794-81.91610001.jpg\n",
      "Saved image to tmp/satellite/imsat_26.43620151-81.91954976.jpg\n"
     ]
    },
    {
     "name": "stderr",
     "output_type": "stream",
     "text": [
      "Obtaining satellite imagery:  45%|████▍     | 1392/3102 [00:24<00:23, 73.90it/s]"
     ]
    },
    {
     "name": "stdout",
     "output_type": "stream",
     "text": [
      "Saved image to tmp/satellite/imsat_26.43810886-81.92067765.jpg\n",
      "Saved image to tmp/satellite/imsat_26.43550839-81.91411668.jpg\n",
      "Saved image to tmp/satellite/imsat_26.43665947-81.91758097.jpg\n",
      "Saved image to tmp/satellite/imsat_26.43859851-81.92214321.jpg\n",
      "Saved image to tmp/satellite/imsat_26.43608815-81.9194039.jpg\n",
      "Saved image to tmp/satellite/imsat_26.43625597-81.91322025.jpg\n",
      "Saved image to tmp/satellite/imsat_26.43470463-81.91682826.jpg\n",
      "Saved image to tmp/satellite/imsat_26.44086625-81.92508547.jpg\n",
      "Saved image to tmp/satellite/imsat_26.43567357-81.91598979.jpg\n",
      "Saved image to tmp/satellite/imsat_26.44025531-81.92378743.jpg\n",
      "Saved image to tmp/satellite/imsat_26.43629091-81.91785588.jpg\n",
      "Saved image to tmp/satellite/imsat_26.44005441-81.92686281.jpg\n",
      "Saved image to tmp/satellite/imsat_26.43969917-81.92540797.jpg\n",
      "Saved image to tmp/satellite/imsat_26.44051241-81.92661161.jpg\n",
      "Saved image to tmp/satellite/imsat_26.44045837-81.92274186.jpg\n",
      "Saved image to tmp/satellite/imsat_26.43302367-81.91171092.jpg\n",
      "Saved image to tmp/satellite/imsat_26.43525664-81.91667389.jpg\n"
     ]
    },
    {
     "name": "stderr",
     "output_type": "stream",
     "text": [
      "Obtaining satellite imagery:  45%|████▌     | 1408/3102 [00:24<00:22, 75.66it/s]"
     ]
    },
    {
     "name": "stdout",
     "output_type": "stream",
     "text": [
      "Saved image to tmp/satellite/imsat_26.4393797-81.92176569.jpg\n",
      "Saved image to tmp/satellite/imsat_26.4412098-81.92911189.jpg\n",
      "Saved image to tmp/satellite/imsat_26.43887605-81.92179867.jpg\n",
      "Saved image to tmp/satellite/imsat_26.44032729-81.92515034.jpg\n",
      "Saved image to tmp/satellite/imsat_26.43950715-81.92636284.jpg\n",
      "Saved image to tmp/satellite/imsat_26.43460702-81.91666234.jpg\n",
      "Saved image to tmp/satellite/imsat_26.43647769-81.9170554.jpg\n",
      "Saved image to tmp/satellite/imsat_26.43691494-81.91931783.jpg\n",
      "Saved image to tmp/satellite/imsat_26.43654896-81.91879456.jpg\n",
      "Saved image to tmp/satellite/imsat_26.4382313-81.92432604.jpg\n",
      "Saved image to tmp/satellite/imsat_26.43545916-81.91615919.jpg\n",
      "Saved image to tmp/satellite/imsat_26.43826562-81.92240756.jpg\n",
      "Saved image to tmp/satellite/imsat_26.43774749-81.92066252.jpg\n"
     ]
    },
    {
     "name": "stderr",
     "output_type": "stream",
     "text": [
      "Obtaining satellite imagery:  46%|████▌     | 1416/3102 [00:24<00:28, 58.29it/s]"
     ]
    },
    {
     "name": "stdout",
     "output_type": "stream",
     "text": [
      "Saved image to tmp/satellite/imsat_26.44045953-81.92496069.jpg\n",
      "Saved image to tmp/satellite/imsat_26.43911808-81.92435517.jpg\n",
      "Saved image to tmp/satellite/imsat_26.43793129-81.92335793.jpg\n",
      "Saved image to tmp/satellite/imsat_26.43849051-81.9214996.jpg\n",
      "Saved image to tmp/satellite/imsat_26.43955714-81.92450054.jpg\n",
      "Saved image to tmp/satellite/imsat_26.43706491-81.91527032.jpg\n",
      "Saved image to tmp/satellite/imsat_26.43954242-81.921529.jpg\n",
      "Saved image to tmp/satellite/imsat_26.43581103-81.919659.jpg\n",
      "Saved image to tmp/satellite/imsat_26.4349321-81.91788244.jpg\n",
      "Saved image to tmp/satellite/imsat_26.43573479-81.91388555.jpg\n",
      "Saved image to tmp/satellite/imsat_26.43528927-81.91528544.jpg\n",
      "Saved image to tmp/satellite/imsat_26.43719743-81.91891293.jpg\n",
      "Saved image to tmp/satellite/imsat_26.43721043-81.91826508.jpg\n"
     ]
    },
    {
     "name": "stderr",
     "output_type": "stream",
     "text": [
      "Obtaining satellite imagery:  46%|████▌     | 1431/3102 [00:24<00:26, 63.24it/s]"
     ]
    },
    {
     "name": "stdout",
     "output_type": "stream",
     "text": [
      "Saved image to tmp/satellite/imsat_26.43589544-81.9188421.jpg\n",
      "Saved image to tmp/satellite/imsat_26.43620877-81.91820491.jpg\n",
      "Saved image to tmp/satellite/imsat_26.43700529-81.91724416.jpg\n",
      "Saved image to tmp/satellite/imsat_26.4361229-81.92142518.jpg\n",
      "Saved image to tmp/satellite/imsat_26.44124784-81.92623189.jpg\n",
      "Saved image to tmp/satellite/imsat_26.43572164-81.91899974.jpg\n",
      "Saved image to tmp/satellite/imsat_26.43578503-81.91765689.jpg\n",
      "Saved image to tmp/satellite/imsat_26.43648201-81.91774031.jpg\n",
      "Saved image to tmp/satellite/imsat_26.43542514-81.91439105.jpg\n",
      "Saved image to tmp/satellite/imsat_26.43683422-81.91501119.jpg\n",
      "Saved image to tmp/satellite/imsat_26.44027707-81.92724343.jpg\n",
      "Saved image to tmp/satellite/imsat_26.44093318-81.92544837.jpg\n",
      "Saved image to tmp/satellite/imsat_26.43810173-81.92413114.jpg\n",
      "Saved image to tmp/satellite/imsat_26.43692594-81.91848063.jpg\n",
      "Saved image to tmp/satellite/imsat_26.44107888-81.92748406.jpg\n"
     ]
    },
    {
     "name": "stderr",
     "output_type": "stream",
     "text": [
      "Obtaining satellite imagery:  47%|████▋     | 1445/3102 [00:24<00:26, 62.62it/s]"
     ]
    },
    {
     "name": "stdout",
     "output_type": "stream",
     "text": [
      "Saved image to tmp/satellite/imsat_26.43497306-81.91306415.jpg\n",
      "Saved image to tmp/satellite/imsat_26.43975725-81.92426328.jpg\n",
      "Saved image to tmp/satellite/imsat_26.44106862-81.92591609.jpg\n",
      "Saved image to tmp/satellite/imsat_26.43756242-81.92204343.jpg\n",
      "Saved image to tmp/satellite/imsat_26.43979067-81.92693421.jpg\n",
      "Saved image to tmp/satellite/imsat_26.43947997-81.92165917.jpg\n",
      "Saved image to tmp/satellite/imsat_26.43501794-81.91719828.jpg\n",
      "Saved image to tmp/satellite/imsat_26.43468684-81.91898975.jpg\n",
      "Saved image to tmp/satellite/imsat_26.43961491-81.92655174.jpg\n",
      "Saved image to tmp/satellite/imsat_26.44115103-81.92411002.jpg\n",
      "Saved image to tmp/satellite/imsat_26.44116592-81.92252074.jpg\n",
      "Saved image to tmp/satellite/imsat_26.43983293-81.92525088.jpg\n",
      "Saved image to tmp/satellite/imsat_26.43954994-81.92225368.jpg\n",
      "Saved image to tmp/satellite/imsat_26.43544617-81.91863429.jpg\n",
      "Saved image to tmp/satellite/imsat_26.44041414-81.92673493.jpg\n",
      "Saved image to tmp/satellite/imsat_26.43729863-81.92291979.jpg\n",
      "Saved image to tmp/satellite/imsat_26.43969509-81.92261817.jpg\n"
     ]
    },
    {
     "name": "stderr",
     "output_type": "stream",
     "text": [
      "Obtaining satellite imagery:  47%|████▋     | 1464/3102 [00:25<00:24, 67.47it/s]"
     ]
    },
    {
     "name": "stdout",
     "output_type": "stream",
     "text": [
      "Saved image to tmp/satellite/imsat_26.43791746-81.922759.jpg\n",
      "Saved image to tmp/satellite/imsat_26.4346823-81.91557169.jpg\n",
      "Saved image to tmp/satellite/imsat_26.4393711-81.92619346.jpg\n",
      "Saved image to tmp/satellite/imsat_26.44012823-81.92382724.jpg\n",
      "Saved image to tmp/satellite/imsat_26.43963863-81.92436236.jpg\n",
      "Saved image to tmp/satellite/imsat_26.43985028-81.92417698.jpg\n",
      "Saved image to tmp/satellite/imsat_26.4399826-81.92505254.jpg\n",
      "Saved image to tmp/satellite/imsat_26.43952112-81.92387904.jpg\n",
      "Saved image to tmp/satellite/imsat_26.44005797-81.92721281.jpg\n",
      "Saved image to tmp/satellite/imsat_26.43821839-81.92301003.jpg\n",
      "Saved image to tmp/satellite/imsat_26.44099059-81.92271963.jpg\n",
      "Saved image to tmp/satellite/imsat_26.43792405-81.92158118.jpg\n",
      "Saved image to tmp/satellite/imsat_26.43635091-81.91612747.jpg\n",
      "Saved image to tmp/satellite/imsat_26.43842271-81.92342869.jpg\n"
     ]
    },
    {
     "name": "stderr",
     "output_type": "stream",
     "text": [
      "Obtaining satellite imagery:  48%|████▊     | 1479/3102 [00:25<00:27, 60.05it/s]"
     ]
    },
    {
     "name": "stdout",
     "output_type": "stream",
     "text": [
      "Saved image to tmp/satellite/imsat_26.43770776-81.92357001.jpg\n",
      "Saved image to tmp/satellite/imsat_26.43829989-81.92384404.jpg\n",
      "Saved image to tmp/satellite/imsat_26.43463439-81.91587693.jpg\n",
      "Saved image to tmp/satellite/imsat_26.44103068-81.92891503.jpg\n",
      "Saved image to tmp/satellite/imsat_26.44103352-81.92373966.jpg\n",
      "Saved image to tmp/satellite/imsat_26.43627156-81.91451048.jpg\n",
      "Saved image to tmp/satellite/imsat_26.4399836-81.92439543.jpg\n",
      "Saved image to tmp/satellite/imsat_26.43863972-81.9245018.jpg\n",
      "Saved image to tmp/satellite/imsat_26.43960429-81.92484234.jpg\n",
      "Saved image to tmp/satellite/imsat_26.43664681-81.92199896.jpg\n",
      "Saved image to tmp/satellite/imsat_26.4345996-81.91339196.jpg\n",
      "Saved image to tmp/satellite/imsat_26.43933835-81.92408583.jpg\n"
     ]
    },
    {
     "name": "stderr",
     "output_type": "stream",
     "text": [
      "Obtaining satellite imagery:  48%|████▊     | 1486/3102 [00:25<00:30, 53.03it/s]"
     ]
    },
    {
     "name": "stdout",
     "output_type": "stream",
     "text": [
      "Saved image to tmp/satellite/imsat_26.43736627-81.91665011.jpg\n",
      "Saved image to tmp/satellite/imsat_26.44019836-81.92751177.jpg\n",
      "Saved image to tmp/satellite/imsat_26.44115167-81.92362939.jpg\n",
      "Saved image to tmp/satellite/imsat_26.43975595-81.92359304.jpg\n",
      "Saved image to tmp/satellite/imsat_26.440291-81.92465038.jpg\n",
      "Saved image to tmp/satellite/imsat_26.43789333-81.92073448.jpg\n",
      "Saved image to tmp/satellite/imsat_26.44130273-81.92937997.jpg\n",
      "Saved image to tmp/satellite/imsat_26.44015273-81.92273653.jpg\n",
      "Saved image to tmp/satellite/imsat_26.4361541-81.91804458.jpg\n",
      "Saved image to tmp/satellite/imsat_26.4359639-81.91750508.jpg\n"
     ]
    },
    {
     "name": "stderr",
     "output_type": "stream",
     "text": [
      "Obtaining satellite imagery:  48%|████▊     | 1501/3102 [00:25<00:26, 59.43it/s]"
     ]
    },
    {
     "name": "stdout",
     "output_type": "stream",
     "text": [
      "Saved image to tmp/satellite/imsat_26.43875719-81.92188553.jpg\n",
      "Saved image to tmp/satellite/imsat_26.43773521-81.92181408.jpg\n",
      "Saved image to tmp/satellite/imsat_26.43925768-81.92152516.jpg\n",
      "Saved image to tmp/satellite/imsat_26.43767364-81.91850877.jpg\n",
      "Saved image to tmp/satellite/imsat_26.43733867-81.9184428.jpg\n",
      "Saved image to tmp/satellite/imsat_26.44003697-81.92545053.jpg\n",
      "Saved image to tmp/satellite/imsat_26.44078955-81.92412499.jpg\n",
      "Saved image to tmp/satellite/imsat_26.43837308-81.92451113.jpg\n",
      "Saved image to tmp/satellite/imsat_26.44068989-81.92462543.jpg\n",
      "Saved image to tmp/satellite/imsat_26.43554831-81.91725127.jpg\n",
      "Saved image to tmp/satellite/imsat_26.44099239-81.92428205.jpg\n",
      "Saved image to tmp/satellite/imsat_26.43744212-81.91808012.jpg\n",
      "Saved image to tmp/satellite/imsat_26.43962711-81.92377535.jpg\n"
     ]
    },
    {
     "name": "stderr",
     "output_type": "stream",
     "text": [
      "Obtaining satellite imagery:  49%|████▊     | 1508/3102 [00:26<00:30, 52.98it/s]"
     ]
    },
    {
     "name": "stdout",
     "output_type": "stream",
     "text": [
      "Saved image to tmp/satellite/imsat_26.44009967-81.92164979.jpg\n",
      "Saved image to tmp/satellite/imsat_26.44029166-81.92185619.jpg\n",
      "Saved image to tmp/satellite/imsat_26.43826393-81.9232135.jpg\n",
      "Saved image to tmp/satellite/imsat_26.43542928-81.91905644.jpg\n",
      "Saved image to tmp/satellite/imsat_26.43492637-81.9118595.jpg\n",
      "Saved image to tmp/satellite/imsat_26.43904785-81.92224343.jpg\n",
      "Saved image to tmp/satellite/imsat_26.43648114-81.91927597.jpg\n",
      "Saved image to tmp/satellite/imsat_26.44133301-81.92785295.jpg\n",
      "Saved image to tmp/satellite/imsat_26.44018382-81.92593914.jpg\n"
     ]
    },
    {
     "name": "stderr",
     "output_type": "stream",
     "text": [
      "Obtaining satellite imagery:  49%|████▉     | 1520/3102 [00:26<00:32, 48.01it/s]"
     ]
    },
    {
     "name": "stdout",
     "output_type": "stream",
     "text": [
      "Saved image to tmp/satellite/imsat_26.43626478-81.91854516.jpg\n",
      "Saved image to tmp/satellite/imsat_26.43703743-81.91787989.jpg\n",
      "Saved image to tmp/satellite/imsat_26.43894566-81.92355789.jpg\n",
      "Saved image to tmp/satellite/imsat_26.43536737-81.91242413.jpg\n",
      "Saved image to tmp/satellite/imsat_26.4380385-81.92218107.jpg\n",
      "Saved image to tmp/satellite/imsat_26.44078784-81.92740382.jpg\n",
      "Saved image to tmp/satellite/imsat_26.43596674-81.91339368.jpg\n",
      "Saved image to tmp/satellite/imsat_26.43885436-81.92244362.jpg\n",
      "Saved image to tmp/satellite/imsat_26.43526382-81.92000412.jpg\n",
      "Saved image to tmp/satellite/imsat_26.44092412-81.92607429.jpg\n",
      "Saved image to tmp/satellite/imsat_26.43501587-81.91813015.jpg\n",
      "Saved image to tmp/satellite/imsat_26.44049461-81.92596477.jpg\n",
      "Saved image to tmp/satellite/imsat_26.43884565-81.92104987.jpg\n",
      "Saved image to tmp/satellite/imsat_26.43627764-81.92158313.jpg\n",
      "Saved image to tmp/satellite/imsat_26.44114703-81.92477962.jpg\n"
     ]
    },
    {
     "name": "stderr",
     "output_type": "stream",
     "text": [
      "Obtaining satellite imagery:  49%|████▉     | 1530/3102 [00:26<00:27, 57.64it/s]"
     ]
    },
    {
     "name": "stdout",
     "output_type": "stream",
     "text": [
      "Saved image to tmp/satellite/imsat_26.43673528-81.91905777.jpg\n",
      "Saved image to tmp/satellite/imsat_26.43899259-81.92406997.jpg\n",
      "Saved image to tmp/satellite/imsat_26.43743833-81.92274538.jpg\n",
      "Saved image to tmp/satellite/imsat_26.43776024-81.92248126.jpg\n",
      "Saved image to tmp/satellite/imsat_26.43969959-81.92209762.jpg\n",
      "Saved image to tmp/satellite/imsat_26.44038814-81.92393689.jpg\n",
      "Saved image to tmp/satellite/imsat_26.43684069-81.9154696.jpg\n",
      "Saved image to tmp/satellite/imsat_26.43948649-81.92504676.jpg\n"
     ]
    },
    {
     "name": "stderr",
     "output_type": "stream",
     "text": [
      "Obtaining satellite imagery:  50%|████▉     | 1545/3102 [00:26<00:28, 55.36it/s]"
     ]
    },
    {
     "name": "stdout",
     "output_type": "stream",
     "text": [
      "Saved image to tmp/satellite/imsat_26.44070057-81.9264431.jpg\n",
      "Saved image to tmp/satellite/imsat_26.4359658-81.91645777.jpg\n",
      "Saved image to tmp/satellite/imsat_26.43709717-81.92268274.jpg\n",
      "Saved image to tmp/satellite/imsat_26.43771136-81.91957375.jpg\n",
      "Saved image to tmp/satellite/imsat_26.43674191-81.91577806.jpg\n",
      "Saved image to tmp/satellite/imsat_26.43575295-81.91660729.jpg\n",
      "Saved image to tmp/satellite/imsat_26.43698576-81.91470932.jpg\n",
      "Saved image to tmp/satellite/imsat_26.4348446-81.91703505.jpg\n",
      "Saved image to tmp/satellite/imsat_26.43714249-81.91423531.jpg\n",
      "Saved image to tmp/satellite/imsat_26.43482147-81.91600224.jpg\n",
      "Saved image to tmp/satellite/imsat_26.43557712-81.91679768.jpg\n",
      "Saved image to tmp/satellite/imsat_26.43847394-81.92281466.jpg\n",
      "Saved image to tmp/satellite/imsat_26.43498948-81.91506683.jpg\n",
      "Saved image to tmp/satellite/imsat_26.43595748-81.91816109.jpg\n",
      "Saved image to tmp/satellite/imsat_26.43710031-81.91874201.jpg\n"
     ]
    },
    {
     "name": "stderr",
     "output_type": "stream",
     "text": [
      "Obtaining satellite imagery:  50%|█████     | 1559/3102 [00:26<00:25, 59.58it/s]"
     ]
    },
    {
     "name": "stdout",
     "output_type": "stream",
     "text": [
      "Saved image to tmp/satellite/imsat_26.43794391-81.91867238.jpg\n",
      "Saved image to tmp/satellite/imsat_26.43510451-81.91381698.jpg\n",
      "Saved image to tmp/satellite/imsat_26.44065915-81.92578554.jpg\n",
      "Saved image to tmp/satellite/imsat_26.44106449-81.92526883.jpg\n",
      "Saved image to tmp/satellite/imsat_26.43678764-81.91668935.jpg\n",
      "Saved image to tmp/satellite/imsat_26.44067765-81.9242357.jpg\n",
      "Saved image to tmp/satellite/imsat_26.43459344-81.91545346.jpg\n",
      "Saved image to tmp/satellite/imsat_26.43524204-81.91222995.jpg\n",
      "Saved image to tmp/satellite/imsat_26.43923697-81.92595436.jpg\n",
      "Saved image to tmp/satellite/imsat_26.43503219-81.91476693.jpg\n",
      "Saved image to tmp/satellite/imsat_26.4366903-81.91950809.jpg\n",
      "Saved image to tmp/satellite/imsat_26.4360671-81.92105078.jpg\n",
      "Saved image to tmp/satellite/imsat_26.44002096-81.92390882.jpg\n",
      "Saved image to tmp/satellite/imsat_26.43620853-81.91352793.jpg\n",
      "Saved image to tmp/satellite/imsat_26.43986859-81.92667501.jpg\n",
      "Saved image to tmp/satellite/imsat_26.44102536-81.92650591.jpg\n",
      "Saved image to tmp/satellite/imsat_26.43600388-81.9199201.jpg\n"
     ]
    },
    {
     "name": "stderr",
     "output_type": "stream",
     "text": [
      "Obtaining satellite imagery:  51%|█████     | 1577/3102 [00:27<00:22, 68.05it/s]"
     ]
    },
    {
     "name": "stdout",
     "output_type": "stream",
     "text": [
      "Saved image to tmp/satellite/imsat_26.43892303-81.92295022.jpg\n",
      "Saved image to tmp/satellite/imsat_26.43880902-81.92471288.jpg\n",
      "Saved image to tmp/satellite/imsat_26.43924566-81.92196113.jpg\n",
      "Saved image to tmp/satellite/imsat_26.43610666-81.91425574.jpg\n",
      "Saved image to tmp/satellite/imsat_26.44092365-81.92725834.jpg\n",
      "Saved image to tmp/satellite/imsat_26.43679488-81.91739132.jpg\n",
      "Saved image to tmp/satellite/imsat_26.43595818-81.91931075.jpg\n",
      "Saved image to tmp/satellite/imsat_26.4354797-81.91344674.jpg\n",
      "Saved image to tmp/satellite/imsat_26.43573082-81.91952625.jpg\n",
      "Saved image to tmp/satellite/imsat_26.43913445-81.9232415.jpg\n",
      "Saved image to tmp/satellite/imsat_26.43620148-81.9201547.jpg\n",
      "Saved image to tmp/satellite/imsat_26.43658524-81.91682153.jpg\n",
      "Saved image to tmp/satellite/imsat_26.43679435-81.91811202.jpg\n",
      "Saved image to tmp/satellite/imsat_26.43522333-81.91872381.jpg\n"
     ]
    },
    {
     "name": "stderr",
     "output_type": "stream",
     "text": [
      "Obtaining satellite imagery:  51%|█████▏    | 1593/3102 [00:27<00:23, 64.50it/s]"
     ]
    },
    {
     "name": "stdout",
     "output_type": "stream",
     "text": [
      "Saved image to tmp/satellite/imsat_26.43528461-81.91752403.jpg\n",
      "Saved image to tmp/satellite/imsat_26.44129371-81.92393918.jpg\n",
      "Saved image to tmp/satellite/imsat_26.43610568-81.91870145.jpg\n",
      "Saved image to tmp/satellite/imsat_26.43849981-81.92470984.jpg\n",
      "Saved image to tmp/satellite/imsat_26.43703627-81.9186524.jpg\n",
      "Saved image to tmp/satellite/imsat_26.43552384-81.91463478.jpg\n",
      "Saved image to tmp/satellite/imsat_26.43988761-81.92451145.jpg\n",
      "Saved image to tmp/satellite/imsat_26.43738462-81.91915595.jpg\n",
      "Saved image to tmp/satellite/imsat_26.43641227-81.91474552.jpg\n",
      "Saved image to tmp/satellite/imsat_26.43565186-81.92023501.jpg\n",
      "Saved image to tmp/satellite/imsat_26.44059227-81.92476189.jpg\n",
      "Saved image to tmp/satellite/imsat_26.43940973-81.92242431.jpg\n",
      "Saved image to tmp/satellite/imsat_26.44094487-81.92328673.jpg\n",
      "Saved image to tmp/satellite/imsat_26.43970299-81.92475563.jpg\n"
     ]
    },
    {
     "name": "stderr",
     "output_type": "stream",
     "text": [
      "Obtaining satellite imagery:  52%|█████▏    | 1604/3102 [00:27<00:19, 75.49it/s]"
     ]
    },
    {
     "name": "stdout",
     "output_type": "stream",
     "text": [
      "Saved image to tmp/satellite/imsat_26.44089579-81.9266287.jpg\n",
      "Saved image to tmp/satellite/imsat_26.44082778-81.92626552.jpg\n",
      "Saved image to tmp/satellite/imsat_26.43978567-81.92317342.jpg\n",
      "Saved image to tmp/satellite/imsat_26.44038832-81.92614667.jpg\n",
      "Saved image to tmp/satellite/imsat_26.44124019-81.92575277.jpg\n",
      "Saved image to tmp/satellite/imsat_26.43866339-81.92365291.jpg\n",
      "Saved image to tmp/satellite/imsat_26.43984424-81.92194928.jpg\n",
      "Saved image to tmp/satellite/imsat_26.44028928-81.92577038.jpg\n",
      "Saved image to tmp/satellite/imsat_26.44014665-81.92526423.jpg\n",
      "Saved image to tmp/satellite/imsat_26.43725019-81.91539001.jpg\n",
      "Saved image to tmp/satellite/imsat_26.44007767-81.92319474.jpg\n",
      "Saved image to tmp/satellite/imsat_26.44074712-81.9224038.jpg\n",
      "Saved image to tmp/satellite/imsat_26.440387-81.92344708.jpg\n",
      "Saved image to tmp/satellite/imsat_26.43993521-81.92183276.jpg\n"
     ]
    },
    {
     "name": "stderr",
     "output_type": "stream",
     "text": [
      "Obtaining satellite imagery:  52%|█████▏    | 1620/3102 [00:27<00:24, 59.93it/s]"
     ]
    },
    {
     "name": "stdout",
     "output_type": "stream",
     "text": [
      "Saved image to tmp/satellite/imsat_26.43656512-81.91499965.jpg\n",
      "Saved image to tmp/satellite/imsat_26.43609992-81.92003976.jpg\n",
      "Saved image to tmp/satellite/imsat_26.43580579-81.91536519.jpg\n",
      "Saved image to tmp/satellite/imsat_26.43521163-81.91292779.jpg\n",
      "Saved image to tmp/satellite/imsat_26.44005078-81.92605032.jpg\n",
      "Saved image to tmp/satellite/imsat_26.43742419-81.91754101.jpg\n",
      "Saved image to tmp/satellite/imsat_26.43498084-81.91444596.jpg\n",
      "Saved image to tmp/satellite/imsat_26.43985616-81.92240932.jpg\n",
      "Saved image to tmp/satellite/imsat_26.43517979-81.91574407.jpg\n",
      "Saved image to tmp/satellite/imsat_26.43666382-81.91692085.jpg\n",
      "Saved image to tmp/satellite/imsat_26.43810194-81.92373747.jpg\n",
      "Saved image to tmp/satellite/imsat_26.43920605-81.92384066.jpg\n",
      "Saved image to tmp/satellite/imsat_26.43930787-81.92092562.jpg\n",
      "Saved image to tmp/satellite/imsat_26.43787029-81.91845272.jpg\n",
      "Saved image to tmp/satellite/imsat_26.43632603-81.91983819.jpg\n"
     ]
    },
    {
     "name": "stderr",
     "output_type": "stream",
     "text": [
      "Obtaining satellite imagery:  53%|█████▎    | 1631/3102 [00:28<00:21, 69.61it/s]"
     ]
    },
    {
     "name": "stdout",
     "output_type": "stream",
     "text": [
      "Saved image to tmp/satellite/imsat_26.44112799-81.92698483.jpg\n",
      "Saved image to tmp/satellite/imsat_26.43796935-81.92395469.jpg\n",
      "Saved image to tmp/satellite/imsat_26.43640775-81.91912487.jpg\n",
      "Saved image to tmp/satellite/imsat_26.44027888-81.92407644.jpg\n",
      "Saved image to tmp/satellite/imsat_26.44082987-81.92852092.jpg\n",
      "Saved image to tmp/satellite/imsat_26.43563899-81.91841736.jpg\n",
      "Saved image to tmp/satellite/imsat_26.43814336-81.91946728.jpg\n",
      "Saved image to tmp/satellite/imsat_26.43804037-81.92175071.jpg\n",
      "Saved image to tmp/satellite/imsat_26.44124302-81.92685088.jpg\n",
      "Saved image to tmp/satellite/imsat_26.44057947-81.92434861.jpg\n",
      "Saved image to tmp/satellite/imsat_26.44030245-81.92301146.jpg\n",
      "Saved image to tmp/satellite/imsat_26.43659316-81.91941021.jpg\n"
     ]
    },
    {
     "name": "stderr",
     "output_type": "stream",
     "text": [
      "Obtaining satellite imagery:  53%|█████▎    | 1648/3102 [00:28<00:21, 68.06it/s]"
     ]
    },
    {
     "name": "stdout",
     "output_type": "stream",
     "text": [
      "Saved image to tmp/satellite/imsat_26.43818957-81.92280978.jpgSaved image to tmp/satellite/imsat_26.44048517-81.92446607.jpg\n",
      "Saved image to tmp/satellite/imsat_26.43934144-81.92479984.jpg\n",
      "\n",
      "Saved image to tmp/satellite/imsat_26.44076035-81.92354772.jpg\n",
      "Saved image to tmp/satellite/imsat_26.43642639-81.91841796.jpg\n",
      "Saved image to tmp/satellite/imsat_26.43529198-81.91889569.jpg\n",
      "Saved image to tmp/satellite/imsat_26.43574025-81.91327643.jpg\n",
      "Saved image to tmp/satellite/imsat_26.43872616-81.92322536.jpg\n",
      "Saved image to tmp/satellite/imsat_26.43511143-81.91767107.jpg\n",
      "Saved image to tmp/satellite/imsat_26.43527748-81.91637314.jpg\n",
      "Saved image to tmp/satellite/imsat_26.43700757-81.91629117.jpg\n",
      "Saved image to tmp/satellite/imsat_26.43692051-81.91651851.jpg\n",
      "Saved image to tmp/satellite/imsat_26.43648485-81.91386969.jpg\n",
      "Saved image to tmp/satellite/imsat_26.44064111-81.92362355.jpg\n",
      "Saved image to tmp/satellite/imsat_26.43784613-81.92058202.jpg\n",
      "Saved image to tmp/satellite/imsat_26.43501978-81.91838785.jpg\n",
      "Saved image to tmp/satellite/imsat_26.43861881-81.92264145.jpg\n"
     ]
    },
    {
     "name": "stderr",
     "output_type": "stream",
     "text": [
      "Obtaining satellite imagery:  54%|█████▎    | 1665/3102 [00:28<00:22, 64.32it/s]"
     ]
    },
    {
     "name": "stdout",
     "output_type": "stream",
     "text": [
      "Saved image to tmp/satellite/imsat_26.43861286-81.92143815.jpg\n",
      "Saved image to tmp/satellite/imsat_26.4373263-81.91455395.jpg\n",
      "Saved image to tmp/satellite/imsat_26.44067992-81.92691246.jpg\n",
      "Saved image to tmp/satellite/imsat_26.43684183-81.91446815.jpg\n",
      "Saved image to tmp/satellite/imsat_26.44056109-81.926989.jpg\n",
      "Saved image to tmp/satellite/imsat_26.43757074-81.92136094.jpg\n",
      "Saved image to tmp/satellite/imsat_26.43479349-81.9116377.jpg\n",
      "Saved image to tmp/satellite/imsat_26.44085852-81.9244577.jpg\n",
      "Saved image to tmp/satellite/imsat_26.43727823-81.91765884.jpg\n",
      "Saved image to tmp/satellite/imsat_26.44124631-81.92727851.jpg\n",
      "Saved image to tmp/satellite/imsat_26.4407346-81.92521958.jpg\n",
      "Saved image to tmp/satellite/imsat_26.44008887-81.92429442.jpg\n",
      "Saved image to tmp/satellite/imsat_26.43994466-81.92296904.jpg\n"
     ]
    },
    {
     "name": "stderr",
     "output_type": "stream",
     "text": [
      "Obtaining satellite imagery:  54%|█████▍    | 1672/3102 [00:28<00:22, 63.00it/s]"
     ]
    },
    {
     "name": "stdout",
     "output_type": "stream",
     "text": [
      "Saved image to tmp/satellite/imsat_26.4367985-81.91962994.jpg\n",
      "Saved image to tmp/satellite/imsat_26.43907592-81.92105202.jpg\n",
      "Saved image to tmp/satellite/imsat_26.43829734-81.92181743.jpg\n",
      "Saved image to tmp/satellite/imsat_26.43815828-81.92145244.jpg\n",
      "Saved image to tmp/satellite/imsat_26.43951733-81.92282902.jpg\n",
      "Saved image to tmp/satellite/imsat_26.43692159-81.91564241.jpg\n",
      "Saved image to tmp/satellite/imsat_26.44101544-81.92711889.jpg\n",
      "Saved image to tmp/satellite/imsat_26.44057388-81.92820176.jpg\n",
      "Saved image to tmp/satellite/imsat_26.43985001-81.92565572.jpg\n",
      "Saved image to tmp/satellite/imsat_26.43736775-81.91688534.jpg\n",
      "Saved image to tmp/satellite/imsat_26.43535916-81.91176382.jpg\n",
      "Saved image to tmp/satellite/imsat_26.43817629-81.92110346.jpg\n"
     ]
    },
    {
     "name": "stderr",
     "output_type": "stream",
     "text": [
      "Obtaining satellite imagery:  54%|█████▍    | 1687/3102 [00:28<00:22, 62.05it/s]"
     ]
    },
    {
     "name": "stdout",
     "output_type": "stream",
     "text": [
      "Saved image to tmp/satellite/imsat_26.43748088-81.92154083.jpg\n",
      "Saved image to tmp/satellite/imsat_26.44095981-81.92762685.jpg\n",
      "Saved image to tmp/satellite/imsat_26.43673459-81.91419029.jpg\n",
      "Saved image to tmp/satellite/imsat_26.44093052-81.92389077.jpg\n",
      "Saved image to tmp/satellite/imsat_26.43731655-81.92171512.jpg\n",
      "Saved image to tmp/satellite/imsat_26.43868599-81.92203113.jpg\n",
      "Saved image to tmp/satellite/imsat_26.44037923-81.92455585.jpg\n",
      "Saved image to tmp/satellite/imsat_26.44041109-81.92793957.jpg\n",
      "Saved image to tmp/satellite/imsat_26.43539846-81.91693138.jpg\n",
      "Saved image to tmp/satellite/imsat_26.43905074-81.92155835.jpg\n",
      "Saved image to tmp/satellite/imsat_26.43578577-81.91831096.jpg\n",
      "Saved image to tmp/satellite/imsat_26.44032366-81.92360802.jpg\n"
     ]
    },
    {
     "name": "stderr",
     "output_type": "stream",
     "text": [
      "Obtaining satellite imagery:  55%|█████▍    | 1701/3102 [00:29<00:25, 54.05it/s]"
     ]
    },
    {
     "name": "stdout",
     "output_type": "stream",
     "text": [
      "Saved image to tmp/satellite/imsat_26.44028985-81.92779616.jpg\n",
      "Saved image to tmp/satellite/imsat_26.43960337-81.92341433.jpg\n",
      "Saved image to tmp/satellite/imsat_26.44073266-81.92297586.jpg\n",
      "Saved image to tmp/satellite/imsat_26.43991831-81.92343592.jpg\n",
      "Saved image to tmp/satellite/imsat_26.43596278-81.91405321.jpg\n",
      "Saved image to tmp/satellite/imsat_26.43591209-81.91978295.jpg\n",
      "Saved image to tmp/satellite/imsat_26.44121768-81.92513155.jpg\n",
      "Saved image to tmp/satellite/imsat_26.43550729-81.92023637.jpg\n",
      "Saved image to tmp/satellite/imsat_26.44058656-81.92541618.jpg\n",
      "Saved image to tmp/satellite/imsat_26.44019127-81.92420117.jpg\n",
      "Saved image to tmp/satellite/imsat_26.43774506-81.918737.jpg\n",
      "Saved image to tmp/satellite/imsat_26.43943137-81.92400555.jpg\n",
      "Saved image to tmp/satellite/imsat_26.4351497-81.91195085.jpg\n",
      "Saved image to tmp/satellite/imsat_26.43567884-81.91500997.jpg\n",
      "Saved image to tmp/satellite/imsat_26.43497731-81.91413644.jpg\n"
     ]
    },
    {
     "name": "stderr",
     "output_type": "stream",
     "text": [
      "Obtaining satellite imagery:  55%|█████▌    | 1713/3102 [00:29<00:22, 62.50it/s]"
     ]
    },
    {
     "name": "stdout",
     "output_type": "stream",
     "text": [
      "Saved image to tmp/satellite/imsat_26.43594573-81.91299808.jpg\n",
      "Saved image to tmp/satellite/imsat_26.43704004-81.91940887.jpg\n",
      "Saved image to tmp/satellite/imsat_26.43814172-81.92250937.jpg\n",
      "Saved image to tmp/satellite/imsat_26.44040786-81.92554057.jpg\n",
      "Saved image to tmp/satellite/imsat_26.43978569-81.92462171.jpg\n",
      "Saved image to tmp/satellite/imsat_26.43906214-81.92539008.jpg\n",
      "Saved image to tmp/satellite/imsat_26.4365359-81.91592332.jpg\n",
      "Saved image to tmp/satellite/imsat_26.44614043-81.93007084.jpg\n",
      "Saved image to tmp/satellite/imsat_26.44192499-81.92490896.jpg\n",
      "Saved image to tmp/satellite/imsat_26.44734406-81.93377786.jpg\n",
      "Saved image to tmp/satellite/imsat_26.43645795-81.91341882.jpg\n",
      "Saved image to tmp/satellite/imsat_26.44291965-81.93105333.jpg\n",
      "Saved image to tmp/satellite/imsat_26.44625017-81.93720876.jpg\n",
      "Saved image to tmp/satellite/imsat_26.43868572-81.92489118.jpg\n",
      "Saved image to tmp/satellite/imsat_26.4451105-81.93403095.jpg\n"
     ]
    },
    {
     "name": "stderr",
     "output_type": "stream",
     "text": [
      "Obtaining satellite imagery:  56%|█████▌    | 1733/3102 [00:29<00:20, 67.12it/s]"
     ]
    },
    {
     "name": "stdout",
     "output_type": "stream",
     "text": [
      "Saved image to tmp/satellite/imsat_26.44621514-81.9380708.jpg\n",
      "Saved image to tmp/satellite/imsat_26.44779197-81.93761706.jpg\n",
      "Saved image to tmp/satellite/imsat_26.44412271-81.92634072.jpg\n",
      "Saved image to tmp/satellite/imsat_26.44682097-81.92921331.jpg\n",
      "Saved image to tmp/satellite/imsat_26.4434435-81.92750673.jpg\n",
      "Saved image to tmp/satellite/imsat_26.44711859-81.92960868.jpg\n",
      "Saved image to tmp/satellite/imsat_26.43476736-81.91246962.jpg\n",
      "Saved image to tmp/satellite/imsat_26.43518435-81.91499984.jpg\n",
      "Saved image to tmp/satellite/imsat_26.44037962-81.92291829.jpg\n",
      "Saved image to tmp/satellite/imsat_26.44367656-81.93238814.jpg\n",
      "Saved image to tmp/satellite/imsat_26.44740948-81.93652848.jpg\n",
      "Saved image to tmp/satellite/imsat_26.44521638-81.93287117.jpg\n",
      "Saved image to tmp/satellite/imsat_26.44676986-81.93147919.jpg\n",
      "Saved image to tmp/satellite/imsat_26.44191028-81.93056685.jpg\n",
      "Saved image to tmp/satellite/imsat_26.44584661-81.93038402.jpg\n",
      "Saved image to tmp/satellite/imsat_26.4458067-81.93112594.jpg\n",
      "Saved image to tmp/satellite/imsat_26.44379507-81.93252336.jpg\n",
      "Saved image to tmp/satellite/imsat_26.44601069-81.93421551.jpg\n"
     ]
    },
    {
     "name": "stderr",
     "output_type": "stream",
     "text": [
      "Obtaining satellite imagery:  56%|█████▋    | 1751/3102 [00:29<00:18, 71.56it/s]"
     ]
    },
    {
     "name": "stdout",
     "output_type": "stream",
     "text": [
      "Saved image to tmp/satellite/imsat_26.44715359-81.94059019.jpg\n",
      "Saved image to tmp/satellite/imsat_26.44153232-81.92343329.jpg\n",
      "Saved image to tmp/satellite/imsat_26.43707274-81.92140146.jpg\n",
      "Saved image to tmp/satellite/imsat_26.44445265-81.93276545.jpg\n",
      "Saved image to tmp/satellite/imsat_26.44235949-81.92920744.jpg\n",
      "Saved image to tmp/satellite/imsat_26.44725018-81.93818926.jpg\n",
      "Saved image to tmp/satellite/imsat_26.44577408-81.93428713.jpg\n",
      "Saved image to tmp/satellite/imsat_26.4414769-81.92542457.jpg\n",
      "Saved image to tmp/satellite/imsat_26.44360655-81.92732537.jpg\n",
      "Saved image to tmp/satellite/imsat_26.44431146-81.93048352.jpg\n",
      "Saved image to tmp/satellite/imsat_26.43807348-81.92296419.jpg\n",
      "Saved image to tmp/satellite/imsat_26.44756006-81.94056268.jpg\n",
      "Saved image to tmp/satellite/imsat_26.44619128-81.92923324.jpg\n",
      "Saved image to tmp/satellite/imsat_26.44399624-81.93392467.jpg\n",
      "Saved image to tmp/satellite/imsat_26.445335-81.93168989.jpg\n",
      "Saved image to tmp/satellite/imsat_26.44579616-81.92901969.jpg\n"
     ]
    },
    {
     "name": "stderr",
     "output_type": "stream",
     "text": [
      "Obtaining satellite imagery:  57%|█████▋    | 1770/3102 [00:30<00:16, 82.69it/s]"
     ]
    },
    {
     "name": "stdout",
     "output_type": "stream",
     "text": [
      "Saved image to tmp/satellite/imsat_26.44598133-81.93022701.jpg\n",
      "Saved image to tmp/satellite/imsat_26.44508426-81.92747576.jpg\n",
      "Saved image to tmp/satellite/imsat_26.44572498-81.93291221.jpg\n",
      "Saved image to tmp/satellite/imsat_26.44393929-81.93292188.jpg\n",
      "Saved image to tmp/satellite/imsat_26.4455694-81.93069155.jpg\n",
      "Saved image to tmp/satellite/imsat_26.4420465-81.92701889.jpg\n",
      "Saved image to tmp/satellite/imsat_26.44256839-81.92858165.jpg\n",
      "Saved image to tmp/satellite/imsat_26.44735841-81.93412144.jpg\n",
      "Saved image to tmp/satellite/imsat_26.44804185-81.94360406.jpg\n",
      "Saved image to tmp/satellite/imsat_26.44418327-81.92836909.jpg\n",
      "Saved image to tmp/satellite/imsat_26.44204287-81.92958774.jpg\n",
      "Saved image to tmp/satellite/imsat_26.44795717-81.93003134.jpg\n",
      "Saved image to tmp/satellite/imsat_26.44732568-81.93638836.jpg\n",
      "Saved image to tmp/satellite/imsat_26.44330358-81.92770067.jpg\n",
      "Saved image to tmp/satellite/imsat_26.4459215-81.93829808.jpg\n",
      "Saved image to tmp/satellite/imsat_26.44419085-81.93421528.jpg\n",
      "Saved image to tmp/satellite/imsat_26.44427562-81.93484825.jpg\n"
     ]
    },
    {
     "name": "stderr",
     "output_type": "stream",
     "text": [
      "Obtaining satellite imagery:  58%|█████▊    | 1789/3102 [00:30<00:15, 82.84it/s]"
     ]
    },
    {
     "name": "stdout",
     "output_type": "stream",
     "text": [
      "Saved image to tmp/satellite/imsat_26.44644264-81.93372795.jpg\n",
      "Saved image to tmp/satellite/imsat_26.44562079-81.92920548.jpg\n",
      "Saved image to tmp/satellite/imsat_26.4442249-81.93106783.jpg\n",
      "Saved image to tmp/satellite/imsat_26.44191295-81.92718177.jpg\n",
      "Saved image to tmp/satellite/imsat_26.44457084-81.92728134.jpg\n",
      "Saved image to tmp/satellite/imsat_26.44489886-81.93388792.jpg\n",
      "Saved image to tmp/satellite/imsat_26.44167819-81.9263063.jpg\n",
      "Saved image to tmp/satellite/imsat_26.44649432-81.92795328.jpg\n",
      "Saved image to tmp/satellite/imsat_26.4457752-81.92978468.jpg\n",
      "Saved image to tmp/satellite/imsat_26.44436973-81.93181043.jpg\n",
      "Saved image to tmp/satellite/imsat_26.44697972-81.93693559.jpg\n",
      "Saved image to tmp/satellite/imsat_26.44401231-81.93085426.jpg\n",
      "Saved image to tmp/satellite/imsat_26.44816581-81.94227457.jpg\n",
      "Saved image to tmp/satellite/imsat_26.44604071-81.9344082.jpg\n",
      "Saved image to tmp/satellite/imsat_26.44694065-81.94021157.jpg\n",
      "Saved image to tmp/satellite/imsat_26.44698493-81.93764322.jpg\n",
      "Saved image to tmp/satellite/imsat_26.44461805-81.92896958.jpg\n",
      "Saved image to tmp/satellite/imsat_26.44614888-81.92778261.jpg\n",
      "Saved image to tmp/satellite/imsat_26.44480516-81.93012982.jpg\n"
     ]
    },
    {
     "name": "stderr",
     "output_type": "stream",
     "text": [
      "Obtaining satellite imagery:  58%|█████▊    | 1798/3102 [00:30<00:18, 72.06it/s]"
     ]
    },
    {
     "name": "stdout",
     "output_type": "stream",
     "text": [
      "Saved image to tmp/satellite/imsat_26.44332779-81.92873718.jpg\n",
      "Saved image to tmp/satellite/imsat_26.44472492-81.92997866.jpg\n",
      "Saved image to tmp/satellite/imsat_26.44248915-81.92647566.jpg\n",
      "Saved image to tmp/satellite/imsat_26.44165556-81.92677366.jpg\n",
      "Saved image to tmp/satellite/imsat_26.44246658-81.92800456.jpg\n",
      "Saved image to tmp/satellite/imsat_26.44452957-81.9278447.jpg\n",
      "Saved image to tmp/satellite/imsat_26.4469487-81.93130876.jpg\n",
      "Saved image to tmp/satellite/imsat_26.44649114-81.93114189.jpg\n",
      "Saved image to tmp/satellite/imsat_26.44272274-81.92946089.jpg\n",
      "Saved image to tmp/satellite/imsat_26.44669593-81.93013103.jpg\n",
      "Saved image to tmp/satellite/imsat_26.44425192-81.93349676.jpg\n",
      "Saved image to tmp/satellite/imsat_26.44498811-81.92926386.jpg\n",
      "Saved image to tmp/satellite/imsat_26.44527973-81.92813485.jpg\n"
     ]
    },
    {
     "name": "stderr",
     "output_type": "stream",
     "text": [
      "Obtaining satellite imagery:  59%|█████▊    | 1816/3102 [00:30<00:17, 73.53it/s]"
     ]
    },
    {
     "name": "stdout",
     "output_type": "stream",
     "text": [
      "Saved image to tmp/satellite/imsat_26.44665839-81.93693371.jpg\n",
      "Saved image to tmp/satellite/imsat_26.44596257-81.93096274.jpg\n",
      "Saved image to tmp/satellite/imsat_26.4435673-81.92515507.jpg\n",
      "Saved image to tmp/satellite/imsat_26.44660896-81.93743343.jpg\n",
      "Saved image to tmp/satellite/imsat_26.44162329-81.92524002.jpg\n",
      "Saved image to tmp/satellite/imsat_26.44661823-81.93166897.jpg\n",
      "Saved image to tmp/satellite/imsat_26.44227001-81.93100886.jpg\n",
      "Saved image to tmp/satellite/imsat_26.44424872-81.92766373.jpg\n",
      "Saved image to tmp/satellite/imsat_26.44396849-81.92726095.jpg\n",
      "Saved image to tmp/satellite/imsat_26.44565787-81.937594.jpg\n",
      "Saved image to tmp/satellite/imsat_26.44381928-81.93149583.jpg\n",
      "Saved image to tmp/satellite/imsat_26.44211664-81.92619921.jpg\n",
      "Saved image to tmp/satellite/imsat_26.44411269-81.93324056.jpg\n",
      "Saved image to tmp/satellite/imsat_26.44644609-81.9341774.jpg\n",
      "Saved image to tmp/satellite/imsat_26.44163347-81.92750391.jpg\n",
      "Saved image to tmp/satellite/imsat_26.44179719-81.92510131.jpg\n",
      "Saved image to tmp/satellite/imsat_26.44317999-81.92892108.jpg\n",
      "Saved image to tmp/satellite/imsat_26.44524028-81.93245919.jpg\n"
     ]
    },
    {
     "name": "stderr",
     "output_type": "stream",
     "text": [
      "Obtaining satellite imagery:  59%|█████▉    | 1834/3102 [00:30<00:16, 78.15it/s]"
     ]
    },
    {
     "name": "stdout",
     "output_type": "stream",
     "text": [
      "Saved image to tmp/satellite/imsat_26.44282196-81.93209606.jpg\n",
      "Saved image to tmp/satellite/imsat_26.44466138-81.93309155.jpg\n",
      "Saved image to tmp/satellite/imsat_26.44179164-81.92320837.jpg\n",
      "Saved image to tmp/satellite/imsat_26.44513661-81.93165167.jpg\n",
      "Saved image to tmp/satellite/imsat_26.44765727-81.93729806.jpg\n",
      "Saved image to tmp/satellite/imsat_26.44447306-81.93072695.jpg\n",
      "Saved image to tmp/satellite/imsat_26.44749901-81.94124258.jpg\n",
      "Saved image to tmp/satellite/imsat_26.44735125-81.93450167.jpg\n",
      "Saved image to tmp/satellite/imsat_26.44283313-81.926451.jpg\n",
      "Saved image to tmp/satellite/imsat_26.44739712-81.93999068.jpg\n",
      "Saved image to tmp/satellite/imsat_26.44634864-81.93821031.jpg\n",
      "Saved image to tmp/satellite/imsat_26.44358673-81.92774949.jpg\n",
      "Saved image to tmp/satellite/imsat_26.44705234-81.93712596.jpg\n",
      "Saved image to tmp/satellite/imsat_26.44266107-81.92884813.jpg\n",
      "Saved image to tmp/satellite/imsat_26.44305547-81.92687966.jpg\n",
      "Saved image to tmp/satellite/imsat_26.44334725-81.92535215.jpg\n",
      "Saved image to tmp/satellite/imsat_26.44590527-81.93587485.jpg\n",
      "Saved image to tmp/satellite/imsat_26.44467633-81.93108678.jpg\n",
      "Saved image to tmp/satellite/imsat_26.44368463-81.931249.jpg\n"
     ]
    },
    {
     "name": "stderr",
     "output_type": "stream",
     "text": [
      "Obtaining satellite imagery:  60%|█████▉    | 1850/3102 [00:31<00:16, 74.07it/s]"
     ]
    },
    {
     "name": "stdout",
     "output_type": "stream",
     "text": [
      "Saved image to tmp/satellite/imsat_26.44766574-81.9376488.jpg\n",
      "Saved image to tmp/satellite/imsat_26.44756473-81.94024297.jpg\n",
      "Saved image to tmp/satellite/imsat_26.4423229-81.92487353.jpg\n",
      "Saved image to tmp/satellite/imsat_26.44542971-81.92872568.jpg\n",
      "Saved image to tmp/satellite/imsat_26.44448141-81.92666102.jpg\n",
      "Saved image to tmp/satellite/imsat_26.44543758-81.93138969.jpg\n",
      "Saved image to tmp/satellite/imsat_26.44245258-81.92984107.jpg\n",
      "Saved image to tmp/satellite/imsat_26.44357912-81.9317724.jpg\n",
      "Saved image to tmp/satellite/imsat_26.4476325-81.93112262.jpg\n",
      "Saved image to tmp/satellite/imsat_26.44603982-81.92943209.jpg\n",
      "Saved image to tmp/satellite/imsat_26.44235408-81.93112907.jpg\n",
      "Saved image to tmp/satellite/imsat_26.44714735-81.92886271.jpg\n"
     ]
    },
    {
     "name": "stderr",
     "output_type": "stream",
     "text": [
      "Obtaining satellite imagery:  60%|██████    | 1866/3102 [00:31<00:18, 67.62it/s]"
     ]
    },
    {
     "name": "stdout",
     "output_type": "stream",
     "text": [
      "Saved image to tmp/satellite/imsat_26.44411649-81.9278625.jpg\n",
      "Saved image to tmp/satellite/imsat_26.4447025-81.93212608.jpg\n",
      "Saved image to tmp/satellite/imsat_26.44592628-81.93372469.jpg\n",
      "Saved image to tmp/satellite/imsat_26.44211336-81.92513988.jpg\n",
      "Saved image to tmp/satellite/imsat_26.44409241-81.93413544.jpg\n",
      "Saved image to tmp/satellite/imsat_26.44176195-81.92558685.jpg\n",
      "Saved image to tmp/satellite/imsat_26.44152606-81.92589664.jpg\n",
      "Saved image to tmp/satellite/imsat_26.44398106-81.93024033.jpg\n",
      "Saved image to tmp/satellite/imsat_26.44442673-81.93237824.jpg\n",
      "Saved image to tmp/satellite/imsat_26.4463121-81.93127908.jpg\n",
      "Saved image to tmp/satellite/imsat_26.44348031-81.9285777.jpg\n",
      "Saved image to tmp/satellite/imsat_26.44733982-81.93359548.jpg\n",
      "Saved image to tmp/satellite/imsat_26.44523583-81.93012355.jpg\n",
      "Saved image to tmp/satellite/imsat_26.44678722-81.92851362.jpg\n",
      "Saved image to tmp/satellite/imsat_26.44322019-81.92596419.jpg\n"
     ]
    },
    {
     "name": "stderr",
     "output_type": "stream",
     "text": [
      "Obtaining satellite imagery:  61%|██████    | 1882/3102 [00:31<00:18, 67.13it/s]"
     ]
    },
    {
     "name": "stdout",
     "output_type": "stream",
     "text": [
      "Saved image to tmp/satellite/imsat_26.44427688-81.92688645.jpg\n",
      "Saved image to tmp/satellite/imsat_26.44812018-81.93806935.jpg\n",
      "Saved image to tmp/satellite/imsat_26.44304286-81.93127422.jpg\n",
      "Saved image to tmp/satellite/imsat_26.44663855-81.92871709.jpg\n",
      "Saved image to tmp/satellite/imsat_26.44688699-81.93331111.jpg\n",
      "Saved image to tmp/satellite/imsat_26.44154156-81.9280927.jpg\n",
      "Saved image to tmp/satellite/imsat_26.44491828-81.92866168.jpg\n",
      "Saved image to tmp/satellite/imsat_26.44371681-81.93361502.jpg\n",
      "Saved image to tmp/satellite/imsat_26.44277997-81.92722279.jpg\n",
      "Saved image to tmp/satellite/imsat_26.44186158-81.92920238.jpg\n",
      "Saved image to tmp/satellite/imsat_26.4459288-81.9326092.jpg\n",
      "Saved image to tmp/satellite/imsat_26.44613171-81.93081009.jpg\n",
      "Saved image to tmp/satellite/imsat_26.44257667-81.92966889.jpg\n",
      "Saved image to tmp/satellite/imsat_26.44136962-81.9255979.jpg\n",
      "Saved image to tmp/satellite/imsat_26.44181159-81.9261953.jpg\n"
     ]
    },
    {
     "name": "stderr",
     "output_type": "stream",
     "text": [
      "Obtaining satellite imagery:  61%|██████    | 1889/3102 [00:31<00:19, 62.12it/s]"
     ]
    },
    {
     "name": "stdout",
     "output_type": "stream",
     "text": [
      "Saved image to tmp/satellite/imsat_26.44690948-81.93352952.jpg\n",
      "Saved image to tmp/satellite/imsat_26.44215155-81.92835796.jpg\n",
      "Saved image to tmp/satellite/imsat_26.44580494-81.93802234.jpg\n",
      "Saved image to tmp/satellite/imsat_26.44741267-81.931389.jpg\n",
      "Saved image to tmp/satellite/imsat_26.44169458-81.9235832.jpg\n",
      "Saved image to tmp/satellite/imsat_26.44294031-81.92589415.jpg\n",
      "Saved image to tmp/satellite/imsat_26.44763191-81.94222563.jpg\n",
      "Saved image to tmp/satellite/imsat_26.44539164-81.9344752.jpg\n",
      "Saved image to tmp/satellite/imsat_26.44326113-81.92705244.jpg\n",
      "Saved image to tmp/satellite/imsat_26.44778828-81.93019689.jpg\n",
      "Saved image to tmp/satellite/imsat_26.44814289-81.93736688.jpg\n",
      "Saved image to tmp/satellite/imsat_26.44134714-81.92612008.jpg\n",
      "Saved image to tmp/satellite/imsat_26.44485528-81.93027856.jpg\n",
      "Saved image to tmp/satellite/imsat_26.44462227-81.9343168.jpg\n"
     ]
    },
    {
     "name": "stderr",
     "output_type": "stream",
     "text": [
      "Obtaining satellite imagery:  61%|██████▏   | 1907/3102 [00:31<00:17, 67.76it/s]"
     ]
    },
    {
     "name": "stdout",
     "output_type": "stream",
     "text": [
      "Saved image to tmp/satellite/imsat_26.44495862-81.93058884.jpg\n",
      "Saved image to tmp/satellite/imsat_26.4446087-81.93258552.jpg\n",
      "Saved image to tmp/satellite/imsat_26.44272479-81.92442087.jpg\n",
      "Saved image to tmp/satellite/imsat_26.446751-81.93649659.jpg\n",
      "Saved image to tmp/satellite/imsat_26.44545643-81.92796633.jpg\n",
      "Saved image to tmp/satellite/imsat_26.44156848-81.92644648.jpg\n",
      "Saved image to tmp/satellite/imsat_26.44234793-81.92819616.jpg\n",
      "Saved image to tmp/satellite/imsat_26.44646646-81.93286591.jpg\n",
      "Saved image to tmp/satellite/imsat_26.4454627-81.93256451.jpg\n",
      "Saved image to tmp/satellite/imsat_26.44200607-81.9258914.jpg\n",
      "Saved image to tmp/satellite/imsat_26.44781582-81.92948718.jpg\n",
      "Saved image to tmp/satellite/imsat_26.44522101-81.9309692.jpg\n",
      "Saved image to tmp/satellite/imsat_26.44222302-81.92680918.jpg\n",
      "Saved image to tmp/satellite/imsat_26.44785606-81.93087374.jpg\n",
      "Saved image to tmp/satellite/imsat_26.44702259-81.9370268.jpg\n"
     ]
    },
    {
     "name": "stderr",
     "output_type": "stream",
     "text": [
      "Obtaining satellite imagery:  62%|██████▏   | 1923/3102 [00:32<00:17, 67.45it/s]"
     ]
    },
    {
     "name": "stdout",
     "output_type": "stream",
     "text": [
      "Saved image to tmp/satellite/imsat_26.44729331-81.94174732.jpg\n",
      "Saved image to tmp/satellite/imsat_26.44589494-81.93176638.jpg\n",
      "Saved image to tmp/satellite/imsat_26.44255699-81.92457948.jpg\n",
      "Saved image to tmp/satellite/imsat_26.44619117-81.93703181.jpg\n",
      "Saved image to tmp/satellite/imsat_26.4425072-81.92757609.jpg\n",
      "Saved image to tmp/satellite/imsat_26.44682381-81.93993943.jpg\n",
      "Saved image to tmp/satellite/imsat_26.44626738-81.9383093.jpg\n",
      "Saved image to tmp/satellite/imsat_26.44683584-81.93247755.jpg\n",
      "Saved image to tmp/satellite/imsat_26.4441291-81.92705905.jpg\n",
      "Saved image to tmp/satellite/imsat_26.44547617-81.93318982.jpg\n",
      "Saved image to tmp/satellite/imsat_26.44346479-81.92564795.jpg\n",
      "Saved image to tmp/satellite/imsat_26.4445105-81.92836959.jpg\n",
      "Saved image to tmp/satellite/imsat_26.44370169-81.9316549.jpg\n",
      "Saved image to tmp/satellite/imsat_26.44616176-81.93143451.jpg\n",
      "Saved image to tmp/satellite/imsat_26.44476295-81.93402482.jpg\n",
      "Saved image to tmp/satellite/imsat_26.44541086-81.93486578.jpg\n",
      "Saved image to tmp/satellite/imsat_26.44501457-81.92848164.jpg\n"
     ]
    },
    {
     "name": "stderr",
     "output_type": "stream",
     "text": [
      "Obtaining satellite imagery:  62%|██████▏   | 1931/3102 [00:32<00:18, 63.24it/s]"
     ]
    },
    {
     "name": "stdout",
     "output_type": "stream",
     "text": [
      "Saved image to tmp/satellite/imsat_26.44318344-81.92670289.jpg\n",
      "Saved image to tmp/satellite/imsat_26.44296086-81.92629928.jpg\n",
      "Saved image to tmp/satellite/imsat_26.44488488-81.93120954.jpg\n",
      "Saved image to tmp/satellite/imsat_26.44549435-81.93359018.jpg\n",
      "Saved image to tmp/satellite/imsat_26.4472969-81.92936565.jpg\n",
      "Saved image to tmp/satellite/imsat_26.44691996-81.93646809.jpg\n",
      "Saved image to tmp/satellite/imsat_26.44302461-81.92911857.jpg\n",
      "Saved image to tmp/satellite/imsat_26.44430629-81.93293733.jpg\n",
      "Saved image to tmp/satellite/imsat_26.44584828-81.93316246.jpg\n",
      "Saved image to tmp/satellite/imsat_26.4441951-81.92990299.jpg\n",
      "Saved image to tmp/satellite/imsat_26.44275181-81.9254599.jpg\n",
      "Saved image to tmp/satellite/imsat_26.44732259-81.92859572.jpg\n"
     ]
    },
    {
     "name": "stderr",
     "output_type": "stream",
     "text": [
      "Obtaining satellite imagery:  63%|██████▎   | 1948/3102 [00:32<00:19, 59.50it/s]"
     ]
    },
    {
     "name": "stdout",
     "output_type": "stream",
     "text": [
      "Saved image to tmp/satellite/imsat_26.44329218-81.92558312.jpg\n",
      "Saved image to tmp/satellite/imsat_26.44452978-81.9316436.jpg\n",
      "Saved image to tmp/satellite/imsat_26.443414-81.92795663.jpg\n",
      "Saved image to tmp/satellite/imsat_26.4434534-81.93085084.jpg\n",
      "Saved image to tmp/satellite/imsat_26.44539484-81.93224523.jpg\n",
      "Saved image to tmp/satellite/imsat_26.44217357-81.92467842.jpg\n",
      "Saved image to tmp/satellite/imsat_26.44205977-81.93069574.jpg\n",
      "Saved image to tmp/satellite/imsat_26.44310734-81.92724593.jpg\n",
      "Saved image to tmp/satellite/imsat_26.4476447-81.93856037.jpg\n",
      "Saved image to tmp/satellite/imsat_26.44594059-81.93305399.jpg\n",
      "Saved image to tmp/satellite/imsat_26.44690773-81.93266446.jpg\n",
      "Saved image to tmp/satellite/imsat_26.4456089-81.93307724.jpg\n",
      "Saved image to tmp/satellite/imsat_26.44207901-81.92910726.jpg\n",
      "Saved image to tmp/satellite/imsat_26.44704574-81.93112223.jpg\n",
      "Saved image to tmp/satellite/imsat_26.44738964-81.93203342.jpg\n"
     ]
    },
    {
     "name": "stderr",
     "output_type": "stream",
     "text": [
      "Obtaining satellite imagery:  63%|██████▎   | 1964/3102 [00:32<00:17, 66.53it/s]"
     ]
    },
    {
     "name": "stdout",
     "output_type": "stream",
     "text": [
      "Saved image to tmp/satellite/imsat_26.44570167-81.92934957.jpg\n",
      "Saved image to tmp/satellite/imsat_26.4445266-81.92965513.jpg\n",
      "Saved image to tmp/satellite/imsat_26.44495986-81.92772497.jpg\n",
      "Saved image to tmp/satellite/imsat_26.44190181-81.92540638.jpg\n",
      "Saved image to tmp/satellite/imsat_26.44228818-81.92601936.jpg\n",
      "Saved image to tmp/satellite/imsat_26.44735094-81.93156454.jpg\n",
      "Saved image to tmp/satellite/imsat_26.44500622-81.93105103.jpg\n",
      "Saved image to tmp/satellite/imsat_26.44416893-81.93210383.jpg\n",
      "Saved image to tmp/satellite/imsat_26.44450813-81.93125702.jpg\n",
      "Saved image to tmp/satellite/imsat_26.4473238-81.94025171.jpg\n",
      "Saved image to tmp/satellite/imsat_26.44671873-81.93227797.jpg\n",
      "Saved image to tmp/satellite/imsat_26.44526791-81.9338176.jpg\n",
      "Saved image to tmp/satellite/imsat_26.4436694-81.92577733.jpg\n",
      "Saved image to tmp/satellite/imsat_26.44781805-81.942796.jpg\n",
      "Saved image to tmp/satellite/imsat_26.44393788-81.93133226.jpg\n"
     ]
    },
    {
     "name": "stderr",
     "output_type": "stream",
     "text": [
      "Obtaining satellite imagery:  64%|██████▍   | 1980/3102 [00:33<00:16, 66.12it/s]"
     ]
    },
    {
     "name": "stdout",
     "output_type": "stream",
     "text": [
      "Saved image to tmp/satellite/imsat_26.4457775-81.93461117.jpg\n",
      "Saved image to tmp/satellite/imsat_26.44327354-81.93106375.jpg\n",
      "Saved image to tmp/satellite/imsat_26.44287205-81.92970576.jpg\n",
      "Saved image to tmp/satellite/imsat_26.44510451-81.9325821.jpg\n",
      "Saved image to tmp/satellite/imsat_26.44252503-81.92903951.jpg\n",
      "Saved image to tmp/satellite/imsat_26.44687975-81.93665228.jpg\n",
      "Saved image to tmp/satellite/imsat_26.44521957-81.9334912.jpg\n",
      "Saved image to tmp/satellite/imsat_26.44471185-81.93141687.jpg\n",
      "Saved image to tmp/satellite/imsat_26.44473918-81.93457229.jpg\n",
      "Saved image to tmp/satellite/imsat_26.44606854-81.93290812.jpg\n",
      "Saved image to tmp/satellite/imsat_26.44255035-81.92680671.jpg\n",
      "Saved image to tmp/satellite/imsat_26.44443998-81.92750765.jpg\n",
      "Saved image to tmp/satellite/imsat_26.44478264-81.93202084.jpg\n"
     ]
    },
    {
     "name": "stderr",
     "output_type": "stream",
     "text": [
      "Obtaining satellite imagery:  64%|██████▍   | 1995/3102 [00:33<00:16, 66.34it/s]"
     ]
    },
    {
     "name": "stdout",
     "output_type": "stream",
     "text": [
      "Saved image to tmp/satellite/imsat_26.44378091-81.92820246.jpg\n",
      "Saved image to tmp/satellite/imsat_26.44777342-81.93814202.jpg\n",
      "Saved image to tmp/satellite/imsat_26.44642285-81.93043983.jpg\n",
      "Saved image to tmp/satellite/imsat_26.44200495-81.92526087.jpg\n",
      "Saved image to tmp/satellite/imsat_26.44705025-81.93041231.jpg\n",
      "Saved image to tmp/satellite/imsat_26.44691367-81.93445191.jpg\n",
      "Saved image to tmp/satellite/imsat_26.44732017-81.93311573.jpg\n",
      "Saved image to tmp/satellite/imsat_26.44440394-81.92849817.jpg\n",
      "Saved image to tmp/satellite/imsat_26.44561338-81.93240369.jpg\n",
      "Saved image to tmp/satellite/imsat_26.44601631-81.93357345.jpg\n",
      "Saved image to tmp/satellite/imsat_26.44390316-81.929037.jpg\n",
      "Saved image to tmp/satellite/imsat_26.44218572-81.92401388.jpg\n",
      "Saved image to tmp/satellite/imsat_26.44735957-81.937088.jpg\n",
      "Saved image to tmp/satellite/imsat_26.44331377-81.92918898.jpg\n",
      "Saved image to tmp/satellite/imsat_26.44349776-81.92901739.jpg\n"
     ]
    },
    {
     "name": "stderr",
     "output_type": "stream",
     "text": [
      "Obtaining satellite imagery:  65%|██████▍   | 2010/3102 [00:33<00:17, 62.71it/s]"
     ]
    },
    {
     "name": "stdout",
     "output_type": "stream",
     "text": [
      "Saved image to tmp/satellite/imsat_26.44578287-81.93394375.jpg\n",
      "Saved image to tmp/satellite/imsat_26.44166229-81.92307199.jpg\n",
      "Saved image to tmp/satellite/imsat_26.44313782-81.92785971.jpg\n",
      "Saved image to tmp/satellite/imsat_26.44637877-81.93265471.jpg\n",
      "Saved image to tmp/satellite/imsat_26.44606795-81.93853242.jpg\n",
      "Saved image to tmp/satellite/imsat_26.44445189-81.93031404.jpg\n",
      "Saved image to tmp/satellite/imsat_26.44278517-81.92611299.jpg\n",
      "Saved image to tmp/satellite/imsat_26.44483939-81.93188178.jpg\n",
      "Saved image to tmp/satellite/imsat_26.44274569-81.93017171.jpg\n",
      "Saved image to tmp/satellite/imsat_26.44215621-81.93087367.jpg\n",
      "Saved image to tmp/satellite/imsat_26.44534943-81.93029591.jpg\n",
      "Saved image to tmp/satellite/imsat_26.44244549-81.92472029.jpg\n",
      "Saved image to tmp/satellite/imsat_26.44280486-81.92870841.jpg\n",
      "Saved image to tmp/satellite/imsat_26.44395504-81.92618659.jpg\n",
      "Saved image to tmp/satellite/imsat_26.4437575-81.92644745.jpg\n"
     ]
    },
    {
     "name": "stderr",
     "output_type": "stream",
     "text": [
      "Obtaining satellite imagery:  65%|██████▌   | 2024/3102 [00:33<00:17, 61.32it/s]"
     ]
    },
    {
     "name": "stdout",
     "output_type": "stream",
     "text": [
      "Saved image to tmp/satellite/imsat_26.44258865-81.9252404.jpg\n",
      "Saved image to tmp/satellite/imsat_26.44419443-81.9306355.jpg\n",
      "Saved image to tmp/satellite/imsat_26.44548-81.9301164.jpg\n",
      "Saved image to tmp/satellite/imsat_26.44475263-81.93240758.jpg\n",
      "Saved image to tmp/satellite/imsat_26.44712901-81.93741059.jpg\n",
      "Saved image to tmp/satellite/imsat_26.44439572-81.93334688.jpg\n",
      "Saved image to tmp/satellite/imsat_26.44573506-81.93058671.jpg\n",
      "Saved image to tmp/satellite/imsat_26.44724145-81.94129586.jpg\n",
      "Saved image to tmp/satellite/imsat_26.44531366-81.92733058.jpg\n",
      "Saved image to tmp/satellite/imsat_26.44727181-81.94082074.jpg\n",
      "Saved image to tmp/satellite/imsat_26.44394347-81.9280198.jpg\n",
      "Saved image to tmp/satellite/imsat_26.44411023-81.93009484.jpg\n",
      "Saved image to tmp/satellite/imsat_26.44718936-81.92840061.jpg\n",
      "Saved image to tmp/satellite/imsat_26.44736097-81.94090719.jpg\n",
      "Saved image to tmp/satellite/imsat_26.44409843-81.93121113.jpg\n"
     ]
    },
    {
     "name": "stderr",
     "output_type": "stream",
     "text": [
      "Obtaining satellite imagery:  66%|██████▌   | 2040/3102 [00:34<00:16, 65.74it/s]"
     ]
    },
    {
     "name": "stdout",
     "output_type": "stream",
     "text": [
      "Saved image to tmp/satellite/imsat_26.44181421-81.92657401.jpg\n",
      "Saved image to tmp/satellite/imsat_26.44737617-81.93395834.jpg\n",
      "Saved image to tmp/satellite/imsat_26.44733-81.93975207.jpg\n",
      "Saved image to tmp/satellite/imsat_26.44422271-81.93157164.jpg\n",
      "Saved image to tmp/satellite/imsat_26.44358396-81.9306801.jpg\n",
      "Saved image to tmp/satellite/imsat_26.44249143-81.92539771.jpg\n",
      "Saved image to tmp/satellite/imsat_26.44367636-81.928806.jpg\n",
      "Saved image to tmp/satellite/imsat_26.44801001-81.93991597.jpg\n",
      "Saved image to tmp/satellite/imsat_26.44299438-81.92805458.jpg\n",
      "Saved image to tmp/satellite/imsat_26.44811236-81.94038607.jpg\n",
      "Saved image to tmp/satellite/imsat_26.44437963-81.93088187.jpg\n",
      "Saved image to tmp/satellite/imsat_26.44656586-81.93496092.jpg\n",
      "Saved image to tmp/satellite/imsat_26.44645532-81.93328816.jpg\n",
      "Saved image to tmp/satellite/imsat_26.44453831-81.93325213.jpg\n"
     ]
    },
    {
     "name": "stderr",
     "output_type": "stream",
     "text": [
      "Obtaining satellite imagery:  66%|██████▌   | 2048/3102 [00:34<00:16, 64.57it/s]"
     ]
    },
    {
     "name": "stdout",
     "output_type": "stream",
     "text": [
      "Saved image to tmp/satellite/imsat_26.44443868-81.93379255.jpg\n",
      "Saved image to tmp/satellite/imsat_26.44242666-81.92585745.jpg\n",
      "Saved image to tmp/satellite/imsat_26.44763523-81.93658405.jpg\n",
      "Saved image to tmp/satellite/imsat_26.44648219-81.92887692.jpg\n",
      "Saved image to tmp/satellite/imsat_26.44590757-81.9355126.jpg\n",
      "Saved image to tmp/satellite/imsat_26.44800059-81.9307394.jpg\n",
      "Saved image to tmp/satellite/imsat_26.44710478-81.93762851.jpg\n",
      "Saved image to tmp/satellite/imsat_26.44600816-81.93616555.jpg\n",
      "Saved image to tmp/satellite/imsat_26.44625134-81.92988234.jpg\n",
      "Saved image to tmp/satellite/imsat_26.44370855-81.92931494.jpg\n",
      "Saved image to tmp/satellite/imsat_26.44561779-81.93507114.jpg\n"
     ]
    },
    {
     "name": "stderr",
     "output_type": "stream",
     "text": [
      "Obtaining satellite imagery:  66%|██████▋   | 2061/3102 [00:34<00:18, 57.26it/s]"
     ]
    },
    {
     "name": "stdout",
     "output_type": "stream",
     "text": [
      "Saved image to tmp/satellite/imsat_26.44392255-81.93191963.jpg\n",
      "Saved image to tmp/satellite/imsat_26.44340841-81.93195259.jpg\n",
      "Saved image to tmp/satellite/imsat_26.44587972-81.9381679.jpg\n",
      "Saved image to tmp/satellite/imsat_26.44636206-81.93698998.jpg\n",
      "Saved image to tmp/satellite/imsat_26.44284459-81.92822979.jpg\n",
      "Saved image to tmp/satellite/imsat_26.44435041-81.93143162.jpg\n",
      "Saved image to tmp/satellite/imsat_26.44332714-81.9316736.jpg\n",
      "Saved image to tmp/satellite/imsat_26.44603086-81.93160712.jpg\n",
      "Saved image to tmp/satellite/imsat_26.44691192-81.93064294.jpg\n",
      "Saved image to tmp/satellite/imsat_26.44173035-81.93003901.jpg\n",
      "Saved image to tmp/satellite/imsat_26.44738494-81.93763585.jpg\n",
      "Saved image to tmp/satellite/imsat_26.44310776-81.9308124.jpg\n",
      "Saved image to tmp/satellite/imsat_26.44491493-81.93226972.jpg\n",
      "Saved image to tmp/satellite/imsat_26.44707323-81.93179163.jpg\n",
      "Saved image to tmp/satellite/imsat_26.44243151-81.92699723.jpg\n"
     ]
    },
    {
     "name": "stderr",
     "output_type": "stream",
     "text": [
      "Obtaining satellite imagery:  67%|██████▋   | 2080/3102 [00:34<00:14, 70.72it/s]"
     ]
    },
    {
     "name": "stdout",
     "output_type": "stream",
     "text": [
      "Saved image to tmp/satellite/imsat_26.44650593-81.93182302.jpg\n",
      "Saved image to tmp/satellite/imsat_26.44742011-81.93609564.jpg\n",
      "Saved image to tmp/satellite/imsat_26.44584833-81.9328111.jpg\n",
      "Saved image to tmp/satellite/imsat_26.44507405-81.93062302.jpg\n",
      "Saved image to tmp/satellite/imsat_26.44720916-81.9309517.jpg\n",
      "Saved image to tmp/satellite/imsat_26.44358833-81.92662955.jpg\n",
      "Saved image to tmp/satellite/imsat_26.44670915-81.9294113.jpg\n",
      "Saved image to tmp/satellite/imsat_26.44776097-81.93098967.jpg\n",
      "Saved image to tmp/satellite/imsat_26.44423364-81.9266904.jpg\n",
      "Saved image to tmp/satellite/imsat_26.44614231-81.93876064.jpg\n",
      "Saved image to tmp/satellite/imsat_26.44736616-81.93428771.jpg\n",
      "Saved image to tmp/satellite/imsat_26.44812978-81.93905759.jpg\n",
      "Saved image to tmp/satellite/imsat_26.4473058-81.93003299.jpg\n",
      "Saved image to tmp/satellite/imsat_26.44310415-81.92944321.jpg\n",
      "Saved image to tmp/satellite/imsat_26.44333869-81.9265455.jpg\n"
     ]
    },
    {
     "name": "stderr",
     "output_type": "stream",
     "text": [
      "Obtaining satellite imagery:  68%|██████▊   | 2095/3102 [00:34<00:15, 64.07it/s]"
     ]
    },
    {
     "name": "stdout",
     "output_type": "stream",
     "text": [
      "Saved image to tmp/satellite/imsat_26.44472914-81.93343548.jpg\n",
      "Saved image to tmp/satellite/imsat_26.44491466-81.93287192.jpg\n",
      "Saved image to tmp/satellite/imsat_26.44394745-81.9323087.jpg\n",
      "Saved image to tmp/satellite/imsat_26.44262455-81.92784771.jpg\n",
      "Saved image to tmp/satellite/imsat_26.44312173-81.92613716.jpg\n",
      "Saved image to tmp/satellite/imsat_26.44243408-81.92426802.jpg\n",
      "Saved image to tmp/satellite/imsat_26.44686038-81.93490789.jpg\n",
      "Saved image to tmp/satellite/imsat_26.44483101-81.92802199.jpg\n",
      "Saved image to tmp/satellite/imsat_26.4458997-81.92961781.jpg\n",
      "Saved image to tmp/satellite/imsat_26.44726554-81.93687404.jpg\n",
      "Saved image to tmp/satellite/imsat_26.44811857-81.93061733.jpg\n",
      "Saved image to tmp/satellite/imsat_26.44235504-81.92664855.jpg\n",
      "Saved image to tmp/satellite/imsat_26.44801016-81.94341239.jpg\n",
      "Saved image to tmp/satellite/imsat_26.44264501-81.93162651.jpg\n",
      "Saved image to tmp/satellite/imsat_26.44682266-81.94061093.jpg\n",
      "Saved image to tmp/satellite/imsat_26.44402827-81.92564536.jpg\n",
      "Saved image to tmp/satellite/imsat_26.44500843-81.93211584.jpg\n",
      "Saved image to tmp/satellite/imsat_26.44752308-81.93761491.jpg\n"
     ]
    },
    {
     "name": "stderr",
     "output_type": "stream",
     "text": [
      "Obtaining satellite imagery:  68%|██████▊   | 2106/3102 [00:35<00:15, 66.11it/s]"
     ]
    },
    {
     "name": "stdout",
     "output_type": "stream",
     "text": [
      "Saved image to tmp/satellite/imsat_26.44371634-81.92760317.jpg\n",
      "Saved image to tmp/satellite/imsat_26.44662854-81.9320909.jpg\n",
      "Saved image to tmp/satellite/imsat_26.4436571-81.93011393.jpg\n",
      "Saved image to tmp/satellite/imsat_26.44280046-81.93164309.jpg\n",
      "Saved image to tmp/satellite/imsat_26.44684273-81.93561303.jpg\n",
      "Saved image to tmp/satellite/imsat_26.44670406-81.92779962.jpg\n",
      "Saved image to tmp/satellite/imsat_26.44249328-81.93147858.jpg\n",
      "Saved image to tmp/satellite/imsat_26.44694879-81.93683875.jpg\n",
      "Saved image to tmp/satellite/imsat_26.44376793-81.92603405.jpg\n",
      "Saved image to tmp/satellite/imsat_26.44636865-81.93470017.jpg\n",
      "Saved image to tmp/satellite/imsat_26.44358448-81.93226632.jpg\n"
     ]
    },
    {
     "name": "stderr",
     "output_type": "stream",
     "text": [
      "Obtaining satellite imagery:  68%|██████▊   | 2120/3102 [00:35<00:16, 59.31it/s]"
     ]
    },
    {
     "name": "stdout",
     "output_type": "stream",
     "text": [
      "Saved image to tmp/satellite/imsat_26.44228561-81.92712227.jpg\n",
      "Saved image to tmp/satellite/imsat_26.44754969-81.93128395.jpg\n",
      "Saved image to tmp/satellite/imsat_26.44545603-81.92936217.jpg\n",
      "Saved image to tmp/satellite/imsat_26.44646927-81.93658001.jpg\n",
      "Saved image to tmp/satellite/imsat_26.44733397-81.93468004.jpg\n",
      "Saved image to tmp/satellite/imsat_26.44176636-81.92734352.jpg\n",
      "Saved image to tmp/satellite/imsat_26.44759097-81.9370431.jpg\n",
      "Saved image to tmp/satellite/imsat_26.44601803-81.93462472.jpg\n",
      "Saved image to tmp/satellite/imsat_26.44424278-81.92874768.jpg\n"
     ]
    },
    {
     "name": "stderr",
     "output_type": "stream",
     "text": [
      "Obtaining satellite imagery:  69%|██████▉   | 2134/3102 [00:35<00:15, 61.84it/s]"
     ]
    },
    {
     "name": "stdout",
     "output_type": "stream",
     "text": [
      "Saved image to tmp/satellite/imsat_26.44350532-81.93029206.jpg\n",
      "Saved image to tmp/satellite/imsat_26.44787808-81.94183376.jpg\n",
      "Saved image to tmp/satellite/imsat_26.44633346-81.92905944.jpg\n",
      "Saved image to tmp/satellite/imsat_26.44806696-81.94321662.jpg\n",
      "Saved image to tmp/satellite/imsat_26.44515803-81.92832396.jpg\n",
      "Saved image to tmp/satellite/imsat_26.44781091-81.93922435.jpg\n",
      "Saved image to tmp/satellite/imsat_26.44561362-81.93605106.jpg\n",
      "Saved image to tmp/satellite/imsat_26.44292626-81.93228294.jpg\n",
      "Saved image to tmp/satellite/imsat_26.44722938-81.93169702.jpg\n",
      "Saved image to tmp/satellite/imsat_26.44268378-81.92463762.jpg\n",
      "Saved image to tmp/satellite/imsat_26.44674847-81.93742579.jpg\n",
      "Saved image to tmp/satellite/imsat_26.44225047-81.92891058.jpg\n",
      "Saved image to tmp/satellite/imsat_26.44526884-81.93149949.jpg\n",
      "Saved image to tmp/satellite/imsat_26.44380087-81.93109459.jpg\n",
      "Saved image to tmp/satellite/imsat_26.44673527-81.93382.jpg\n"
     ]
    },
    {
     "name": "stderr",
     "output_type": "stream",
     "text": [
      "Obtaining satellite imagery:  69%|██████▉   | 2148/3102 [00:35<00:15, 62.69it/s]"
     ]
    },
    {
     "name": "stdout",
     "output_type": "stream",
     "text": [
      "Saved image to tmp/satellite/imsat_26.4441514-81.93267804.jpg\n",
      "Saved image to tmp/satellite/imsat_26.44405111-81.93438269.jpg\n",
      "Saved image to tmp/satellite/imsat_26.4438675-81.92744556.jpg\n",
      "Saved image to tmp/satellite/imsat_26.44573713-81.93327987.jpg\n",
      "Saved image to tmp/satellite/imsat_26.44263397-81.92629507.jpg\n",
      "Saved image to tmp/satellite/imsat_26.44484808-81.93082597.jpg\n",
      "Saved image to tmp/satellite/imsat_26.4449606-81.93313301.jpg\n",
      "Saved image to tmp/satellite/imsat_26.44715635-81.932214.jpg\n",
      "Saved image to tmp/satellite/imsat_26.44658354-81.9309386.jpg\n",
      "Saved image to tmp/satellite/imsat_26.44473748-81.92880354.jpg\n",
      "Saved image to tmp/satellite/imsat_26.44150703-81.92697109.jpg\n",
      "Saved image to tmp/satellite/imsat_26.4431541-81.93002967.jpg\n",
      "Saved image to tmp/satellite/imsat_26.44751069-81.93057891.jpg\n"
     ]
    },
    {
     "name": "stderr",
     "output_type": "stream",
     "text": [
      "Obtaining satellite imagery:  69%|██████▉   | 2155/3102 [00:35<00:15, 60.75it/s]"
     ]
    },
    {
     "name": "stdout",
     "output_type": "stream",
     "text": [
      "Saved image to tmp/satellite/imsat_26.44506094-81.92985986.jpg\n",
      "Saved image to tmp/satellite/imsat_26.44464713-81.93156587.jpg\n",
      "Saved image to tmp/satellite/imsat_26.44685453-81.94008076.jpg\n",
      "Saved image to tmp/satellite/imsat_26.44294101-81.92741387.jpg\n",
      "Saved image to tmp/satellite/imsat_26.44510987-81.93363011.jpg\n",
      "Saved image to tmp/satellite/imsat_26.44337346-81.93047307.jpg\n",
      "Saved image to tmp/satellite/imsat_26.44140055-81.92333403.jpg\n",
      "Saved image to tmp/satellite/imsat_26.4473407-81.9326642.jpg\n",
      "Saved image to tmp/satellite/imsat_26.44341529-81.92685607.jpg\n",
      "Saved image to tmp/satellite/imsat_26.44580029-81.92860586.jpg\n",
      "Saved image to tmp/satellite/imsat_26.44230507-81.92998778.jpg\n"
     ]
    },
    {
     "name": "stderr",
     "output_type": "stream",
     "text": [
      "Obtaining satellite imagery:  70%|██████▉   | 2171/3102 [00:36<00:14, 65.94it/s]"
     ]
    },
    {
     "name": "stdout",
     "output_type": "stream",
     "text": [
      "Saved image to tmp/satellite/imsat_26.44212534-81.92577243.jpg\n",
      "Saved image to tmp/satellite/imsat_26.4447041-81.93042864.jpg\n",
      "Saved image to tmp/satellite/imsat_26.44204266-81.92852631.jpg\n",
      "Saved image to tmp/satellite/imsat_26.44627474-81.93061974.jpg\n",
      "Saved image to tmp/satellite/imsat_26.44194506-81.92331516.jpg\n",
      "Saved image to tmp/satellite/imsat_26.44409399-81.92962522.jpg\n",
      "Saved image to tmp/satellite/imsat_26.44679351-81.93708639.jpg\n",
      "Saved image to tmp/satellite/imsat_26.44596376-81.93487783.jpg\n",
      "Saved image to tmp/satellite/imsat_26.44740115-81.93568909.jpg\n",
      "Saved image to tmp/satellite/imsat_26.44534263-81.93333103.jpg\n",
      "Saved image to tmp/satellite/imsat_26.44458659-81.93412526.jpg\n",
      "Saved image to tmp/satellite/imsat_26.44549047-81.93465701.jpg\n",
      "Saved image to tmp/satellite/imsat_26.44375908-81.92714263.jpg\n",
      "Saved image to tmp/satellite/imsat_26.44477661-81.92696595.jpg\n",
      "Saved image to tmp/satellite/imsat_26.44321334-81.93067472.jpg\n",
      "Saved image to tmp/satellite/imsat_26.44371046-81.93053161.jpg\n"
     ]
    },
    {
     "name": "stderr",
     "output_type": "stream",
     "text": [
      "Obtaining satellite imagery:  70%|███████   | 2186/3102 [00:36<00:14, 64.54it/s]"
     ]
    },
    {
     "name": "stdout",
     "output_type": "stream",
     "text": [
      "Saved image to tmp/satellite/imsat_26.44501297-81.9327005.jpgSaved image to tmp/satellite/imsat_26.44431968-81.92975279.jpg\n",
      "\n",
      "Saved image to tmp/satellite/imsat_26.44575649-81.937803.jpg\n",
      "Saved image to tmp/satellite/imsat_26.44268503-81.92663938.jpg\n",
      "Saved image to tmp/satellite/imsat_26.44457868-81.93056913.jpg\n",
      "Saved image to tmp/satellite/imsat_26.44196787-81.92935076.jpg\n",
      "Saved image to tmp/satellite/imsat_26.44268688-81.9284012.jpg\n",
      "Saved image to tmp/satellite/imsat_26.44393364-81.92977284.jpg\n",
      "Saved image to tmp/satellite/imsat_26.44195458-81.92638687.jpg\n",
      "Saved image to tmp/satellite/imsat_26.44658685-81.93863352.jpg\n",
      "Saved image to tmp/satellite/imsat_26.44648542-81.93307624.jpg\n",
      "Saved image to tmp/satellite/imsat_26.44725946-81.93764768.jpg\n",
      "Saved image to tmp/satellite/imsat_26.44689498-81.93421342.jpg\n",
      "Saved image to tmp/satellite/imsat_26.44532135-81.93274735.jpg\n",
      "Saved image to tmp/satellite/imsat_26.44792885-81.92913019.jpg\n",
      "Saved image to tmp/satellite/imsat_26.44310802-81.92832586.jpg\n",
      "Saved image to tmp/satellite/imsat_26.44327304-81.9281294.jpg\n"
     ]
    },
    {
     "name": "stderr",
     "output_type": "stream",
     "text": [
      "Obtaining satellite imagery:  71%|███████   | 2201/3102 [00:36<00:16, 55.88it/s]"
     ]
    },
    {
     "name": "stdout",
     "output_type": "stream",
     "text": [
      "Saved image to tmp/satellite/imsat_26.44277213-81.92761439.jpg\n",
      "Saved image to tmp/satellite/imsat_26.44404277-81.9267722.jpg\n",
      "Saved image to tmp/satellite/imsat_26.44609697-81.93718163.jpg\n",
      "Saved image to tmp/satellite/imsat_26.44627542-81.93242816.jpg\n",
      "Saved image to tmp/satellite/imsat_26.44762379-81.93677286.jpg\n",
      "Saved image to tmp/satellite/imsat_26.44220864-81.92937911.jpg\n",
      "Saved image to tmp/satellite/imsat_26.44439587-81.92936619.jpg\n",
      "Saved image to tmp/satellite/imsat_26.44630947-81.93541847.jpg\n"
     ]
    },
    {
     "name": "stderr",
     "output_type": "stream",
     "text": [
      "Obtaining satellite imagery:  71%|███████   | 2208/3102 [00:36<00:17, 49.76it/s]"
     ]
    },
    {
     "name": "stdout",
     "output_type": "stream",
     "text": [
      "Saved image to tmp/satellite/imsat_26.44258456-81.92565508.jpg\n",
      "Saved image to tmp/satellite/imsat_26.44468561-81.93445404.jpg\n",
      "Saved image to tmp/satellite/imsat_26.44527196-81.9352729.jpg\n",
      "Saved image to tmp/satellite/imsat_26.44308826-81.93239959.jpg\n",
      "Saved image to tmp/satellite/imsat_26.44754045-81.92901591.jpg\n",
      "Saved image to tmp/satellite/imsat_26.4437673-81.92995006.jpg\n",
      "Saved image to tmp/satellite/imsat_26.44559084-81.92850829.jpg\n",
      "Saved image to tmp/satellite/imsat_26.4469209-81.93298634.jpg\n",
      "Saved image to tmp/satellite/imsat_26.44761636-81.93690999.jpg\n",
      "Saved image to tmp/satellite/imsat_26.44385081-81.9320386.jpg\n",
      "Saved image to tmp/satellite/imsat_26.44637292-81.92970051.jpg\n"
     ]
    },
    {
     "name": "stderr",
     "output_type": "stream",
     "text": [
      "Obtaining satellite imagery:  71%|███████▏  | 2215/3102 [00:37<00:16, 53.47it/s]"
     ]
    },
    {
     "name": "stdout",
     "output_type": "stream",
     "text": [
      "Saved image to tmp/satellite/imsat_26.44158142-81.92981498.jpg\n",
      "Saved image to tmp/satellite/imsat_26.44140998-81.92665107.jpg\n",
      "Saved image to tmp/satellite/imsat_26.44296053-81.92851306.jpg\n",
      "Saved image to tmp/satellite/imsat_26.44382328-81.93379133.jpg\n",
      "Saved image to tmp/satellite/imsat_26.4422363-81.92501024.jpg\n",
      "Saved image to tmp/satellite/imsat_26.44698767-81.94035994.jpg\n",
      "Saved image to tmp/satellite/imsat_26.44187373-81.92372883.jpg\n"
     ]
    },
    {
     "name": "stderr",
     "output_type": "stream",
     "text": [
      "Obtaining satellite imagery:  72%|███████▏  | 2231/3102 [00:37<00:15, 57.19it/s]"
     ]
    },
    {
     "name": "stdout",
     "output_type": "stream",
     "text": [
      "Saved image to tmp/satellite/imsat_26.44733381-81.93284362.jpg\n",
      "Saved image to tmp/satellite/imsat_26.44647639-81.93742063.jpg\n",
      "Saved image to tmp/satellite/imsat_26.44301038-81.9247277.jpg\n",
      "Saved image to tmp/satellite/imsat_26.4430612-81.93213193.jpg\n",
      "Saved image to tmp/satellite/imsat_26.44802573-81.94162987.jpg\n",
      "Saved image to tmp/satellite/imsat_26.44551426-81.93209126.jpg\n",
      "Saved image to tmp/satellite/imsat_26.44534965-81.92955329.jpg\n",
      "Saved image to tmp/satellite/imsat_26.44731493-81.93239814.jpg\n",
      "Saved image to tmp/satellite/imsat_26.44514384-81.93469373.jpg\n",
      "Saved image to tmp/satellite/imsat_26.44271369-81.93189555.jpg\n",
      "Saved image to tmp/satellite/imsat_26.44159461-81.92423928.jpg\n",
      "Saved image to tmp/satellite/imsat_26.44549449-81.93417536.jpg\n",
      "Saved image to tmp/satellite/imsat_26.44813939-81.93827377.jpg\n",
      "Saved image to tmp/satellite/imsat_26.44310747-81.92572576.jpg\n",
      "Saved image to tmp/satellite/imsat_26.44521714-81.92975141.jpg\n",
      "Saved image to tmp/satellite/imsat_26.44512037-81.93303537.jpg\n"
     ]
    },
    {
     "name": "stderr",
     "output_type": "stream",
     "text": [
      "Obtaining satellite imagery:  72%|███████▏  | 2245/3102 [00:37<00:15, 54.90it/s]"
     ]
    },
    {
     "name": "stdout",
     "output_type": "stream",
     "text": [
      "Saved image to tmp/satellite/imsat_26.44135288-81.92712612.jpg\n",
      "Saved image to tmp/satellite/imsat_26.44649527-81.93708397.jpg\n",
      "Saved image to tmp/satellite/imsat_26.44484516-81.92942655.jpg\n",
      "Saved image to tmp/satellite/imsat_26.44146083-81.92770811.jpg\n",
      "Saved image to tmp/satellite/imsat_26.44638149-81.93761771.jpg\n",
      "Saved image to tmp/satellite/imsat_26.44351326-81.92635869.jpg\n",
      "Saved image to tmp/satellite/imsat_26.44560049-81.93348398.jpg\n",
      "Saved image to tmp/satellite/imsat_26.44652083-81.92953334.jpg\n",
      "Saved image to tmp/satellite/imsat_26.44144259-81.92440796.jpg\n",
      "Saved image to tmp/satellite/imsat_26.44409371-81.93303824.jpg\n",
      "Saved image to tmp/satellite/imsat_26.4451316-81.9290671.jpg\n"
     ]
    },
    {
     "name": "stderr",
     "output_type": "stream",
     "text": [
      "Obtaining satellite imagery:  73%|███████▎  | 2258/3102 [00:37<00:15, 55.20it/s]"
     ]
    },
    {
     "name": "stdout",
     "output_type": "stream",
     "text": [
      "Saved image to tmp/satellite/imsat_26.44371575-81.93339029.jpg\n",
      "Saved image to tmp/satellite/imsat_26.44338575-81.9331762.jpg\n",
      "Saved image to tmp/satellite/imsat_26.44319809-81.93282327.jpg\n",
      "Saved image to tmp/satellite/imsat_26.44642183-81.93835115.jpg\n",
      "Saved image to tmp/satellite/imsat_26.44729685-81.93339905.jpg\n",
      "Saved image to tmp/satellite/imsat_26.44781119-81.94122616.jpg\n",
      "Saved image to tmp/satellite/imsat_26.44645046-81.9344263.jpg\n",
      "Saved image to tmp/satellite/imsat_26.44184523-81.93039048.jpg\n",
      "Saved image to tmp/satellite/imsat_26.44600693-81.93702502.jpg\n",
      "Saved image to tmp/satellite/imsat_26.4440304-81.93267541.jpg\n",
      "Saved image to tmp/satellite/imsat_26.44591316-81.93685402.jpg\n",
      "Saved image to tmp/satellite/imsat_26.44313867-81.92503059.jpg\n",
      "Saved image to tmp/satellite/imsat_26.44557387-81.93198055.jpg\n",
      "Saved image to tmp/satellite/imsat_26.44606112-81.93550595.jpg\n"
     ]
    },
    {
     "name": "stderr",
     "output_type": "stream",
     "text": [
      "Obtaining satellite imagery:  73%|███████▎  | 2267/3102 [00:37<00:13, 63.44it/s]"
     ]
    },
    {
     "name": "stdout",
     "output_type": "stream",
     "text": [
      "Saved image to tmp/satellite/imsat_26.44228921-81.92558677.jpg\n",
      "Saved image to tmp/satellite/imsat_26.44273375-81.92514721.jpg\n",
      "Saved image to tmp/satellite/imsat_26.44718351-81.93023236.jpg\n",
      "Saved image to tmp/satellite/imsat_26.44563347-81.92996019.jpg\n",
      "Saved image to tmp/satellite/imsat_26.44523738-81.93190849.jpg\n",
      "Saved image to tmp/satellite/imsat_26.44680849-81.93075088.jpg\n",
      "Saved image to tmp/satellite/imsat_26.44699335-81.93660073.jpg\n",
      "Saved image to tmp/satellite/imsat_26.44384353-81.93037871.jpg\n",
      "Saved image to tmp/satellite/imsat_26.44642584-81.93395869.jpg\n",
      "Saved image to tmp/satellite/imsat_26.44150389-81.92477647.jpg\n",
      "Saved image to tmp/satellite/imsat_26.44702112-81.93195587.jpg\n",
      "Saved image to tmp/satellite/imsat_26.44688507-81.93375245.jpg\n",
      "Saved image to tmp/satellite/imsat_26.4435455-81.93138167.jpg\n",
      "Saved image to tmp/satellite/imsat_26.4414644-81.92962671.jpg\n",
      "Saved image to tmp/satellite/imsat_26.44661462-81.93940686.jpg\n",
      "Saved image to tmp/satellite/imsat_26.44660028-81.93709986.jpg\n",
      "Saved image to tmp/satellite/imsat_26.44786439-81.94001102.jpg\n"
     ]
    },
    {
     "name": "stderr",
     "output_type": "stream",
     "text": [
      "Obtaining satellite imagery:  74%|███████▍  | 2290/3102 [00:38<00:09, 83.99it/s]"
     ]
    },
    {
     "name": "stdout",
     "output_type": "stream",
     "text": [
      "Saved image to tmp/satellite/imsat_26.44793189-81.9401765.jpg\n",
      "Saved image to tmp/satellite/imsat_26.44701229-81.92909282.jpg\n",
      "Saved image to tmp/satellite/imsat_26.44517499-81.93079244.jpg\n",
      "Saved image to tmp/satellite/imsat_26.44764937-81.92969428.jpg\n",
      "Saved image to tmp/satellite/imsat_26.44406138-81.93219985.jpg\n",
      "Saved image to tmp/satellite/imsat_26.44490774-81.93424536.jpg\n",
      "Saved image to tmp/satellite/imsat_26.44291589-81.92705036.jpg\n",
      "Saved image to tmp/satellite/imsat_26.44240858-81.92877037.jpg\n",
      "Saved image to tmp/satellite/imsat_26.4455249-81.93157889.jpg\n",
      "Saved image to tmp/satellite/imsat_26.4428778-81.92930091.jpg\n",
      "Saved image to tmp/satellite/imsat_26.44689035-81.92985648.jpg\n",
      "Saved image to tmp/satellite/imsat_26.44539249-81.93124105.jpg\n",
      "Saved image to tmp/satellite/imsat_26.44614966-81.93222827.jpg\n",
      "Saved image to tmp/satellite/imsat_26.443626-81.92837934.jpg\n",
      "Saved image to tmp/satellite/imsat_26.44429557-81.9265286.jpg\n",
      "Saved image to tmp/satellite/imsat_26.442649-81.92739929.jpg\n",
      "Saved image to tmp/satellite/imsat_26.44812409-81.929867.jpg\n",
      "Saved image to tmp/satellite/imsat_26.45103242-81.94573448.jpg\n",
      "Saved image to tmp/satellite/imsat_26.44688017-81.93398716.jpg\n",
      "Saved image to tmp/satellite/imsat_26.45383533-81.94468395.jpg\n"
     ]
    },
    {
     "name": "stderr",
     "output_type": "stream",
     "text": [
      "Obtaining satellite imagery:  74%|███████▍  | 2299/3102 [00:38<00:09, 82.02it/s]"
     ]
    },
    {
     "name": "stdout",
     "output_type": "stream",
     "text": [
      "Saved image to tmp/satellite/imsat_26.44864145-81.93843764.jpgSaved image to tmp/satellite/imsat_26.44699756-81.92824174.jpg\n",
      "\n",
      "Saved image to tmp/satellite/imsat_26.45473134-81.95597508.jpg\n",
      "Saved image to tmp/satellite/imsat_26.44470177-81.93590563.jpg\n",
      "Saved image to tmp/satellite/imsat_26.45208619-81.95201144.jpg\n",
      "Saved image to tmp/satellite/imsat_26.4441131-81.93175534.jpg\n",
      "Saved image to tmp/satellite/imsat_26.45080317-81.94535884.jpg\n",
      "Saved image to tmp/satellite/imsat_26.45389278-81.9487127.jpg\n",
      "Saved image to tmp/satellite/imsat_26.4541161-81.94566688.jpg\n"
     ]
    },
    {
     "name": "stderr",
     "output_type": "stream",
     "text": [
      "Obtaining satellite imagery:  75%|███████▍  | 2316/3102 [00:38<00:12, 60.58it/s]"
     ]
    },
    {
     "name": "stdout",
     "output_type": "stream",
     "text": [
      "Saved image to tmp/satellite/imsat_26.45434374-81.95655841.jpg\n",
      "Saved image to tmp/satellite/imsat_26.44950588-81.9471501.jpg\n",
      "Saved image to tmp/satellite/imsat_26.45351237-81.94984864.jpg\n",
      "Saved image to tmp/satellite/imsat_26.45201433-81.95388723.jpg\n",
      "Saved image to tmp/satellite/imsat_26.44926621-81.94597489.jpg\n",
      "Saved image to tmp/satellite/imsat_26.45379542-81.95253685.jpg\n",
      "Saved image to tmp/satellite/imsat_26.45062703-81.94875168.jpg\n",
      "Saved image to tmp/satellite/imsat_26.45371365-81.95359686.jpg\n",
      "Saved image to tmp/satellite/imsat_26.45099689-81.94390031.jpg\n",
      "Saved image to tmp/satellite/imsat_26.4503489-81.94506697.jpg\n",
      "Saved image to tmp/satellite/imsat_26.45141883-81.9525071.jpg\n",
      "Saved image to tmp/satellite/imsat_26.45423401-81.94837971.jpg\n",
      "Saved image to tmp/satellite/imsat_26.45342471-81.94570584.jpg\n",
      "Saved image to tmp/satellite/imsat_26.45358365-81.9519014.jpg\n",
      "Saved image to tmp/satellite/imsat_26.45464311-81.95526349.jpg\n"
     ]
    },
    {
     "name": "stderr",
     "output_type": "stream",
     "text": [
      "Obtaining satellite imagery:  75%|███████▌  | 2330/3102 [00:38<00:12, 60.65it/s]"
     ]
    },
    {
     "name": "stdout",
     "output_type": "stream",
     "text": [
      "Saved image to tmp/satellite/imsat_26.45013548-81.9423485.jpg\n",
      "Saved image to tmp/satellite/imsat_26.44165666-81.92462079.jpg\n",
      "Saved image to tmp/satellite/imsat_26.45168134-81.94442526.jpg\n",
      "Saved image to tmp/satellite/imsat_26.4530356-81.94633473.jpg\n",
      "Saved image to tmp/satellite/imsat_26.45487962-81.95756433.jpg\n",
      "Saved image to tmp/satellite/imsat_26.45247596-81.95142196.jpg\n",
      "Saved image to tmp/satellite/imsat_26.45320584-81.94993547.jpg\n",
      "Saved image to tmp/satellite/imsat_26.45380811-81.9457948.jpg\n",
      "Saved image to tmp/satellite/imsat_26.45095506-81.94632234.jpg\n",
      "Saved image to tmp/satellite/imsat_26.45036517-81.94194527.jpg\n",
      "Saved image to tmp/satellite/imsat_26.450132-81.94394511.jpg\n",
      "Saved image to tmp/satellite/imsat_26.44824353-81.94280171.jpg\n",
      "Saved image to tmp/satellite/imsat_26.45085643-81.94505294.jpg\n",
      "Saved image to tmp/satellite/imsat_26.45076792-81.94192052.jpg\n"
     ]
    },
    {
     "name": "stderr",
     "output_type": "stream",
     "text": [
      "Obtaining satellite imagery:  75%|███████▌  | 2338/3102 [00:38<00:12, 61.23it/s]"
     ]
    },
    {
     "name": "stdout",
     "output_type": "stream",
     "text": [
      "Saved image to tmp/satellite/imsat_26.45231363-81.95148867.jpg\n",
      "Saved image to tmp/satellite/imsat_26.45322259-81.94660734.jpg\n",
      "Saved image to tmp/satellite/imsat_26.44911188-81.94621783.jpg\n",
      "Saved image to tmp/satellite/imsat_26.45467231-81.95298998.jpg\n",
      "Saved image to tmp/satellite/imsat_26.45453348-81.95439672.jpg\n",
      "Saved image to tmp/satellite/imsat_26.44937146-81.94638411.jpg\n",
      "Saved image to tmp/satellite/imsat_26.45252722-81.94189797.jpg\n"
     ]
    },
    {
     "name": "stderr",
     "output_type": "stream",
     "text": [
      "Obtaining satellite imagery:  76%|███████▌  | 2352/3102 [00:39<00:13, 54.74it/s]"
     ]
    },
    {
     "name": "stdout",
     "output_type": "stream",
     "text": [
      "Saved image to tmp/satellite/imsat_26.45122064-81.94630925.jpg\n",
      "Saved image to tmp/satellite/imsat_26.45047775-81.94534359.jpg\n",
      "Saved image to tmp/satellite/imsat_26.44688464-81.93467964.jpg\n",
      "Saved image to tmp/satellite/imsat_26.45301303-81.95305501.jpg\n",
      "Saved image to tmp/satellite/imsat_26.45232613-81.94471992.jpg\n",
      "Saved image to tmp/satellite/imsat_26.44902981-81.94421673.jpg\n",
      "Saved image to tmp/satellite/imsat_26.45408904-81.94949105.jpg\n",
      "Saved image to tmp/satellite/imsat_26.44952515-81.94568544.jpg\n",
      "Saved image to tmp/satellite/imsat_26.45370808-81.95296943.jpg\n",
      "Saved image to tmp/satellite/imsat_26.45270494-81.95098096.jpg\n",
      "Saved image to tmp/satellite/imsat_26.45454623-81.95298741.jpg\n",
      "Saved image to tmp/satellite/imsat_26.45094353-81.94242361.jpg\n"
     ]
    },
    {
     "name": "stderr",
     "output_type": "stream",
     "text": [
      "Obtaining satellite imagery:  76%|███████▌  | 2358/3102 [00:39<00:13, 53.47it/s]"
     ]
    },
    {
     "name": "stdout",
     "output_type": "stream",
     "text": [
      "Saved image to tmp/satellite/imsat_26.45014147-81.94532088.jpg\n",
      "Saved image to tmp/satellite/imsat_26.44886851-81.93889094.jpg\n",
      "Saved image to tmp/satellite/imsat_26.45289679-81.95191695.jpg\n",
      "Saved image to tmp/satellite/imsat_26.44924114-81.94390544.jpg\n",
      "Saved image to tmp/satellite/imsat_26.45174994-81.95352125.jpg\n",
      "Saved image to tmp/satellite/imsat_26.44860642-81.93747583.jpg\n",
      "Saved image to tmp/satellite/imsat_26.45377206-81.95099119.jpg\n",
      "Saved image to tmp/satellite/imsat_26.45402368-81.95146489.jpg\n",
      "Saved image to tmp/satellite/imsat_26.45338194-81.94946158.jpg\n",
      "Saved image to tmp/satellite/imsat_26.45351202-81.95260582.jpg\n",
      "Saved image to tmp/satellite/imsat_26.44914052-81.93658519.jpg\n",
      "Saved image to tmp/satellite/imsat_26.45343401-81.9453453.jpg\n",
      "Saved image to tmp/satellite/imsat_26.45321135-81.94715287.jpg\n",
      "Saved image to tmp/satellite/imsat_26.45297078-81.94438742.jpg\n"
     ]
    },
    {
     "name": "stderr",
     "output_type": "stream",
     "text": [
      "Obtaining satellite imagery:  77%|███████▋  | 2376/3102 [00:39<00:13, 55.20it/s]"
     ]
    },
    {
     "name": "stdout",
     "output_type": "stream",
     "text": [
      "Saved image to tmp/satellite/imsat_26.45205188-81.94999485.jpg\n",
      "Saved image to tmp/satellite/imsat_26.45060846-81.95023473.jpg\n",
      "Saved image to tmp/satellite/imsat_26.45063982-81.94656701.jpg\n",
      "Saved image to tmp/satellite/imsat_26.45133795-81.94195389.jpg\n",
      "Saved image to tmp/satellite/imsat_26.45411832-81.95645523.jpg\n",
      "Saved image to tmp/satellite/imsat_26.45170248-81.94870395.jpg\n",
      "Saved image to tmp/satellite/imsat_26.45337993-81.95133626.jpg\n",
      "Saved image to tmp/satellite/imsat_26.45377958-81.94983727.jpg\n",
      "Saved image to tmp/satellite/imsat_26.45206069-81.95337983.jpg\n",
      "Saved image to tmp/satellite/imsat_26.45170624-81.94507653.jpg\n"
     ]
    },
    {
     "name": "stderr",
     "output_type": "stream",
     "text": [
      "Obtaining satellite imagery:  77%|███████▋  | 2392/3102 [00:39<00:11, 63.35it/s]"
     ]
    },
    {
     "name": "stdout",
     "output_type": "stream",
     "text": [
      "Saved image to tmp/satellite/imsat_26.45195225-81.94705223.jpg\n",
      "Saved image to tmp/satellite/imsat_26.45290756-81.95365836.jpg\n",
      "Saved image to tmp/satellite/imsat_26.44997294-81.94832469.jpg\n",
      "Saved image to tmp/satellite/imsat_26.45338142-81.95189053.jpg\n",
      "Saved image to tmp/satellite/imsat_26.44826619-81.94392058.jpg\n",
      "Saved image to tmp/satellite/imsat_26.45221719-81.94440928.jpg\n",
      "Saved image to tmp/satellite/imsat_26.44888097-81.94564135.jpg\n",
      "Saved image to tmp/satellite/imsat_26.45282443-81.95304868.jpg\n",
      "Saved image to tmp/satellite/imsat_26.45360341-81.95139833.jpg\n",
      "Saved image to tmp/satellite/imsat_26.45227177-81.95281368.jpg\n",
      "Saved image to tmp/satellite/imsat_26.4504155-81.94906849.jpg\n",
      "Saved image to tmp/satellite/imsat_26.45344084-81.95304095.jpg\n",
      "Saved image to tmp/satellite/imsat_26.4492293-81.94561678.jpg\n",
      "Saved image to tmp/satellite/imsat_26.44822827-81.94093685.jpg\n"
     ]
    },
    {
     "name": "stderr",
     "output_type": "stream",
     "text": [
      "Obtaining satellite imagery:  77%|███████▋  | 2399/3102 [00:40<00:11, 61.01it/s]"
     ]
    },
    {
     "name": "stdout",
     "output_type": "stream",
     "text": [
      "Saved image to tmp/satellite/imsat_26.44885685-81.9379129.jpg\n",
      "Saved image to tmp/satellite/imsat_26.45240523-81.94660363.jpg\n",
      "Saved image to tmp/satellite/imsat_26.45003693-81.94862058.jpg\n",
      "Saved image to tmp/satellite/imsat_26.45340522-81.94705996.jpg\n",
      "Saved image to tmp/satellite/imsat_26.452452-81.9450765.jpg\n",
      "Saved image to tmp/satellite/imsat_26.44980979-81.94507759.jpg\n",
      "Saved image to tmp/satellite/imsat_26.45438395-81.94987404.jpg\n",
      "Saved image to tmp/satellite/imsat_26.45307703-81.94242008.jpg\n",
      "Saved image to tmp/satellite/imsat_26.44915016-81.94450914.jpg\n",
      "Saved image to tmp/satellite/imsat_26.45404292-81.94873208.jpg\n",
      "Saved image to tmp/satellite/imsat_26.45155799-81.94702032.jpg\n",
      "Saved image to tmp/satellite/imsat_26.45304729-81.95194238.jpg\n",
      "Saved image to tmp/satellite/imsat_26.45056006-81.94448813.jpg\n"
     ]
    },
    {
     "name": "stderr",
     "output_type": "stream",
     "text": [
      "Obtaining satellite imagery:  78%|███████▊  | 2412/3102 [00:40<00:12, 54.34it/s]"
     ]
    },
    {
     "name": "stdout",
     "output_type": "stream",
     "text": [
      "Saved image to tmp/satellite/imsat_26.45033936-81.94923057.jpg\n",
      "Saved image to tmp/satellite/imsat_26.45127049-81.94703345.jpg\n",
      "Saved image to tmp/satellite/imsat_26.45266598-81.95048903.jpg\n",
      "Saved image to tmp/satellite/imsat_26.45040033-81.9459217.jpg\n",
      "Saved image to tmp/satellite/imsat_26.45178773-81.94764533.jpg\n",
      "Saved image to tmp/satellite/imsat_26.4509271-81.94769323.jpg\n",
      "Saved image to tmp/satellite/imsat_26.45176071-81.95308861.jpg\n",
      "Saved image to tmp/satellite/imsat_26.45195947-81.95055004.jpg\n",
      "Saved image to tmp/satellite/imsat_26.4513291-81.94531233.jpg\n",
      "Saved image to tmp/satellite/imsat_26.45080652-81.94631004.jpg\n",
      "Saved image to tmp/satellite/imsat_26.45194411-81.95312318.jpg\n",
      "Saved image to tmp/satellite/imsat_26.45450286-81.95255446.jpg\n",
      "Saved image to tmp/satellite/imsat_26.44813214-81.92937671.jpg\n",
      "Saved image to tmp/satellite/imsat_26.45204785-81.94508377.jpg\n",
      "Saved image to tmp/satellite/imsat_26.44876211-81.94465005.jpg\n"
     ]
    },
    {
     "name": "stderr",
     "output_type": "stream",
     "text": [
      "Obtaining satellite imagery:  78%|███████▊  | 2428/3102 [00:40<00:10, 64.42it/s]"
     ]
    },
    {
     "name": "stdout",
     "output_type": "stream",
     "text": [
      "Saved image to tmp/satellite/imsat_26.45427295-81.95602216.jpg\n",
      "Saved image to tmp/satellite/imsat_26.45031666-81.9465822.jpg\n",
      "Saved image to tmp/satellite/imsat_26.45293125-81.95347535.jpg\n",
      "Saved image to tmp/satellite/imsat_26.45077486-81.94822071.jpg\n",
      "Saved image to tmp/satellite/imsat_26.4501935-81.94509816.jpg\n",
      "Saved image to tmp/satellite/imsat_26.45403742-81.9509791.jpg\n",
      "Saved image to tmp/satellite/imsat_26.45117289-81.94661207.jpg\n",
      "Saved image to tmp/satellite/imsat_26.45302557-81.94707777.jpg\n",
      "Saved image to tmp/satellite/imsat_26.45457826-81.9539849.jpg\n",
      "Saved image to tmp/satellite/imsat_26.45060151-81.94470691.jpg\n",
      "Saved image to tmp/satellite/imsat_26.45213094-81.94657059.jpg\n",
      "Saved image to tmp/satellite/imsat_26.4516299-81.94807109.jpg\n",
      "Saved image to tmp/satellite/imsat_26.45055454-81.94193168.jpg\n"
     ]
    },
    {
     "name": "stderr",
     "output_type": "stream",
     "text": [
      "Obtaining satellite imagery:  79%|███████▊  | 2442/3102 [00:40<00:11, 55.62it/s]"
     ]
    },
    {
     "name": "stdout",
     "output_type": "stream",
     "text": [
      "Saved image to tmp/satellite/imsat_26.45037412-81.94072892.jpg\n",
      "Saved image to tmp/satellite/imsat_26.45285176-81.95130952.jpg\n",
      "Saved image to tmp/satellite/imsat_26.45263541-81.94632927.jpg\n",
      "Saved image to tmp/satellite/imsat_26.45432461-81.9505451.jpg\n",
      "Saved image to tmp/satellite/imsat_26.45147452-81.94762914.jpg\n",
      "Saved image to tmp/satellite/imsat_26.45356301-81.95301484.jpg\n",
      "Saved image to tmp/satellite/imsat_26.45492288-81.95564405.jpg\n",
      "Saved image to tmp/satellite/imsat_26.45217435-81.9480791.jpg\n",
      "Saved image to tmp/satellite/imsat_26.45396686-81.94658089.jpg\n",
      "Saved image to tmp/satellite/imsat_26.44825118-81.93049253.jpg\n",
      "Saved image to tmp/satellite/imsat_26.44881563-81.94114115.jpg\n",
      "Saved image to tmp/satellite/imsat_26.45216374-81.95106526.jpg\n",
      "Saved image to tmp/satellite/imsat_26.44881983-81.93717941.jpg\n",
      "Saved image to tmp/satellite/imsat_26.44929957-81.93699473.jpg\n"
     ]
    },
    {
     "name": "stderr",
     "output_type": "stream",
     "text": [
      "Obtaining satellite imagery:  79%|███████▉  | 2452/3102 [00:40<00:10, 60.65it/s]"
     ]
    },
    {
     "name": "stdout",
     "output_type": "stream",
     "text": [
      "Saved image to tmp/satellite/imsat_26.44999514-81.94473279.jpg\n",
      "Saved image to tmp/satellite/imsat_26.45162724-81.94569911.jpg\n",
      "Saved image to tmp/satellite/imsat_26.45457814-81.94954974.jpg\n",
      "Saved image to tmp/satellite/imsat_26.45454418-81.95694444.jpg\n",
      "Saved image to tmp/satellite/imsat_26.45272634-81.95196204.jpg\n",
      "Saved image to tmp/satellite/imsat_26.45466139-81.95853601.jpg\n",
      "Saved image to tmp/satellite/imsat_26.44904734-81.93712812.jpg\n",
      "Saved image to tmp/satellite/imsat_26.44820414-81.94379933.jpg\n",
      "Saved image to tmp/satellite/imsat_26.45187031-81.94838795.jpg\n"
     ]
    },
    {
     "name": "stderr",
     "output_type": "stream",
     "text": [
      "Obtaining satellite imagery:  80%|███████▉  | 2470/3102 [00:41<00:10, 59.31it/s]"
     ]
    },
    {
     "name": "stdout",
     "output_type": "stream",
     "text": [
      "Saved image to tmp/satellite/imsat_26.45482595-81.95095037.jpg\n",
      "Saved image to tmp/satellite/imsat_26.45283328-81.94636453.jpg\n",
      "Saved image to tmp/satellite/imsat_26.45374402-81.95054684.jpg\n",
      "Saved image to tmp/satellite/imsat_26.44863098-81.94391598.jpg\n",
      "Saved image to tmp/satellite/imsat_26.44951068-81.94632714.jpg\n",
      "Saved image to tmp/satellite/imsat_26.45179109-81.94473219.jpg\n",
      "Saved image to tmp/satellite/imsat_26.45331149-81.94981396.jpg\n",
      "Saved image to tmp/satellite/imsat_26.45278149-81.95255493.jpg\n",
      "Saved image to tmp/satellite/imsat_26.45043621-81.94471479.jpg\n",
      "Saved image to tmp/satellite/imsat_26.45327688-81.9476344.jpg\n",
      "Saved image to tmp/satellite/imsat_26.44888937-81.92969892.jpg\n",
      "Saved image to tmp/satellite/imsat_26.4523014-81.94186965.jpg\n",
      "Saved image to tmp/satellite/imsat_26.45016458-81.94632493.jpg\n",
      "Saved image to tmp/satellite/imsat_26.44914387-81.94500781.jpg\n"
     ]
    },
    {
     "name": "stderr",
     "output_type": "stream",
     "text": [
      "Obtaining satellite imagery:  80%|███████▉  | 2481/3102 [00:41<00:10, 60.76it/s]"
     ]
    },
    {
     "name": "stdout",
     "output_type": "stream",
     "text": [
      "Saved image to tmp/satellite/imsat_26.45188873-81.95341013.jpg\n",
      "Saved image to tmp/satellite/imsat_26.45324328-81.94631418.jpg\n",
      "Saved image to tmp/satellite/imsat_26.45099066-81.95062187.jpg\n",
      "Saved image to tmp/satellite/imsat_26.44814752-81.93782973.jpg\n",
      "Saved image to tmp/satellite/imsat_26.45324595-81.94946968.jpg\n",
      "Saved image to tmp/satellite/imsat_26.45253874-81.94872496.jpg\n",
      "Saved image to tmp/satellite/imsat_26.45202119-81.9459625.jpg\n",
      "Saved image to tmp/satellite/imsat_26.4541643-81.94790674.jpg\n",
      "Saved image to tmp/satellite/imsat_26.4522997-81.95170323.jpg\n",
      "Saved image to tmp/satellite/imsat_26.45328484-81.94871421.jpg\n",
      "Saved image to tmp/satellite/imsat_26.45068657-81.95054614.jpg\n",
      "Saved image to tmp/satellite/imsat_26.44837241-81.94307505.jpg\n",
      "Saved image to tmp/satellite/imsat_26.45347627-81.94440442.jpg\n",
      "Saved image to tmp/satellite/imsat_26.45340447-81.941713.jpg\n",
      "Saved image to tmp/satellite/imsat_26.45364874-81.94949738.jpg\n",
      "Saved image to tmp/satellite/imsat_26.45359754-81.94507551.jpg\n"
     ]
    },
    {
     "name": "stderr",
     "output_type": "stream",
     "text": [
      "Obtaining satellite imagery:  81%|████████  | 2498/3102 [00:41<00:09, 65.81it/s]"
     ]
    },
    {
     "name": "stdout",
     "output_type": "stream",
     "text": [
      "Saved image to tmp/satellite/imsat_26.45218724-81.94634867.jpg\n",
      "Saved image to tmp/satellite/imsat_26.45309647-81.94901554.jpg\n",
      "Saved image to tmp/satellite/imsat_26.45225499-81.95255673.jpg\n",
      "Saved image to tmp/satellite/imsat_26.45173502-81.94632478.jpg\n",
      "Saved image to tmp/satellite/imsat_26.45486701-81.95352435.jpg\n",
      "Saved image to tmp/satellite/imsat_26.45059349-81.94941289.jpg\n",
      "Saved image to tmp/satellite/imsat_26.45122097-81.94838507.jpg\n",
      "Saved image to tmp/satellite/imsat_26.4515053-81.94471197.jpg\n",
      "Saved image to tmp/satellite/imsat_26.453566-81.94878856.jpg\n",
      "Saved image to tmp/satellite/imsat_26.45200861-81.94631615.jpg\n",
      "Saved image to tmp/satellite/imsat_26.45155085-81.94657993.jpg\n",
      "Saved image to tmp/satellite/imsat_26.45310661-81.94762631.jpg\n"
     ]
    },
    {
     "name": "stderr",
     "output_type": "stream",
     "text": [
      "Obtaining satellite imagery:  81%|████████  | 2505/3102 [00:41<00:09, 63.28it/s]"
     ]
    },
    {
     "name": "stdout",
     "output_type": "stream",
     "text": [
      "Saved image to tmp/satellite/imsat_26.45288744-81.94570422.jpg\n",
      "Saved image to tmp/satellite/imsat_26.44863432-81.93723978.jpg\n",
      "Saved image to tmp/satellite/imsat_26.44879981-81.94487891.jpg\n",
      "Saved image to tmp/satellite/imsat_26.45082677-81.94948969.jpg\n",
      "Saved image to tmp/satellite/imsat_26.45312155-81.94840323.jpg\n",
      "Saved image to tmp/satellite/imsat_26.45266065-81.94700373.jpg\n",
      "Saved image to tmp/satellite/imsat_26.45390566-81.95099229.jpg\n",
      "Saved image to tmp/satellite/imsat_26.45276948-81.94763418.jpg\n",
      "Saved image to tmp/satellite/imsat_26.45135954-81.94570459.jpg\n",
      "Saved image to tmp/satellite/imsat_26.4512176-81.94806272.jpg\n",
      "Saved image to tmp/satellite/imsat_26.45140164-81.94658065.jpg\n"
     ]
    },
    {
     "name": "stderr",
     "output_type": "stream",
     "text": [
      "Obtaining satellite imagery:  81%|████████  | 2519/3102 [00:42<00:10, 57.42it/s]"
     ]
    },
    {
     "name": "stdout",
     "output_type": "stream",
     "text": [
      "Saved image to tmp/satellite/imsat_26.45054261-81.94633981.jpg\n",
      "Saved image to tmp/satellite/imsat_26.45028236-81.94571441.jpg\n",
      "Saved image to tmp/satellite/imsat_26.44923756-81.93679579.jpg\n",
      "Saved image to tmp/satellite/imsat_26.44840637-81.93027607.jpg\n",
      "Saved image to tmp/satellite/imsat_26.45174962-81.95265763.jpg\n",
      "Saved image to tmp/satellite/imsat_26.45013347-81.94366429.jpg\n",
      "Saved image to tmp/satellite/imsat_26.45207-81.94442623.jpg\n",
      "Saved image to tmp/satellite/imsat_26.44904948-81.94129534.jpg\n",
      "Saved image to tmp/satellite/imsat_26.45171463-81.94839286.jpg\n",
      "Saved image to tmp/satellite/imsat_26.4527835-81.94871167.jpg\n",
      "Saved image to tmp/satellite/imsat_26.45212287-81.94474929.jpg\n",
      "Saved image to tmp/satellite/imsat_26.45379073-81.95189162.jpg\n",
      "Saved image to tmp/satellite/imsat_26.45248696-81.9492344.jpg\n"
     ]
    },
    {
     "name": "stderr",
     "output_type": "stream",
     "text": [
      "Obtaining satellite imagery:  82%|████████▏ | 2533/3102 [00:42<00:09, 58.81it/s]"
     ]
    },
    {
     "name": "stdout",
     "output_type": "stream",
     "text": [
      "Saved image to tmp/satellite/imsat_26.45323277-81.94596173.jpg\n",
      "Saved image to tmp/satellite/imsat_26.45034126-81.94240042.jpg\n",
      "Saved image to tmp/satellite/imsat_26.45148238-81.94870531.jpg\n",
      "Saved image to tmp/satellite/imsat_26.45060733-81.94959134.jpg\n",
      "Saved image to tmp/satellite/imsat_26.45427274-81.95368258.jpg\n",
      "Saved image to tmp/satellite/imsat_26.45157852-81.95209869.jpg\n",
      "Saved image to tmp/satellite/imsat_26.45284754-81.94170326.jpg\n",
      "Saved image to tmp/satellite/imsat_26.45115401-81.94472283.jpg\n",
      "Saved image to tmp/satellite/imsat_26.45042974-81.94974692.jpg\n",
      "Saved image to tmp/satellite/imsat_26.45390795-81.95615007.jpg\n",
      "Saved image to tmp/satellite/imsat_26.44817156-81.94337331.jpg\n",
      "Saved image to tmp/satellite/imsat_26.452075-81.94764443.jpg\n",
      "Saved image to tmp/satellite/imsat_26.44871295-81.94367473.jpg\n",
      "Saved image to tmp/satellite/imsat_26.45113627-81.94504178.jpg\n",
      "Saved image to tmp/satellite/imsat_26.45085848-81.94975941.jpg\n"
     ]
    },
    {
     "name": "stderr",
     "output_type": "stream",
     "text": [
      "Obtaining satellite imagery:  82%|████████▏ | 2549/3102 [00:42<00:09, 58.52it/s]"
     ]
    },
    {
     "name": "stdout",
     "output_type": "stream",
     "text": [
      "Saved image to tmp/satellite/imsat_26.45291655-81.95250901.jpg\n",
      "Saved image to tmp/satellite/imsat_26.45227443-81.94744432.jpg\n",
      "Saved image to tmp/satellite/imsat_26.45483421-81.95255755.jpg\n",
      "Saved image to tmp/satellite/imsat_26.45293892-81.94763952.jpg\n",
      "Saved image to tmp/satellite/imsat_26.4523669-81.94633643.jpg\n",
      "Saved image to tmp/satellite/imsat_26.45250603-81.95262288.jpg\n",
      "Saved image to tmp/satellite/imsat_26.45480484-81.95295786.jpg\n",
      "Saved image to tmp/satellite/imsat_26.45000878-81.94439144.jpg\n",
      "Saved image to tmp/satellite/imsat_26.44862534-81.94402958.jpg\n",
      "Saved image to tmp/satellite/imsat_26.44884227-81.94130917.jpg\n",
      "Saved image to tmp/satellite/imsat_26.45236017-81.94593523.jpg\n",
      "Saved image to tmp/satellite/imsat_26.44904062-81.93638338.jpg\n"
     ]
    },
    {
     "name": "stderr",
     "output_type": "stream",
     "text": [
      "Obtaining satellite imagery:  82%|████████▏ | 2556/3102 [00:42<00:11, 49.10it/s]"
     ]
    },
    {
     "name": "stdout",
     "output_type": "stream",
     "text": [
      "Saved image to tmp/satellite/imsat_26.45401328-81.95255034.jpg\n",
      "Saved image to tmp/satellite/imsat_26.45213197-81.94571909.jpg\n",
      "Saved image to tmp/satellite/imsat_26.45210314-81.94870349.jpg\n",
      "Saved image to tmp/satellite/imsat_26.45337665-81.94836873.jpg\n",
      "Saved image to tmp/satellite/imsat_26.44960317-81.94400779.jpg\n",
      "Saved image to tmp/satellite/imsat_26.45377776-81.9490354.jpg\n",
      "Saved image to tmp/satellite/imsat_26.45018649-81.94194753.jpg\n",
      "Saved image to tmp/satellite/imsat_26.44854182-81.93669904.jpg\n",
      "Saved image to tmp/satellite/imsat_26.45083937-81.94657673.jpg\n",
      "Saved image to tmp/satellite/imsat_26.45041791-81.94869094.jpg\n"
     ]
    },
    {
     "name": "stderr",
     "output_type": "stream",
     "text": [
      "Obtaining satellite imagery:  83%|████████▎ | 2569/3102 [00:42<00:10, 50.16it/s]"
     ]
    },
    {
     "name": "stdout",
     "output_type": "stream",
     "text": [
      "Saved image to tmp/satellite/imsat_26.45244328-81.94744116.jpg\n",
      "Saved image to tmp/satellite/imsat_26.45130021-81.9520581.jpg\n",
      "Saved image to tmp/satellite/imsat_26.45427206-81.95631257.jpg\n",
      "Saved image to tmp/satellite/imsat_26.4494088-81.93903546.jpg\n",
      "Saved image to tmp/satellite/imsat_26.45402589-81.94630218.jpg\n",
      "Saved image to tmp/satellite/imsat_26.45121371-81.94571803.jpg\n",
      "Saved image to tmp/satellite/imsat_26.45248308-81.95304396.jpg\n",
      "Saved image to tmp/satellite/imsat_26.45312813-81.9419329.jpg\n",
      "Saved image to tmp/satellite/imsat_26.453825-81.94839949.jpg\n",
      "Saved image to tmp/satellite/imsat_26.45344752-81.94473377.jpg\n",
      "Saved image to tmp/satellite/imsat_26.45066062-81.94532204.jpg\n",
      "Saved image to tmp/satellite/imsat_26.45238497-81.94243869.jpg\n",
      "Saved image to tmp/satellite/imsat_26.45423597-81.95256366.jpg\n"
     ]
    },
    {
     "name": "stderr",
     "output_type": "stream",
     "text": [
      "Obtaining satellite imagery:  83%|████████▎ | 2587/3102 [00:43<00:07, 64.92it/s]"
     ]
    },
    {
     "name": "stdout",
     "output_type": "stream",
     "text": [
      "Saved image to tmp/satellite/imsat_26.45260475-81.94471554.jpg\n",
      "Saved image to tmp/satellite/imsat_26.44815314-81.9375945.jpg\n",
      "Saved image to tmp/satellite/imsat_26.44980425-81.943932.jpg\n",
      "Saved image to tmp/satellite/imsat_26.45431305-81.95188155.jpg\n",
      "Saved image to tmp/satellite/imsat_26.45189623-81.94193772.jpg\n",
      "Saved image to tmp/satellite/imsat_26.45389045-81.947592.jpg\n",
      "Saved image to tmp/satellite/imsat_26.45402099-81.94697628.jpg\n",
      "Saved image to tmp/satellite/imsat_26.45470408-81.9525692.jpg\n",
      "Saved image to tmp/satellite/imsat_26.44855646-81.9293219.jpg\n",
      "Saved image to tmp/satellite/imsat_26.45000308-81.94359193.jpg\n",
      "Saved image to tmp/satellite/imsat_26.45082807-81.94471575.jpg\n",
      "Saved image to tmp/satellite/imsat_26.45046296-81.94430508.jpg\n",
      "Saved image to tmp/satellite/imsat_26.45248148-81.95220565.jpg\n",
      "Saved image to tmp/satellite/imsat_26.44985877-81.94359267.jpg\n",
      "Saved image to tmp/satellite/imsat_26.45233118-81.94981947.jpg\n"
     ]
    },
    {
     "name": "stderr",
     "output_type": "stream",
     "text": [
      "Obtaining satellite imagery:  84%|████████▎ | 2594/3102 [00:43<00:08, 61.94it/s]"
     ]
    },
    {
     "name": "stdout",
     "output_type": "stream",
     "text": [
      "Saved image to tmp/satellite/imsat_26.45029825-81.9444525.jpg\n",
      "Saved image to tmp/satellite/imsat_26.45275649-81.94982891.jpg\n",
      "Saved image to tmp/satellite/imsat_26.45390529-81.95051001.jpg\n",
      "Saved image to tmp/satellite/imsat_26.45258922-81.95282596.jpg\n",
      "Saved image to tmp/satellite/imsat_26.45296835-81.9459446.jpg\n",
      "Saved image to tmp/satellite/imsat_26.45066472-81.94908936.jpg\n",
      "Saved image to tmp/satellite/imsat_26.44939363-81.93811818.jpg\n",
      "Saved image to tmp/satellite/imsat_26.4536883-81.94760985.jpg\n",
      "Saved image to tmp/satellite/imsat_26.44860018-81.94164638.jpg\n",
      "Saved image to tmp/satellite/imsat_26.45324436-81.94839474.jpg\n"
     ]
    },
    {
     "name": "stderr",
     "output_type": "stream",
     "text": [
      "Obtaining satellite imagery:  84%|████████▍ | 2607/3102 [00:43<00:09, 50.23it/s]"
     ]
    },
    {
     "name": "stdout",
     "output_type": "stream",
     "text": [
      "Saved image to tmp/satellite/imsat_26.4525555-81.95208843.jpg\n",
      "Saved image to tmp/satellite/imsat_26.45364457-81.94836633.jpg\n",
      "Saved image to tmp/satellite/imsat_26.45229258-81.95422674.jpg\n",
      "Saved image to tmp/satellite/imsat_26.45363158-81.94815326.jpg\n",
      "Saved image to tmp/satellite/imsat_26.45285118-81.94594652.jpg\n",
      "Saved image to tmp/satellite/imsat_26.45331527-81.94806368.jpg\n",
      "Saved image to tmp/satellite/imsat_26.45309342-81.94469959.jpg\n",
      "Saved image to tmp/satellite/imsat_26.4488298-81.94448831.jpg\n",
      "Saved image to tmp/satellite/imsat_26.44890462-81.94531039.jpg\n",
      "Saved image to tmp/satellite/imsat_26.45453272-81.95589159.jpg\n",
      "Saved image to tmp/satellite/imsat_26.45216632-81.94591296.jpg\n"
     ]
    },
    {
     "name": "stderr",
     "output_type": "stream",
     "text": [
      "Obtaining satellite imagery:  84%|████████▍ | 2617/3102 [00:43<00:07, 61.68it/s]"
     ]
    },
    {
     "name": "stdout",
     "output_type": "stream",
     "text": [
      "Saved image to tmp/satellite/imsat_26.4513522-81.95278327.jpg\n",
      "Saved image to tmp/satellite/imsat_26.45375999-81.95574138.jpg\n",
      "Saved image to tmp/satellite/imsat_26.4532121-81.94507945.jpg\n",
      "Saved image to tmp/satellite/imsat_26.45429956-81.95102186.jpg\n",
      "Saved image to tmp/satellite/imsat_26.45275354-81.94187303.jpg\n",
      "Saved image to tmp/satellite/imsat_26.45387367-81.95299339.jpg\n",
      "Saved image to tmp/satellite/imsat_26.45458283-81.95141616.jpg\n",
      "Saved image to tmp/satellite/imsat_26.45381552-81.94653391.jpg\n",
      "Saved image to tmp/satellite/imsat_26.45453395-81.94939416.jpg\n",
      "Saved image to tmp/satellite/imsat_26.45296149-81.94837411.jpg\n",
      "Saved image to tmp/satellite/imsat_26.45415835-81.95140859.jpg\n",
      "Saved image to tmp/satellite/imsat_26.45371543-81.94872916.jpg\n",
      "Saved image to tmp/satellite/imsat_26.45210656-81.94242728.jpg\n",
      "Saved image to tmp/satellite/imsat_26.45113171-81.94240751.jpg\n",
      "Saved image to tmp/satellite/imsat_26.44862611-81.93768837.jpg\n",
      "Saved image to tmp/satellite/imsat_26.4545292-81.94913538.jpg\n"
     ]
    },
    {
     "name": "stderr",
     "output_type": "stream",
     "text": [
      "Obtaining satellite imagery:  85%|████████▍ | 2632/3102 [00:44<00:07, 59.58it/s]"
     ]
    },
    {
     "name": "stdout",
     "output_type": "stream",
     "text": [
      "Saved image to tmp/satellite/imsat_26.45172522-81.94704598.jpg\n",
      "Saved image to tmp/satellite/imsat_26.45167442-81.94593442.jpg\n",
      "Saved image to tmp/satellite/imsat_26.44852365-81.9297225.jpg\n",
      "Saved image to tmp/satellite/imsat_26.45307103-81.94507722.jpg\n",
      "Saved image to tmp/satellite/imsat_26.45114828-81.94595693.jpg\n",
      "Saved image to tmp/satellite/imsat_26.45184055-81.9486977.jpg\n",
      "Saved image to tmp/satellite/imsat_26.45450485-81.95349664.jpg\n",
      "Saved image to tmp/satellite/imsat_26.45240551-81.94835876.jpg\n",
      "Saved image to tmp/satellite/imsat_26.45320708-81.95186529.jpg\n",
      "Saved image to tmp/satellite/imsat_26.45425754-81.94884604.jpg\n",
      "Saved image to tmp/satellite/imsat_26.44900178-81.94241897.jpg\n",
      "Saved image to tmp/satellite/imsat_26.45352617-81.94236792.jpg\n",
      "Saved image to tmp/satellite/imsat_26.45254322-81.94440977.jpg\n",
      "Saved image to tmp/satellite/imsat_26.44877237-81.93655022.jpg\n",
      "Saved image to tmp/satellite/imsat_26.45321735-81.94172303.jpg\n",
      "Saved image to tmp/satellite/imsat_26.45269094-81.95077453.jpg\n"
     ]
    },
    {
     "name": "stderr",
     "output_type": "stream",
     "text": [
      "Obtaining satellite imagery:  85%|████████▌ | 2652/3102 [00:44<00:06, 72.85it/s]"
     ]
    },
    {
     "name": "stdout",
     "output_type": "stream",
     "text": [
      "Saved image to tmp/satellite/imsat_26.45111632-81.94442305.jpg\n",
      "Saved image to tmp/satellite/imsat_26.45389106-81.9503366.jpg\n",
      "Saved image to tmp/satellite/imsat_26.4489091-81.94577754.jpg\n",
      "Saved image to tmp/satellite/imsat_26.45273782-81.95362602.jpg\n",
      "Saved image to tmp/satellite/imsat_26.45042122-81.94361876.jpg\n",
      "Saved image to tmp/satellite/imsat_26.44895535-81.94101596.jpg\n",
      "Saved image to tmp/satellite/imsat_26.45260335-81.95331171.jpg\n",
      "Saved image to tmp/satellite/imsat_26.45227289-81.95133899.jpg\n",
      "Saved image to tmp/satellite/imsat_26.45264998-81.94242462.jpg\n",
      "Saved image to tmp/satellite/imsat_26.45252685-81.94806586.jpg\n",
      "Saved image to tmp/satellite/imsat_26.4527087-81.95156085.jpg\n",
      "Saved image to tmp/satellite/imsat_26.45055427-81.94508894.jpg\n",
      "Saved image to tmp/satellite/imsat_26.45211223-81.95362485.jpg\n",
      "Saved image to tmp/satellite/imsat_26.45398183-81.95733147.jpg\n"
     ]
    },
    {
     "name": "stderr",
     "output_type": "stream",
     "text": [
      "Obtaining satellite imagery:  86%|████████▌ | 2670/3102 [00:44<00:05, 79.22it/s]"
     ]
    },
    {
     "name": "stdout",
     "output_type": "stream",
     "text": [
      "Saved image to tmp/satellite/imsat_26.4510421-81.94874018.jpg\n",
      "Saved image to tmp/satellite/imsat_26.45460793-81.95455114.jpg\n",
      "Saved image to tmp/satellite/imsat_26.45124504-81.94441833.jpg\n",
      "Saved image to tmp/satellite/imsat_26.45327958-81.95121507.jpg\n",
      "Saved image to tmp/satellite/imsat_26.45228981-81.94764355.jpg\n",
      "Saved image to tmp/satellite/imsat_26.45150205-81.94837518.jpg\n",
      "Saved image to tmp/satellite/imsat_26.45393308-81.94473397.jpg\n",
      "Saved image to tmp/satellite/imsat_26.45037716-81.94950292.jpg\n",
      "Saved image to tmp/satellite/imsat_26.45081197-81.94747983.jpg\n",
      "Saved image to tmp/satellite/imsat_26.45382305-81.94531689.jpg\n",
      "Saved image to tmp/satellite/imsat_26.45009748-81.94874942.jpg\n",
      "Saved image to tmp/satellite/imsat_26.45190466-81.94242594.jpg\n",
      "Saved image to tmp/satellite/imsat_26.45406232-81.94835985.jpg\n",
      "Saved image to tmp/satellite/imsat_26.45283975-81.94715883.jpg\n",
      "Saved image to tmp/satellite/imsat_26.45094273-81.95103295.jpg\n",
      "Saved image to tmp/satellite/imsat_26.45105319-81.94835614.jpg\n",
      "Saved image to tmp/satellite/imsat_26.45301784-81.94985376.jpg\n"
     ]
    },
    {
     "name": "stderr",
     "output_type": "stream",
     "text": [
      "Obtaining satellite imagery:  87%|████████▋ | 2687/3102 [00:44<00:05, 72.80it/s]"
     ]
    },
    {
     "name": "stdout",
     "output_type": "stream",
     "text": [
      "Saved image to tmp/satellite/imsat_26.44917935-81.94085173.jpg\n",
      "Saved image to tmp/satellite/imsat_26.45287283-81.94241484.jpg\n",
      "Saved image to tmp/satellite/imsat_26.45480555-81.95737363.jpg\n",
      "Saved image to tmp/satellite/imsat_26.45432753-81.95642587.jpg\n",
      "Saved image to tmp/satellite/imsat_26.45159851-81.94242178.jpg\n",
      "Saved image to tmp/satellite/imsat_26.45029717-81.94400791.jpg\n",
      "Saved image to tmp/satellite/imsat_26.45072174-81.94506827.jpg\n",
      "Saved image to tmp/satellite/imsat_26.45305595-81.94534478.jpg\n",
      "Saved image to tmp/satellite/imsat_26.45107376-81.9463564.jpg\n",
      "Saved image to tmp/satellite/imsat_26.45278061-81.95115835.jpg\n",
      "Saved image to tmp/satellite/imsat_26.4549339-81.95774745.jpg\n",
      "Saved image to tmp/satellite/imsat_26.45329422-81.94901932.jpg\n",
      "Saved image to tmp/satellite/imsat_26.44979348-81.9454008.jpg\n",
      "Saved image to tmp/satellite/imsat_26.44858541-81.94379277.jpg\n",
      "Saved image to tmp/satellite/imsat_26.45220163-81.95011526.jpg\n",
      "Saved image to tmp/satellite/imsat_26.45439477-81.95139693.jpg\n",
      "Saved image to tmp/satellite/imsat_26.45491383-81.95920689.jpg\n"
     ]
    },
    {
     "name": "stderr",
     "output_type": "stream",
     "text": [
      "Obtaining satellite imagery:  87%|████████▋ | 2695/3102 [00:44<00:06, 67.28it/s]"
     ]
    },
    {
     "name": "stdout",
     "output_type": "stream",
     "text": [
      "Saved image to tmp/satellite/imsat_26.44914419-81.9406002.jpg\n",
      "Saved image to tmp/satellite/imsat_26.4505874-81.95005258.jpg\n",
      "Saved image to tmp/satellite/imsat_26.4539198-81.95448946.jpg\n",
      "Saved image to tmp/satellite/imsat_26.45339731-81.94594748.jpg\n",
      "Saved image to tmp/satellite/imsat_26.45246013-81.94768203.jpg\n",
      "Saved image to tmp/satellite/imsat_26.44863314-81.93802397.jpg\n",
      "Saved image to tmp/satellite/imsat_26.44939325-81.94185543.jpg\n",
      "Saved image to tmp/satellite/imsat_26.45325163-81.95107879.jpg\n",
      "Saved image to tmp/satellite/imsat_26.45467767-81.95360547.jpg\n",
      "Saved image to tmp/satellite/imsat_26.45359243-81.94902896.jpg\n",
      "Saved image to tmp/satellite/imsat_26.45079529-81.94595309.jpg\n",
      "Saved image to tmp/satellite/imsat_26.45115029-81.9516459.jpg\n",
      "Saved image to tmp/satellite/imsat_26.45323892-81.95054042.jpg\n",
      "Saved image to tmp/satellite/imsat_26.45041086-81.94403852.jpg\n",
      "Saved image to tmp/satellite/imsat_26.45041672-81.94571517.jpg\n"
     ]
    },
    {
     "name": "stderr",
     "output_type": "stream",
     "text": [
      "Obtaining satellite imagery:  87%|████████▋ | 2712/3102 [00:45<00:05, 71.18it/s]"
     ]
    },
    {
     "name": "stdout",
     "output_type": "stream",
     "text": [
      "Saved image to tmp/satellite/imsat_26.45374752-81.95145168.jpg\n",
      "Saved image to tmp/satellite/imsat_26.44831819-81.94407106.jpg\n",
      "Saved image to tmp/satellite/imsat_26.45357054-81.95097191.jpg\n",
      "Saved image to tmp/satellite/imsat_26.44846461-81.94446309.jpg\n",
      "Saved image to tmp/satellite/imsat_26.45336693-81.95150276.jpg\n",
      "Saved image to tmp/satellite/imsat_26.45170406-81.94661536.jpg\n",
      "Saved image to tmp/satellite/imsat_26.45211691-81.95256665.jpg\n",
      "Saved image to tmp/satellite/imsat_26.44986981-81.9443994.jpg\n",
      "Saved image to tmp/satellite/imsat_26.45003313-81.94602869.jpg\n",
      "Saved image to tmp/satellite/imsat_26.45268124-81.9483963.jpg\n",
      "Saved image to tmp/satellite/imsat_26.45375309-81.95717591.jpg\n",
      "Saved image to tmp/satellite/imsat_26.4509202-81.94192805.jpg\n",
      "Saved image to tmp/satellite/imsat_26.45378885-81.94949143.jpg\n",
      "Saved image to tmp/satellite/imsat_26.45168076-81.95289081.jpg\n",
      "Saved image to tmp/satellite/imsat_26.4510001-81.94531845.jpg\n",
      "Saved image to tmp/satellite/imsat_26.4486058-81.94067403.jpg\n",
      "Saved image to tmp/satellite/imsat_26.4540427-81.94903605.jpg\n",
      "Saved image to tmp/satellite/imsat_26.45503549-81.95507599.jpg\n"
     ]
    },
    {
     "name": "stderr",
     "output_type": "stream",
     "text": [
      "Obtaining satellite imagery:  88%|████████▊ | 2730/3102 [00:45<00:04, 75.44it/s]"
     ]
    },
    {
     "name": "stdout",
     "output_type": "stream",
     "text": [
      "Saved image to tmp/satellite/imsat_26.44962136-81.94473313.jpg\n",
      "Saved image to tmp/satellite/imsat_26.44821055-81.94351861.jpg\n",
      "Saved image to tmp/satellite/imsat_26.45238913-81.94870345.jpg\n",
      "Saved image to tmp/satellite/imsat_26.45451571-81.95103511.jpg\n",
      "Saved image to tmp/satellite/imsat_26.45288742-81.94808931.jpg\n",
      "Saved image to tmp/satellite/imsat_26.4525408-81.953628.jpg\n",
      "Saved image to tmp/satellite/imsat_26.4522663-81.9483544.jpg\n",
      "Saved image to tmp/satellite/imsat_26.45260222-81.94762294.jpg\n",
      "Saved image to tmp/satellite/imsat_26.45061372-81.94699313.jpg\n",
      "Saved image to tmp/satellite/imsat_26.45076905-81.95075151.jpg\n",
      "Saved image to tmp/satellite/imsat_26.45149203-81.94592507.jpg\n",
      "Saved image to tmp/satellite/imsat_26.44933407-81.94236178.jpg\n",
      "Saved image to tmp/satellite/imsat_26.45021443-81.94868567.jpg\n",
      "Saved image to tmp/satellite/imsat_26.4510102-81.94506974.jpg\n"
     ]
    },
    {
     "name": "stderr",
     "output_type": "stream",
     "text": [
      "Obtaining satellite imagery:  89%|████████▊ | 2746/3102 [00:45<00:05, 69.38it/s]"
     ]
    },
    {
     "name": "stdout",
     "output_type": "stream",
     "text": [
      "Saved image to tmp/satellite/imsat_26.45152698-81.94190733.jpg\n",
      "Saved image to tmp/satellite/imsat_26.45237522-81.95319343.jpg\n",
      "Saved image to tmp/satellite/imsat_26.45016982-81.94896957.jpg\n",
      "Saved image to tmp/satellite/imsat_26.45350535-81.94835763.jpg\n",
      "Saved image to tmp/satellite/imsat_26.45414354-81.95187708.jpg\n",
      "Saved image to tmp/satellite/imsat_26.45065676-81.94361394.jpg\n",
      "Saved image to tmp/satellite/imsat_26.4509939-81.94659794.jpg\n",
      "Saved image to tmp/satellite/imsat_26.44878506-81.94434055.jpg\n",
      "Saved image to tmp/satellite/imsat_26.45310461-81.94948653.jpg\n",
      "Saved image to tmp/satellite/imsat_26.45135797-81.94594523.jpg\n",
      "Saved image to tmp/satellite/imsat_26.4528089-81.9483655.jpg\n",
      "Saved image to tmp/satellite/imsat_26.45132852-81.94240187.jpg\n",
      "Saved image to tmp/satellite/imsat_26.45128099-81.9450477.jpg\n",
      "Saved image to tmp/satellite/imsat_26.45346316-81.94905424.jpg\n",
      "Saved image to tmp/satellite/imsat_26.45473013-81.95146824.jpg\n"
     ]
    },
    {
     "name": "stderr",
     "output_type": "stream",
     "text": [
      "Obtaining satellite imagery:  89%|████████▉ | 2761/3102 [00:45<00:05, 63.83it/s]"
     ]
    },
    {
     "name": "stdout",
     "output_type": "stream",
     "text": [
      "Saved image to tmp/satellite/imsat_26.45475993-81.95875251.jpg\n",
      "Saved image to tmp/satellite/imsat_26.45184937-81.9451083.jpg\n",
      "Saved image to tmp/satellite/imsat_26.45155978-81.94508706.jpg\n",
      "Saved image to tmp/satellite/imsat_26.45382933-81.95005318.jpg\n",
      "Saved image to tmp/satellite/imsat_26.45200086-81.94807184.jpg\n",
      "Saved image to tmp/satellite/imsat_26.45201993-81.94842783.jpg\n",
      "Saved image to tmp/satellite/imsat_26.45309137-81.94572595.jpg\n",
      "Saved image to tmp/satellite/imsat_26.452651-81.9459447.jpg\n",
      "Saved image to tmp/satellite/imsat_26.45005485-81.94508801.jpg\n",
      "Saved image to tmp/satellite/imsat_26.45397205-81.9498898.jpg\n",
      "Saved image to tmp/satellite/imsat_26.4543449-81.95411711.jpg\n"
     ]
    },
    {
     "name": "stderr",
     "output_type": "stream",
     "text": [
      "Obtaining satellite imagery:  90%|████████▉ | 2777/3102 [00:46<00:04, 69.70it/s]"
     ]
    },
    {
     "name": "stdout",
     "output_type": "stream",
     "text": [
      "Saved image to tmp/satellite/imsat_26.44869168-81.92998829.jpg\n",
      "Saved image to tmp/satellite/imsat_26.44840504-81.93677967.jpg\n",
      "Saved image to tmp/satellite/imsat_26.45003907-81.94589153.jpg\n",
      "Saved image to tmp/satellite/imsat_26.45286626-81.94702111.jpg\n",
      "Saved image to tmp/satellite/imsat_26.44911868-81.94047548.jpg\n",
      "Saved image to tmp/satellite/imsat_26.45072651-81.94931219.jpg\n",
      "Saved image to tmp/satellite/imsat_26.4538889-81.95142316.jpg\n",
      "Saved image to tmp/satellite/imsat_26.45305074-81.94807363.jpg\n",
      "Saved image to tmp/satellite/imsat_26.45058839-81.94756521.jpg\n",
      "Saved image to tmp/satellite/imsat_26.4522502-81.94872436.jpg\n",
      "Saved image to tmp/satellite/imsat_26.4535118-81.94198047.jpg\n",
      "Saved image to tmp/satellite/imsat_26.45270417-81.9540434.jpg\n",
      "Saved image to tmp/satellite/imsat_26.45281048-81.94510044.jpg\n",
      "Saved image to tmp/satellite/imsat_26.45347587-81.94767403.jpg\n",
      "Saved image to tmp/satellite/imsat_26.45071612-81.94719519.jpg\n",
      "Saved image to tmp/satellite/imsat_26.44838977-81.94103106.jpg\n"
     ]
    },
    {
     "name": "stderr",
     "output_type": "stream",
     "text": [
      "Obtaining satellite imagery:  90%|████████▉ | 2788/3102 [00:46<00:04, 72.46it/s]"
     ]
    },
    {
     "name": "stdout",
     "output_type": "stream",
     "text": [
      "Saved image to tmp/satellite/imsat_26.45417713-81.95100673.jpg\n",
      "Saved image to tmp/satellite/imsat_26.4538773-81.950613.jpg\n",
      "Saved image to tmp/satellite/imsat_26.44814885-81.93690188.jpg\n",
      "Saved image to tmp/satellite/imsat_26.45260617-81.94985191.jpg\n",
      "Saved image to tmp/satellite/imsat_26.45049497-81.94990025.jpg\n",
      "Saved image to tmp/satellite/imsat_26.45044976-81.9444717.jpg\n",
      "Saved image to tmp/satellite/imsat_26.45165538-81.94910952.jpg\n",
      "Saved image to tmp/satellite/imsat_26.45470773-81.95190646.jpg\n",
      "Saved image to tmp/satellite/imsat_26.45200915-81.94532999.jpg\n",
      "Saved image to tmp/satellite/imsat_26.45164344-81.95001321.jpg\n",
      "Saved image to tmp/satellite/imsat_26.45325231-81.94243504.jpg\n",
      "Saved image to tmp/satellite/imsat_26.45254556-81.9456706.jpg\n",
      "Saved image to tmp/satellite/imsat_26.45508225-81.95892042.jpg\n",
      "Saved image to tmp/satellite/imsat_26.44814214-81.93997641.jpg\n",
      "Saved image to tmp/satellite/imsat_26.45342729-81.95354368.jpg\n",
      "Saved image to tmp/satellite/imsat_26.4548147-81.95442033.jpg\n"
     ]
    },
    {
     "name": "stderr",
     "output_type": "stream",
     "text": [
      "Obtaining satellite imagery:  91%|█████████ | 2808/3102 [00:46<00:03, 74.25it/s]"
     ]
    },
    {
     "name": "stdout",
     "output_type": "stream",
     "text": [
      "Saved image to tmp/satellite/imsat_26.44874536-81.93841124.jpg\n",
      "Saved image to tmp/satellite/imsat_26.45162999-81.94765336.jpg\n",
      "Saved image to tmp/satellite/imsat_26.45421681-81.95801394.jpg\n",
      "Saved image to tmp/satellite/imsat_26.45426558-81.9481558.jpg\n",
      "Saved image to tmp/satellite/imsat_26.45295291-81.95613203.jpg\n",
      "Saved image to tmp/satellite/imsat_26.45076645-81.94241571.jpg\n",
      "Saved image to tmp/satellite/imsat_26.44852158-81.9399054.jpg\n",
      "Saved image to tmp/satellite/imsat_26.45171131-81.94192448.jpg\n",
      "Saved image to tmp/satellite/imsat_26.44995822-81.94193034.jpg\n",
      "Saved image to tmp/satellite/imsat_26.45054126-81.9424018.jpg\n",
      "Saved image to tmp/satellite/imsat_26.45015534-81.9443945.jpg\n",
      "Saved image to tmp/satellite/imsat_26.45266073-81.94504882.jpg\n",
      "Saved image to tmp/satellite/imsat_26.45037272-81.94632397.jpg\n",
      "Saved image to tmp/satellite/imsat_26.45152382-81.95275169.jpg\n",
      "Saved image to tmp/satellite/imsat_26.45472774-81.9490011.jpg\n"
     ]
    },
    {
     "name": "stderr",
     "output_type": "stream",
     "text": [
      "Obtaining satellite imagery:  91%|█████████ | 2816/3102 [00:46<00:04, 68.18it/s]"
     ]
    },
    {
     "name": "stdout",
     "output_type": "stream",
     "text": [
      "Saved image to tmp/satellite/imsat_26.45258962-81.94533882.jpg\n",
      "Saved image to tmp/satellite/imsat_26.44848675-81.94280827.jpg\n",
      "Saved image to tmp/satellite/imsat_26.45268564-81.94658042.jpg\n",
      "Saved image to tmp/satellite/imsat_26.45080134-81.95017248.jpg\n",
      "Saved image to tmp/satellite/imsat_26.45289889-81.94533522.jpg\n",
      "Saved image to tmp/satellite/imsat_26.45307166-81.95251928.jpg\n",
      "Saved image to tmp/satellite/imsat_26.45234047-81.94808482.jpg\n",
      "Saved image to tmp/satellite/imsat_26.45128191-81.94869181.jpg\n",
      "Saved image to tmp/satellite/imsat_26.45469099-81.95423716.jpg\n",
      "Saved image to tmp/satellite/imsat_26.45114394-81.94191282.jpg\n",
      "Saved image to tmp/satellite/imsat_26.45209398-81.94198775.jpg\n",
      "Saved image to tmp/satellite/imsat_26.45071914-81.9457203.jpg\n",
      "Saved image to tmp/satellite/imsat_26.45190521-81.94661498.jpg\n"
     ]
    },
    {
     "name": "stderr",
     "output_type": "stream",
     "text": [
      "Obtaining satellite imagery:  91%|█████████▏| 2831/3102 [00:46<00:04, 61.26it/s]"
     ]
    },
    {
     "name": "stdout",
     "output_type": "stream",
     "text": [
      "Saved image to tmp/satellite/imsat_26.44833675-81.92959434.jpg\n",
      "Saved image to tmp/satellite/imsat_26.44972414-81.94357038.jpg\n",
      "Saved image to tmp/satellite/imsat_26.45316494-81.95299342.jpg\n",
      "Saved image to tmp/satellite/imsat_26.45290595-81.94659147.jpg\n",
      "Saved image to tmp/satellite/imsat_26.44836177-81.94127886.jpg\n",
      "Saved image to tmp/satellite/imsat_26.4492072-81.94641846.jpg\n",
      "Saved image to tmp/satellite/imsat_26.45495693-81.95674534.jpg\n",
      "Saved image to tmp/satellite/imsat_26.45330645-81.95303756.jpg\n",
      "Saved image to tmp/satellite/imsat_26.45130055-81.94767708.jpg\n",
      "Saved image to tmp/satellite/imsat_26.45328635-81.955819.jpg\n",
      "Saved image to tmp/satellite/imsat_26.45301454-81.94873156.jpg\n"
     ]
    },
    {
     "name": "stderr",
     "output_type": "stream",
     "text": [
      "Obtaining satellite imagery:  91%|█████████▏| 2838/3102 [00:46<00:04, 59.57it/s]"
     ]
    },
    {
     "name": "stdout",
     "output_type": "stream",
     "text": [
      "Saved image to tmp/satellite/imsat_26.45198728-81.9483247.jpg\n",
      "Saved image to tmp/satellite/imsat_26.45276295-81.94568864.jpg\n",
      "Saved image to tmp/satellite/imsat_26.45442393-81.95183842.jpg\n",
      "Saved image to tmp/satellite/imsat_26.45347162-81.95061331.jpg\n",
      "Saved image to tmp/satellite/imsat_26.45282227-81.94471575.jpg\n",
      "Saved image to tmp/satellite/imsat_26.45323056-81.95092254.jpg\n",
      "Saved image to tmp/satellite/imsat_26.45067104-81.94444402.jpg\n",
      "Saved image to tmp/satellite/imsat_26.45354922-81.95357343.jpg\n",
      "Saved image to tmp/satellite/imsat_26.45225999-81.94509919.jpg\n"
     ]
    },
    {
     "name": "stderr",
     "output_type": "stream",
     "text": [
      "Obtaining satellite imagery:  92%|█████████▏| 2855/3102 [00:47<00:04, 60.78it/s]"
     ]
    },
    {
     "name": "stdout",
     "output_type": "stream",
     "text": [
      "Saved image to tmp/satellite/imsat_26.45444208-81.94876345.jpg\n",
      "Saved image to tmp/satellite/imsat_26.45234891-81.94440631.jpg\n",
      "Saved image to tmp/satellite/imsat_26.45185465-81.94596208.jpg\n",
      "Saved image to tmp/satellite/imsat_26.45215021-81.95074219.jpg\n",
      "Saved image to tmp/satellite/imsat_26.44992968-81.94578306.jpg\n",
      "Saved image to tmp/satellite/imsat_26.45447071-81.95825626.jpg\n",
      "Saved image to tmp/satellite/imsat_26.45392128-81.94512498.jpg\n",
      "Saved image to tmp/satellite/imsat_26.45122219-81.94396039.jpg\n",
      "Saved image to tmp/satellite/imsat_26.45266679-81.94872459.jpg\n",
      "Saved image to tmp/satellite/imsat_26.45394807-81.94565928.jpg\n",
      "Saved image to tmp/satellite/imsat_26.44815792-81.93714284.jpg\n",
      "Saved image to tmp/satellite/imsat_26.45067844-81.94040144.jpg\n",
      "Saved image to tmp/satellite/imsat_26.45316515-81.95434847.jpg\n",
      "Saved image to tmp/satellite/imsat_26.45444125-81.94841522.jpg\n",
      "Saved image to tmp/satellite/imsat_26.45427665-81.95452909.jpg\n",
      "Saved image to tmp/satellite/imsat_26.45170463-81.95236333.jpg\n"
     ]
    },
    {
     "name": "stderr",
     "output_type": "stream",
     "text": [
      "Obtaining satellite imagery:  92%|█████████▏| 2869/3102 [00:47<00:03, 60.95it/s]"
     ]
    },
    {
     "name": "stdout",
     "output_type": "stream",
     "text": [
      "Saved image to tmp/satellite/imsat_26.44937452-81.94689335.jpg\n",
      "Saved image to tmp/satellite/imsat_26.45490107-81.95058002.jpg\n",
      "Saved image to tmp/satellite/imsat_26.44837014-81.93985777.jpg\n",
      "Saved image to tmp/satellite/imsat_26.45264106-81.95250397.jpg\n",
      "Saved image to tmp/satellite/imsat_26.4542588-81.95305875.jpg\n",
      "Saved image to tmp/satellite/imsat_26.45233829-81.94577246.jpg\n",
      "Saved image to tmp/satellite/imsat_26.45186532-81.94631421.jpg\n",
      "Saved image to tmp/satellite/imsat_26.45067027-81.94632179.jpg\n",
      "Saved image to tmp/satellite/imsat_26.45000351-81.94400493.jpg\n",
      "Saved image to tmp/satellite/imsat_26.45375192-81.94598695.jpg\n",
      "Saved image to tmp/satellite/imsat_26.44823009-81.94078454.jpg\n",
      "Saved image to tmp/satellite/imsat_26.45181608-81.94808436.jpg\n",
      "Saved image to tmp/satellite/imsat_26.45278167-81.95578091.jpg\n",
      "Saved image to tmp/satellite/imsat_26.45096535-81.94434861.jpg\n"
     ]
    },
    {
     "name": "stderr",
     "output_type": "stream",
     "text": [
      "Obtaining satellite imagery:  93%|█████████▎| 2877/3102 [00:47<00:03, 65.40it/s]"
     ]
    },
    {
     "name": "stdout",
     "output_type": "stream",
     "text": [
      "Saved image to tmp/satellite/imsat_26.45406814-81.95298202.jpg\n",
      "Saved image to tmp/satellite/imsat_26.45442095-81.94898697.jpg\n",
      "Saved image to tmp/satellite/imsat_26.45363873-81.94698751.jpg\n",
      "Saved image to tmp/satellite/imsat_26.45357564-81.94635233.jpg\n",
      "Saved image to tmp/satellite/imsat_26.45195599-81.94568873.jpg\n",
      "Saved image to tmp/satellite/imsat_26.45293252-81.94508985.jpg\n",
      "Saved image to tmp/satellite/imsat_26.45294121-81.95147058.jpg\n",
      "Saved image to tmp/satellite/imsat_26.45463239-81.94984359.jpg\n",
      "Saved image to tmp/satellite/imsat_26.45143043-81.94631657.jpg\n",
      "Saved image to tmp/satellite/imsat_26.45234888-81.94701912.jpg\n",
      "Saved image to tmp/satellite/imsat_26.45196196-81.94871798.jpg\n",
      "Saved image to tmp/satellite/imsat_26.45595743-81.95713796.jpg\n",
      "Saved image to tmp/satellite/imsat_26.45579456-81.95578131.jpg\n",
      "Saved image to tmp/satellite/imsat_26.45564281-81.95248661.jpg\n"
     ]
    },
    {
     "name": "stderr",
     "output_type": "stream",
     "text": [
      "Obtaining satellite imagery:  93%|█████████▎| 2892/3102 [00:47<00:03, 60.55it/s]"
     ]
    },
    {
     "name": "stdout",
     "output_type": "stream",
     "text": [
      "Saved image to tmp/satellite/imsat_26.45625394-81.95675608.jpg\n",
      "Saved image to tmp/satellite/imsat_26.45699389-81.95762967.jpg\n",
      "Saved image to tmp/satellite/imsat_26.45542079-81.95130098.jpg\n",
      "Saved image to tmp/satellite/imsat_26.45698578-81.95700686.jpg\n",
      "Saved image to tmp/satellite/imsat_26.45863425-81.96302266.jpg\n",
      "Saved image to tmp/satellite/imsat_26.45146869-81.94806043.jpg\n",
      "Saved image to tmp/satellite/imsat_26.45924602-81.9624868.jpg\n",
      "Saved image to tmp/satellite/imsat_26.454548-81.95189378.jpg\n",
      "Saved image to tmp/satellite/imsat_26.45613705-81.96085727.jpg\n",
      "Saved image to tmp/satellite/imsat_26.45555509-81.95160536.jpg\n"
     ]
    },
    {
     "name": "stderr",
     "output_type": "stream",
     "text": [
      "Obtaining satellite imagery:  94%|█████████▎| 2908/3102 [00:48<00:03, 61.53it/s]"
     ]
    },
    {
     "name": "stdout",
     "output_type": "stream",
     "text": [
      "Saved image to tmp/satellite/imsat_26.44998965-81.94778535.jpg\n",
      "Saved image to tmp/satellite/imsat_26.45561765-81.95629976.jpg\n",
      "Saved image to tmp/satellite/imsat_26.45729476-81.95753866.jpg\n",
      "Saved image to tmp/satellite/imsat_26.44992263-81.9456177.jpg\n",
      "Saved image to tmp/satellite/imsat_26.45592206-81.95911725.jpg\n",
      "Saved image to tmp/satellite/imsat_26.45798832-81.96138618.jpg\n",
      "Saved image to tmp/satellite/imsat_26.45581654-81.95679356.jpg\n",
      "Saved image to tmp/satellite/imsat_26.45518825-81.9591015.jpg\n",
      "Saved image to tmp/satellite/imsat_26.45539965-81.9596105.jpg\n",
      "Saved image to tmp/satellite/imsat_26.45836162-81.96155371.jpg\n",
      "Saved image to tmp/satellite/imsat_26.45560861-81.95476796.jpg\n",
      "Saved image to tmp/satellite/imsat_26.4556554-81.95195581.jpg\n",
      "Saved image to tmp/satellite/imsat_26.45564797-81.95853269.jpg\n",
      "Saved image to tmp/satellite/imsat_26.45834971-81.9590995.jpg\n",
      "Saved image to tmp/satellite/imsat_26.45666902-81.95776134.jpg\n",
      "Saved image to tmp/satellite/imsat_26.45630417-81.95796942.jpg\n",
      "Saved image to tmp/satellite/imsat_26.45554882-81.95738023.jpg\n"
     ]
    },
    {
     "name": "stderr",
     "output_type": "stream",
     "text": [
      "Obtaining satellite imagery:  94%|█████████▍| 2924/3102 [00:48<00:02, 65.77it/s]"
     ]
    },
    {
     "name": "stdout",
     "output_type": "stream",
     "text": [
      "Saved image to tmp/satellite/imsat_26.45526492-81.95089224.jpg\n",
      "Saved image to tmp/satellite/imsat_26.45830089-81.96285988.jpg\n",
      "Saved image to tmp/satellite/imsat_26.4553117-81.95192103.jpg\n",
      "Saved image to tmp/satellite/imsat_26.45973142-81.96423206.jpg\n",
      "Saved image to tmp/satellite/imsat_26.45708838-81.95977309.jpg\n",
      "Saved image to tmp/satellite/imsat_26.45822046-81.96325516.jpg\n",
      "Saved image to tmp/satellite/imsat_26.45855232-81.96060549.jpg\n",
      "Saved image to tmp/satellite/imsat_26.44939859-81.94303263.jpg\n",
      "Saved image to tmp/satellite/imsat_26.45874551-81.96287865.jpg\n",
      "Saved image to tmp/satellite/imsat_26.45560761-81.95176222.jpg\n",
      "Saved image to tmp/satellite/imsat_26.45496362-81.95129077.jpg\n",
      "Saved image to tmp/satellite/imsat_26.45508939-81.95940964.jpg\n",
      "Saved image to tmp/satellite/imsat_26.45600392-81.95939584.jpg\n",
      "Saved image to tmp/satellite/imsat_26.45934412-81.96260931.jpg\n"
     ]
    },
    {
     "name": "stderr",
     "output_type": "stream",
     "text": [
      "Obtaining satellite imagery:  95%|█████████▍| 2941/3102 [00:48<00:02, 68.10it/s]"
     ]
    },
    {
     "name": "stdout",
     "output_type": "stream",
     "text": [
      "Saved image to tmp/satellite/imsat_26.45652749-81.96060071.jpg\n",
      "Saved image to tmp/satellite/imsat_26.45569795-81.95301791.jpg\n",
      "Saved image to tmp/satellite/imsat_26.46111292-81.96537971.jpg\n",
      "Saved image to tmp/satellite/imsat_26.45682929-81.96184254.jpg\n",
      "Saved image to tmp/satellite/imsat_26.4584171-81.96044604.jpg\n",
      "Saved image to tmp/satellite/imsat_26.45550542-81.95679431.jpg\n",
      "Saved image to tmp/satellite/imsat_26.45424377-81.94986496.jpg\n",
      "Saved image to tmp/satellite/imsat_26.45725857-81.96153361.jpg\n",
      "Saved image to tmp/satellite/imsat_26.45604786-81.95630692.jpg\n",
      "Saved image to tmp/satellite/imsat_26.45707287-81.96154784.jpg\n",
      "Saved image to tmp/satellite/imsat_26.45926997-81.96348583.jpg\n",
      "Saved image to tmp/satellite/imsat_26.45795616-81.95811058.jpg\n",
      "Saved image to tmp/satellite/imsat_26.45554199-81.95616326.jpg\n",
      "Saved image to tmp/satellite/imsat_26.45900573-81.96079611.jpg\n",
      "Saved image to tmp/satellite/imsat_26.4575749-81.95816599.jpg\n"
     ]
    },
    {
     "name": "stderr",
     "output_type": "stream",
     "text": [
      "Obtaining satellite imagery:  95%|█████████▌| 2949/3102 [00:48<00:02, 70.23it/s]"
     ]
    },
    {
     "name": "stdout",
     "output_type": "stream",
     "text": [
      "Saved image to tmp/satellite/imsat_26.46007326-81.963519.jpg\n",
      "Saved image to tmp/satellite/imsat_26.45635829-81.95621458.jpg\n",
      "Saved image to tmp/satellite/imsat_26.45623891-81.95633357.jpg\n",
      "Saved image to tmp/satellite/imsat_26.45655545-81.95660221.jpg\n",
      "Saved image to tmp/satellite/imsat_26.45599514-81.95449651.jpg\n",
      "Saved image to tmp/satellite/imsat_26.45875617-81.9619979.jpg\n",
      "Saved image to tmp/satellite/imsat_26.45860478-81.9608246.jpg\n",
      "Saved image to tmp/satellite/imsat_26.45868358-81.96109921.jpg\n",
      "Saved image to tmp/satellite/imsat_26.4555772-81.9595298.jpg\n",
      "Saved image to tmp/satellite/imsat_26.45645874-81.95787272.jpg\n",
      "Saved image to tmp/satellite/imsat_26.45825471-81.96140464.jpg\n",
      "Saved image to tmp/satellite/imsat_26.45773911-81.95765119.jpg\n",
      "Saved image to tmp/satellite/imsat_26.45720435-81.95679809.jpg\n",
      "Saved image to tmp/satellite/imsat_26.45582982-81.95355376.jpg\n",
      "Saved image to tmp/satellite/imsat_26.46069092-81.9654087.jpg\n"
     ]
    },
    {
     "name": "stderr",
     "output_type": "stream",
     "text": [
      "Obtaining satellite imagery:  96%|█████████▌| 2964/3102 [00:49<00:02, 63.37it/s]"
     ]
    },
    {
     "name": "stdout",
     "output_type": "stream",
     "text": [
      "Saved image to tmp/satellite/imsat_26.4566125-81.95725668.jpg\n",
      "Saved image to tmp/satellite/imsat_26.45586674-81.96043258.jpg\n",
      "Saved image to tmp/satellite/imsat_26.4553207-81.95709756.jpg\n",
      "Saved image to tmp/satellite/imsat_26.4580262-81.96103133.jpg\n",
      "Saved image to tmp/satellite/imsat_26.45523735-81.95427726.jpg\n",
      "Saved image to tmp/satellite/imsat_26.45519466-81.95360161.jpg\n",
      "Saved image to tmp/satellite/imsat_26.45525468-81.95256714.jpg\n",
      "Saved image to tmp/satellite/imsat_26.45577223-81.96016448.jpg\n",
      "Saved image to tmp/satellite/imsat_26.46111839-81.96567519.jpg\n",
      "Saved image to tmp/satellite/imsat_26.45993411-81.96436103.jpg\n",
      "Saved image to tmp/satellite/imsat_26.45950229-81.96274501.jpg\n",
      "Saved image to tmp/satellite/imsat_26.45565226-81.95881374.jpg\n",
      "Saved image to tmp/satellite/imsat_26.45601523-81.95826257.jpg\n"
     ]
    },
    {
     "name": "stderr",
     "output_type": "stream",
     "text": [
      "Obtaining satellite imagery:  96%|█████████▌| 2979/3102 [00:49<00:02, 61.05it/s]"
     ]
    },
    {
     "name": "stdout",
     "output_type": "stream",
     "text": [
      "Saved image to tmp/satellite/imsat_26.46152048-81.9658072.jpg\n",
      "Saved image to tmp/satellite/imsat_26.4563818-81.9596766.jpg\n",
      "Saved image to tmp/satellite/imsat_26.45797004-81.96206894.jpg\n",
      "Saved image to tmp/satellite/imsat_26.45754157-81.96064878.jpg\n",
      "Saved image to tmp/satellite/imsat_26.45806301-81.96021716.jpg\n",
      "Saved image to tmp/satellite/imsat_26.45529421-81.95459768.jpg\n",
      "Saved image to tmp/satellite/imsat_26.45751632-81.95800122.jpg\n",
      "Saved image to tmp/satellite/imsat_26.4567907-81.95710569.jpg\n",
      "Saved image to tmp/satellite/imsat_26.45614268-81.95351248.jpg\n",
      "Saved image to tmp/satellite/imsat_26.45827017-81.96176756.jpg\n",
      "Saved image to tmp/satellite/imsat_26.45589913-81.95597005.jpg\n",
      "Saved image to tmp/satellite/imsat_26.45849756-81.96292609.jpg\n",
      "Saved image to tmp/satellite/imsat_26.45784358-81.95976254.jpg\n",
      "Saved image to tmp/satellite/imsat_26.4549194-81.9572045.jpg\n"
     ]
    },
    {
     "name": "stderr",
     "output_type": "stream",
     "text": [
      "Obtaining satellite imagery:  97%|█████████▋| 2995/3102 [00:49<00:01, 65.60it/s]"
     ]
    },
    {
     "name": "stdout",
     "output_type": "stream",
     "text": [
      "Saved image to tmp/satellite/imsat_26.45724739-81.9619949.jpg\n",
      "Saved image to tmp/satellite/imsat_26.45503544-81.9573847.jpg\n",
      "Saved image to tmp/satellite/imsat_26.45567705-81.95122003.jpg\n",
      "Saved image to tmp/satellite/imsat_26.45518774-81.95966756.jpg\n",
      "Saved image to tmp/satellite/imsat_26.45691496-81.96029557.jpg\n",
      "Saved image to tmp/satellite/imsat_26.45519335-81.95683702.jpg\n",
      "Saved image to tmp/satellite/imsat_26.45510364-81.95254005.jpg\n",
      "Saved image to tmp/satellite/imsat_26.45865595-81.96217344.jpg\n",
      "Saved image to tmp/satellite/imsat_26.45535492-81.95822806.jpg\n",
      "Saved image to tmp/satellite/imsat_26.45664694-81.95585923.jpg\n",
      "Saved image to tmp/satellite/imsat_26.45998768-81.96424559.jpg\n",
      "Saved image to tmp/satellite/imsat_26.45500412-81.95299487.jpg\n",
      "Saved image to tmp/satellite/imsat_26.45771288-81.96054609.jpg\n",
      "Saved image to tmp/satellite/imsat_26.45888068-81.96149952.jpg\n"
     ]
    },
    {
     "name": "stderr",
     "output_type": "stream",
     "text": [
      "Obtaining satellite imagery:  97%|█████████▋| 3011/3102 [00:49<00:01, 66.27it/s]"
     ]
    },
    {
     "name": "stdout",
     "output_type": "stream",
     "text": [
      "Saved image to tmp/satellite/imsat_26.45593648-81.9525093.jpg\n",
      "Saved image to tmp/satellite/imsat_26.4580757-81.95957706.jpg\n",
      "Saved image to tmp/satellite/imsat_26.45934651-81.96397298.jpg\n",
      "Saved image to tmp/satellite/imsat_26.45535295-81.95991473.jpg\n",
      "Saved image to tmp/satellite/imsat_26.45499071-81.95150369.jpg\n",
      "Saved image to tmp/satellite/imsat_26.45530476-81.95694677.jpg\n",
      "Saved image to tmp/satellite/imsat_26.45801486-81.95923431.jpg\n",
      "Saved image to tmp/satellite/imsat_26.45838833-81.96308959.jpg\n",
      "Saved image to tmp/satellite/imsat_26.45875369-81.96132321.jpg\n",
      "Saved image to tmp/satellite/imsat_26.45785762-81.96269256.jpg\n",
      "Saved image to tmp/satellite/imsat_26.45670176-81.9602322.jpg\n",
      "Saved image to tmp/satellite/imsat_26.45528359-81.95976479.jpg\n",
      "Saved image to tmp/satellite/imsat_26.4601768-81.96364356.jpg\n",
      "Saved image to tmp/satellite/imsat_26.45522879-81.95301001.jpg\n"
     ]
    },
    {
     "name": "stderr",
     "output_type": "stream",
     "text": [
      "Obtaining satellite imagery:  97%|█████████▋| 3019/3102 [00:49<00:01, 69.67it/s]"
     ]
    },
    {
     "name": "stdout",
     "output_type": "stream",
     "text": [
      "Saved image to tmp/satellite/imsat_26.45547959-81.95601685.jpgSaved image to tmp/satellite/imsat_26.45967458-81.96459954.jpg\n",
      "\n",
      "Saved image to tmp/satellite/imsat_26.45559077-81.95992926.jpg\n",
      "Saved image to tmp/satellite/imsat_26.45633441-81.95354437.jpg\n",
      "Saved image to tmp/satellite/imsat_26.45501834-81.951923.jpg\n",
      "Saved image to tmp/satellite/imsat_26.45821296-81.953177.jpg\n",
      "Saved image to tmp/satellite/imsat_26.45600059-81.95726691.jpg\n",
      "Saved image to tmp/satellite/imsat_26.45626566-81.95851992.jpg\n",
      "Saved image to tmp/satellite/imsat_26.45619095-81.95747087.jpg\n",
      "Saved image to tmp/satellite/imsat_26.45623959-81.95977461.jpg\n",
      "Saved image to tmp/satellite/imsat_26.4555251-81.95836804.jpg\n",
      "Saved image to tmp/satellite/imsat_26.45687644-81.95942141.jpg\n",
      "Saved image to tmp/satellite/imsat_26.45602864-81.96047358.jpg\n",
      "Saved image to tmp/satellite/imsat_26.45616491-81.95527401.jpg\n",
      "Saved image to tmp/satellite/imsat_26.45615482-81.95801421.jpg\n"
     ]
    },
    {
     "name": "stderr",
     "output_type": "stream",
     "text": [
      "Obtaining satellite imagery:  98%|█████████▊| 3034/3102 [00:50<00:01, 61.68it/s]"
     ]
    },
    {
     "name": "stdout",
     "output_type": "stream",
     "text": [
      "Saved image to tmp/satellite/imsat_26.45766019-81.96120984.jpg\n",
      "Saved image to tmp/satellite/imsat_26.4550098-81.95394928.jpg\n",
      "Saved image to tmp/satellite/imsat_26.4567899-81.95866351.jpg\n",
      "Saved image to tmp/satellite/imsat_26.45623595-81.96096244.jpg\n",
      "Saved image to tmp/satellite/imsat_26.45547919-81.95249907.jpg\n",
      "Saved image to tmp/satellite/imsat_26.4583919-81.96183167.jpg\n",
      "Saved image to tmp/satellite/imsat_26.45652112-81.95616151.jpg\n",
      "Saved image to tmp/satellite/imsat_26.45734834-81.96005382.jpg\n",
      "Saved image to tmp/satellite/imsat_26.45560907-81.95398079.jpg\n",
      "Saved image to tmp/satellite/imsat_26.45676773-81.96155714.jpg\n",
      "Saved image to tmp/satellite/imsat_26.45610936-81.95644078.jpg\n"
     ]
    },
    {
     "name": "stderr",
     "output_type": "stream",
     "text": [
      "Obtaining satellite imagery:  98%|█████████▊| 3050/3102 [00:50<00:00, 64.35it/s]"
     ]
    },
    {
     "name": "stdout",
     "output_type": "stream",
     "text": [
      "Saved image to tmp/satellite/imsat_26.45537928-81.95700693.jpg\n",
      "Saved image to tmp/satellite/imsat_26.4564343-81.9599295.jpg\n",
      "Saved image to tmp/satellite/imsat_26.45724299-81.96130269.jpg\n",
      "Saved image to tmp/satellite/imsat_26.45638973-81.9604991.jpg\n",
      "Saved image to tmp/satellite/imsat_26.45599116-81.95617508.jpg\n",
      "Saved image to tmp/satellite/imsat_26.45996474-81.9648294.jpg\n",
      "Saved image to tmp/satellite/imsat_26.4553712-81.95315959.jpg\n",
      "Saved image to tmp/satellite/imsat_26.45790083-81.96049333.jpg\n",
      "Saved image to tmp/satellite/imsat_26.45698215-81.95961411.jpg\n",
      "Saved image to tmp/satellite/imsat_26.45874369-81.96308141.jpg\n",
      "Saved image to tmp/satellite/imsat_26.45543404-81.95589239.jpg\n",
      "Saved image to tmp/satellite/imsat_26.45565967-81.95644057.jpg\n",
      "Saved image to tmp/satellite/imsat_26.45662286-81.9549486.jpg\n",
      "Saved image to tmp/satellite/imsat_26.45788215-81.95890017.jpg\n"
     ]
    },
    {
     "name": "stderr",
     "output_type": "stream",
     "text": [
      "Obtaining satellite imagery:  99%|█████████▉| 3065/3102 [00:50<00:00, 65.79it/s]"
     ]
    },
    {
     "name": "stdout",
     "output_type": "stream",
     "text": [
      "Saved image to tmp/satellite/imsat_26.45534882-81.95297722.jpg\n",
      "Saved image to tmp/satellite/imsat_26.45647315-81.95895237.jpg\n",
      "Saved image to tmp/satellite/imsat_26.45634011-81.95877065.jpg\n",
      "Saved image to tmp/satellite/imsat_26.45598618-81.96070118.jpg\n",
      "Saved image to tmp/satellite/imsat_26.45868669-81.96345462.jpg\n",
      "Saved image to tmp/satellite/imsat_26.4565989-81.95806541.jpg\n",
      "Saved image to tmp/satellite/imsat_26.4554623-81.9571665.jpg\n",
      "Saved image to tmp/satellite/imsat_26.4554855-81.95297563.jpg\n",
      "Saved image to tmp/satellite/imsat_26.46031301-81.96382264.jpg\n",
      "Saved image to tmp/satellite/imsat_26.46088377-81.96562696.jpg\n",
      "Saved image to tmp/satellite/imsat_26.45888986-81.96177139.jpg\n",
      "Saved image to tmp/satellite/imsat_26.45645538-81.95688842.jpg\n",
      "Saved image to tmp/satellite/imsat_26.45808334-81.96040147.jpg\n",
      "Saved image to tmp/satellite/imsat_26.45571797-81.95971743.jpg\n",
      "Saved image to tmp/satellite/imsat_26.45808043-81.96157681.jpg\n",
      "Saved image to tmp/satellite/imsat_26.4600603-81.9641366.jpg\n",
      "Saved image to tmp/satellite/imsat_26.45969798-81.96296063.jpg\n",
      "Saved image to tmp/satellite/imsat_26.45783227-81.96130912.jpg\n"
     ]
    },
    {
     "name": "stderr",
     "output_type": "stream",
     "text": [
      "Obtaining satellite imagery:  99%|█████████▉| 3082/3102 [00:50<00:00, 69.22it/s]"
     ]
    },
    {
     "name": "stdout",
     "output_type": "stream",
     "text": [
      "Saved image to tmp/satellite/imsat_26.45668329-81.96094705.jpg\n",
      "Saved image to tmp/satellite/imsat_26.4565744-81.96135738.jpg\n",
      "Saved image to tmp/satellite/imsat_26.45686845-81.9576743.jpg\n",
      "Saved image to tmp/satellite/imsat_26.45711906-81.95843038.jpg\n",
      "Saved image to tmp/satellite/imsat_26.45765575-81.95837495.jpg\n",
      "Saved image to tmp/satellite/imsat_26.45882905-81.96231343.jpg\n",
      "Saved image to tmp/satellite/imsat_26.4560184-81.95283902.jpg\n",
      "Saved image to tmp/satellite/imsat_26.456345-81.96116903.jpg\n",
      "Saved image to tmp/satellite/imsat_26.45604452-81.9574299.jpg\n",
      "Saved image to tmp/satellite/imsat_26.45657169-81.96007311.jpg\n",
      "Saved image to tmp/satellite/imsat_26.45584533-81.95885223.jpg\n",
      "Saved image to tmp/satellite/imsat_26.45552872-81.95983194.jpg\n",
      "Saved image to tmp/satellite/imsat_26.45639365-81.95427917.jpg\n",
      "Saved image to tmp/satellite/imsat_26.45990871-81.96313733.jpg\n",
      "Saved image to tmp/satellite/imsat_26.456337-81.95741299.jpg\n"
     ]
    },
    {
     "name": "stderr",
     "output_type": "stream",
     "text": [
      "Obtaining satellite imagery: 100%|█████████▉| 3093/3102 [00:50<00:00, 79.62it/s]"
     ]
    },
    {
     "name": "stdout",
     "output_type": "stream",
     "text": [
      "Saved image to tmp/satellite/imsat_26.45832398-81.96024956.jpg\n",
      "Saved image to tmp/satellite/imsat_26.4571212-81.95919391.jpg\n",
      "Saved image to tmp/satellite/imsat_26.45701162-81.9589866.jpg\n",
      "Saved image to tmp/satellite/imsat_26.45614715-81.95929701.jpg\n",
      "Saved image to tmp/satellite/imsat_26.45778606-81.96108841.jpg\n",
      "Saved image to tmp/satellite/imsat_26.45881906-81.96296403.jpg\n",
      "Saved image to tmp/satellite/imsat_26.45670246-81.95926985.jpg\n",
      "Saved image to tmp/satellite/imsat_26.45757617-81.95996472.jpg\n",
      "Saved image to tmp/satellite/imsat_26.46319169-81.96613042.jpg\n",
      "Saved image to tmp/satellite/imsat_26.45901935-81.9623288.jpg\n",
      "Saved image to tmp/satellite/imsat_26.46344728-81.96616412.jpg\n",
      "Saved image to tmp/satellite/imsat_26.46203451-81.96550577.jpg\n",
      "Saved image to tmp/satellite/imsat_26.45553478-81.95762596.jpg\n",
      "Saved image to tmp/satellite/imsat_26.4586471-81.96274542.jpg\n",
      "Saved image to tmp/satellite/imsat_26.45727378-81.96075606.jpg\n",
      "Saved image to tmp/satellite/imsat_26.46098093-81.96522498.jpg\n",
      "Saved image to tmp/satellite/imsat_26.46208116-81.96630996.jpg\n"
     ]
    },
    {
     "name": "stderr",
     "output_type": "stream",
     "text": [
      "Obtaining satellite imagery: 100%|██████████| 3102/3102 [00:51<00:00, 59.92it/s]"
     ]
    },
    {
     "name": "stdout",
     "output_type": "stream",
     "text": [
      "Saved image to tmp/satellite/imsat_26.45740921-81.95778684.jpg\n"
     ]
    },
    {
     "name": "stderr",
     "output_type": "stream",
     "text": [
      "\n"
     ]
    },
    {
     "name": "stdout",
     "output_type": "stream",
     "text": [
      "\n",
      "Default roof classifier model in tmp/models/roofTypeClassifier_v1.pth loaded\n"
     ]
    }
   ],
   "source": [
    "google_satellite_class = importer.get_class('GoogleSatellite')()\n",
    "images_aerial = google_satellite_class.get_images(\n",
    "    imputed_inventory,\n",
    "    'tmp/satellite/'\n",
    ")"
   ]
  },
  {
   "cell_type": "markdown",
   "id": "2d38687a-71db-4939-8653-c5ce173b1ba7",
   "metadata": {},
   "source": [
    "# Predict Roof Type Information from Aerial Imagery"
   ]
  },
  {
   "cell_type": "code",
   "execution_count": null,
   "id": "5dccf7c7-0bdd-4680-af6b-bd93a88c486d",
   "metadata": {},
   "outputs": [],
   "source": [
    "roof_shape_classifier = importer.get_class('RoofShapeClassifier')()\n",
    "predictions = roof_shape_classifier.predict(images_aerial)"
   ]
  },
  {
   "cell_type": "markdown",
   "id": "33d190be-3908-494a-ad1c-331690e98a6f",
   "metadata": {},
   "source": [
    "# Getting Design Wind Speed, Flood Zone and Roof Type Information ,..., in Created Inventory"
   ]
  },
  {
   "cell_type": "code",
   "execution_count": null,
   "id": "a76ee2cf-ee1c-4bff-b003-6c2b5aba9cdb",
   "metadata": {},
   "outputs": [],
   "source": [
    "for key, val in imputed_inventory.inventory.items():\n",
    "    val.add_features({'DesignWindSpeed': 130,\n",
    "                      'FloodZone': 'AE',\n",
    "                      'RoofShape': predictions[key],\n",
    "                      'AvgJanTemp':'Above',\n",
    "                      'NumberOfUnits':1,\n",
    "                      'LandCover': 'Open'})"
   ]
  },
  {
   "cell_type": "markdown",
   "id": "4b0bfdca-831b-4c76-9674-03927477b6de",
   "metadata": {},
   "source": [
    "# Run Rulesets to Infer R2D-Required Data for Hazus Damage and Loss model"
   ]
  },
  {
   "cell_type": "code",
   "execution_count": null,
   "id": "ce74aa9a-692c-4e1a-b575-0fa06c4833f8",
   "metadata": {},
   "outputs": [],
   "source": [
    "imputed_inventory.change_feature_names({'fparea': 'PlanArea',\n",
    "                                        'erabuilt': 'YearBuilt',\n",
    "                                        'constype': 'BuildingType',\n",
    "                                        'numstories': 'NumberOfStories',\n",
    "                                        'occupancy': 'OccupancyClass'})\n",
    "hurricaneInferer = importer.get_class(\"HazusInfererWind\")\n",
    "inferer = hurricaneInferer(\n",
    "    input_inventory=imputed_inventory, clean_features=True)\n",
    "hazus_inferred_inventory = inferer.infer()"
   ]
  },
  {
   "cell_type": "markdown",
   "id": "6bcd5852-d1a3-406b-8a61-42baa9236a72",
   "metadata": {},
   "source": [
    "# Validate the inventory and make correction if needed"
   ]
  },
  {
   "cell_type": "code",
   "execution_count": null,
   "id": "0b4936cf-6ecd-4d84-8927-99e1429d49ea",
   "metadata": {},
   "outputs": [],
   "source": [
    "invalid_id, error_record = inferer.validate(hazus_inferred_inventory)"
   ]
  },
  {
   "cell_type": "code",
   "execution_count": null,
   "id": "bd35fcdf-7f8e-48ad-8006-814f300b3d52",
   "metadata": {},
   "outputs": [],
   "source": [
    "inventory_corrrected = inferer.correct(hazus_inferred_inventory, invalid_id=invalid_id, weights={'StructureType':2})"
   ]
  },
  {
   "cell_type": "markdown",
   "id": "da2d07bb-b889-4585-ab51-b270662ee89d",
   "metadata": {},
   "source": [
    "# Write the Created Inventory in a GeoJSON File"
   ]
  },
  {
   "cell_type": "code",
   "execution_count": null,
   "id": "ae677db6-5c02-4a1c-985a-c198835289c6",
   "metadata": {},
   "outputs": [],
   "source": [
    "_ = inventory_corrrected.write_to_geojson(\n",
    "    output_file=INVENTORY_OUTPUT)"
   ]
  }
 ],
 "metadata": {
  "kernelspec": {
   "display_name": "Python 3 (ipykernel)",
   "language": "python",
   "name": "python3"
  },
  "language_info": {
   "codemirror_mode": {
    "name": "ipython",
    "version": 3
   },
   "file_extension": ".py",
   "mimetype": "text/x-python",
   "name": "python",
   "nbconvert_exporter": "python",
   "pygments_lexer": "ipython3",
   "version": "3.10.13"
  }
 },
 "nbformat": 4,
 "nbformat_minor": 5
}
