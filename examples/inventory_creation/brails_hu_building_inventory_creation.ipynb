{
 "cells": [
  {
   "cell_type": "markdown",
   "id": "ef47710d-f0b1-4855-abd7-21802ad5f8d6",
   "metadata": {},
   "source": [
    "## Install BRAILS++\n",
    "Before running the following cells, install the latest version of BRAILS++."
   ]
  },
  {
   "cell_type": "code",
   "execution_count": null,
   "id": "5bc4f191-b5a0-4438-8bf9-7ccf68cd6ba0",
   "metadata": {},
   "outputs": [],
   "source": [
    "!pip install brails"
   ]
  },
  {
   "cell_type": "markdown",
   "id": "6b547e63-2249-4acd-925d-33724e840987",
   "metadata": {},
   "source": [
    "# Import BRAILS Importer"
   ]
  },
  {
   "cell_type": "code",
   "execution_count": null,
   "id": "13c67c37-4094-4402-9fcd-0bdabe0b249e",
   "metadata": {},
   "outputs": [],
   "source": [
    "from brails.utils import Importer"
   ]
  },
  {
   "cell_type": "markdown",
   "id": "64082d44-b0a3-45a6-a3a3-63fcea03f16f",
   "metadata": {},
   "source": [
    "# Define Location Specific Parameters"
   ]
  },
  {
   "cell_type": "code",
   "execution_count": null,
   "id": "18195011-9265-4540-a822-d21dd02f5988",
   "metadata": {},
   "outputs": [],
   "source": [
    "LOCATION_NAME = 'Fort Myers Beach, FL'\n",
    "INVENTORY_OUTPUT = 'FortMyersInventory_HU.geojson'\n",
    "NO_POSSIBLE_WORLDS = 0"
   ]
  },
  {
   "cell_type": "markdown",
   "id": "b827809a-32d2-4fcf-9fef-dd5c55291f4e",
   "metadata": {},
   "source": [
    "# Create and Importer object to Pull In Required BRAILS Modules"
   ]
  },
  {
   "cell_type": "code",
   "execution_count": null,
   "id": "883970d2-26e5-4872-bde2-2bbc9f09b61a",
   "metadata": {},
   "outputs": [],
   "source": [
    "importer = Importer()"
   ]
  },
  {
   "cell_type": "markdown",
   "id": "6de5ef2e-28f2-4995-a603-10beae7d1e26",
   "metadata": {},
   "source": [
    "# Define the Region Object for the Region of Interest"
   ]
  },
  {
   "cell_type": "code",
   "execution_count": null,
   "id": "a89f3301-7c91-484a-ada7-921cbf899496",
   "metadata": {},
   "outputs": [],
   "source": [
    "region_data = {\"type\": \"locationName\", \"data\": LOCATION_NAME}\n",
    "region_boundary_class = importer.get_class(\"RegionBoundary\")\n",
    "region_boundary_object = region_boundary_class(region_data)"
   ]
  },
  {
   "cell_type": "markdown",
   "id": "d69f2f3a-e8d5-4282-ace7-d298fba12d44",
   "metadata": {},
   "source": [
    "# Get Raw NSI Data for the Defined Region"
   ]
  },
  {
   "cell_type": "code",
   "execution_count": null,
   "id": "5d06792f-6b37-41b1-a99f-7c903623ec10",
   "metadata": {},
   "outputs": [],
   "source": [
    "nsi_class = importer.get_class('NSI_Parser')()\n",
    "nsi_inventory = nsi_class.get_raw_data(region_boundary_object)"
   ]
  },
  {
   "cell_type": "markdown",
   "id": "c46785d6-fd76-4322-853c-36ed3c85c9a9",
   "metadata": {},
   "source": [
    "# Get FEMA USA Footprints Data for the Defined Region"
   ]
  },
  {
   "cell_type": "code",
   "execution_count": null,
   "id": "3fbc180d-9ca9-46a1-8599-ff4747cb4a9a",
   "metadata": {},
   "outputs": [],
   "source": [
    "footprint_scraper = importer.get_class('USA_FootprintScraper')({'length': 'ft'})\n",
    "footprint_inventory = footprint_scraper.get_footprints(region_boundary_object)"
   ]
  },
  {
   "cell_type": "markdown",
   "id": "84256fd8-313f-463a-8371-f1a06ebb8635",
   "metadata": {},
   "source": [
    "# Create a Baseline Inventory by Merging NSI Raw Data and USA Structures Footprints"
   ]
  },
  {
   "cell_type": "code",
   "execution_count": null,
   "id": "e5c1cab0-2029-4bd7-ba05-80711381a8ec",
   "metadata": {},
   "outputs": [],
   "source": [
    "nsi_inventory = nsi.get_filtered_data_given_inventory(\n",
    "    footprint_inventory, \"ft\", get_extended_features=True, add_features=[])"
   ]
  },
  {
   "cell_type": "markdown",
   "id": "78efa81a-432f-421c-9521-c8e6f2a184c4",
   "metadata": {},
   "source": [
    "# Fill Gaps in the Baseline Inventory by Imputing Missing Values"
   ]
  },
  {
   "cell_type": "code",
   "execution_count": null,
   "id": "148c25b0-1693-4462-94ee-94e34bfa4c7b",
   "metadata": {},
   "outputs": [],
   "source": [
    "knn_imputer_class = importer.get_class(\"KnnImputer\")\n",
    "\n",
    "imputer = knn_imputer_class(\n",
    "    nsi_inventory, n_possible_worlds=NO_POSSIBLE_WORLDS,\n",
    "    exclude_features=['lat', 'lon', 'fd_id'])\n",
    "imputed_inventory = imputer.impute()"
   ]
  },
  {
   "cell_type": "markdown",
   "id": "612f0a2b-962c-443b-acc0-773f95965569",
   "metadata": {},
   "source": [
    "# Dowload Aerial Imagery for the Identified Assets"
   ]
  },
  {
   "cell_type": "code",
   "execution_count": null,
   "id": "53a0dfc2-0114-4a48-9c08-0f60aa7159e0",
   "metadata": {},
   "outputs": [],
   "source": [
    "google_satellite_class = importer.get_class('GoogleSatellite')()\n",
    "images_aerial = google_satellite_class.get_images(\n",
    "    imputed_inventory,\n",
    "    'tmp/satellite/'\n",
    ")"
   ]
  },
  {
   "cell_type": "markdown",
   "id": "2d38687a-71db-4939-8653-c5ce173b1ba7",
   "metadata": {},
   "source": [
    "# Predict Roof Type Information from Aerial Imagery"
   ]
  },
  {
   "cell_type": "code",
   "execution_count": null,
   "id": "5dccf7c7-0bdd-4680-af6b-bd93a88c486d",
   "metadata": {},
   "outputs": [],
   "source": [
    "roof_shape_classifier = importer.get_class('RoofShapeClassifier')()\n",
    "predictions = roof_shape_classifier.predict(images_aerial)"
   ]
  },
  {
   "cell_type": "markdown",
   "id": "33d190be-3908-494a-ad1c-331690e98a6f",
   "metadata": {},
   "source": [
    "# Getting Design Wind Speed, Flood Zone and Roof Type Information ,..., in Created Inventory"
   ]
  },
  {
   "cell_type": "code",
   "execution_count": null,
   "id": "a76ee2cf-ee1c-4bff-b003-6c2b5aba9cdb",
   "metadata": {},
   "outputs": [],
   "source": [
    "for key, val in imputed_inventory.inventory.items():\n",
    "    val.add_features({'DesignWindSpeed': 130,\n",
    "                      'FloodZone': 'AE',\n",
    "                      'RoofShape': predictions[key],\n",
    "                      'AvgJanTemp':'Above',\n",
    "                      'NumberOfUnits':1,\n",
    "                      'LandCover': 'Open'})"
   ]
  },
  {
   "cell_type": "markdown",
   "id": "4b0bfdca-831b-4c76-9674-03927477b6de",
   "metadata": {},
   "source": [
    "# Run Rulesets to Infer R2D-Required Data for Hazus Damage and Loss model"
   ]
  },
  {
   "cell_type": "code",
   "execution_count": null,
   "id": "ce74aa9a-692c-4e1a-b575-0fa06c4833f8",
   "metadata": {},
   "outputs": [],
   "source": [
    "imputed_inventory.change_feature_names({'fparea': 'PlanArea',\n",
    "                                        'erabuilt': 'YearBuilt',\n",
    "                                        'constype': 'BuildingType',\n",
    "                                        'numstories': 'NumberOfStories',\n",
    "                                        'occupancy': 'OccupancyClass'})\n",
    "hurricaneInferer = importer.get_class(\"HazusInfererWind\")\n",
    "inferer = hurricaneInferer(\n",
    "    input_inventory=imputed_inventory, clean_features=True)\n",
    "hazus_inferred_inventory = inferer.infer()"
   ]
  },
  {
   "cell_type": "markdown",
   "id": "6bcd5852-d1a3-406b-8a61-42baa9236a72",
   "metadata": {},
   "source": [
    "# Validate the inventory and make correction if needed"
   ]
  },
  {
   "cell_type": "code",
   "execution_count": null,
   "id": "0b4936cf-6ecd-4d84-8927-99e1429d49ea",
   "metadata": {},
   "outputs": [],
   "source": [
    "invalid_id, error_record = inferer.validate(hazus_inferred_inventory)"
   ]
  },
  {
   "cell_type": "code",
   "execution_count": null,
   "id": "bd35fcdf-7f8e-48ad-8006-814f300b3d52",
   "metadata": {},
   "outputs": [],
   "source": [
    "inventory_corrrected = inferer.correct(hazus_inferred_inventory, invalid_id=invalid_id, weights={'StructureType':2})"
   ]
  },
  {
   "cell_type": "markdown",
   "id": "da2d07bb-b889-4585-ab51-b270662ee89d",
   "metadata": {},
   "source": [
    "# Write the Created Inventory in a GeoJSON File"
   ]
  },
  {
   "cell_type": "code",
   "execution_count": null,
   "id": "ae677db6-5c02-4a1c-985a-c198835289c6",
   "metadata": {},
   "outputs": [],
   "source": [
    "_ = inventory_corrrected.write_to_geojson(\n",
    "    output_file=INVENTORY_OUTPUT)"
   ]
  }
 ],
 "metadata": {
  "kernelspec": {
   "display_name": "Python 3 (ipykernel)",
   "language": "python",
   "name": "python3"
  },
  "language_info": {
   "codemirror_mode": {
    "name": "ipython",
    "version": 3
   },
   "file_extension": ".py",
   "mimetype": "text/x-python",
   "name": "python",
   "nbconvert_exporter": "python",
   "pygments_lexer": "ipython3",
   "version": "3.10.13"
  }
 },
 "nbformat": 4,
 "nbformat_minor": 5
}
