{
 "cells": [
  {
   "cell_type": "markdown",
   "id": "0a855130-f92a-4e21-ba0a-867d3d35fb4e",
   "metadata": {},
   "source": [
    "## Install BRAILS++\n",
    "Before running the following cells, install the latest version of BRAILS++."
   ]
  },
  {
   "cell_type": "code",
   "execution_count": null,
   "id": "2b355f86-7208-4f58-930d-a9fd21819955",
   "metadata": {},
   "outputs": [],
   "source": [
    "!pip install brails"
   ]
  },
  {
   "cell_type": "markdown",
   "id": "6b547e63-2249-4acd-925d-33724e840987",
   "metadata": {},
   "source": [
    "# Import Required Packages"
   ]
  },
  {
   "cell_type": "code",
   "execution_count": 1,
   "id": "13c67c37-4094-4402-9fcd-0bdabe0b249e",
   "metadata": {},
   "outputs": [],
   "source": [
    "import numpy as np\n",
    "from brails.utils import Importer"
   ]
  },
  {
   "cell_type": "markdown",
   "id": "64082d44-b0a3-45a6-a3a3-63fcea03f16f",
   "metadata": {},
   "source": [
    "# Define Location Specific Parameters"
   ]
  },
  {
   "cell_type": "code",
   "execution_count": 2,
   "id": "18195011-9265-4540-a822-d21dd02f5988",
   "metadata": {},
   "outputs": [],
   "source": [
    "LOCATION_NAME = 'San Francisco California'\n",
    "INVENTORY_OUTPUT = 'SFInventory_EQ.geojson'\n",
    "NO_POSSIBLE_WORLDS = 1"
   ]
  },
  {
   "cell_type": "markdown",
   "id": "b827809a-32d2-4fcf-9fef-dd5c55291f4e",
   "metadata": {},
   "source": [
    "# Create and Importer object to Pull In Required BRAILS Modules"
   ]
  },
  {
   "cell_type": "code",
   "execution_count": 3,
   "id": "883970d2-26e5-4872-bde2-2bbc9f09b61a",
   "metadata": {},
   "outputs": [],
   "source": [
    "importer = Importer()"
   ]
  },
  {
   "cell_type": "markdown",
   "id": "6de5ef2e-28f2-4995-a603-10beae7d1e26",
   "metadata": {},
   "source": [
    "# Define the Region Object for the Region of Interest"
   ]
  },
  {
   "cell_type": "code",
   "execution_count": 4,
   "id": "a89f3301-7c91-484a-ada7-921cbf899496",
   "metadata": {},
   "outputs": [],
   "source": [
    "region_data = {\"type\": \"locationName\", \"data\": LOCATION_NAME}\n",
    "region_boundary_class = importer.get_class(\"RegionBoundary\")\n",
    "region_boundary_object = region_boundary_class(region_data)"
   ]
  },
  {
   "cell_type": "markdown",
   "id": "d69f2f3a-e8d5-4282-ace7-d298fba12d44",
   "metadata": {},
   "source": [
    "# Get Raw NSI Data for the Defined Region"
   ]
  },
  {
   "cell_type": "code",
   "execution_count": 5,
   "id": "5d06792f-6b37-41b1-a99f-7c903623ec10",
   "metadata": {},
   "outputs": [
    {
     "name": "stderr",
     "output_type": "stream",
     "text": [
      "INFO:numexpr.utils:NumExpr defaulting to 12 threads.\n"
     ]
    },
    {
     "name": "stdout",
     "output_type": "stream",
     "text": [
      "\n",
      "Searching for San Francisco California...\n",
      "Found San Francisco, California, United States\n"
     ]
    },
    {
     "name": "stderr",
     "output_type": "stream",
     "text": [
      "INFO:root:\n",
      "Getting National Structure Inventory (NSI) building data for the entered location...\n"
     ]
    },
    {
     "name": "stdout",
     "output_type": "stream",
     "text": [
      "\n",
      "Found a total of 167283 building points in NSI that are within the entered region of interest\n"
     ]
    }
   ],
   "source": [
    "nsi_class = importer.get_class('NSI_Parser')\n",
    "nsi = nsi_class()\n",
    "nsi_inventory = nsi.get_raw_data(region_boundary_object)"
   ]
  },
  {
   "cell_type": "markdown",
   "id": "c46785d6-fd76-4322-853c-36ed3c85c9a9",
   "metadata": {},
   "source": [
    "# Get FEMA USA Footprints Data for the Defined Region"
   ]
  },
  {
   "cell_type": "code",
   "execution_count": 6,
   "id": "3fbc180d-9ca9-46a1-8599-ff4747cb4a9a",
   "metadata": {},
   "outputs": [
    {
     "name": "stdout",
     "output_type": "stream",
     "text": [
      "\n",
      "Searching for San Francisco California...\n",
      "Found San Francisco, California, United States\n",
      "\n",
      "Found a total of 159898 building footprints in San Francisco\n"
     ]
    }
   ],
   "source": [
    "scraper_class = importer.get_class('OSM_FootprintScraper')\n",
    "scraper = scraper_class({'length': 'ft'})\n",
    "scraper_inventory = scraper.get_footprints(region_boundary_object)"
   ]
  },
  {
   "cell_type": "markdown",
   "id": "84256fd8-313f-463a-8371-f1a06ebb8635",
   "metadata": {},
   "source": [
    "# Create a Baseline Inventory by Merging NSI Raw Data and USA Structures Footprints"
   ]
  },
  {
   "cell_type": "code",
   "execution_count": 7,
   "id": "e5c1cab0-2029-4bd7-ba05-80711381a8ec",
   "metadata": {},
   "outputs": [
    {
     "name": "stdout",
     "output_type": "stream",
     "text": [
      "\n",
      "Getting National Structure Inventory (NSI) building data for the entered location...\n",
      "Found a total of 147204 building points in NSI that match the footprint data.\n"
     ]
    }
   ],
   "source": [
    "nsi_inventory = nsi.get_filtered_data_given_inventory(\n",
    "    scraper_inventory, \"ft\", get_extended_features=True)"
   ]
  },
  {
   "cell_type": "markdown",
   "id": "78efa81a-432f-421c-9521-c8e6f2a184c4",
   "metadata": {},
   "source": [
    "# Fill Gaps in the Baseline Inventory by Imputing Missing Values"
   ]
  },
  {
   "cell_type": "code",
   "execution_count": 8,
   "id": "148c25b0-1693-4462-94ee-94e34bfa4c7b",
   "metadata": {},
   "outputs": [
    {
     "name": "stderr",
     "output_type": "stream",
     "text": [
      "/Users/jinyanzhao/Desktop/SimCenterBuild/brailsPlusPlusTest/.venv/lib/python3.12/site-packages/brails/imputers/knn_imputer/knn_imputer.py:157: FutureWarning: Downcasting behavior in `replace` is deprecated and will be removed in a future version. To retain the old behavior, explicitly call `result.infer_objects(copy=False)`. To opt-in to the future behavior, set `pd.set_option('future.no_silent_downcasting', True)`\n",
      "  bldg_properties_df = bldg_properties_df.replace(\"NA\", np.nan, inplace=False)\n"
     ]
    },
    {
     "name": "stdout",
     "output_type": "stream",
     "text": [
      "Missing percentages among 159898 assets\n",
      "buildingheight: 12.55%\n",
      "erabuilt: 7.90%\n",
      "numstories: 7.77%\n",
      "roofshape: 99.88%\n",
      "fparea: 7.94%\n",
      "repaircost: 7.94%\n",
      "constype: 7.94%\n",
      "occupancy: 7.94%\n",
      "found_ht: 7.94%\n",
      "splitlevel: 7.94%\n",
      "basement: 27.92%\n",
      "Primitive imputation done.\n",
      "Running the main imputation. This may take a while.\n",
      "Enumerating clusters: 20 among 320\n",
      "Enumerating clusters: 40 among 320\n",
      "Enumerating clusters: 60 among 320\n",
      "Enumerating clusters: 80 among 320\n",
      "Enumerating clusters: 100 among 320\n",
      "Enumerating clusters: 120 among 320\n",
      "Enumerating clusters: 140 among 320\n",
      "Enumerating clusters: 160 among 320\n",
      "Enumerating clusters: 180 among 320\n",
      "Enumerating clusters: 200 among 320\n",
      "Enumerating clusters: 220 among 320\n",
      "Enumerating clusters: 240 among 320\n",
      "Enumerating clusters: 260 among 320\n",
      "Enumerating clusters: 280 among 320\n",
      "Enumerating clusters: 300 among 320\n",
      "Enumerating clusters: 320 among 320\n",
      "Done imputation. It took 0.17 mins\n"
     ]
    }
   ],
   "source": [
    "knn_imputer_class = importer.get_class(\"KnnImputer\")\n",
    "\n",
    "imputer = knn_imputer_class(\n",
    "    nsi_inventory, n_possible_worlds=NO_POSSIBLE_WORLDS,\n",
    "    exclude_features=['lat', 'lon', 'fd_id'])\n",
    "imputed_inventory = imputer.impute()"
   ]
  },
  {
   "cell_type": "markdown",
   "id": "fb5df422-afe3-455a-9460-fe94ea664f92",
   "metadata": {},
   "source": [
    "# Generate Synthetic Income Data for Input into HAZUS Rulesets\n",
    "This is necessary because income data is currently a required input for the HAZUS rulesets in BRAILS++ "
   ]
  },
  {
   "cell_type": "code",
   "execution_count": 9,
   "id": "1457f9fc-ee5e-4943-8314-dc4b9b73afc8",
   "metadata": {},
   "outputs": [],
   "source": [
    "CA_AVG = 78672  # state average\n",
    "CA_STD_DEV = CA_AVG*0.5  # 50% cov\n",
    "\n",
    "# Step 1: Calculate the parameters of the underlying normal distribution\n",
    "mu = np.log(CA_AVG**2 /\n",
    "            np.sqrt(CA_STD_DEV**2 + CA_AVG**2))\n",
    "sigma = np.sqrt(np.log(1 + (CA_STD_DEV**2 / CA_AVG**2)))\n",
    "\n",
    "# Step 2: Generate the lognormal sample using the parameters of the normal\n",
    "# distribution\n",
    "for key, val in imputed_inventory.inventory.items():\n",
    "    lognormal_sample = np.random.lognormal(\n",
    "        mean=mu, sigma=sigma, size=NO_POSSIBLE_WORLDS)\n",
    "    val.add_features({\"Income\": lognormal_sample[0]})"
   ]
  },
  {
   "cell_type": "markdown",
   "id": "be8c99a0-15f0-47d9-8288-d510df458ee7",
   "metadata": {},
   "source": [
    "# Change Keys to Make Them Compatible with R2D "
   ]
  },
  {
   "cell_type": "code",
   "execution_count": 10,
   "id": "0d2ec6a5-d5d8-4382-8907-5d9e78fd1f41",
   "metadata": {},
   "outputs": [],
   "source": [
    "# The names of NEW keys to be inferred.\n",
    "STRUCTURE_TYPE_KEY = 'StructureTypeHazus'  # instead of  \"constype\" from NSI\n",
    "REPLACEMENT_COST_KEY = 'ReplacementCostHazus'  # instead of NSI \"repaircost\"\n",
    "\n",
    "# The names of existing keys to be used as \"predictors\"\n",
    "YEAR_BUILT_KEY = 'erabuilt'\n",
    "OCCUPANCY_CLASS_KEY = 'occupancy'\n",
    "INCOME_KEY = 'Income'\n",
    "NUMBER_OF_STORIES_KEY = 'numstories'\n",
    "PLAN_AREA_KEY = 'fpAreas'\n",
    "SPLIT_LEVEL_KEY = 'splitlevel'"
   ]
  },
  {
   "cell_type": "markdown",
   "id": "4b0bfdca-831b-4c76-9674-03927477b6de",
   "metadata": {},
   "source": [
    "# Run HAZUS Rulesets to Infer R2D-Required Data"
   ]
  },
  {
   "cell_type": "code",
   "execution_count": 11,
   "id": "ce74aa9a-692c-4e1a-b575-0fa06c4833f8",
   "metadata": {},
   "outputs": [
    {
     "name": "stdout",
     "output_type": "stream",
     "text": [
      ">> Step1 : Checking if OccupancyClass (occupancy) exist.\n",
      ">> Step2-1 : Checking if StructureType (StructureTypeHazus) and ReplacementCost (ReplacementCostHazus) exist\n",
      ">> Step2-2 : Inferring {'ReplacementCostHazus', 'StructureTypeHazus'}\n"
     ]
    },
    {
     "name": "stderr",
     "output_type": "stream",
     "text": [
      "WARNING:brails.inferers.hazus_inferer.hazus_inferer: HAZUS does not provide structural type information for West Coast-IND2-mid_rise-post_1970. StructureTypeHazus will be missing in id=[3046, 7002, 20339, 159064]\n",
      "WARNING:brails.inferers.hazus_inferer.hazus_inferer: HAZUS does not provide structural type information for West Coast-IND2-high_rise-pre_1950. StructureTypeHazus will be missing in id=[318, 961, 32127, 123825, 124174, 124175, 159797]\n",
      "WARNING:brails.inferers.hazus_inferer.hazus_inferer: HAZUS does not provide structural type information for West Coast-IND2-high_rise-post_1970. StructureTypeHazus will be missing in id=[121800]\n",
      "WARNING:brails.inferers.hazus_inferer.hazus_inferer: HAZUS does not provide structural type information for West Coast-COM10-high_rise-pre_1950. StructureTypeHazus will be missing in id=[17696, 17788]\n",
      "WARNING:brails.inferers.hazus_inferer.hazus_inferer: HAZUS does not provide structural type information for West Coast-IND6-mid_rise-1950_to_1970. StructureTypeHazus will be missing in id=[7712, 43626, 45419, 64502, 75497, 88441]\n",
      "WARNING:brails.inferers.hazus_inferer.hazus_inferer: HAZUS does not provide structural type information for West Coast-IND6-mid_rise-post_1970. StructureTypeHazus will be missing in id=[5499, 7888, 9169, 10168, 33367, 72297, 121969, 121970, 121971, 121973, 122031, 122045, 122051, 122071, 122076, 122097, 122103, 122105, 127615, 127618, 127622, 127623, 127624, 127625, 127631, 127632, 127640, 127644, 127649, 157313, 158543]\n",
      "WARNING:brails.inferers.hazus_inferer.hazus_inferer: HAZUS does not provide structural type information for West Coast-IND6-high_rise-pre_1950. StructureTypeHazus will be missing in id=[646, 9656, 17782, 19079, 45725, 159396]\n",
      "WARNING:brails.inferers.hazus_inferer.hazus_inferer: HAZUS does not provide structural type information for West Coast-IND6-high_rise-1950_to_1970. StructureTypeHazus will be missing in id=[133173, 158835]\n",
      "WARNING:brails.inferers.hazus_inferer.hazus_inferer: HAZUS does not provide structural type information for West Coast-IND6-high_rise-post_1970. StructureTypeHazus will be missing in id=[6134, 11861, 11864, 121864, 121974, 121976, 122023, 122037, 122067, 122104, 122106, 122108, 122109, 127616, 127617, 127619, 127620, 127621, 127626, 127627, 127628, 127629, 127630, 127633, 127634, 127635, 127636, 127637, 127638, 127642, 127643, 127645, 127646, 127647, 127648]\n",
      "WARNING:brails.inferers.hazus_inferer.hazus_inferer: HAZUS does not provide structural type information for West Coast-COM1-high_rise-pre_1950. StructureTypeHazus will be missing in id=[5408, 8148, 9515, 9938, 9947, 18583, 22355, 159545, 159615]\n",
      "WARNING:brails.inferers.hazus_inferer.hazus_inferer: HAZUS does not provide structural type information for West Coast-COM1-high_rise-post_1970. StructureTypeHazus will be missing in id=[125008]\n",
      "WARNING:brails.inferers.hazus_inferer.hazus_inferer: HAZUS does not provide structural type information for West Coast-COM3-high_rise-pre_1950. StructureTypeHazus will be missing in id=[389, 407, 410, 412, 512, 8150, 17614, 18578, 18757, 21507, 25628, 157428, 158765]\n",
      "WARNING:brails.inferers.hazus_inferer.hazus_inferer: HAZUS does not provide structural type information for West Coast-COM3-high_rise-post_1970. StructureTypeHazus will be missing in id=[281, 955, 121518, 121519]\n",
      "WARNING:brails.inferers.hazus_inferer.hazus_inferer: HAZUS does not provide structural type information for West Coast-IND1-mid_rise-pre_1950. StructureTypeHazus will be missing in id=[6887, 30481, 51947]\n",
      "WARNING:brails.inferers.hazus_inferer.hazus_inferer: HAZUS does not provide structural type information for West Coast-IND1-mid_rise-post_1970. StructureTypeHazus will be missing in id=[18, 124834, 156631]\n",
      "WARNING:brails.inferers.hazus_inferer.hazus_inferer: HAZUS does not provide structural type information for West Coast-IND1-high_rise-pre_1950. StructureTypeHazus will be missing in id=[8243]\n",
      "WARNING:brails.inferers.hazus_inferer.hazus_inferer: HAZUS does not provide structural type information for West Coast-REL1-high_rise-post_1970. StructureTypeHazus will be missing in id=[244, 157353]\n",
      "WARNING:brails.inferers.hazus_inferer.hazus_inferer: HAZUS does not provide structural type information for West Coast-RES2-mid_rise-pre_1950. StructureTypeHazus will be missing in id=[4174]\n",
      "WARNING:brails.inferers.hazus_inferer.hazus_inferer: HAZUS does not provide structural type information for West Coast-COM8-high_rise-pre_1950. StructureTypeHazus will be missing in id=[298, 414, 520, 617, 793, 1021, 2708, 2714, 3151, 3170, 5407, 11850, 17790, 17793, 19067, 21522, 157013, 157014]\n",
      "WARNING:brails.inferers.hazus_inferer.hazus_inferer: HAZUS does not provide structural type information for West Coast-COM8-high_rise-1950_to_1970. StructureTypeHazus will be missing in id=[384, 385, 23940]\n",
      "WARNING:brails.inferers.hazus_inferer.hazus_inferer: HAZUS does not provide structural type information for West Coast-COM8-high_rise-post_1970. StructureTypeHazus will be missing in id=[320]\n",
      "WARNING:brails.inferers.hazus_inferer.hazus_inferer: HAZUS does not provide structural type information for West Coast-EDU1-mid_rise-pre_1950. StructureTypeHazus will be missing in id=[133, 881, 1176, 3601, 3608, 3615, 5484, 5494, 8567, 9203, 11232, 11234, 16514, 16545, 17066, 18771, 18773, 21321, 26296, 30078, 37207, 48638, 55213, 68960, 76881, 80170, 94428, 94811, 95107, 124456, 126955, 151373, 159511]\n",
      "WARNING:brails.inferers.hazus_inferer.hazus_inferer: HAZUS does not provide structural type information for West Coast-EDU1-mid_rise-1950_to_1970. StructureTypeHazus will be missing in id=[3645, 5435]\n",
      "WARNING:brails.inferers.hazus_inferer.hazus_inferer: HAZUS does not provide structural type information for West Coast-EDU1-mid_rise-post_1970. StructureTypeHazus will be missing in id=[919, 9173, 9178, 9950, 9953, 133615]\n",
      "WARNING:brails.inferers.hazus_inferer.hazus_inferer: HAZUS does not provide structural type information for West Coast-EDU1-high_rise-pre_1950. StructureTypeHazus will be missing in id=[8723]\n",
      "WARNING:brails.inferers.hazus_inferer.hazus_inferer: HAZUS does not provide structural type information for West Coast-EDU1-high_rise-1950_to_1970. StructureTypeHazus will be missing in id=[386, 156238]\n",
      "WARNING:brails.inferers.hazus_inferer.hazus_inferer: HAZUS does not provide structural type information for West Coast-EDU1-high_rise-post_1970. StructureTypeHazus will be missing in id=[2583]\n",
      "WARNING:brails.inferers.hazus_inferer.hazus_inferer: HAZUS does not provide structural type information for West Coast-IND5-high_rise-pre_1950. StructureTypeHazus will be missing in id=[164, 291, 156315]\n",
      "WARNING:brails.inferers.hazus_inferer.hazus_inferer: HAZUS does not provide structural type information for West Coast-GOV2-mid_rise-pre_1950. StructureTypeHazus will be missing in id=[1126]\n",
      "WARNING:brails.inferers.hazus_inferer.hazus_inferer: HAZUS does not provide structural type information for West Coast-GOV2-high_rise-1950_to_1970. StructureTypeHazus will be missing in id=[383, 156239]\n",
      "WARNING:brails.inferers.hazus_inferer.hazus_inferer: HAZUS does not provide structural type information for West Coast-RES6-high_rise-1950_to_1970. StructureTypeHazus will be missing in id=[18494]\n",
      "WARNING:brails.inferers.hazus_inferer.hazus_inferer: HAZUS does not provide structural type information for West Coast-AGR1-mid_rise-post_1970. StructureTypeHazus will be missing in id=[159063]\n",
      "WARNING:brails.inferers.hazus_inferer.hazus_inferer: HAZUS does not provide structural type information for West Coast-COM2-high_rise-pre_1950. StructureTypeHazus will be missing in id=[297, 786, 7486, 18513, 36321, 36633]\n",
      "WARNING:brails.inferers.hazus_inferer.hazus_inferer: HAZUS does not provide structural type information for West Coast-COM2-high_rise-post_1970. StructureTypeHazus will be missing in id=[469]\n",
      "WARNING:brails.inferers.hazus_inferer.hazus_inferer: HAZUS does not provide structural type information for West Coast-COM7-high_rise-pre_1950. StructureTypeHazus will be missing in id=[2574, 2687]\n",
      "WARNING:brails.inferers.hazus_inferer.hazus_inferer: HAZUS does not provide structural type information for West Coast-COM7-high_rise-post_1970. StructureTypeHazus will be missing in id=[357]\n"
     ]
    },
    {
     "name": "stdout",
     "output_type": "stream",
     "text": [
      "GarageType info not found in the inventory. Making inference using Hazus 6.\n",
      "ConstructionClass info not found in the inventory. Making inference using Hazus 6.\n",
      "Done inference. It took 0.36 mins\n",
      ">> Step3-1 : Checking if BuildingRise (BuildingRise), DesignLevel (DesignLevel) and FoundationType (FoundationType) exist\n",
      ">> Step3-2 : Inferring {'DesignLevel', 'FoundationType', 'BuildingRise'}\n"
     ]
    },
    {
     "name": "stderr",
     "output_type": "stream",
     "text": [
      "WARNING:brails.inferers.hazus_inferer_earthquake.hazus_inferer_earthquake:Skipping hazus inference of DesignLevel. If you still want to perform the inference, run imputer first.\n",
      "WARNING:brails.inferers.hazus_inferer_earthquake.hazus_inferer_earthquake:Unable to create readily runnable inventory due to missing values. Run imputer to fill in missing values.\n"
     ]
    },
    {
     "name": "stdout",
     "output_type": "stream",
     "text": [
      "The feature StructureTypeHazus is missing in many buildings including:  [18, 133, 164, 244, 281, 291, 297, 298, 318, 320]\n",
      ">> Step4 : Changing feature names to what R2D (pelicun) can recognize\n",
      "Done inference. It took 0.61 mins\n"
     ]
    },
    {
     "name": "stderr",
     "output_type": "stream",
     "text": [
      "WARNING:brails.inferers.hazus_inferer_earthquake.hazus_inferer_earthquake:Unable to create inventory that is readily runnable in R2D (pelicun) due to missing DesignLevel\n"
     ]
    }
   ],
   "source": [
    "infer_features_for_hazuseq = importer.get_class(\"HazusInfererEarthquake\")\n",
    "inferer = infer_features_for_hazuseq(input_inventory=imputed_inventory,\n",
    "                                     n_possible_worlds=NO_POSSIBLE_WORLDS,\n",
    "                                     yearBuilt_key=YEAR_BUILT_KEY,\n",
    "                                     occupancyClass_key=OCCUPANCY_CLASS_KEY,\n",
    "                                     numberOfStories_key=NUMBER_OF_STORIES_KEY,\n",
    "                                     income_key=INCOME_KEY,\n",
    "                                     splitLevel_key=SPLIT_LEVEL_KEY,\n",
    "                                     structureType_key=STRUCTURE_TYPE_KEY,\n",
    "                                     replacementCost_key=REPLACEMENT_COST_KEY,\n",
    "                                     planArea_key=PLAN_AREA_KEY,\n",
    "                                     clean_features=False)\n",
    "hazus_inferred_inventory = inferer.infer()"
   ]
  },
  {
   "cell_type": "markdown",
   "id": "93c10297",
   "metadata": {},
   "source": [
    "From the warning message, inferring HAZUS StructureType for several provided structural types e.g., West Coast-IND1-mid_rise-pre_1950, were not possible using the inference rulestes in BRAILS++, because some provided structural types do not exist in HAZUS's inventory definition. The failed inference has also leaded to missing DesignLevels in the produced inventory here. Below, imputation is used to estimate the HAZUS structural types that do not exist in HAZUS. And the inferrer is run again to estimate DesignLevel."
   ]
  },
  {
   "cell_type": "markdown",
   "id": "ae5a7dd3-86db-462f-a49c-8d7ca1d0fe0a",
   "metadata": {},
   "source": [
    "# Re-run Imputation to Fill Values That Cannot be Inferred by HAZUS Rulesets"
   ]
  },
  {
   "cell_type": "code",
   "execution_count": 12,
   "id": "284d3ea2-c342-48a2-9cfe-ab7caf02ccf1",
   "metadata": {},
   "outputs": [
    {
     "name": "stdout",
     "output_type": "stream",
     "text": [
      "Missing percentages among 159898 assets\n",
      "lon: 7.94%\n",
      "lat: 7.94%\n",
      "fd_id: 7.94%\n",
      "StructureType: 0.14%\n",
      "Primitive imputation done.\n",
      "Running the main imputation. This may take a while.\n",
      "Enumerating clusters: 20 among 320\n",
      "Enumerating clusters: 40 among 320\n",
      "Enumerating clusters: 60 among 320\n",
      "Enumerating clusters: 80 among 320\n",
      "Enumerating clusters: 100 among 320\n",
      "Enumerating clusters: 120 among 320\n",
      "Enumerating clusters: 140 among 320\n",
      "Enumerating clusters: 160 among 320\n",
      "Enumerating clusters: 180 among 320\n",
      "Enumerating clusters: 200 among 320\n",
      "Enumerating clusters: 220 among 320\n",
      "Enumerating clusters: 240 among 320\n",
      "Enumerating clusters: 260 among 320\n",
      "Enumerating clusters: 280 among 320\n",
      "Enumerating clusters: 300 among 320\n",
      "Enumerating clusters: 320 among 320\n",
      "Done imputation. It took 0.03 mins\n"
     ]
    }
   ],
   "source": [
    "imputer = knn_imputer_class(hazus_inferred_inventory, \n",
    "                            n_possible_worlds=NO_POSSIBLE_WORLDS)\n",
    "hazus_inferred_inventory_imputed = imputer.impute()"
   ]
  },
  {
   "cell_type": "code",
   "execution_count": null,
   "id": "98760b8b",
   "metadata": {},
   "outputs": [
    {
     "name": "stdout",
     "output_type": "stream",
     "text": [
      ">> Step1 : Checking if OccupancyClass (OccupancyClass) exist.\n",
      ">> Step2-1 : Checking if StructureType (StructureType) and ReplacementCost (ReplacementCost) exist\n",
      ">> Step3-1 : Checking if BuildingRise (BuildingRise), DesignLevel (DesignLevel) and FoundationType (FoundationType) exist\n",
      ">> Step3-2 : Inferring {'DesignLevel'}\n",
      ">> Step4 : Changing feature names to what R2D (pelicun) can recognize\n",
      "Done inference. It took 0.27 mins\n"
     ]
    }
   ],
   "source": [
    "# We will keep StructureType we just imputed\n",
    "\n",
    "Infer_features_for_HazusDL = importer.get_class(\"HazusInfererEarthquake\")\n",
    "inferer=Infer_features_for_HazusDL(input_inventory=hazus_inferred_inventory_imputed, \n",
    "                                n_possible_worlds=NO_POSSIBLE_WORLDS, \n",
    "                                yearBuilt_key = 'erabuilt', \n",
    "                                structureType_key = 'StructureType',\n",
    "                                clean_features= False)\n",
    "hazus_inventory_final = inferer.infer()"
   ]
  },
  {
   "cell_type": "markdown",
   "id": "4d905ac6-9b4f-4df6-ae44-0a926cb01aaf",
   "metadata": {},
   "source": [
    "# Change Attribute Names To Make Them Compatible with R2D"
   ]
  },
  {
   "cell_type": "code",
   "execution_count": 14,
   "id": "25f188cb-8e76-452f-adab-5ba98c2acf31",
   "metadata": {},
   "outputs": [],
   "source": [
    "hazus_inventory_final.change_feature_names({'erabuilt': 'YearBuilt',\n",
    "                                            'lat': 'Latitude',\n",
    "                                            'lon': 'Longitude',\n",
    "                                            'fpAreas': 'PlanArea',\n",
    "                                            'numstories': 'NumberOfStories'})\n",
    "counter = 0\n",
    "for _, val in hazus_inventory_final.inventory.items():\n",
    "    val.add_features({\"id\": counter})\n",
    "    counter += 1"
   ]
  },
  {
   "cell_type": "markdown",
   "id": "da2d07bb-b889-4585-ab51-b270662ee89d",
   "metadata": {},
   "source": [
    "# Write the Created Inventory in a GeoJSON File"
   ]
  },
  {
   "cell_type": "code",
   "execution_count": 15,
   "id": "ae677db6-5c02-4a1c-985a-c198835289c6",
   "metadata": {},
   "outputs": [],
   "source": [
    "_ = hazus_inventory_final.write_to_geojson(\n",
    "    output_file=INVENTORY_OUTPUT)"
   ]
  }
 ],
 "metadata": {
  "kernelspec": {
   "display_name": "Python 3 (ipykernel)",
   "language": "python",
   "name": "python3"
  },
  "language_info": {
   "codemirror_mode": {
    "name": "ipython",
    "version": 3
   },
   "file_extension": ".py",
   "mimetype": "text/x-python",
   "name": "python",
   "nbconvert_exporter": "python",
   "pygments_lexer": "ipython3",
   "version": "3.10.13"
  }
 },
 "nbformat": 4,
 "nbformat_minor": 5
}
