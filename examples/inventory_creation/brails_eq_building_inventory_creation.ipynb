{
 "cells": [
  {
   "cell_type": "markdown",
   "id": "0a855130-f92a-4e21-ba0a-867d3d35fb4e",
   "metadata": {},
   "source": [
    "## Install BRAILS++ and Folium\n",
    "\n",
    "Before running the following cells, install the BRAILS++ package along with `folium` for interactive mapping. "
   ]
  },
  {
   "cell_type": "code",
   "execution_count": 1,
   "id": "2b355f86-7208-4f58-930d-a9fd21819955",
   "metadata": {},
   "outputs": [
    {
     "name": "stdout",
     "output_type": "stream",
     "text": [
      "Requirement already satisfied: brails in /home/bacetiner/anaconda3/envs/brails-pip/lib/python3.10/site-packages (4.1.2)\n",
      "Requirement already satisfied: addict in /home/bacetiner/anaconda3/envs/brails-pip/lib/python3.10/site-packages (from brails) (2.4.0)\n",
      "Requirement already satisfied: Cython in /home/bacetiner/anaconda3/envs/brails-pip/lib/python3.10/site-packages (from brails) (3.1.0)\n",
      "Requirement already satisfied: ftfy in /home/bacetiner/anaconda3/envs/brails-pip/lib/python3.10/site-packages (from brails) (6.3.1)\n",
      "Requirement already satisfied: matplotlib in /home/bacetiner/anaconda3/envs/brails-pip/lib/python3.10/site-packages (from brails) (3.8.3)\n",
      "Requirement already satisfied: opencv-python in /home/bacetiner/anaconda3/envs/brails-pip/lib/python3.10/site-packages (from brails) (4.9.0.80)\n",
      "Requirement already satisfied: pandas in /home/bacetiner/anaconda3/envs/brails-pip/lib/python3.10/site-packages (from brails) (2.2.3)\n",
      "Requirement already satisfied: pillow in /home/bacetiner/anaconda3/envs/brails-pip/lib/python3.10/site-packages (from brails) (10.2.0)\n",
      "Requirement already satisfied: plotly in /home/bacetiner/anaconda3/envs/brails-pip/lib/python3.10/site-packages (from brails) (6.1.0)\n",
      "Requirement already satisfied: pycocotools in /home/bacetiner/anaconda3/envs/brails-pip/lib/python3.10/site-packages (from brails) (2.0.8)\n",
      "Requirement already satisfied: pyarrow in /home/bacetiner/anaconda3/envs/brails-pip/lib/python3.10/site-packages (from brails) (20.0.0)\n",
      "Requirement already satisfied: rasterio in /home/bacetiner/anaconda3/envs/brails-pip/lib/python3.10/site-packages (from brails) (1.3.9)\n",
      "Requirement already satisfied: reverse-geocode in /home/bacetiner/anaconda3/envs/brails-pip/lib/python3.10/site-packages (from brails) (1.6.6)\n",
      "Requirement already satisfied: requests in /home/bacetiner/anaconda3/envs/brails-pip/lib/python3.10/site-packages (from brails) (2.32.4)\n",
      "Requirement already satisfied: scikit-learn in /home/bacetiner/anaconda3/envs/brails-pip/lib/python3.10/site-packages (from brails) (1.4.1.post1)\n",
      "Requirement already satisfied: seaborn in /home/bacetiner/anaconda3/envs/brails-pip/lib/python3.10/site-packages (from brails) (0.13.2)\n",
      "Requirement already satisfied: shapely in /home/bacetiner/anaconda3/envs/brails-pip/lib/python3.10/site-packages (from brails) (2.0.3)\n",
      "Requirement already satisfied: supervision in /home/bacetiner/anaconda3/envs/brails-pip/lib/python3.10/site-packages (from brails) (0.25.1)\n",
      "Requirement already satisfied: timm in /home/bacetiner/anaconda3/envs/brails-pip/lib/python3.10/site-packages (from brails) (1.0.15)\n",
      "Requirement already satisfied: tensorboard in /home/bacetiner/anaconda3/envs/brails-pip/lib/python3.10/site-packages (from brails) (2.16.2)\n",
      "Requirement already satisfied: tensorboardX in /home/bacetiner/anaconda3/envs/brails-pip/lib/python3.10/site-packages (from brails) (2.6.2.2)\n",
      "Requirement already satisfied: torch<=2.5.0 in /home/bacetiner/anaconda3/envs/brails-pip/lib/python3.10/site-packages (from brails) (2.2.1)\n",
      "Requirement already satisfied: torchvision<=0.20.0 in /home/bacetiner/anaconda3/envs/brails-pip/lib/python3.10/site-packages (from brails) (0.17.1)\n",
      "Requirement already satisfied: transformers in /home/bacetiner/anaconda3/envs/brails-pip/lib/python3.10/site-packages (from brails) (4.51.3)\n",
      "Requirement already satisfied: wget in /home/bacetiner/anaconda3/envs/brails-pip/lib/python3.10/site-packages (from brails) (3.2)\n",
      "Requirement already satisfied: yacs in /home/bacetiner/anaconda3/envs/brails-pip/lib/python3.10/site-packages (from brails) (0.1.8)\n",
      "Requirement already satisfied: webcolors in /home/bacetiner/anaconda3/envs/brails-pip/lib/python3.10/site-packages (from brails) (1.13)\n",
      "Requirement already satisfied: yapf in /home/bacetiner/anaconda3/envs/brails-pip/lib/python3.10/site-packages (from brails) (0.40.2)\n",
      "Requirement already satisfied: filelock in /home/bacetiner/anaconda3/envs/brails-pip/lib/python3.10/site-packages (from torch<=2.5.0->brails) (3.13.1)\n",
      "Requirement already satisfied: typing-extensions>=4.8.0 in /home/bacetiner/anaconda3/envs/brails-pip/lib/python3.10/site-packages (from torch<=2.5.0->brails) (4.12.2)\n",
      "Requirement already satisfied: sympy in /home/bacetiner/anaconda3/envs/brails-pip/lib/python3.10/site-packages (from torch<=2.5.0->brails) (1.12)\n",
      "Requirement already satisfied: networkx in /home/bacetiner/anaconda3/envs/brails-pip/lib/python3.10/site-packages (from torch<=2.5.0->brails) (3.2.1)\n",
      "Requirement already satisfied: jinja2 in /home/bacetiner/anaconda3/envs/brails-pip/lib/python3.10/site-packages (from torch<=2.5.0->brails) (3.1.6)\n",
      "Requirement already satisfied: fsspec in /home/bacetiner/anaconda3/envs/brails-pip/lib/python3.10/site-packages (from torch<=2.5.0->brails) (2024.3.1)\n",
      "Requirement already satisfied: nvidia-cuda-nvrtc-cu12==12.1.105 in /home/bacetiner/anaconda3/envs/brails-pip/lib/python3.10/site-packages (from torch<=2.5.0->brails) (12.1.105)\n",
      "Requirement already satisfied: nvidia-cuda-runtime-cu12==12.1.105 in /home/bacetiner/anaconda3/envs/brails-pip/lib/python3.10/site-packages (from torch<=2.5.0->brails) (12.1.105)\n",
      "Requirement already satisfied: nvidia-cuda-cupti-cu12==12.1.105 in /home/bacetiner/anaconda3/envs/brails-pip/lib/python3.10/site-packages (from torch<=2.5.0->brails) (12.1.105)\n",
      "Requirement already satisfied: nvidia-cudnn-cu12==8.9.2.26 in /home/bacetiner/anaconda3/envs/brails-pip/lib/python3.10/site-packages (from torch<=2.5.0->brails) (8.9.2.26)\n",
      "Requirement already satisfied: nvidia-cublas-cu12==12.1.3.1 in /home/bacetiner/anaconda3/envs/brails-pip/lib/python3.10/site-packages (from torch<=2.5.0->brails) (12.1.3.1)\n",
      "Requirement already satisfied: nvidia-cufft-cu12==11.0.2.54 in /home/bacetiner/anaconda3/envs/brails-pip/lib/python3.10/site-packages (from torch<=2.5.0->brails) (11.0.2.54)\n",
      "Requirement already satisfied: nvidia-curand-cu12==10.3.2.106 in /home/bacetiner/anaconda3/envs/brails-pip/lib/python3.10/site-packages (from torch<=2.5.0->brails) (10.3.2.106)\n",
      "Requirement already satisfied: nvidia-cusolver-cu12==11.4.5.107 in /home/bacetiner/anaconda3/envs/brails-pip/lib/python3.10/site-packages (from torch<=2.5.0->brails) (11.4.5.107)\n",
      "Requirement already satisfied: nvidia-cusparse-cu12==12.1.0.106 in /home/bacetiner/anaconda3/envs/brails-pip/lib/python3.10/site-packages (from torch<=2.5.0->brails) (12.1.0.106)\n",
      "Requirement already satisfied: nvidia-nccl-cu12==2.19.3 in /home/bacetiner/anaconda3/envs/brails-pip/lib/python3.10/site-packages (from torch<=2.5.0->brails) (2.19.3)\n",
      "Requirement already satisfied: nvidia-nvtx-cu12==12.1.105 in /home/bacetiner/anaconda3/envs/brails-pip/lib/python3.10/site-packages (from torch<=2.5.0->brails) (12.1.105)\n",
      "Requirement already satisfied: triton==2.2.0 in /home/bacetiner/anaconda3/envs/brails-pip/lib/python3.10/site-packages (from torch<=2.5.0->brails) (2.2.0)\n",
      "Requirement already satisfied: nvidia-nvjitlink-cu12 in /home/bacetiner/anaconda3/envs/brails-pip/lib/python3.10/site-packages (from nvidia-cusolver-cu12==11.4.5.107->torch<=2.5.0->brails) (12.4.99)\n",
      "Requirement already satisfied: numpy in /home/bacetiner/anaconda3/envs/brails-pip/lib/python3.10/site-packages (from torchvision<=0.20.0->brails) (1.26.4)\n",
      "Requirement already satisfied: wcwidth in /home/bacetiner/anaconda3/envs/brails-pip/lib/python3.10/site-packages (from ftfy->brails) (0.2.13)\n",
      "Requirement already satisfied: MarkupSafe>=2.0 in /home/bacetiner/anaconda3/envs/brails-pip/lib/python3.10/site-packages (from jinja2->torch<=2.5.0->brails) (3.0.2)\n",
      "Requirement already satisfied: contourpy>=1.0.1 in /home/bacetiner/anaconda3/envs/brails-pip/lib/python3.10/site-packages (from matplotlib->brails) (1.2.0)\n",
      "Requirement already satisfied: cycler>=0.10 in /home/bacetiner/anaconda3/envs/brails-pip/lib/python3.10/site-packages (from matplotlib->brails) (0.12.1)\n",
      "Requirement already satisfied: fonttools>=4.22.0 in /home/bacetiner/anaconda3/envs/brails-pip/lib/python3.10/site-packages (from matplotlib->brails) (4.50.0)\n",
      "Requirement already satisfied: kiwisolver>=1.3.1 in /home/bacetiner/anaconda3/envs/brails-pip/lib/python3.10/site-packages (from matplotlib->brails) (1.4.5)\n",
      "Requirement already satisfied: packaging>=20.0 in /home/bacetiner/anaconda3/envs/brails-pip/lib/python3.10/site-packages (from matplotlib->brails) (25.0)\n",
      "Requirement already satisfied: pyparsing>=2.3.1 in /home/bacetiner/anaconda3/envs/brails-pip/lib/python3.10/site-packages (from matplotlib->brails) (3.1.2)\n",
      "Requirement already satisfied: python-dateutil>=2.7 in /home/bacetiner/anaconda3/envs/brails-pip/lib/python3.10/site-packages (from matplotlib->brails) (2.9.0.post0)\n",
      "Requirement already satisfied: six>=1.5 in /home/bacetiner/anaconda3/envs/brails-pip/lib/python3.10/site-packages (from python-dateutil>=2.7->matplotlib->brails) (1.17.0)\n",
      "Requirement already satisfied: pytz>=2020.1 in /home/bacetiner/anaconda3/envs/brails-pip/lib/python3.10/site-packages (from pandas->brails) (2025.2)\n",
      "Requirement already satisfied: tzdata>=2022.7 in /home/bacetiner/anaconda3/envs/brails-pip/lib/python3.10/site-packages (from pandas->brails) (2024.1)\n",
      "Requirement already satisfied: narwhals>=1.15.1 in /home/bacetiner/anaconda3/envs/brails-pip/lib/python3.10/site-packages (from plotly->brails) (1.39.1)\n",
      "Requirement already satisfied: affine in /home/bacetiner/anaconda3/envs/brails-pip/lib/python3.10/site-packages (from rasterio->brails) (2.4.0)\n",
      "Requirement already satisfied: attrs in /home/bacetiner/anaconda3/envs/brails-pip/lib/python3.10/site-packages (from rasterio->brails) (24.3.0)\n",
      "Requirement already satisfied: certifi in /home/bacetiner/anaconda3/envs/brails-pip/lib/python3.10/site-packages (from rasterio->brails) (2025.8.3)\n",
      "Requirement already satisfied: click>=4.0 in /home/bacetiner/anaconda3/envs/brails-pip/lib/python3.10/site-packages (from rasterio->brails) (8.2.1)\n",
      "Requirement already satisfied: cligj>=0.5 in /home/bacetiner/anaconda3/envs/brails-pip/lib/python3.10/site-packages (from rasterio->brails) (0.7.2)\n",
      "Requirement already satisfied: snuggs>=1.4.1 in /home/bacetiner/anaconda3/envs/brails-pip/lib/python3.10/site-packages (from rasterio->brails) (1.4.7)\n",
      "Requirement already satisfied: click-plugins in /home/bacetiner/anaconda3/envs/brails-pip/lib/python3.10/site-packages (from rasterio->brails) (1.1.1)\n",
      "Requirement already satisfied: setuptools in /home/bacetiner/anaconda3/envs/brails-pip/lib/python3.10/site-packages (from rasterio->brails) (78.1.1)\n",
      "Requirement already satisfied: charset_normalizer<4,>=2 in /home/bacetiner/anaconda3/envs/brails-pip/lib/python3.10/site-packages (from requests->brails) (3.3.2)\n",
      "Requirement already satisfied: idna<4,>=2.5 in /home/bacetiner/anaconda3/envs/brails-pip/lib/python3.10/site-packages (from requests->brails) (3.7)\n",
      "Requirement already satisfied: urllib3<3,>=1.21.1 in /home/bacetiner/anaconda3/envs/brails-pip/lib/python3.10/site-packages (from requests->brails) (2.5.0)\n",
      "Requirement already satisfied: scipy in /home/bacetiner/anaconda3/envs/brails-pip/lib/python3.10/site-packages (from reverse-geocode->brails) (1.12.0)\n",
      "Requirement already satisfied: joblib>=1.2.0 in /home/bacetiner/anaconda3/envs/brails-pip/lib/python3.10/site-packages (from scikit-learn->brails) (1.3.2)\n",
      "Requirement already satisfied: threadpoolctl>=2.0.0 in /home/bacetiner/anaconda3/envs/brails-pip/lib/python3.10/site-packages (from scikit-learn->brails) (3.3.0)\n",
      "Requirement already satisfied: defusedxml<0.8.0,>=0.7.1 in /home/bacetiner/anaconda3/envs/brails-pip/lib/python3.10/site-packages (from supervision->brails) (0.7.1)\n",
      "Requirement already satisfied: pyyaml>=5.3 in /home/bacetiner/anaconda3/envs/brails-pip/lib/python3.10/site-packages (from supervision->brails) (6.0.2)\n",
      "Requirement already satisfied: tqdm>=4.62.3 in /home/bacetiner/anaconda3/envs/brails-pip/lib/python3.10/site-packages (from supervision->brails) (4.66.2)\n",
      "Requirement already satisfied: mpmath>=0.19 in /home/bacetiner/anaconda3/envs/brails-pip/lib/python3.10/site-packages (from sympy->torch<=2.5.0->brails) (1.3.0)\n",
      "Requirement already satisfied: absl-py>=0.4 in /home/bacetiner/anaconda3/envs/brails-pip/lib/python3.10/site-packages (from tensorboard->brails) (2.1.0)\n",
      "Requirement already satisfied: grpcio>=1.48.2 in /home/bacetiner/anaconda3/envs/brails-pip/lib/python3.10/site-packages (from tensorboard->brails) (1.62.1)\n",
      "Requirement already satisfied: markdown>=2.6.8 in /home/bacetiner/anaconda3/envs/brails-pip/lib/python3.10/site-packages (from tensorboard->brails) (3.6)\n",
      "Requirement already satisfied: protobuf!=4.24.0,>=3.19.6 in /home/bacetiner/anaconda3/envs/brails-pip/lib/python3.10/site-packages (from tensorboard->brails) (5.26.0)\n",
      "Requirement already satisfied: tensorboard-data-server<0.8.0,>=0.7.0 in /home/bacetiner/anaconda3/envs/brails-pip/lib/python3.10/site-packages (from tensorboard->brails) (0.7.2)\n",
      "Requirement already satisfied: werkzeug>=1.0.1 in /home/bacetiner/anaconda3/envs/brails-pip/lib/python3.10/site-packages (from tensorboard->brails) (3.0.1)\n",
      "Requirement already satisfied: huggingface_hub in /home/bacetiner/anaconda3/envs/brails-pip/lib/python3.10/site-packages (from timm->brails) (0.31.2)\n",
      "Requirement already satisfied: safetensors in /home/bacetiner/anaconda3/envs/brails-pip/lib/python3.10/site-packages (from timm->brails) (0.5.3)\n",
      "Requirement already satisfied: regex!=2019.12.17 in /home/bacetiner/anaconda3/envs/brails-pip/lib/python3.10/site-packages (from transformers->brails) (2024.11.6)\n",
      "Requirement already satisfied: tokenizers<0.22,>=0.21 in /home/bacetiner/anaconda3/envs/brails-pip/lib/python3.10/site-packages (from transformers->brails) (0.21.1)\n",
      "Requirement already satisfied: importlib-metadata>=6.6.0 in /home/bacetiner/anaconda3/envs/brails-pip/lib/python3.10/site-packages (from yapf->brails) (8.5.0)\n",
      "Requirement already satisfied: platformdirs>=3.5.1 in /home/bacetiner/anaconda3/envs/brails-pip/lib/python3.10/site-packages (from yapf->brails) (4.3.7)\n",
      "Requirement already satisfied: tomli>=2.0.1 in /home/bacetiner/anaconda3/envs/brails-pip/lib/python3.10/site-packages (from yapf->brails) (2.2.1)\n",
      "Requirement already satisfied: zipp>=3.20 in /home/bacetiner/anaconda3/envs/brails-pip/lib/python3.10/site-packages (from importlib-metadata>=6.6.0->yapf->brails) (3.21.0)\n",
      "Requirement already satisfied: folium in /home/bacetiner/anaconda3/envs/brails-pip/lib/python3.10/site-packages (0.20.0)\n",
      "Requirement already satisfied: branca>=0.6.0 in /home/bacetiner/anaconda3/envs/brails-pip/lib/python3.10/site-packages (from folium) (0.8.1)\n",
      "Requirement already satisfied: jinja2>=2.9 in /home/bacetiner/anaconda3/envs/brails-pip/lib/python3.10/site-packages (from folium) (3.1.6)\n",
      "Requirement already satisfied: numpy in /home/bacetiner/anaconda3/envs/brails-pip/lib/python3.10/site-packages (from folium) (1.26.4)\n",
      "Requirement already satisfied: requests in /home/bacetiner/anaconda3/envs/brails-pip/lib/python3.10/site-packages (from folium) (2.32.4)\n",
      "Requirement already satisfied: xyzservices in /home/bacetiner/anaconda3/envs/brails-pip/lib/python3.10/site-packages (from folium) (2025.4.0)\n",
      "Requirement already satisfied: MarkupSafe>=2.0 in /home/bacetiner/anaconda3/envs/brails-pip/lib/python3.10/site-packages (from jinja2>=2.9->folium) (3.0.2)\n",
      "Requirement already satisfied: charset_normalizer<4,>=2 in /home/bacetiner/anaconda3/envs/brails-pip/lib/python3.10/site-packages (from requests->folium) (3.3.2)\n",
      "Requirement already satisfied: idna<4,>=2.5 in /home/bacetiner/anaconda3/envs/brails-pip/lib/python3.10/site-packages (from requests->folium) (3.7)\n",
      "Requirement already satisfied: urllib3<3,>=1.21.1 in /home/bacetiner/anaconda3/envs/brails-pip/lib/python3.10/site-packages (from requests->folium) (2.5.0)\n",
      "Requirement already satisfied: certifi>=2017.4.17 in /home/bacetiner/anaconda3/envs/brails-pip/lib/python3.10/site-packages (from requests->folium) (2025.8.3)\n"
     ]
    }
   ],
   "source": [
    "!pip install brails\n",
    "!pip install folium"
   ]
  },
  {
   "cell_type": "markdown",
   "id": "6b547e63-2249-4acd-925d-33724e840987",
   "metadata": {},
   "source": [
    "# Import Required Packages"
   ]
  },
  {
   "cell_type": "code",
   "execution_count": 25,
   "id": "13c67c37-4094-4402-9fcd-0bdabe0b249e",
   "metadata": {},
   "outputs": [],
   "source": [
    "import numpy as np\n",
    "from brails.utils import Importer\n",
    "import folium"
   ]
  },
  {
   "cell_type": "markdown",
   "id": "64082d44-b0a3-45a6-a3a3-63fcea03f16f",
   "metadata": {},
   "source": [
    "## Define Location and Scraper Information\n",
    "\n",
    "Specify the target area, output file and number of realizations (worlds) for inventory creation.  \n",
    "\n",
    "- **LOCATION**: The name of the target area (`'Berkeley, CA'`).  \n",
    "- **LOCATION_TYPE**: Specifies how the location is defined, by name (`'locationName'`) or through polygon coordinates (`'locationPolygon'`). \n",
    "- **INVENTORY_OUTPUT**: Filename for saving the retrieved building footprint inventory in GeoJSON format.\n",
    "- **NO_POSSIBLE_WORLDS**: Number of inventory realizations to generate.\n",
    "- **LENGTH_UNIT**: Base unit to be used for attributes that involve length or area measurements."
   ]
  },
  {
   "cell_type": "code",
   "execution_count": 3,
   "id": "18195011-9265-4540-a822-d21dd02f5988",
   "metadata": {},
   "outputs": [],
   "source": [
    "LOCATION_NAME = 'San Francisco California'\n",
    "LOCATION_TYPE = 'locationName'\n",
    "INVENTORY_OUTPUT = 'SFInventory_EQ.geojson'\n",
    "NO_POSSIBLE_WORLDS = 1\n",
    "LENGTH_UNIT = 'ft'"
   ]
  },
  {
   "cell_type": "markdown",
   "id": "b827809a-32d2-4fcf-9fef-dd5c55291f4e",
   "metadata": {},
   "source": [
    "# Create and Importer object to Pull In Required BRAILS Modules"
   ]
  },
  {
   "cell_type": "code",
   "execution_count": 4,
   "id": "883970d2-26e5-4872-bde2-2bbc9f09b61a",
   "metadata": {},
   "outputs": [],
   "source": [
    "importer = Importer()"
   ]
  },
  {
   "cell_type": "markdown",
   "id": "6de5ef2e-28f2-4995-a603-10beae7d1e26",
   "metadata": {},
   "source": [
    "## Create a Region Boundary for the Area of Interest\n",
    "\n",
    "We begin by initializing an `Importer` instance, followed by creating a `RegionBoundary` object that defines the target area. Subsequent modules will use the `region_boundary_object` to limit inventory creation to the specified location."
   ]
  },
  {
   "cell_type": "code",
   "execution_count": 5,
   "id": "a89f3301-7c91-484a-ada7-921cbf899496",
   "metadata": {},
   "outputs": [],
   "source": [
    "# Create an Importer instance:\n",
    "region_data = {\"type\": LOCATION_TYPE, \"data\": LOCATION_NAME}\n",
    "\n",
    "# Create a region boundary:\n",
    "region_boundary_class = importer.get_class(\"RegionBoundary\")\n",
    "region_boundary_object = region_boundary_class(region_data)"
   ]
  },
  {
   "cell_type": "markdown",
   "id": "d69f2f3a-e8d5-4282-ace7-d298fba12d44",
   "metadata": {},
   "source": [
    "# Get Raw NSI Data for the Defined Region\n",
    "\n",
    "To begin creating our inventory, we first fetch the National Structure Inventory (NSI) data for the specified region using the `NSI_Parser` module in BRAILS++. This data serves as the baseline building attribute information for the area.\n",
    "\n",
    "The `get_raw_data method` retrieves the NSI data exactly as it exists, without applying any modifications."
   ]
  },
  {
   "cell_type": "code",
   "execution_count": 6,
   "id": "5d06792f-6b37-41b1-a99f-7c903623ec10",
   "metadata": {},
   "outputs": [
    {
     "name": "stdout",
     "output_type": "stream",
     "text": [
      "\n",
      "Searching for San Francisco California...\n",
      "Found San Francisco, California, United States\n"
     ]
    },
    {
     "name": "stderr",
     "output_type": "stream",
     "text": [
      "INFO:root:\n",
      "Getting National Structure Inventory (NSI) building data for the entered location...\n"
     ]
    },
    {
     "name": "stdout",
     "output_type": "stream",
     "text": [
      "\n",
      "Found a total of 167283 building points in NSI that are within the entered region of interest\n"
     ]
    }
   ],
   "source": [
    "nsi = importer.get_class('NSI_Parser')()\n",
    "nsi_inventory = nsi.get_raw_data(region_boundary_object)"
   ]
  },
  {
   "cell_type": "markdown",
   "id": "c46785d6-fd76-4322-853c-36ed3c85c9a9",
   "metadata": {},
   "source": [
    "## Create a Building Footprint Scraper and Retrieve the Building Footprints for the Specified Region\n",
    "\n",
    "First, select a scraper class to obtain geometric footprint data for buildings within a given region. Available footprint scraper classes:  \n",
    "- `OSM_FootprintScraper`: Gets OpenStreetMap data  \n",
    "- `USA_FootprintScraper`: Retrieves FEMA USA Structures dataset  \n",
    "- `MS_FootprintScraper`: Uses Microsoft building footprints  \n",
    "- `OvertureMapsFootprintScraper`: Uses Overture Maps data  \n",
    "\n",
    "In the example below, we dynamically load the chosen scraper class, set the output length units to feet, and then request all building footprints within the specified `region_boundary_object`. The result, `footprint_inventory`, contains the geometric data for further analysis."
   ]
  },
  {
   "cell_type": "code",
   "execution_count": 7,
   "id": "3fbc180d-9ca9-46a1-8599-ff4747cb4a9a",
   "metadata": {},
   "outputs": [
    {
     "name": "stdout",
     "output_type": "stream",
     "text": [
      "\n",
      "Searching for San Francisco California...\n",
      "Found San Francisco, California, United States\n",
      "\n",
      "Found a total of 160427 building footprints in San Francisco\n"
     ]
    }
   ],
   "source": [
    "footprint_scraper = importer.get_class('OSM_FootprintScraper')({'length': LENGTH_UNIT})\n",
    "footprint_inventory = footprint_scraper.get_footprints(region_boundary_object)"
   ]
  },
  {
   "cell_type": "markdown",
   "id": "84256fd8-313f-463a-8371-f1a06ebb8635",
   "metadata": {},
   "source": [
    "# Create a Baseline Inventory by Merging NSI Raw Data and Extracted Footprint Data\n",
    "\n",
    "Next, we combine the NSI data with the building footprint data (`footprint_inventory`) to create a baseline building inventory. This is done using the `get_filtered_data_given_inventory` method.\n",
    "\n",
    "The `get_extended_features` argument allows the inclusion of additional details, such as whether a building is split-level or has a basement."
   ]
  },
  {
   "cell_type": "code",
   "execution_count": 8,
   "id": "e5c1cab0-2029-4bd7-ba05-80711381a8ec",
   "metadata": {},
   "outputs": [
    {
     "name": "stdout",
     "output_type": "stream",
     "text": [
      "\n",
      "Getting National Structure Inventory (NSI) building data for the entered location...\n",
      "Found a total of 147446 building points in NSI that match the footprint data.\n"
     ]
    }
   ],
   "source": [
    "nsi_inventory = nsi.get_filtered_data_given_inventory(\n",
    "    footprint_inventory, \n",
    "    LENGTH_UNIT, \n",
    "    get_extended_features=True\n",
    ")"
   ]
  },
  {
   "cell_type": "markdown",
   "id": "78efa81a-432f-421c-9521-c8e6f2a184c4",
   "metadata": {},
   "source": [
    "# Fill Missing Values in the Baseline Inventory Using KNN Imputation\n",
    "\n",
    "After creating our baseline inventory, some building attributes may still be missing. We use a K-Nearest Neighbors (KNN) approach provided by the BRAILS++ module `KnnImputer`. This step fills in missing values and generates complete inventory realizations.\n",
    "\n",
    "The process to run KNN imputation works as follows:\n",
    "1. **Get the KNN imputer class** using the `Importer`.  \n",
    "2. **Create an imputer instance**, providing:  \n",
    "   - `nsi_inventory`: the baseline NSI inventory  \n",
    "   - `n_possible_worlds`: the number of inventory realizations to generate  \n",
    "   - `exclude_features`: features to skip during imputation (`'lat'`, `'lon'`, `'fd_id'`)  \n",
    "3. **Run the imputer** by calling the `impute` method, which fills in the missing attributes and produces the `imputed_inventory`.  \n"
   ]
  },
  {
   "cell_type": "code",
   "execution_count": 9,
   "id": "148c25b0-1693-4462-94ee-94e34bfa4c7b",
   "metadata": {},
   "outputs": [
    {
     "name": "stderr",
     "output_type": "stream",
     "text": [
      "WARNING:brails.imputers.knn_imputer.knn_imputer:The existing inventory does not contain multiple possible worlds. 1 worlds will be generated for new features\n"
     ]
    },
    {
     "name": "stdout",
     "output_type": "stream",
     "text": [
      "Existing worlds: 1\n",
      "New worlds per existing world: 1\n",
      "world # 0\n",
      "Features with no reference data cannot be imputed. Removing them from the imputation target: FloodZone\n",
      "Missing percentages among 160427 assets\n",
      "buildingheight: 12.81%\n",
      "erabuilt: 8.05%\n",
      "numstories: 7.88%\n",
      "roofshape: 99.86%\n",
      "fparea: 8.09%\n",
      "repaircost: 8.09%\n",
      "constype: 8.09%\n",
      "occupancy: 8.09%\n",
      "found_ht: 8.09%\n",
      "ground_elv: 8.09%\n",
      "splitlevel: 8.09%\n",
      "basement: 28.09%\n",
      "Primitive imputation done.\n",
      "Running the main imputation. This may take a while.\n",
      "Enumerating clusters: 20 among 321\n",
      "Enumerating clusters: 40 among 321\n",
      "Enumerating clusters: 60 among 321\n",
      "Enumerating clusters: 80 among 321\n",
      "Enumerating clusters: 100 among 321\n",
      "Enumerating clusters: 120 among 321\n",
      "Enumerating clusters: 140 among 321\n",
      "Enumerating clusters: 160 among 321\n",
      "Enumerating clusters: 180 among 321\n",
      "Enumerating clusters: 200 among 321\n",
      "Enumerating clusters: 220 among 321\n",
      "Enumerating clusters: 240 among 321\n",
      "Enumerating clusters: 260 among 321\n",
      "Enumerating clusters: 280 among 321\n",
      "Enumerating clusters: 300 among 321\n",
      "Enumerating clusters: 320 among 321\n",
      "Done imputation. It took 0.79 mins\n"
     ]
    }
   ],
   "source": [
    "knn_imputer_class = importer.get_class('KnnImputer')\n",
    "\n",
    "imputer = knn_imputer_class(\n",
    "    nsi_inventory, \n",
    "    n_possible_worlds=NO_POSSIBLE_WORLDS,\n",
    "    exclude_features=['lat', 'lon', 'fd_id']\n",
    ")\n",
    "imputed_inventory = imputer.impute()"
   ]
  },
  {
   "cell_type": "markdown",
   "id": "fb5df422-afe3-455a-9460-fe94ea664f92",
   "metadata": {},
   "source": [
    "# Add Household Income Feature Using a Lognormal Distribution\n",
    "To enrich the inventory with socioeconomic data, we add a household income attribute by sampling from a **lognormal distribution**. Income is typically right-skewed, making the lognormal a natural choice.\n",
    "\n",
    "We begin by defining the state average household income (`CA_AVG`) and assuming a 50% coefficient of variation (`CA_STD_DEV`). From these, we calculate the parameters (`mu` and `sigma`) of the underlying normal distribution. Finally, we generate lognormal samples and assign them as the `Income` feature for each building in the imputed inventory."
   ]
  },
  {
   "cell_type": "code",
   "execution_count": 10,
   "id": "1457f9fc-ee5e-4943-8314-dc4b9b73afc8",
   "metadata": {},
   "outputs": [],
   "source": [
    "CA_AVG = 78672  # state average\n",
    "CA_STD_DEV = CA_AVG*0.5  # 50% cov\n",
    "\n",
    "# Step 1: Calculate the parameters of the underlying normal distribution:\n",
    "mu = np.log(CA_AVG**2 /\n",
    "            np.sqrt(CA_STD_DEV**2 + CA_AVG**2))\n",
    "sigma = np.sqrt(np.log(1 + (CA_STD_DEV**2 / CA_AVG**2)))\n",
    "\n",
    "# Step 2: Generate the lognormal sample using the parameters of the normal\n",
    "# distribution:\n",
    "for key, val in imputed_inventory.inventory.items():\n",
    "    lognormal_sample = np.random.lognormal(\n",
    "        mean=mu, \n",
    "        sigma=sigma, \n",
    "        size=NO_POSSIBLE_WORLDS\n",
    "    )\n",
    "    val.add_features({\"Income\": lognormal_sample[0]})"
   ]
  },
  {
   "cell_type": "markdown",
   "id": "be8c99a0-15f0-47d9-8288-d510df458ee7",
   "metadata": {},
   "source": [
    "# Change Attribute Keys for Compatibility with R2D \n",
    "\n",
    "In this step, we specify the keys that will be used when enriching the inventory.  Some of these attributes represent new attributes to be inferred, while others correspond to existing attributes that will serve as input to rulesets to predict the derived attributes."
   ]
  },
  {
   "cell_type": "code",
   "execution_count": 11,
   "id": "0d2ec6a5-d5d8-4382-8907-5d9e78fd1f41",
   "metadata": {},
   "outputs": [],
   "source": [
    "# The names of NEW keys to be inferred:\n",
    "STRUCTURE_TYPE_KEY = 'StructureTypeHazus'      # Instead of  \"constype\" from NSI\n",
    "REPLACEMENT_COST_KEY = 'ReplacementCostHazus'  # Instead of NSI \"repaircost\"\n",
    "\n",
    "# The names of existing keys to be used as \"predictors\":\n",
    "YEAR_BUILT_KEY = 'erabuilt'\n",
    "OCCUPANCY_CLASS_KEY = 'occupancy'\n",
    "INCOME_KEY = 'Income'\n",
    "NUMBER_OF_STORIES_KEY = 'numstories'\n",
    "PLAN_AREA_KEY = 'fpAreas'\n",
    "SPLIT_LEVEL_KEY = 'splitlevel'"
   ]
  },
  {
   "cell_type": "markdown",
   "id": "4b0bfdca-831b-4c76-9674-03927477b6de",
   "metadata": {},
   "source": [
    "# Infer Hazus-Compatible Features for Earthquake Analysis\n",
    "\n",
    "With the baseline inventory complete, the next step is to infer Hazus-compatible features that are required for earthquake loss analysis. We use the `HazusInfererEarthquake` class from BRAILS++ to get these attributes.  \n",
    "\n",
    "The `HazusInfererEarthquake` class takes the enriched inventory (in this case `imputed_inventory` and uses predictors such as year built, occupancy class, number of stories, and income to infer key attributes like structure type and replacement cost, which are required for Hazus-style damage and loss analysis. In this example, the `clean_features` argument is set to `False` when intializing the constructor for `HazusInfererEarthquake`, which ensures that both the original predictors and the newly inferred features are retained in hazus_inferred_inventory, rather than limiting the dataset to only the attributes needed for Hazus damage and loss analysis.\n",
    "\n",
    "The resulting `hazus_inferred_inventory`, produced by the `infer` method, is fully aligned with Hazus requirements and ready for use in R2D for regional-scale seismic loss analysis."
   ]
  },
  {
   "cell_type": "code",
   "execution_count": 12,
   "id": "ce74aa9a-692c-4e1a-b575-0fa06c4833f8",
   "metadata": {},
   "outputs": [
    {
     "name": "stdout",
     "output_type": "stream",
     "text": [
      ">> Step1 : Checking if OccupancyClass (occupancy) exist.\n",
      ">> Step2-1 : Checking if StructureType (StructureTypeHazus) and ReplacementCost (ReplacementCostHazus) exist\n",
      ">> Step2-2 : Inferring {'StructureTypeHazus', 'ReplacementCostHazus'}\n"
     ]
    },
    {
     "name": "stderr",
     "output_type": "stream",
     "text": [
      "WARNING:brails.inferers.hazus_inferer.hazus_inferer: HAZUS does not provide structural type information for West Coast-IND6-mid_rise-1950_to_1970. StructureTypeHazus will be missing in id=[7701, 43610, 45403, 64482, 71722, 75477, 88420]\n",
      "WARNING:brails.inferers.hazus_inferer.hazus_inferer: HAZUS does not provide structural type information for West Coast-IND6-mid_rise-post_1970. StructureTypeHazus will be missing in id=[5488, 7877, 10145, 33349, 72277, 121513, 121951, 121955, 122076, 127594, 127606, 127607, 127608, 127612, 127617, 127619, 127620, 127622, 157296, 158523, 158925]\n",
      "WARNING:brails.inferers.hazus_inferer.hazus_inferer: HAZUS does not provide structural type information for West Coast-IND6-high_rise-pre_1950. StructureTypeHazus will be missing in id=[9637, 17775, 19072, 45709]\n",
      "WARNING:brails.inferers.hazus_inferer.hazus_inferer: HAZUS does not provide structural type information for West Coast-IND6-high_rise-1950_to_1970. StructureTypeHazus will be missing in id=[133147]\n",
      "WARNING:brails.inferers.hazus_inferer.hazus_inferer: HAZUS does not provide structural type information for West Coast-IND6-high_rise-post_1970. StructureTypeHazus will be missing in id=[11854, 11857, 121506, 121843]\n",
      "WARNING:brails.inferers.hazus_inferer.hazus_inferer: HAZUS does not provide structural type information for West Coast-IND2-mid_rise-post_1970. StructureTypeHazus will be missing in id=[6991, 20331, 158779]\n",
      "WARNING:brails.inferers.hazus_inferer.hazus_inferer: HAZUS does not provide structural type information for West Coast-IND2-high_rise-pre_1950. StructureTypeHazus will be missing in id=[316, 933, 943, 944, 956, 32111]\n",
      "WARNING:brails.inferers.hazus_inferer.hazus_inferer: HAZUS does not provide structural type information for West Coast-IND2-high_rise-post_1970. StructureTypeHazus will be missing in id=[121779, 121782]\n",
      "WARNING:brails.inferers.hazus_inferer.hazus_inferer: HAZUS does not provide structural type information for West Coast-REL1-high_rise-pre_1950. StructureTypeHazus will be missing in id=[188, 643, 9772, 158749]\n",
      "WARNING:brails.inferers.hazus_inferer.hazus_inferer: HAZUS does not provide structural type information for West Coast-REL1-high_rise-post_1970. StructureTypeHazus will be missing in id=[243]\n",
      "WARNING:brails.inferers.hazus_inferer.hazus_inferer: HAZUS does not provide structural type information for West Coast-GOV2-mid_rise-pre_1950. StructureTypeHazus will be missing in id=[1121]\n",
      "WARNING:brails.inferers.hazus_inferer.hazus_inferer: HAZUS does not provide structural type information for West Coast-GOV2-high_rise-1950_to_1970. StructureTypeHazus will be missing in id=[373, 156220, 156223]\n",
      "WARNING:brails.inferers.hazus_inferer.hazus_inferer: HAZUS does not provide structural type information for West Coast-COM7-high_rise-pre_1950. StructureTypeHazus will be missing in id=[2570, 2683]\n",
      "WARNING:brails.inferers.hazus_inferer.hazus_inferer: HAZUS does not provide structural type information for West Coast-COM7-high_rise-post_1970. StructureTypeHazus will be missing in id=[355]\n",
      "WARNING:brails.inferers.hazus_inferer.hazus_inferer: HAZUS does not provide structural type information for West Coast-IND5-high_rise-pre_1950. StructureTypeHazus will be missing in id=[163, 289, 156300]\n",
      "WARNING:brails.inferers.hazus_inferer.hazus_inferer: HAZUS does not provide structural type information for West Coast-COM10-high_rise-pre_1950. StructureTypeHazus will be missing in id=[17689, 17781]\n",
      "WARNING:brails.inferers.hazus_inferer.hazus_inferer: HAZUS does not provide structural type information for West Coast-COM2-high_rise-pre_1950. StructureTypeHazus will be missing in id=[781, 7475, 18506, 36305, 36617]\n",
      "WARNING:brails.inferers.hazus_inferer.hazus_inferer: HAZUS does not provide structural type information for West Coast-COM2-high_rise-post_1970. StructureTypeHazus will be missing in id=[465, 127650]\n",
      "WARNING:brails.inferers.hazus_inferer.hazus_inferer: HAZUS does not provide structural type information for West Coast-EDU1-mid_rise-pre_1950. StructureTypeHazus will be missing in id=[132, 876, 1171, 3596, 3603, 3610, 5473, 5483, 5617, 9185, 10714, 11223, 11226, 11228, 16505, 16536, 17057, 18764, 18766, 21314, 26283, 30062, 37191, 48622, 55194, 68940, 71262, 76861, 80149, 94407, 94790, 95086, 124435, 126931, 151357, 159492, 160148, 160382]\n",
      "WARNING:brails.inferers.hazus_inferer.hazus_inferer: HAZUS does not provide structural type information for West Coast-EDU1-mid_rise-1950_to_1970. StructureTypeHazus will be missing in id=[3640, 5424, 159299]\n",
      "WARNING:brails.inferers.hazus_inferer.hazus_inferer: HAZUS does not provide structural type information for West Coast-EDU1-mid_rise-post_1970. StructureTypeHazus will be missing in id=[914, 929, 9155, 9160, 9930, 9933, 133588, 133720, 133731]\n",
      "WARNING:brails.inferers.hazus_inferer.hazus_inferer: HAZUS does not provide structural type information for West Coast-EDU1-high_rise-pre_1950. StructureTypeHazus will be missing in id=[8707]\n",
      "WARNING:brails.inferers.hazus_inferer.hazus_inferer: HAZUS does not provide structural type information for West Coast-EDU1-high_rise-1950_to_1970. StructureTypeHazus will be missing in id=[159588]\n",
      "WARNING:brails.inferers.hazus_inferer.hazus_inferer: HAZUS does not provide structural type information for West Coast-EDU1-high_rise-post_1970. StructureTypeHazus will be missing in id=[2579]\n",
      "WARNING:brails.inferers.hazus_inferer.hazus_inferer: HAZUS does not provide structural type information for West Coast-COM8-high_rise-pre_1950. StructureTypeHazus will be missing in id=[296, 412, 612, 788, 2704, 2710, 3147, 3166, 5396, 17783, 17786, 19060, 21515, 156996, 156997, 160418]\n",
      "WARNING:brails.inferers.hazus_inferer.hazus_inferer: HAZUS does not provide structural type information for West Coast-COM8-high_rise-1950_to_1970. StructureTypeHazus will be missing in id=[384, 1164, 156221]\n",
      "WARNING:brails.inferers.hazus_inferer.hazus_inferer: HAZUS does not provide structural type information for West Coast-COM8-high_rise-post_1970. StructureTypeHazus will be missing in id=[318, 21814, 127652]\n",
      "WARNING:brails.inferers.hazus_inferer.hazus_inferer: HAZUS does not provide structural type information for West Coast-COM3-high_rise-pre_1950. StructureTypeHazus will be missing in id=[405, 408, 410, 508, 8138, 17607, 18571, 18750, 127883, 158747]\n",
      "WARNING:brails.inferers.hazus_inferer.hazus_inferer: HAZUS does not provide structural type information for West Coast-COM3-high_rise-post_1970. StructureTypeHazus will be missing in id=[279, 950, 1418, 121497, 121498, 121543]\n",
      "WARNING:brails.inferers.hazus_inferer.hazus_inferer: HAZUS does not provide structural type information for West Coast-COM1-high_rise-pre_1950. StructureTypeHazus will be missing in id=[5397, 8136, 9497, 9927, 18576]\n",
      "WARNING:brails.inferers.hazus_inferer.hazus_inferer: HAZUS does not provide structural type information for West Coast-COM1-high_rise-post_1970. StructureTypeHazus will be missing in id=[121835, 124986]\n",
      "WARNING:brails.inferers.hazus_inferer.hazus_inferer: HAZUS does not provide structural type information for West Coast-RES2-mid_rise-pre_1950. StructureTypeHazus will be missing in id=[4163]\n",
      "WARNING:brails.inferers.hazus_inferer.hazus_inferer: HAZUS does not provide structural type information for West Coast-RES6-high_rise-1950_to_1970. StructureTypeHazus will be missing in id=[18487]\n",
      "WARNING:brails.inferers.hazus_inferer.hazus_inferer: HAZUS does not provide structural type information for West Coast-IND1-mid_rise-pre_1950. StructureTypeHazus will be missing in id=[6876, 30465, 51930]\n",
      "WARNING:brails.inferers.hazus_inferer.hazus_inferer: HAZUS does not provide structural type information for West Coast-IND1-mid_rise-post_1970. StructureTypeHazus will be missing in id=[18, 124812]\n",
      "WARNING:brails.inferers.hazus_inferer.hazus_inferer: HAZUS does not provide structural type information for West Coast-IND1-high_rise-pre_1950. StructureTypeHazus will be missing in id=[8231]\n",
      "WARNING:brails.inferers.hazus_inferer.hazus_inferer:The keys needed to estimate ReplacementCostHazus is not there: ['fpAreas']\n",
      "WARNING:brails.inferers.hazus_inferer.hazus_inferer:Skipping hazus inference of ReplacementCostHazus.\n"
     ]
    },
    {
     "name": "stdout",
     "output_type": "stream",
     "text": [
      "Done inference. It took 1.50 mins\n",
      ">> Step3-1 : Checking if HeightClass (HeightClass), DesignLevel (DesignLevel) and FoundationType (FoundationType) exist\n",
      ">> Step3-2 : Inferring {'HeightClass', 'DesignLevel', 'FoundationType'}\n"
     ]
    },
    {
     "name": "stderr",
     "output_type": "stream",
     "text": [
      "WARNING:brails.inferers.hazus_inferer_earthquake.hazus_inferer_earthquake:Skipping hazus inference of DesignLevel. If you still want to perform the inference, run imputer first.\n",
      "WARNING:brails.inferers.hazus_inferer_earthquake.hazus_inferer_earthquake:Unable to create readily runnable inventory due to missing values. Run imputer to fill in missing values.\n"
     ]
    },
    {
     "name": "stdout",
     "output_type": "stream",
     "text": [
      "The feature StructureTypeHazus is missing in many buildings including:  [18, 132, 163, 188, 243, 279, 289, 296, 316, 318]\n",
      ">> Step4 : Changing feature names to what R2D (pelicun) can recognize\n",
      "Done inference. It took 2.92 mins\n"
     ]
    },
    {
     "name": "stderr",
     "output_type": "stream",
     "text": [
      "WARNING:brails.inferers.hazus_inferer_earthquake.hazus_inferer_earthquake:Unable to create inventory that is readily runnable in R2D (pelicun) due to missing DesignLevel, ReplacementCost\n"
     ]
    }
   ],
   "source": [
    "infer_features_for_hazuseq = importer.get_class(\"HazusInfererEarthquake\")\n",
    "\n",
    "inferer = infer_features_for_hazuseq(\n",
    "    input_inventory=imputed_inventory,\n",
    "    n_possible_worlds=NO_POSSIBLE_WORLDS,\n",
    "    yearBuilt_key=YEAR_BUILT_KEY,\n",
    "    occupancyClass_key=OCCUPANCY_CLASS_KEY,\n",
    "    numberOfStories_key=NUMBER_OF_STORIES_KEY,\n",
    "    income_key=INCOME_KEY,\n",
    "    splitLevel_key=SPLIT_LEVEL_KEY,\n",
    "    structureType_key=STRUCTURE_TYPE_KEY,\n",
    "    replacementCost_key=REPLACEMENT_COST_KEY,\n",
    "    planArea_key=PLAN_AREA_KEY,\n",
    "    clean_features=False\n",
    ")\n",
    "\n",
    "hazus_inferred_inventory = inferer.infer()"
   ]
  },
  {
   "cell_type": "markdown",
   "id": "93c10297",
   "metadata": {},
   "source": [
    "From the warning message, inferring HAZUS StructureType for several provided structural types e.g., West Coast-IND1-mid_rise-pre_1950, were not possible using the inference rulestes in BRAILS++, because some provided structural types do not exist in HAZUS's inventory definition. The failed inference has also leaded to missing DesignLevels in the produced inventory here. Below, imputation is used to estimate the HAZUS structural types that do not exist in HAZUS. And the inferrer is run again to estimate DesignLevel."
   ]
  },
  {
   "cell_type": "markdown",
   "id": "ae5a7dd3-86db-462f-a49c-8d7ca1d0fe0a",
   "metadata": {},
   "source": [
    "# Re-run KNN Imputation to Fill Remaining Missing Values\n",
    "\n",
    "Some attributes in the Hazus-inferred inventory may still be missing because they cannot be determined directly from Hazus rulesets. We use the K-Nearest Neighbors (KNN) imputer to fill these remaining gaps. This step ensures that all missing attributes are estimated, producing a fully populated inventory. "
   ]
  },
  {
   "cell_type": "code",
   "execution_count": 13,
   "id": "284d3ea2-c342-48a2-9cfe-ab7caf02ccf1",
   "metadata": {},
   "outputs": [
    {
     "name": "stderr",
     "output_type": "stream",
     "text": [
      "WARNING:brails.imputers.knn_imputer.knn_imputer:The existing inventory does not contain multiple possible worlds. 1 worlds will be generated for new features\n"
     ]
    },
    {
     "name": "stdout",
     "output_type": "stream",
     "text": [
      "Existing worlds: 1\n",
      "New worlds per existing world: 1\n",
      "world # 0\n",
      "Features with no reference data cannot be imputed. Removing them from the imputation target: FloodZone\n",
      "Missing percentages among 160427 assets\n",
      "lon: 8.09%\n",
      "lat: 8.09%\n",
      "fd_id: 8.09%\n",
      "StructureType: 0.11%\n",
      "Primitive imputation done.\n",
      "Running the main imputation. This may take a while.\n",
      "Enumerating clusters: 20 among 321\n",
      "Enumerating clusters: 40 among 321\n",
      "Enumerating clusters: 60 among 321\n",
      "Enumerating clusters: 80 among 321\n",
      "Enumerating clusters: 100 among 321\n",
      "Enumerating clusters: 120 among 321\n",
      "Enumerating clusters: 140 among 321\n",
      "Enumerating clusters: 160 among 321\n",
      "Enumerating clusters: 180 among 321\n",
      "Enumerating clusters: 200 among 321\n",
      "Enumerating clusters: 220 among 321\n",
      "Enumerating clusters: 240 among 321\n",
      "Enumerating clusters: 260 among 321\n",
      "Enumerating clusters: 280 among 321\n",
      "Enumerating clusters: 300 among 321\n",
      "Enumerating clusters: 320 among 321\n",
      "Done imputation. It took 0.19 mins\n"
     ]
    }
   ],
   "source": [
    "imputer = knn_imputer_class(\n",
    "    hazus_inferred_inventory, \n",
    "    n_possible_worlds=NO_POSSIBLE_WORLDS\n",
    ")\n",
    "\n",
    "hazus_inferred_inventory_imputed = imputer.impute()"
   ]
  },
  {
   "cell_type": "markdown",
   "id": "fce27890-8e32-420a-8d23-c3a6465d52c2",
   "metadata": {},
   "source": [
    "# Generate the Final Hazus-Compatible Inventory for Damage and Loss Analysis\n",
    "\n",
    "In this step, we initialize a new `HazusInfererEarthquake` instance to create the final inventory for Hazus-based damage and loss modeling. We use the `'StructureType'` data from the previous KNN imputation combined with Hazus rulesets to complete the inventory."
   ]
  },
  {
   "cell_type": "code",
   "execution_count": 14,
   "id": "98760b8b",
   "metadata": {},
   "outputs": [
    {
     "name": "stdout",
     "output_type": "stream",
     "text": [
      ">> Step1 : Checking if OccupancyClass (OccupancyClass) exist.\n",
      ">> Step2-1 : Checking if StructureType (StructureType) and ReplacementCost (ReplacementCost) exist\n",
      ">> Step2-2 : Inferring {'ReplacementCost'}\n"
     ]
    },
    {
     "name": "stderr",
     "output_type": "stream",
     "text": [
      "WARNING:brails.inferers.hazus_inferer.hazus_inferer:The keys needed to estimate ReplacementCost is not there: ['NumberOfStories', 'PlanArea', 'SplitLevel']\n",
      "WARNING:brails.inferers.hazus_inferer.hazus_inferer:Skipping hazus inference of ReplacementCost.\n",
      "WARNING:brails.inferers.hazus_inferer.hazus_inferer:Nothing happened to the inventory.\n"
     ]
    },
    {
     "name": "stdout",
     "output_type": "stream",
     "text": [
      "Done inference. It took 1.11 mins\n",
      ">> Step3-1 : Checking if HeightClass (HeightClass), DesignLevel (DesignLevel) and FoundationType (FoundationType) exist\n",
      ">> Step3-2 : Inferring {'DesignLevel'}\n",
      ">> Step4 : Changing feature names to what R2D (pelicun) can recognize\n",
      "Done inference. It took 2.58 mins\n"
     ]
    },
    {
     "name": "stderr",
     "output_type": "stream",
     "text": [
      "WARNING:brails.inferers.hazus_inferer_earthquake.hazus_inferer_earthquake:Unable to create inventory that is readily runnable in R2D (pelicun) due to missing ReplacementCost\n"
     ]
    }
   ],
   "source": [
    "# Initialize the Hazus Inferer for damage and loss analysis (HazusDL):\n",
    "HazusDLInferer = importer.get_class('HazusInfererEarthquake')\n",
    "\n",
    "# Create an instance of the inferer using the imputed Hazus inventory.\n",
    "# In this step, we use the StructureType data obtained from the previous imputation\n",
    "# with the Hazus rulesets to generate the final Hazus-compatible inventory:\n",
    "inferer = HazusDLInferer(\n",
    "    input_inventory=hazus_inferred_inventory_imputed,\n",
    "    n_possible_worlds=NO_POSSIBLE_WORLDS,\n",
    "    yearBuilt_key='erabuilt',\n",
    "    structureType_key='StructureType',\n",
    "    clean_features=False\n",
    ")\n",
    "\n",
    "# Run the inference to produce the final Hazus-compatible inventory:\n",
    "hazus_inventory_final = inferer.infer()"
   ]
  },
  {
   "cell_type": "markdown",
   "id": "4d905ac6-9b4f-4df6-ae44-0a926cb01aaf",
   "metadata": {},
   "source": [
    "# Change Attribute Names to Make Them Compatible with R2D\n",
    "To prepare the final inventory for R2D analysis, we perform two key steps:\n",
    "1. Rename Features to Match R2D Naming Conventions\n",
    "   - `'erabuilt'` → `'YearBuilt'`  \n",
    "   - `'lat'` → `'Latitude'`  \n",
    "   - `'lon'` → `'Longitude'`  \n",
    "   - `'fpAreas'` → `'PlanArea'`  \n",
    "   - `'numstories'` → `'NumberOfStories'`\n",
    "2. Assign Unique IDs to Each Building"
   ]
  },
  {
   "cell_type": "code",
   "execution_count": 15,
   "id": "25f188cb-8e76-452f-adab-5ba98c2acf31",
   "metadata": {},
   "outputs": [],
   "source": [
    "# Rename selected features to match R2D naming conventions:\n",
    "hazus_inventory_final.change_feature_names({\n",
    "    'erabuilt': 'YearBuilt',\n",
    "    'lat': 'Latitude',\n",
    "    'lon': 'Longitude',\n",
    "    'fpAreas': 'PlanArea',\n",
    "    'numstories': 'NumberOfStories'\n",
    "})\n",
    "\n",
    "# Assign a unique ID to each building in the inventory:\n",
    "for idx, (_, val) in enumerate(hazus_inventory_final.inventory.items()):\n",
    "    val.add_features({\"id\": idx})"
   ]
  },
  {
   "cell_type": "markdown",
   "id": "da2d07bb-b889-4585-ab51-b270662ee89d",
   "metadata": {},
   "source": [
    "# Write the Created Inventory in a GeoJSON File\n",
    "After completing all imputation, inference, and feature standardization steps, we save the final Hazus-compatible inventory to a GeoJSON file for use in R2D or visualization."
   ]
  },
  {
   "cell_type": "code",
   "execution_count": 27,
   "id": "ae677db6-5c02-4a1c-985a-c198835289c6",
   "metadata": {},
   "outputs": [
    {
     "name": "stdout",
     "output_type": "stream",
     "text": [
      "Wrote 160427 assets to /home/bacetiner/Documents/BrailsPlusPlus/examples/inventory_creation/SFInventory_EQ.geojson\n"
     ]
    }
   ],
   "source": [
    "geojson_data = hazus_inventory_final.write_to_geojson(\n",
    "    output_file=INVENTORY_OUTPUT\n",
    ")"
   ]
  },
  {
   "cell_type": "markdown",
   "id": "c96cc55c-defe-4a28-99d4-74069a3ce2b7",
   "metadata": {},
   "source": [
    "# Plot the Created Inventory\n",
    "This section provides a sample workflow for visualizing the created building inventory on an interactive map. The process consists of the following steps:\n",
    "1. **Extract Footprint Coordinates**: Retrieve the coordinates of all building footprints from the inventory.\n",
    "2. **Flatten Coordinate Lists**: Flatten the nested lists of points from each building footprint into a single list for processing.\n",
    "3. **Calculate Map Center**: Compute the geographic center of all footprints to center the map appropriately.\n",
    "4. **Initialize the Interactive Map**: Create a map centered on the computed location, using a clean, light basemap for clarity.\n",
    "5. **Add Building Footprints with Tooltips**: Add the building footprints as a GeoJSON layer, including tooltips that display key attributes such as income, structure type, year built, and number of stories.\n",
    "6. **Display the Map**: Render the interactive map for exploration."
   ]
  },
  {
   "cell_type": "code",
   "execution_count": null,
   "id": "a4dd6acb-4047-428f-b0b1-75b2b4942798",
   "metadata": {},
   "outputs": [],
   "source": [
    "# Extract building footprint coordinates from the inventory\n",
    "inventory_footprints, _ = hazus_inventory_final.get_coordinates()\n",
    "\n",
    "# Flatten the nested coordinate lists into a single list of points\n",
    "all_coords = [coord for path in inventory_footprints for coord in path]\n",
    "\n",
    "# Calculate the geographic center of all footprints for map centering\n",
    "center_lat = sum(point[1] for point in all_coords) / len(all_coords)\n",
    "center_lon = sum(point[0] for point in all_coords) / len(all_coords)\n",
    "\n",
    "# Initialize an interactive map centered on the footprints\n",
    "m = folium.Map(\n",
    "    location=(center_lat, center_lon),\n",
    "    tiles=\"cartodbpositron\",  # Light, clean basemap style\n",
    "    zoom_start=13\n",
    ")\n",
    "\n",
    "# Add building footprints as a GeoJSON layer with tooltips showing \n",
    "folium.GeoJson(\n",
    "    geojson_data,\n",
    "    name=\"geojson\",\n",
    "    tooltip=folium.GeoJsonTooltip(\n",
    "        fields=[\n",
    "            'Income',\n",
    "            'StructureType',\n",
    "            'HeightClass',\n",
    "            'DesignLevel',\n",
    "            'FoundationType',\n",
    "            'OccupancyClass',\n",
    "            'YearBuilt',\n",
    "            'Latitude',\n",
    "            'Longitude',\n",
    "            'NumberOfStories'\n",
    "        ],\n",
    "        sticky=False\n",
    "    )\n",
    ").add_to(m)\n",
    "\n",
    "# Display the interactive map:\n",
    "m"
   ]
  }
 ],
 "metadata": {
  "kernelspec": {
   "display_name": "Python 3 (ipykernel)",
   "language": "python",
   "name": "python3"
  },
  "language_info": {
   "codemirror_mode": {
    "name": "ipython",
    "version": 3
   },
   "file_extension": ".py",
   "mimetype": "text/x-python",
   "name": "python",
   "nbconvert_exporter": "python",
   "pygments_lexer": "ipython3",
   "version": "3.10.13"
  }
 },
 "nbformat": 4,
 "nbformat_minor": 5
}
