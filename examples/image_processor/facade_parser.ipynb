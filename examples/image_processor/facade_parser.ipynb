{
 "cells": [
  {
   "cell_type": "markdown",
   "metadata": {
    "colab_type": "text",
    "id": "view-in-github"
   },
   "source": [
    "<a href=\"https://colab.research.google.com/github/bacetiner/BrailsPlusPlus/blob/master/examples/image_processor/facade_parser.ipynb\" target=\"_parent\"><img src=\"https://colab.research.google.com/assets/colab-badge.svg\" alt=\"Open In Colab\"/></a>"
   ]
  },
  {
   "cell_type": "markdown",
   "metadata": {
    "id": "aFu-PB0j9_-s"
   },
   "source": [
    "## **Install BRAILS++**\n",
    "BRAILS++ is not yet available on PyPi. The following line installs the latest version from the GitHub repository using `pip`."
   ]
  },
  {
   "cell_type": "code",
   "execution_count": null,
   "metadata": {
    "colab": {
     "base_uri": "https://localhost:8080/"
    },
    "id": "KkujirTi9oZu",
    "outputId": "56ef57fa-739d-4cea-f16f-06768c53133a"
   },
   "outputs": [],
   "source": [
    "pip install git+https://github.com/NHERI-SimCenter/BrailsPlusPlus"
   ]
  },
  {
   "cell_type": "markdown",
   "metadata": {
    "id": "sqCVhpcm-ePA"
   },
   "source": [
    "## **Import ImageSet and Importer Methods of BRAILS++**\n",
    "BRAILS++ offers various Artificial Intelligence-powered modules for predicting building and infrastructure attributes from images, such as the RoofShapeClassifier demonstrated in this example.\n",
    "\n",
    "The `Importer` class provides the main methods to load these modules. The `ImageSet` class and BRAILS++ scrapers dedicated to this purpose can be utilized to get the images needed to predict attributes. This example will illustrate both approaches."
   ]
  },
  {
   "cell_type": "code",
   "execution_count": null,
   "metadata": {
    "id": "hKRsVFR4-M1b"
   },
   "outputs": [],
   "source": [
    "from brails.types.image_set import ImageSet\n",
    "from brails.utils.utils import Importer"
   ]
  },
  {
   "cell_type": "markdown",
   "metadata": {
    "id": "WWtc71tt-rbt"
   },
   "source": [
    "## **Load Street-Level Imagery: (Option 1) Download Imagery by Specifying the Region Name**\n",
    "The `YearBuiltClassifier` class is created to identify the roof types of buildings using satellite or aerial imagery. In this option, BRAILS++ retrieves the required imagery by following the steps below.\n",
    "1. Call the `RegionBoundary` class with the necessary details to specify the region of interest. In this example, bird's eye imagery of buildings in Pinellas County, FL are downloaded. Therefore, the required information includes the `type` of information provided and the `data` itself, which are the `locationName` and `Lake Charles, LA`.\n",
    "2. Download the footprint inventory for the `RegionBoundary` saved in `region_boundary_object` by downloading the Microsoft footprint data through the `MS_FootprintScraper`. The only information required to initialize `MS_FootprintScraper` is the desired output unit for `length`, which, in this case, is `ft` . The output of `MS_FootprintScraper` is an `AssetInventory` saved in `ms_fp_inventory`.\n",
    "3. Get a randomly selected `100` building subset of the footprint inventory obtained using `MS_FootprintScraper`. This subset is obtained using the `get_random_sample` method of an `AssetInventory` object and is stored in `lake_charles_subset`. For this example, the random seed is set to `40` for reproducability of the results.\n",
    "4. Get the satellite imagery for the selected subset\n"
   ]
  },
  {
   "cell_type": "code",
   "execution_count": null,
   "metadata": {
    "id": "nAYEbgmj6GxA"
   },
   "outputs": [],
   "source": [
    "# Select a region and create its RegionBoundary:\n",
    "region_data = {\"type\": \"locationName\",\n",
    "               \"data\": \"Lake Charles, LA\"}\n",
    "region_boundary_class = importer.get_class(\"RegionBoundary\")\n",
    "region_boundary_object = region_boundary_class(region_data)\n",
    "\n",
    "ms_fp_class = importer.get_class(\"MS_FootprintScraper\")\n",
    "ms_fp_data = {\"length\": \"ft\"}\n",
    "footprint_scraper = ms_fp_class(ms_fp_data)\n",
    "lake_charles_fp = footprint_scraper.get_footprints(region_boundary_object)\n",
    "\n",
    "# Subsample from the extracted assets to keep the image downloading step quick.\n",
    "# Here, we are randomly sampling 20 buildings using a random seed value of 40:\n",
    "lake_charles_fp_subset = lake_charles_fp.get_random_sample(100, 40)\n",
    "\n",
    "# Get aerial imagery for the selected subset using GoogleSatellite:\n",
    "google_street_class = importer.get_class(\"GoogleStreet\")\n",
    "google_street = google_street_class()\n",
    "images_street = google_street.get_images(\n",
    "    lake_charles_fp_subset, \"tmp/street/\")"
   ]
  },
  {
   "cell_type": "markdown",
   "metadata": {
    "id": "-Ce9IL05AMqD"
   },
   "source": [
    "## **Predict Building Occupancies Using FacadeParser Module**\n",
    "`FacadeParser` includes a pre-trained EfficientNet_V2_M model that has been trained on a custom dataset of 100,000 images. This model is capable of predicting building height, roof pitch, foundation height, and window density."
   ]
  },
  {
   "cell_type": "code",
   "execution_count": null,
   "metadata": {
    "id": "XWG53_xtFa_F"
   },
   "outputs": [],
   "source": [
    "importer = Importer()\n",
    "facade_parser_class = importer.get_class('FacadeParser')\n",
    "facade_parser = facade_parser_class()\n",
    "predictions = facade_parser.predict(images_street)"
   ]
  },
  {
   "cell_type": "markdown",
   "metadata": {
    "id": "JunwEpGi6MWg"
   },
   "source": [
    "## **Load Street Imagery**\n",
    "The `facade_parser` class is designed to identify roof types of buildings based on aerial imagery. In this example, we will load images from the `examples/image_processor/images/street_easy` directory of BRAILS++ to showcase how to use the `facade_parser`.\n",
    "\n",
    "To load these images, you first need to initialize an `ImageSet` object, which will be assigned to aerial_images. This object can then load the target images by scanning the specified directory using the set_directory method. The second argument in set_directory is necessary for loading the images; otherwise, the default behavior of `ImageSet` is to simply set the directory to the string value provided in the first argument (in this case, `images/street`)."
   ]
  },
  {
   "cell_type": "markdown",
   "metadata": {
    "id": "oKSebGtqGEb_"
   },
   "source": [
    "## **Retrain Default FacadeParser Module**"
   ]
  },
  {
   "cell_type": "code",
   "execution_count": null,
   "metadata": {
    "id": "dNLUWp3IEq74"
   },
   "outputs": [],
   "source": [
    "facade_parser.retrain(images_street)"
   ]
  }
 ],
 "metadata": {
  "colab": {
   "authorship_tag": "ABX9TyOFVkZ6eTKzRd5pUhX9fiDh",
   "include_colab_link": true,
   "provenance": []
  },
  "kernelspec": {
   "display_name": "Python 3",
   "name": "python3"
  },
  "language_info": {
   "name": "python"
  }
 },
 "nbformat": 4,
 "nbformat_minor": 0
}
