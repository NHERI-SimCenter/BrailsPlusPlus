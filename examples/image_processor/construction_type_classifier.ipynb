{
 "cells": [
  {
   "cell_type": "markdown",
   "metadata": {
    "colab_type": "text",
    "id": "view-in-github"
   },
   "source": [
    "<a href=\"https://colab.research.google.com/github/bacetiner/BrailsPlusPlus/blob/master/examples/image_processor/construction_type_classifier.ipynb\" target=\"_parent\"><img src=\"https://colab.research.google.com/assets/colab-badge.svg\" alt=\"Open In Colab\"/></a>"
   ]
  },
  {
   "cell_type": "markdown",
   "metadata": {
    "id": "aFu-PB0j9_-s"
   },
   "source": [
    "## **Install BRAILS++**\n",
    "BRAILS++ is not yet available on PyPi. The following line installs the latest version from the GitHub repository using `pip`."
   ]
  },
  {
   "cell_type": "code",
   "execution_count": null,
   "metadata": {
    "colab": {
     "base_uri": "https://localhost:8080/"
    },
    "id": "KkujirTi9oZu",
    "outputId": "56ef57fa-739d-4cea-f16f-06768c53133a"
   },
   "outputs": [],
   "source": [
    "pip install git+https://github.com/NHERI-SimCenter/BrailsPlusPlus"
   ]
  },
  {
   "cell_type": "markdown",
   "metadata": {
    "id": "sqCVhpcm-ePA"
   },
   "source": [
    "## **Import ImageSet and Importer Methods of BRAILS++**\n",
    "BRAILS++ offers various Artificial Intelligence-powered modules for predicting building and infrastructure attributes from images, such as the RoofShapeClassifier demonstrated in this example.\n",
    "\n",
    "The `Importer` class provides the main methods to load these modules. The `ImageSet` class and BRAILS++ scrapers dedicated to this purpose can be utilized to get the images needed to predict attributes. This example will illustrate both approaches."
   ]
  },
  {
   "cell_type": "code",
   "execution_count": null,
   "metadata": {
    "id": "hKRsVFR4-M1b"
   },
   "outputs": [],
   "source": [
    "from brails.types.image_set import ImageSet\n",
    "from brails.utils.utils import Importer"
   ]
  },
  {
   "cell_type": "markdown",
   "metadata": {
    "id": "WWtc71tt-rbt"
   },
   "source": [
    "## **Load Street-Level Imagery: (Option 1) Download Imagery by Specifying the Region Name**\n",
    "The `ConsTypeClassifier` class is created to identify the roof types of buildings using satellite or aerial imagery. In this option, BRAILS++ retrieves the required imagery by following the steps below.\n",
    "1. Call the `RegionBoundary` class with the necessary details to specify the region of interest. In this example, bird's eye imagery of buildings in Pinellas County, FL are downloaded. Therefore, the required information includes the `type` of information provided and the `data` itself, which are the `locationName` and `Alameda Island, CA`.\n",
    "2. Download the footprint inventory for the `RegionBoundary` saved in `region_boundary_object` by downloading the OpenStreetMap footprint data through the `OSM_FootprintScraper`. The only information required to initialize `OSM_FootprintScraper` is the desired output unit for `length`, which, in this case, is `ft` . The output of `OSM_FootprintScraper` is an `AssetInventory` saved in `osm_fp_inventory`.\n",
    "3. Get a randomly selected `100` building subset of the footprint inventory obtained using `OSM_FootprintScraper`. This subset is obtained using the `get_random_sample` method of an `AssetInventory` object and is stored in `alameda_subset`. For this example, the random seed is set to `40` for reproducability of the results.\n",
    "4. Get the street-level imagery for the selected subset\n"
   ]
  },
  {
   "cell_type": "code",
   "execution_count": null,
   "metadata": {
    "id": "nAYEbgmj6GxA"
   },
   "outputs": [],
   "source": [
    "# Select a region and create its RegionBoundary:\n",
    "region_data = {\"type\": \"locationName\",\n",
    "               \"data\": \"Alameda Island, CA\"}\n",
    "region_boundary_class = importer.get_class(\"RegionBoundary\")\n",
    "region_boundary_object = region_boundary_class(region_data)\n",
    "\n",
    "osm_fp_class = importer.get_class(\"OSM_FootprintScraper\")\n",
    "osm_fp_data = {\"length\": \"ft\"}\n",
    "footprint_scraper = osm_fp_class(osm_fp_data)\n",
    "alameda_fp = footprint_scraper.get_footprints(region_boundary_object)\n",
    "\n",
    "# Subsample from the extracted assets to keep the image downloading step quick.\n",
    "# Here, we are randomly sampling 20 buildings using a random seed value of 40:\n",
    "alameda_fp_subset = alameda_fp.get_random_sample(100, 40)\n",
    "\n",
    "# Get aerial imagery for the selected subset using GoogleSatellite:\n",
    "google_street_class = importer.get_class(\"GoogleStreet\")\n",
    "google_street = google_street_class()\n",
    "images_street = google_street.get_images(\n",
    "    alameda_fp_subset, \"tmp/street/\")"
   ]
  },
  {
   "cell_type": "markdown",
   "metadata": {
    "id": "-Ce9IL05AMqD"
   },
   "source": [
    "## **Predict Building Occupancies Using ConsTypeClassifier Module**\n",
    "`ConsTypeClassifier` includes a pre-trained EfficientNet_V2_M model that has been trained on a custom dataset of 100,000 images. This model is capable of classifying roofs seen in aerial imagery into five categories: `Concrete`, `Wood`, `Steel`, `Masonry`, and `Manufactured`."
   ]
  },
  {
   "cell_type": "code",
   "execution_count": null,
   "metadata": {
    "id": "XWG53_xtFa_F"
   },
   "outputs": [],
   "source": [
    "importer = Importer()\n",
    "constype_classifier_class = importer.get_class('ConsTypeClassifier')\n",
    "constype_classifier = constype_classifier_class()\n",
    "predictions = constype_classifier.predict(images_street)"
   ]
  },
  {
   "cell_type": "markdown",
   "metadata": {
    "id": "JunwEpGi6MWg"
   },
   "source": [
    "## **Load Street Imagery**\n",
    "The `RoofShapeClassifier` class is designed to identify roof types of buildings based on aerial imagery. In this example, we will load images from the `examples/image_processor/images/satellite_easy` directory of BRAILS++ to showcase how to use the `ConsTypeClassifier`.\n",
    "\n",
    "To load these images, you first need to initialize an `ImageSet` object, which will be assigned to aerial_images. This object can then load the target images by scanning the specified directory using the set_directory method. The second argument in set_directory is necessary for loading the images; otherwise, the default behavior of `ImageSet` is to simply set the directory to the string value provided in the first argument (in this case, `images/satellite`)."
   ]
  },
  {
   "cell_type": "markdown",
   "metadata": {
    "id": "oKSebGtqGEb_"
   },
   "source": [
    "## **Retrain Default OccupancyClassifier Module**"
   ]
  },
  {
   "cell_type": "code",
   "execution_count": null,
   "metadata": {
    "id": "dNLUWp3IEq74"
   },
   "outputs": [],
   "source": [
    "constype_classifier.retrain(images_street)"
   ]
  }
 ],
 "metadata": {
  "colab": {
   "authorship_tag": "ABX9TyMIN3BtR+M8pn2yYgtfIKZG",
   "include_colab_link": true,
   "provenance": []
  },
  "kernelspec": {
   "display_name": "Python 3",
   "name": "python3"
  },
  "language_info": {
   "name": "python"
  }
 },
 "nbformat": 4,
 "nbformat_minor": 0
}
