{
 "cells": [
  {
   "cell_type": "code",
   "execution_count": null,
   "metadata": {},
   "outputs": [],
   "source": [
    "%matplotlib inline\n",
    "import os\n",
    "from PIL import Image\n",
    "import matplotlib.pyplot as plt\n",
    "import matplotlib.image as mpimg\n",
    "%matplotlib inline\n",
    "\n",
    "import pandas as pd\n",
    "import numpy as np\n",
    "import glob\n",
    "import json\n",
    "import cv2\n",
    "import glob\n",
    "os.environ[\"OPENCV_LOG_LEVEL\"]=\"SILENT\"\n",
    "\n"
   ]
  },
  {
   "cell_type": "markdown",
   "metadata": {},
   "source": [
    "## Inventory Processing"
   ]
  },
  {
   "cell_type": "code",
   "execution_count": null,
   "metadata": {},
   "outputs": [],
   "source": [
    "import os\n",
    "import sys\n",
    "from brails import Importer\n",
    "from brails.types.image_set import ImageSet \n",
    "\n",
    "\n",
    "# sys.path.insert(1, \"../../\")\n",
    "\n",
    "# This script needs a Google API Key to run.\n",
    "# We suggest placing your API key in file apiKey.txt in the same directory as \n",
    "# this script if you plan to commit changes to this example. This way, you do \n",
    "# not risk accidentally uploading your API key (apiKey.txt is in .gitignore, \n",
    "# so you have work to do to get it uploaded)\n",
    "\n",
    "apiKey = \"\"\n",
    "if os.path.exists(\"apiKey.txt\"):\n",
    "    with open(\"apiKey.txt\", \"r\") as file:\n",
    "        apiKey = file.readline().strip()  # Read the first line and strip whitespace\n",
    "\n",
    "# Create the importer:\n",
    "importer = Importer()\n",
    "\n",
    "# Select a region and create its RegionBoundary:\n",
    "region_data = {\"type\": \"locationName\", \"data\": \"Tiburon, CA\"}\n",
    "region_boundary_class = importer.get_class(\"RegionBoundary\")\n",
    "region_boundary_object = region_boundary_class(region_data)\n",
    "\n",
    "# Get AssetInventory for buildings in the defined region via \n",
    "# USA_FootprintScraper:\n",
    "print(\"Running USA_FootprintsScraper...\")\n",
    "\n",
    "usa_class = importer.get_class(\"USA_FootprintScraper\")\n",
    "usa_data = {\"length\": \"ft\"}\n",
    "instance2 = usa_class(usa_data)\n",
    "usa_inventory = instance2.get_footprints(region_boundary_object)\n",
    "\n",
    "print(\"\\nTotal number of assets detected using FEMA USA Structures data: \"\n",
    "      , len(usa_inventory.inventory))\n",
    "\n",
    "# Subsample from the extracted assets to keep the image downloading step quick.\n",
    "# Here, we are randomly sampling 15 buildings using a random seed value of 40:\n",
    "small_inventory = usa_inventory.get_random_sample(15, 40)\n",
    "print(\"Number of assets in the selected subset: \", \n",
    "      len(small_inventory.inventory))\n",
    " \n",
    "# Get aerial imagery for the selected subset using GoogleSatellite:\n",
    "google_satellite_class = importer.get_class(\"GoogleSatellite\")\n",
    "google_satellite = google_satellite_class()\n",
    "images_satellite = google_satellite.get_images(small_inventory, \"tmp/satellite/\")\n",
    "\n",
    "images_satellite.print()\n",
    "\n",
    "# Get street level imagery for the selected subset using GoogleStreetview:\n",
    "google_street_class = importer.get_class(\"GoogleStreetview\")\n",
    "google_input = {\"apiKey\": apiKey}\n",
    "google_street = google_street_class(google_input)\n",
    "images_street = google_street.get_images(small_inventory, \"tmp/street/\")\n",
    "images_street.print()\n",
    "\n",
    "#crop and zoom into the target house\n",
    "filter_house = importer.get_class(\"HouseView\")\n",
    "filter_data={}\n",
    "filter1 = filter_house(filter_data)\n",
    "filter1.filter(images_street, \"filtered_images\")\n",
    "images_street = ImageSet()\n",
    "images_street.set_directory(\"filtered_images\", True) #set directory that stores filtered images"
   ]
  },
  {
   "cell_type": "code",
   "execution_count": null,
   "metadata": {},
   "outputs": [],
   "source": [
    "'''\n",
    "Purpose: Predict buillding attributes\n",
    "'''\n",
    "\n",
    "print('NFLOOR_VLM PREDICTIONS')\n",
    "my_class = importer.get_class('NFloorVLM')\n",
    "my_classifier = my_class(GPT_API_KEY)\n",
    "predictions = my_classifier.predict(images_street)\n",
    "print(predictions)\n"
   ]
  },
  {
   "cell_type": "code",
   "execution_count": null,
   "metadata": {},
   "outputs": [],
   "source": [
    "# RoofShape Classification\n",
    "%matplotlib inline\n",
    "plt.figure()\n",
    "curr_dir = \"tmp/street/\"\n",
    "\n",
    "for idx, (key, img) in enumerate(images_street.images.items()):\n",
    "    filename = img.filename\n",
    "    img_path = os.path.join(curr_dir, filename)\n",
    "    img = mpimg.imread(img_path)    \n",
    "    img = cv2.resize(img, (360, 480), interpolation = cv2.INTER_LINEAR)\n",
    "    pred = predictions[key]\n",
    "    plt.subplot(3, 5, idx+1)\n",
    "    plt.imshow(img, cmap='gray')\n",
    "    plt.title(pred)\n",
    "    plt.axis('off')\n",
    "plt.tight_layout()\n",
    "plt.margins(0,0)\n",
    "plt.show()"
   ]
  },
  {
   "cell_type": "code",
   "execution_count": null,
   "metadata": {},
   "outputs": [],
   "source": []
  }
 ],
 "metadata": {
  "kernelspec": {
   "display_name": "Python 3 (ipykernel)",
   "language": "python",
   "name": "python3"
  },
  "language_info": {
   "codemirror_mode": {
    "name": "ipython",
    "version": 3
   },
   "file_extension": ".py",
   "mimetype": "text/x-python",
   "name": "python",
   "nbconvert_exporter": "python",
   "pygments_lexer": "ipython3",
   "version": "3.10.15"
  }
 },
 "nbformat": 4,
 "nbformat_minor": 4
}
