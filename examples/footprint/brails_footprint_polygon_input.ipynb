{
 "cells": [
  {
   "cell_type": "markdown",
   "id": "77ee23d9-c278-4ba6-a1f5-9ab882c79489",
   "metadata": {},
   "source": [
    "# Extract Building Footprints by Specifying a Region Polygon with BRAILS++"
   ]
  },
  {
   "cell_type": "markdown",
   "id": "3c43c1e3-9c92-47a3-9ea5-824e5d134263",
   "metadata": {},
   "source": [
    "## Install BRAILS++\n",
    "Before running the following cells, install the latest version of BRAILS++."
   ]
  },
  {
   "cell_type": "code",
   "execution_count": null,
   "id": "24c05ac7-5d53-4186-bed9-cf650d11b6a5",
   "metadata": {},
   "outputs": [],
   "source": [
    "!pip install brails"
   ]
  },
  {
   "cell_type": "markdown",
   "id": "114549e3-5e63-4ec0-bc06-71529a7b3897",
   "metadata": {},
   "source": [
    "## Import Required Packages"
   ]
  },
  {
   "cell_type": "code",
   "execution_count": null,
   "id": "71cf2a7c-796b-4f5f-8b93-8452f9972850",
   "metadata": {},
   "outputs": [],
   "source": [
    "from brails import Importer"
   ]
  },
  {
   "cell_type": "markdown",
   "id": "8880614e-4fab-4716-a6c5-2d26d4dba6b5",
   "metadata": {},
   "source": [
    "## Define Location and Scraper Information\n",
    "\n",
    "Specify the geographic region, scraper type, and output file for building footprint extraction.\n",
    "\n",
    "- **LOCATION**: Coordinates defining the polygon of the target area (longitude, latitude pairs).  \n",
    "- **LOCATION_TYPE**: Indicates that the target area is defined as a polygon (`'locationPolygon'`).  \n",
    "- **SCRAPER**: The scraper class to use for fetching building footprints (here, `MS_FootprintScraper`).  \n",
    "- **INVENTORY_OUTPUT**: Filename for saving the retrieved building footprint inventory in GeoJSON format."
   ]
  },
  {
   "cell_type": "code",
   "execution_count": null,
   "id": "e5858335-04c1-4a2a-b636-df7fa9a8783a",
   "metadata": {},
   "outputs": [],
   "source": [
    "LOCATION = (-105.17804286243032, 39.96267337069906, \n",
    "            -105.17409465066422, 39.908822748673806, \n",
    "            -105.14710089848077, 39.913924990721895, \n",
    "            -105.14692923709964, 39.92886743529344, \n",
    "            -105.13761660717307, 39.92899907229594, \n",
    "            -105.13748786113722, 39.939644376767596, \n",
    "            -105.16192815027627, 39.956209585878206, \n",
    "            -105.17804286243032, 39.96267337069906)\n",
    "LOCATION_TYPE = 'locationPolygon'\n",
    "SCRAPER = \"MS_FootprintScraper\"\n",
    "INVENTORY_OUTPUT = 'bldg_inventory_superior_co.geojson'"
   ]
  },
  {
   "cell_type": "markdown",
   "id": "567090d2-6ea4-4e12-9c1a-e01501388f75",
   "metadata": {},
   "source": [
    "## Create a Region Boundary for the Area of Interest\n",
    "\n",
    "We first create an `Importer` instance, then define a `RegionBoundary` object representing the target area using the coordinates specified earlier.  This object will be used by the scraper to limit footprint extraction to the area of interest."
   ]
  },
  {
   "cell_type": "code",
   "execution_count": null,
   "id": "659971d9-4ac3-4efa-a7ff-cca0c82838ce",
   "metadata": {},
   "outputs": [],
   "source": [
    "# Create an Importer instance:\n",
    "importer = Importer()\n",
    "\n",
    "# Create a region boundary:\n",
    "region_boundary_class = importer.get_class('RegionBoundary')\n",
    "region_boundary_object = region_boundary_class({'type': LOCATION_TYPE,\n",
    "                                                'data': LOCATION})"
   ]
  },
  {
   "cell_type": "markdown",
   "id": "9577bd83-b5ca-44c2-8475-147ba7315b78",
   "metadata": {},
   "source": [
    "## Create a Building Footprint Scraper and Retrieve the Building Inventory for the Specified Region\n",
    "\n",
    "First, select a scraper class to obtain geometric footprint data for buildings within a given region.  \n",
    "Available scraper classes:  \n",
    "- `OSM_FootprintScraper` – Gets OpenStreetMap data  \n",
    "- `USA_FootprintScraper` – Retrieves FEMA USA Structures dataset  \n",
    "- `MS_FootprintScraper` – Uses Microsoft building footprints  \n",
    "- `OvertureMapsFootprintScraper` – Uses Overture Maps data  \n",
    "\n",
    "In the example below, we dynamically load the chosen scraper class, set the output length units to feet, and then request all building footprints within the specified `region_boundary_object`. The result, `scraper_inventory`, contains the geometric data for further analysis."
   ]
  },
  {
   "cell_type": "code",
   "execution_count": null,
   "id": "64ade594-871c-48f9-af88-867d387a7d55",
   "metadata": {},
   "outputs": [],
   "source": [
    "# Call a scraper to get geometric data for buildings:\n",
    "scraper_class = importer.get_class(SCRAPER)\n",
    "scraper = scraper_class({'length': 'ft'})\n",
    "scraper_inventory = scraper.get_footprints(region_boundary_object)"
   ]
  },
  {
   "cell_type": "markdown",
   "id": "c388de4c-a0ee-49b8-b7ac-aeed05c929b1",
   "metadata": {},
   "source": [
    "## Export Building Footprints to GeoJSON  \n",
    "\n",
    "Once the building footprint inventory has been collected, it can be saved in the widely used GeoJSON format for mapping and spatial analysis.  \n",
    "\n",
    "The following code writes the footprints to the file path specified in `INVENTORY_OUTPUT`."
   ]
  },
  {
   "cell_type": "code",
   "execution_count": null,
   "id": "eed58b91-ca3f-49a1-80e0-2c21f426efa2",
   "metadata": {},
   "outputs": [],
   "source": [
    "_ = scraper_inventory.write_to_geojson(INVENTORY_OUTPUT)"
   ]
  }
 ],
 "metadata": {
  "kernelspec": {
   "display_name": "Python 3 (ipykernel)",
   "language": "python",
   "name": "python3"
  },
  "language_info": {
   "codemirror_mode": {
    "name": "ipython",
    "version": 3
   },
   "file_extension": ".py",
   "mimetype": "text/x-python",
   "name": "python",
   "nbconvert_exporter": "python",
   "pygments_lexer": "ipython3",
   "version": "3.10.13"
  }
 },
 "nbformat": 4,
 "nbformat_minor": 5
}
