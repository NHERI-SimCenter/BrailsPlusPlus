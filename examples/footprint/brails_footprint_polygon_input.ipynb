{
 "cells": [
  {
   "cell_type": "markdown",
   "id": "77ee23d9-c278-4ba6-a1f5-9ab882c79489",
   "metadata": {},
   "source": [
    "# Extract Building Footprints by Specifying a Region Polygon with BRAILS++"
   ]
  },
  {
   "cell_type": "markdown",
   "id": "3c43c1e3-9c92-47a3-9ea5-824e5d134263",
   "metadata": {},
   "source": [
    "## Install BRAILS++\n",
    "Before running the following cells, install the latest version of BRAILS++."
   ]
  },
  {
   "cell_type": "code",
   "execution_count": 1,
   "id": "24c05ac7-5d53-4186-bed9-cf650d11b6a5",
   "metadata": {},
   "outputs": [
    {
     "name": "stdout",
     "output_type": "stream",
     "text": [
      "Requirement already satisfied: brails in /home/bacetiner/anaconda3/envs/brails-pip/lib/python3.10/site-packages (4.1.2)\n",
      "Requirement already satisfied: addict in /home/bacetiner/anaconda3/envs/brails-pip/lib/python3.10/site-packages (from brails) (2.4.0)\n",
      "Requirement already satisfied: Cython in /home/bacetiner/anaconda3/envs/brails-pip/lib/python3.10/site-packages (from brails) (3.1.0)\n",
      "Requirement already satisfied: ftfy in /home/bacetiner/anaconda3/envs/brails-pip/lib/python3.10/site-packages (from brails) (6.3.1)\n",
      "Requirement already satisfied: matplotlib in /home/bacetiner/anaconda3/envs/brails-pip/lib/python3.10/site-packages (from brails) (3.8.3)\n",
      "Requirement already satisfied: opencv-python in /home/bacetiner/anaconda3/envs/brails-pip/lib/python3.10/site-packages (from brails) (4.9.0.80)\n",
      "Requirement already satisfied: pandas in /home/bacetiner/anaconda3/envs/brails-pip/lib/python3.10/site-packages (from brails) (2.2.3)\n",
      "Requirement already satisfied: pillow in /home/bacetiner/anaconda3/envs/brails-pip/lib/python3.10/site-packages (from brails) (10.2.0)\n",
      "Requirement already satisfied: plotly in /home/bacetiner/anaconda3/envs/brails-pip/lib/python3.10/site-packages (from brails) (6.1.0)\n",
      "Requirement already satisfied: pycocotools in /home/bacetiner/anaconda3/envs/brails-pip/lib/python3.10/site-packages (from brails) (2.0.8)\n",
      "Requirement already satisfied: pyarrow in /home/bacetiner/anaconda3/envs/brails-pip/lib/python3.10/site-packages (from brails) (20.0.0)\n",
      "Requirement already satisfied: rasterio in /home/bacetiner/anaconda3/envs/brails-pip/lib/python3.10/site-packages (from brails) (1.3.9)\n",
      "Requirement already satisfied: reverse-geocode in /home/bacetiner/anaconda3/envs/brails-pip/lib/python3.10/site-packages (from brails) (1.6.6)\n",
      "Requirement already satisfied: requests in /home/bacetiner/anaconda3/envs/brails-pip/lib/python3.10/site-packages (from brails) (2.32.4)\n",
      "Requirement already satisfied: scikit-learn in /home/bacetiner/anaconda3/envs/brails-pip/lib/python3.10/site-packages (from brails) (1.4.1.post1)\n",
      "Requirement already satisfied: seaborn in /home/bacetiner/anaconda3/envs/brails-pip/lib/python3.10/site-packages (from brails) (0.13.2)\n",
      "Requirement already satisfied: shapely in /home/bacetiner/anaconda3/envs/brails-pip/lib/python3.10/site-packages (from brails) (2.0.3)\n",
      "Requirement already satisfied: supervision in /home/bacetiner/anaconda3/envs/brails-pip/lib/python3.10/site-packages (from brails) (0.25.1)\n",
      "Requirement already satisfied: timm in /home/bacetiner/anaconda3/envs/brails-pip/lib/python3.10/site-packages (from brails) (1.0.15)\n",
      "Requirement already satisfied: tensorboard in /home/bacetiner/anaconda3/envs/brails-pip/lib/python3.10/site-packages (from brails) (2.16.2)\n",
      "Requirement already satisfied: tensorboardX in /home/bacetiner/anaconda3/envs/brails-pip/lib/python3.10/site-packages (from brails) (2.6.2.2)\n",
      "Requirement already satisfied: torch<=2.5.0 in /home/bacetiner/anaconda3/envs/brails-pip/lib/python3.10/site-packages (from brails) (2.2.1)\n",
      "Requirement already satisfied: torchvision<=0.20.0 in /home/bacetiner/anaconda3/envs/brails-pip/lib/python3.10/site-packages (from brails) (0.17.1)\n",
      "Requirement already satisfied: transformers in /home/bacetiner/anaconda3/envs/brails-pip/lib/python3.10/site-packages (from brails) (4.51.3)\n",
      "Requirement already satisfied: wget in /home/bacetiner/anaconda3/envs/brails-pip/lib/python3.10/site-packages (from brails) (3.2)\n",
      "Requirement already satisfied: yacs in /home/bacetiner/anaconda3/envs/brails-pip/lib/python3.10/site-packages (from brails) (0.1.8)\n",
      "Requirement already satisfied: webcolors in /home/bacetiner/anaconda3/envs/brails-pip/lib/python3.10/site-packages (from brails) (1.13)\n",
      "Requirement already satisfied: yapf in /home/bacetiner/anaconda3/envs/brails-pip/lib/python3.10/site-packages (from brails) (0.40.2)\n",
      "Requirement already satisfied: filelock in /home/bacetiner/anaconda3/envs/brails-pip/lib/python3.10/site-packages (from torch<=2.5.0->brails) (3.13.1)\n",
      "Requirement already satisfied: typing-extensions>=4.8.0 in /home/bacetiner/anaconda3/envs/brails-pip/lib/python3.10/site-packages (from torch<=2.5.0->brails) (4.12.2)\n",
      "Requirement already satisfied: sympy in /home/bacetiner/anaconda3/envs/brails-pip/lib/python3.10/site-packages (from torch<=2.5.0->brails) (1.12)\n",
      "Requirement already satisfied: networkx in /home/bacetiner/anaconda3/envs/brails-pip/lib/python3.10/site-packages (from torch<=2.5.0->brails) (3.2.1)\n",
      "Requirement already satisfied: jinja2 in /home/bacetiner/anaconda3/envs/brails-pip/lib/python3.10/site-packages (from torch<=2.5.0->brails) (3.1.6)\n",
      "Requirement already satisfied: fsspec in /home/bacetiner/anaconda3/envs/brails-pip/lib/python3.10/site-packages (from torch<=2.5.0->brails) (2024.3.1)\n",
      "Requirement already satisfied: nvidia-cuda-nvrtc-cu12==12.1.105 in /home/bacetiner/anaconda3/envs/brails-pip/lib/python3.10/site-packages (from torch<=2.5.0->brails) (12.1.105)\n",
      "Requirement already satisfied: nvidia-cuda-runtime-cu12==12.1.105 in /home/bacetiner/anaconda3/envs/brails-pip/lib/python3.10/site-packages (from torch<=2.5.0->brails) (12.1.105)\n",
      "Requirement already satisfied: nvidia-cuda-cupti-cu12==12.1.105 in /home/bacetiner/anaconda3/envs/brails-pip/lib/python3.10/site-packages (from torch<=2.5.0->brails) (12.1.105)\n",
      "Requirement already satisfied: nvidia-cudnn-cu12==8.9.2.26 in /home/bacetiner/anaconda3/envs/brails-pip/lib/python3.10/site-packages (from torch<=2.5.0->brails) (8.9.2.26)\n",
      "Requirement already satisfied: nvidia-cublas-cu12==12.1.3.1 in /home/bacetiner/anaconda3/envs/brails-pip/lib/python3.10/site-packages (from torch<=2.5.0->brails) (12.1.3.1)\n",
      "Requirement already satisfied: nvidia-cufft-cu12==11.0.2.54 in /home/bacetiner/anaconda3/envs/brails-pip/lib/python3.10/site-packages (from torch<=2.5.0->brails) (11.0.2.54)\n",
      "Requirement already satisfied: nvidia-curand-cu12==10.3.2.106 in /home/bacetiner/anaconda3/envs/brails-pip/lib/python3.10/site-packages (from torch<=2.5.0->brails) (10.3.2.106)\n",
      "Requirement already satisfied: nvidia-cusolver-cu12==11.4.5.107 in /home/bacetiner/anaconda3/envs/brails-pip/lib/python3.10/site-packages (from torch<=2.5.0->brails) (11.4.5.107)\n",
      "Requirement already satisfied: nvidia-cusparse-cu12==12.1.0.106 in /home/bacetiner/anaconda3/envs/brails-pip/lib/python3.10/site-packages (from torch<=2.5.0->brails) (12.1.0.106)\n",
      "Requirement already satisfied: nvidia-nccl-cu12==2.19.3 in /home/bacetiner/anaconda3/envs/brails-pip/lib/python3.10/site-packages (from torch<=2.5.0->brails) (2.19.3)\n",
      "Requirement already satisfied: nvidia-nvtx-cu12==12.1.105 in /home/bacetiner/anaconda3/envs/brails-pip/lib/python3.10/site-packages (from torch<=2.5.0->brails) (12.1.105)\n",
      "Requirement already satisfied: triton==2.2.0 in /home/bacetiner/anaconda3/envs/brails-pip/lib/python3.10/site-packages (from torch<=2.5.0->brails) (2.2.0)\n",
      "Requirement already satisfied: nvidia-nvjitlink-cu12 in /home/bacetiner/anaconda3/envs/brails-pip/lib/python3.10/site-packages (from nvidia-cusolver-cu12==11.4.5.107->torch<=2.5.0->brails) (12.4.99)\n",
      "Requirement already satisfied: numpy in /home/bacetiner/anaconda3/envs/brails-pip/lib/python3.10/site-packages (from torchvision<=0.20.0->brails) (1.26.4)\n",
      "Requirement already satisfied: wcwidth in /home/bacetiner/anaconda3/envs/brails-pip/lib/python3.10/site-packages (from ftfy->brails) (0.2.13)\n",
      "Requirement already satisfied: MarkupSafe>=2.0 in /home/bacetiner/anaconda3/envs/brails-pip/lib/python3.10/site-packages (from jinja2->torch<=2.5.0->brails) (3.0.2)\n",
      "Requirement already satisfied: contourpy>=1.0.1 in /home/bacetiner/anaconda3/envs/brails-pip/lib/python3.10/site-packages (from matplotlib->brails) (1.2.0)\n",
      "Requirement already satisfied: cycler>=0.10 in /home/bacetiner/anaconda3/envs/brails-pip/lib/python3.10/site-packages (from matplotlib->brails) (0.12.1)\n",
      "Requirement already satisfied: fonttools>=4.22.0 in /home/bacetiner/anaconda3/envs/brails-pip/lib/python3.10/site-packages (from matplotlib->brails) (4.50.0)\n",
      "Requirement already satisfied: kiwisolver>=1.3.1 in /home/bacetiner/anaconda3/envs/brails-pip/lib/python3.10/site-packages (from matplotlib->brails) (1.4.5)\n",
      "Requirement already satisfied: packaging>=20.0 in /home/bacetiner/anaconda3/envs/brails-pip/lib/python3.10/site-packages (from matplotlib->brails) (24.2)\n",
      "Requirement already satisfied: pyparsing>=2.3.1 in /home/bacetiner/anaconda3/envs/brails-pip/lib/python3.10/site-packages (from matplotlib->brails) (3.1.2)\n",
      "Requirement already satisfied: python-dateutil>=2.7 in /home/bacetiner/anaconda3/envs/brails-pip/lib/python3.10/site-packages (from matplotlib->brails) (2.9.0.post0)\n",
      "Requirement already satisfied: six>=1.5 in /home/bacetiner/anaconda3/envs/brails-pip/lib/python3.10/site-packages (from python-dateutil>=2.7->matplotlib->brails) (1.17.0)\n",
      "Requirement already satisfied: pytz>=2020.1 in /home/bacetiner/anaconda3/envs/brails-pip/lib/python3.10/site-packages (from pandas->brails) (2025.2)\n",
      "Requirement already satisfied: tzdata>=2022.7 in /home/bacetiner/anaconda3/envs/brails-pip/lib/python3.10/site-packages (from pandas->brails) (2024.1)\n",
      "Requirement already satisfied: narwhals>=1.15.1 in /home/bacetiner/anaconda3/envs/brails-pip/lib/python3.10/site-packages (from plotly->brails) (1.39.1)\n",
      "Requirement already satisfied: affine in /home/bacetiner/anaconda3/envs/brails-pip/lib/python3.10/site-packages (from rasterio->brails) (2.4.0)\n",
      "Requirement already satisfied: attrs in /home/bacetiner/anaconda3/envs/brails-pip/lib/python3.10/site-packages (from rasterio->brails) (24.3.0)\n",
      "Requirement already satisfied: certifi in /home/bacetiner/anaconda3/envs/brails-pip/lib/python3.10/site-packages (from rasterio->brails) (2025.7.14)\n",
      "Requirement already satisfied: click>=4.0 in /home/bacetiner/anaconda3/envs/brails-pip/lib/python3.10/site-packages (from rasterio->brails) (8.1.8)\n",
      "Requirement already satisfied: cligj>=0.5 in /home/bacetiner/anaconda3/envs/brails-pip/lib/python3.10/site-packages (from rasterio->brails) (0.7.2)\n",
      "Requirement already satisfied: snuggs>=1.4.1 in /home/bacetiner/anaconda3/envs/brails-pip/lib/python3.10/site-packages (from rasterio->brails) (1.4.7)\n",
      "Requirement already satisfied: click-plugins in /home/bacetiner/anaconda3/envs/brails-pip/lib/python3.10/site-packages (from rasterio->brails) (1.1.1)\n",
      "Requirement already satisfied: setuptools in /home/bacetiner/anaconda3/envs/brails-pip/lib/python3.10/site-packages (from rasterio->brails) (78.1.1)\n",
      "Requirement already satisfied: charset_normalizer<4,>=2 in /home/bacetiner/anaconda3/envs/brails-pip/lib/python3.10/site-packages (from requests->brails) (3.3.2)\n",
      "Requirement already satisfied: idna<4,>=2.5 in /home/bacetiner/anaconda3/envs/brails-pip/lib/python3.10/site-packages (from requests->brails) (3.7)\n",
      "Requirement already satisfied: urllib3<3,>=1.21.1 in /home/bacetiner/anaconda3/envs/brails-pip/lib/python3.10/site-packages (from requests->brails) (2.5.0)\n",
      "Requirement already satisfied: scipy in /home/bacetiner/anaconda3/envs/brails-pip/lib/python3.10/site-packages (from reverse-geocode->brails) (1.12.0)\n",
      "Requirement already satisfied: joblib>=1.2.0 in /home/bacetiner/anaconda3/envs/brails-pip/lib/python3.10/site-packages (from scikit-learn->brails) (1.3.2)\n",
      "Requirement already satisfied: threadpoolctl>=2.0.0 in /home/bacetiner/anaconda3/envs/brails-pip/lib/python3.10/site-packages (from scikit-learn->brails) (3.3.0)\n",
      "Requirement already satisfied: defusedxml<0.8.0,>=0.7.1 in /home/bacetiner/anaconda3/envs/brails-pip/lib/python3.10/site-packages (from supervision->brails) (0.7.1)\n",
      "Requirement already satisfied: pyyaml>=5.3 in /home/bacetiner/anaconda3/envs/brails-pip/lib/python3.10/site-packages (from supervision->brails) (6.0.2)\n",
      "Requirement already satisfied: tqdm>=4.62.3 in /home/bacetiner/anaconda3/envs/brails-pip/lib/python3.10/site-packages (from supervision->brails) (4.66.2)\n",
      "Requirement already satisfied: mpmath>=0.19 in /home/bacetiner/anaconda3/envs/brails-pip/lib/python3.10/site-packages (from sympy->torch<=2.5.0->brails) (1.3.0)\n",
      "Requirement already satisfied: absl-py>=0.4 in /home/bacetiner/anaconda3/envs/brails-pip/lib/python3.10/site-packages (from tensorboard->brails) (2.1.0)\n",
      "Requirement already satisfied: grpcio>=1.48.2 in /home/bacetiner/anaconda3/envs/brails-pip/lib/python3.10/site-packages (from tensorboard->brails) (1.62.1)\n",
      "Requirement already satisfied: markdown>=2.6.8 in /home/bacetiner/anaconda3/envs/brails-pip/lib/python3.10/site-packages (from tensorboard->brails) (3.6)\n",
      "Requirement already satisfied: protobuf!=4.24.0,>=3.19.6 in /home/bacetiner/anaconda3/envs/brails-pip/lib/python3.10/site-packages (from tensorboard->brails) (5.26.0)\n",
      "Requirement already satisfied: tensorboard-data-server<0.8.0,>=0.7.0 in /home/bacetiner/anaconda3/envs/brails-pip/lib/python3.10/site-packages (from tensorboard->brails) (0.7.2)\n",
      "Requirement already satisfied: werkzeug>=1.0.1 in /home/bacetiner/anaconda3/envs/brails-pip/lib/python3.10/site-packages (from tensorboard->brails) (3.0.1)\n",
      "Requirement already satisfied: huggingface_hub in /home/bacetiner/anaconda3/envs/brails-pip/lib/python3.10/site-packages (from timm->brails) (0.31.2)\n",
      "Requirement already satisfied: safetensors in /home/bacetiner/anaconda3/envs/brails-pip/lib/python3.10/site-packages (from timm->brails) (0.5.3)\n",
      "Requirement already satisfied: regex!=2019.12.17 in /home/bacetiner/anaconda3/envs/brails-pip/lib/python3.10/site-packages (from transformers->brails) (2024.11.6)\n",
      "Requirement already satisfied: tokenizers<0.22,>=0.21 in /home/bacetiner/anaconda3/envs/brails-pip/lib/python3.10/site-packages (from transformers->brails) (0.21.1)\n",
      "Requirement already satisfied: importlib-metadata>=6.6.0 in /home/bacetiner/anaconda3/envs/brails-pip/lib/python3.10/site-packages (from yapf->brails) (8.5.0)\n",
      "Requirement already satisfied: platformdirs>=3.5.1 in /home/bacetiner/anaconda3/envs/brails-pip/lib/python3.10/site-packages (from yapf->brails) (4.3.7)\n",
      "Requirement already satisfied: tomli>=2.0.1 in /home/bacetiner/anaconda3/envs/brails-pip/lib/python3.10/site-packages (from yapf->brails) (2.0.1)\n",
      "Requirement already satisfied: zipp>=3.20 in /home/bacetiner/anaconda3/envs/brails-pip/lib/python3.10/site-packages (from importlib-metadata>=6.6.0->yapf->brails) (3.21.0)\n"
     ]
    }
   ],
   "source": [
    "!pip install brails"
   ]
  },
  {
   "cell_type": "markdown",
   "id": "114549e3-5e63-4ec0-bc06-71529a7b3897",
   "metadata": {},
   "source": [
    "## Import Required Packages"
   ]
  },
  {
   "cell_type": "code",
   "execution_count": 2,
   "id": "71cf2a7c-796b-4f5f-8b93-8452f9972850",
   "metadata": {},
   "outputs": [
    {
     "name": "stdout",
     "output_type": "stream",
     "text": [
      "ERROR! Session/line number was not unique in database. History logging moved to new session 2\n"
     ]
    }
   ],
   "source": [
    "from brails import Importer"
   ]
  },
  {
   "cell_type": "markdown",
   "id": "8880614e-4fab-4716-a6c5-2d26d4dba6b5",
   "metadata": {},
   "source": [
    "## Define Location and Scraper Information\n",
    "\n",
    "Specify the geographic region, scraper type, and output file for building footprint extraction.\n",
    "\n",
    "- **LOCATION**: Coordinates defining the polygon of the target area (longitude, latitude pairs).  \n",
    "- **LOCATION_TYPE**: Indicates that the target area is defined as a polygon (`'locationPolygon'`).  \n",
    "- **SCRAPER**: The scraper class to use for fetching building footprints (here, `MS_FootprintScraper`).  \n",
    "- **INVENTORY_OUTPUT**: Filename for saving the retrieved building footprint inventory in GeoJSON format."
   ]
  },
  {
   "cell_type": "code",
   "execution_count": 3,
   "id": "e5858335-04c1-4a2a-b636-df7fa9a8783a",
   "metadata": {},
   "outputs": [],
   "source": [
    "LOCATION = (-105.17804286243032, 39.96267337069906, \n",
    "            -105.17409465066422, 39.908822748673806, \n",
    "            -105.14710089848077, 39.913924990721895, \n",
    "            -105.14692923709964, 39.92886743529344, \n",
    "            -105.13761660717307, 39.92899907229594, \n",
    "            -105.13748786113722, 39.939644376767596, \n",
    "            -105.16192815027627, 39.956209585878206, \n",
    "            -105.17804286243032, 39.96267337069906)\n",
    "LOCATION_TYPE = 'locationPolygon'\n",
    "SCRAPER = \"MS_FootprintScraper\"\n",
    "INVENTORY_OUTPUT = 'bldg_inventory_superior_co.geojson'"
   ]
  },
  {
   "cell_type": "markdown",
   "id": "567090d2-6ea4-4e12-9c1a-e01501388f75",
   "metadata": {},
   "source": [
    "## Create a Region Boundary for the Area of Interest\n",
    "\n",
    "We first create an `Importer` instance, then define a `RegionBoundary` object representing the target area using the coordinates specified earlier.  This object will be used by the scraper to limit footprint extraction to the area of interest."
   ]
  },
  {
   "cell_type": "code",
   "execution_count": 4,
   "id": "659971d9-4ac3-4efa-a7ff-cca0c82838ce",
   "metadata": {},
   "outputs": [],
   "source": [
    "# Create an Importer instance:\n",
    "importer = Importer()\n",
    "\n",
    "# Create a region boundary:\n",
    "region_boundary_class = importer.get_class('RegionBoundary')\n",
    "region_boundary_object = region_boundary_class({'type': LOCATION_TYPE,\n",
    "                                                'data': LOCATION})"
   ]
  },
  {
   "cell_type": "markdown",
   "id": "9577bd83-b5ca-44c2-8475-147ba7315b78",
   "metadata": {},
   "source": [
    "## Create a Building Footprint Scraper and Retrieve the Building Inventory for the Specified Region\n",
    "\n",
    "First, select a scraper class to obtain geometric footprint data for buildings within a given region.  \n",
    "Available scraper classes:  \n",
    "- `OSM_FootprintScraper` – Gets OpenStreetMap data  \n",
    "- `USA_FootprintScraper` – Retrieves FEMA USA Structures dataset  \n",
    "- `MS_FootprintScraper` – Uses Microsoft building footprints  \n",
    "- `OvertureMapsFootprintScraper` – Uses Overture Maps data  \n",
    "\n",
    "In the example below, we dynamically load the chosen scraper class, set the output length units to feet, and then request all building footprints within the specified `region_boundary_object`. The result, `scraper_inventory`, contains the geometric data for further analysis."
   ]
  },
  {
   "cell_type": "code",
   "execution_count": 5,
   "id": "64ade594-871c-48f9-af88-867d387a7d55",
   "metadata": {},
   "outputs": [
    {
     "name": "stderr",
     "output_type": "stream",
     "text": [
      "Downloading tiles: 100%|██████████████████████████| 2/2 [01:35<00:00, 47.62s/it]\n"
     ]
    },
    {
     "name": "stdout",
     "output_type": "stream",
     "text": [
      "\n",
      "Found a total of 3435 building footprints in the bounding box: [-105.17804286243032, 39.96267337069906, -105.17409465066422, 39.908822748673806, -105.14710089848077, 39.913924990721895, -105.14692923709964, 39.92886743529344, -105.13761660717307, 39.92899907229594, -105.13748786113722, 39.939644376767596, -105.16192815027627, 39.956209585878206, -105.17804286243032, 39.96267337069906]\n"
     ]
    }
   ],
   "source": [
    "# Call a scraper to get geometric data for buildings:\n",
    "scraper_class = importer.get_class(SCRAPER)\n",
    "scraper = scraper_class({'length': 'ft'})\n",
    "scraper_inventory = scraper.get_footprints(region_boundary_object)"
   ]
  },
  {
   "cell_type": "markdown",
   "id": "c388de4c-a0ee-49b8-b7ac-aeed05c929b1",
   "metadata": {},
   "source": [
    "## Export Building Footprints to GeoJSON  \n",
    "\n",
    "Once the building footprint inventory has been collected, it can be saved in the widely used GeoJSON format for mapping and spatial analysis.  \n",
    "\n",
    "The following code writes the footprints to the file path specified in `INVENTORY_OUTPUT`."
   ]
  },
  {
   "cell_type": "code",
   "execution_count": 6,
   "id": "eed58b91-ca3f-49a1-80e0-2c21f426efa2",
   "metadata": {},
   "outputs": [
    {
     "name": "stdout",
     "output_type": "stream",
     "text": [
      "Wrote 3435 assets to /home/bacetiner/Documents/BrailsPlusPlus/examples/footprint/bldg_inventory_superior_co.geojson\n"
     ]
    }
   ],
   "source": [
    "_ = scraper_inventory.write_to_geojson(INVENTORY_OUTPUT)"
   ]
  }
 ],
 "metadata": {
  "kernelspec": {
   "display_name": "Python 3 (ipykernel)",
   "language": "python",
   "name": "python3"
  },
  "language_info": {
   "codemirror_mode": {
    "name": "ipython",
    "version": 3
   },
   "file_extension": ".py",
   "mimetype": "text/x-python",
   "name": "python",
   "nbconvert_exporter": "python",
   "pygments_lexer": "ipython3",
   "version": "3.10.13"
  }
 },
 "nbformat": 4,
 "nbformat_minor": 5
}
